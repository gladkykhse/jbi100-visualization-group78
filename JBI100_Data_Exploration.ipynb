{
 "cells": [
  {
   "cell_type": "markdown",
   "metadata": {},
   "source": [
    "# JBI100 Visualization \n",
    "### Academic year 2024-2025\n",
    "\n",
    "## Incidents and Accidents\n",
    "Data sources:\n",
    "\n",
    "- Work-related Injury and Illness (https://www.osha.gov/Establishment-Specific-Injury-and-Illness-Data)\n"
   ]
  },
  {
   "cell_type": "code",
   "execution_count": 1,
   "metadata": {},
   "outputs": [],
   "source": [
    "# Import libraries\n",
    "import pandas as pd\n",
    "import plotly.express as px\n",
    "import numpy as np\n",
    "import os\n",
    "import pickle\n",
    "\n",
    "# Do not truncate tables\n",
    "pd.set_option(\"display.max_columns\", None)"
   ]
  },
  {
   "cell_type": "markdown",
   "metadata": {},
   "source": [
    "# Assignment 1"
   ]
  },
  {
   "cell_type": "markdown",
   "metadata": {},
   "source": [
    "## Exercise 1 – Data Set "
   ]
  },
  {
   "cell_type": "markdown",
   "metadata": {},
   "source": [
    "### (a) What is the information you can obtain from the data set/ data sets?"
   ]
  },
  {
   "cell_type": "markdown",
   "metadata": {},
   "source": [
    "The OSHA Injury Tracking Application (ITA) Case Detail dataset contains detailed information on work-related injuries and illnesses (each row is a case of work-related injuries or illnesses). The data includes the following types of information:\n",
    "\n",
    "#### 1. Establishment-Level Information\n",
    "- **Unique Identifiers**: Establishment ID, Employer Identification Number (EIN).\n",
    "- **Demographic Information**: Establishment name, company name, street address, city, state, zip code.\n",
    "- **Industry Classification**: North American Industry Classification System (NAICS) code, year of NAICS code used, industry description.\n",
    "- **Establishment Type**: Private industry, state government entity, or local government entity.\n",
    "- **Workforce Data**: Size of the establishment, annual average employees, total hours worked.\n",
    "\n",
    "#### 2. Incident-Level Information\n",
    "- **Incident Identifiers**: Unique case number, establishment ID linkable to 300A data.\n",
    "- **Incident Details**: Date of incident, type of incident (injury, skin disorder, etc.), time of incident, time started work prior to incident, and whether time was unknown.\n",
    "- **Outcomes**: Most serious outcome (e.g., death, days away from work, job transfer/restriction), number of days away from work, number of restricted duty or transfer days.\n",
    "- **Fatalities**: Date of death (if applicable).\n",
    "\n",
    "#### 3. Narrative Descriptions\n",
    "- **Incident Details**: What the employee was doing before the incident, how the incident happened, injury/illness description, and the object/substance directly harming the employee.\n",
    "\n",
    "#### 4. Occupational Coding Information\n",
    "- **Job Information**: Job title of the injured/ill employee.\n",
    "- **Standard Occupation Code (SOC)**:\n",
    "  - SOC Code and Description: Assigned using NIOCCS.\n",
    "  - SOC Probability: Confidence score for SOC coding.\n",
    "  - SOC Reviewed: Indicates whether the SOC code was reviewed or reassigned.\n",
    "\n",
    "#### 5. System Metadata\n",
    "- **Submission Information**: Created timestamp, year of filing.\n",
    "- **Data Quality Indicators**: Codes for missing or invalid entries (e.g., \"9999\" for SOC code when unassignable).\n"
   ]
  },
  {
   "cell_type": "markdown",
   "metadata": {},
   "source": [
    "### (b) What are the attributes in the data and what is their meaning?"
   ]
  },
  {
   "cell_type": "markdown",
   "metadata": {},
   "source": [
    "The OSHA Injury Tracking Application (ITA) Case Detail dataset includes the following attributes, categorized by their context and meaning:\n",
    "\n",
    "#### 1. **Establishment Information**\n",
    "- **`establishment_ID`**: Unique identifier for each establishment.\n",
    "- **`establishment_name`**: Name of the establishment reporting the data.\n",
    "- **`ein`**: Employer Identification Number (Federal Tax Identification Number).\n",
    "- **`company_name`**: Name of the parent company of the establishment.\n",
    "- **`street_address`**: Street address of the establishment.\n",
    "- **`city`**: City where the establishment is located.\n",
    "- **`state`**: State or territory where the establishment is located.\n",
    "- **`zip_code`**: Full zip code of the establishment.\n",
    "- **`naics_code`**: North American Industry Classification System (NAICS) code for the establishment.\n",
    "- **`naics_year`**: Year version of NAICS code used.\n",
    "- **`industry_description`**: Industry description based on the NAICS code.\n",
    "- **`establishment_type`**: Type of establishment:\n",
    "  - 1 = Private industry\n",
    "  - 2 = State government entity\n",
    "  - 3 = Local government entity\n",
    "- **`size`**: Size of the establishment based on maximum employees:\n",
    "  - 1 = <20 employees\n",
    "  - 21 = 20-99 employees\n",
    "  - 22 = 100-249 employees\n",
    "  - 3 = 250+ employees\n",
    "- **`annual_average_employees`**: Annual average number of employees.\n",
    "- **`total_hours_worked`**: Total hours worked by all employees at the establishment.\n",
    "\n",
    "#### 2. **Incident Information**\n",
    "- **`case_number`**: Employer-assigned unique case number for each injury/illness.\n",
    "- **`date_of_incident`**: Date when the incident occurred.\n",
    "- **`incident_outcome`**: Most serious outcome of the incident:\n",
    "  - 1 = Death\n",
    "  - 2 = Days away from work (DAFW)\n",
    "  - 3 = Job transfer or restriction\n",
    "  - 4 = Other recordable case\n",
    "- **`dawf_num_away`**: Number of days away from work due to the incident.\n",
    "- **`djtr_num_tr`**: Number of days on restricted duty or job transfer due to the incident.\n",
    "- **`type_of_incident`**: Type of incident:\n",
    "  - 1 = Injury\n",
    "  - 2 = Skin disorder\n",
    "  - 3 = Respiratory condition\n",
    "  - 4 = Poisoning\n",
    "  - 5 = Hearing loss\n",
    "  - 6 = All other illness\n",
    "- **`time_started_work`**: Time the employee began work prior to the incident.\n",
    "- **`time_of_incident`**: Time the incident occurred.\n",
    "- **`time_unknown`**: Indicator if the time of the incident is unknown:\n",
    "  - 0 = No\n",
    "  - 1 = Yes\n",
    "- **`date_of_death`**: Date of death, if applicable.\n",
    "\n",
    "#### 3. **Narrative Descriptions**\n",
    "- **`incident_description`**: Description of the incident.\n",
    "- **`nar_before_incident`**: Description of what the employee was doing before the incident.\n",
    "- **`nar_what_happened`**: Description of what happened during the incident.\n",
    "- **`nar_injury_illness`**: Description of the injury or illness.\n",
    "- **`nar_object_substance`**: Description of the object or substance directly harming the employee.\n",
    "\n",
    "#### 4. **Occupational Information**\n",
    "- **`job_description`**: Job title of the injured/ill employee.\n",
    "- **`SOC_code`**: Standard Occupation Code assigned by NIOCCS or OSHA.\n",
    "- **`SOC_description`**: Text description of the SOC code.\n",
    "- **`SOC_probability`**: Confidence score for the SOC coding (5 indicates a manually reassigned code).\n",
    "- **`SOC_reviewed`**: Indicator of whether the SOC code was reviewed:\n",
    "  - 0 = Not reviewed, NIOCCS coded\n",
    "  - 1 = Reviewed by OSHA\n",
    "  - 2 = Not SOC coded (SOC = \"9999\")\n",
    "\n",
    "#### 5. **System Metadata**\n",
    "- **`created_timestamp`**: Timestamp when the record was submitted.\n",
    "- **`year_of_filing`**: Year in which the reported injuries/illnesses occurred."
   ]
  },
  {
   "cell_type": "markdown",
   "metadata": {},
   "source": [
    "### (c) Write a small parsing function that can read the data position (column, row) from the file format you selected. "
   ]
  },
  {
   "cell_type": "code",
   "execution_count": 2,
   "metadata": {},
   "outputs": [],
   "source": [
    "def parse_dataset():\n",
    "    dataset_path = os.path.join(\n",
    "        \"Work-related Injury and Illness\",\n",
    "        \"ITA Case Detail Data 2023 through 8-31-2023.csv\",\n",
    "    )\n",
    "    return pd.read_csv(\n",
    "        dataset_path,\n",
    "        delimiter=\",\",\n",
    "        low_memory=False,\n",
    "        encoding=\"utf-8\",\n",
    "        dtype={\"zip_code\": \"string\", \"naics_code\": \"string\", \"naics_year\": \"string\"},\n",
    "        index_col=\"id\",\n",
    "    )\n",
    "\n",
    "\n",
    "df = parse_dataset()"
   ]
  },
  {
   "cell_type": "code",
   "execution_count": 3,
   "metadata": {},
   "outputs": [
    {
     "name": "stdout",
     "output_type": "stream",
     "text": [
      "<class 'pandas.core.frame.DataFrame'>\n",
      "Index: 889447 entries, 446827 to 900939\n",
      "Data columns (total 32 columns):\n",
      " #   Column                    Non-Null Count   Dtype  \n",
      "---  ------                    --------------   -----  \n",
      " 0   establishment_id          889447 non-null  int64  \n",
      " 1   establishment_name        889447 non-null  object \n",
      " 2   ein                       812922 non-null  object \n",
      " 3   company_name              840391 non-null  object \n",
      " 4   street_address            889446 non-null  object \n",
      " 5   city                      889447 non-null  object \n",
      " 6   state                     889447 non-null  object \n",
      " 7   zip_code                  889447 non-null  string \n",
      " 8   naics_code                889447 non-null  string \n",
      " 9   naics_year                888174 non-null  string \n",
      " 10  industry_description      829648 non-null  object \n",
      " 11  establishment_type        887563 non-null  float64\n",
      " 12  size                      889447 non-null  int64  \n",
      " 13  annual_average_employees  889447 non-null  int64  \n",
      " 14  total_hours_worked        889447 non-null  int64  \n",
      " 15  case_number               889434 non-null  object \n",
      " 16  job_description           885793 non-null  object \n",
      " 17  soc_code                  889447 non-null  object \n",
      " 18  soc_description           889447 non-null  object \n",
      " 19  soc_reviewed              889447 non-null  int64  \n",
      " 20  soc_probability           889447 non-null  float64\n",
      " 21  date_of_incident          889447 non-null  object \n",
      " 22  incident_outcome          889447 non-null  int64  \n",
      " 23  dafw_num_away             889447 non-null  int64  \n",
      " 24  djtr_num_tr               889447 non-null  int64  \n",
      " 25  type_of_incident          889447 non-null  int64  \n",
      " 26  time_started_work         777556 non-null  object \n",
      " 27  time_of_incident          778479 non-null  object \n",
      " 28  time_unknown              887398 non-null  float64\n",
      " 29  date_of_death             279 non-null     object \n",
      " 30  created_timestamp         889447 non-null  object \n",
      " 31  year_filing_for           889447 non-null  int64  \n",
      "dtypes: float64(3), int64(10), object(16), string(3)\n",
      "memory usage: 223.9+ MB\n"
     ]
    }
   ],
   "source": [
    "df.info()"
   ]
  },
  {
   "cell_type": "code",
   "execution_count": 4,
   "metadata": {},
   "outputs": [
    {
     "data": {
      "text/plain": [
       "(889447, 32)"
      ]
     },
     "execution_count": 4,
     "metadata": {},
     "output_type": "execute_result"
    }
   ],
   "source": [
    "df.shape"
   ]
  },
  {
   "cell_type": "code",
   "execution_count": 5,
   "metadata": {},
   "outputs": [
    {
     "data": {
      "text/html": [
       "<div>\n",
       "<style scoped>\n",
       "    .dataframe tbody tr th:only-of-type {\n",
       "        vertical-align: middle;\n",
       "    }\n",
       "\n",
       "    .dataframe tbody tr th {\n",
       "        vertical-align: top;\n",
       "    }\n",
       "\n",
       "    .dataframe thead th {\n",
       "        text-align: right;\n",
       "    }\n",
       "</style>\n",
       "<table border=\"1\" class=\"dataframe\">\n",
       "  <thead>\n",
       "    <tr style=\"text-align: right;\">\n",
       "      <th></th>\n",
       "      <th>establishment_id</th>\n",
       "      <th>establishment_name</th>\n",
       "      <th>ein</th>\n",
       "      <th>company_name</th>\n",
       "      <th>street_address</th>\n",
       "      <th>city</th>\n",
       "      <th>state</th>\n",
       "      <th>zip_code</th>\n",
       "      <th>naics_code</th>\n",
       "      <th>naics_year</th>\n",
       "      <th>industry_description</th>\n",
       "      <th>establishment_type</th>\n",
       "      <th>size</th>\n",
       "      <th>annual_average_employees</th>\n",
       "      <th>total_hours_worked</th>\n",
       "      <th>case_number</th>\n",
       "      <th>job_description</th>\n",
       "      <th>soc_code</th>\n",
       "      <th>soc_description</th>\n",
       "      <th>soc_reviewed</th>\n",
       "      <th>soc_probability</th>\n",
       "      <th>date_of_incident</th>\n",
       "      <th>incident_outcome</th>\n",
       "      <th>dafw_num_away</th>\n",
       "      <th>djtr_num_tr</th>\n",
       "      <th>type_of_incident</th>\n",
       "      <th>time_started_work</th>\n",
       "      <th>time_of_incident</th>\n",
       "      <th>time_unknown</th>\n",
       "      <th>date_of_death</th>\n",
       "      <th>created_timestamp</th>\n",
       "      <th>year_filing_for</th>\n",
       "    </tr>\n",
       "    <tr>\n",
       "      <th>id</th>\n",
       "      <th></th>\n",
       "      <th></th>\n",
       "      <th></th>\n",
       "      <th></th>\n",
       "      <th></th>\n",
       "      <th></th>\n",
       "      <th></th>\n",
       "      <th></th>\n",
       "      <th></th>\n",
       "      <th></th>\n",
       "      <th></th>\n",
       "      <th></th>\n",
       "      <th></th>\n",
       "      <th></th>\n",
       "      <th></th>\n",
       "      <th></th>\n",
       "      <th></th>\n",
       "      <th></th>\n",
       "      <th></th>\n",
       "      <th></th>\n",
       "      <th></th>\n",
       "      <th></th>\n",
       "      <th></th>\n",
       "      <th></th>\n",
       "      <th></th>\n",
       "      <th></th>\n",
       "      <th></th>\n",
       "      <th></th>\n",
       "      <th></th>\n",
       "      <th></th>\n",
       "      <th></th>\n",
       "      <th></th>\n",
       "    </tr>\n",
       "  </thead>\n",
       "  <tbody>\n",
       "    <tr>\n",
       "      <th>541030</th>\n",
       "      <td>509687</td>\n",
       "      <td>C067 Greensboro</td>\n",
       "      <td>560950585</td>\n",
       "      <td>Coca Cola Consolidated, Inc.</td>\n",
       "      <td>8200 Capital Drive</td>\n",
       "      <td>Greensboro</td>\n",
       "      <td>NC</td>\n",
       "      <td>27409</td>\n",
       "      <td>424490</td>\n",
       "      <td>2022</td>\n",
       "      <td>NaN</td>\n",
       "      <td>1.0</td>\n",
       "      <td>3</td>\n",
       "      <td>303</td>\n",
       "      <td>606000</td>\n",
       "      <td>C06708</td>\n",
       "      <td>Traine Route Sales</td>\n",
       "      <td>53-3031</td>\n",
       "      <td>Driver/Sales Workers</td>\n",
       "      <td>0</td>\n",
       "      <td>0.999141</td>\n",
       "      <td>08/16/2023</td>\n",
       "      <td>3</td>\n",
       "      <td>0</td>\n",
       "      <td>11</td>\n",
       "      <td>1</td>\n",
       "      <td>4:46:00.000</td>\n",
       "      <td>10:00:00.000</td>\n",
       "      <td>0.0</td>\n",
       "      <td>NaN</td>\n",
       "      <td>28FEB24:19:39:00</td>\n",
       "      <td>2023</td>\n",
       "    </tr>\n",
       "    <tr>\n",
       "      <th>769968</th>\n",
       "      <td>668167</td>\n",
       "      <td>Buttura and Sons Inc</td>\n",
       "      <td>030210337</td>\n",
       "      <td>NaN</td>\n",
       "      <td>109 Boynton Street</td>\n",
       "      <td>Barre</td>\n",
       "      <td>VT</td>\n",
       "      <td>05641</td>\n",
       "      <td>327991</td>\n",
       "      <td>2022</td>\n",
       "      <td>Monuments and tombstone, cut stone (except fin...</td>\n",
       "      <td>1.0</td>\n",
       "      <td>21</td>\n",
       "      <td>73</td>\n",
       "      <td>156393</td>\n",
       "      <td>4</td>\n",
       "      <td>Sandblast</td>\n",
       "      <td>51-9021</td>\n",
       "      <td>Crushing, Grinding, and Polishing Machine Sett...</td>\n",
       "      <td>0</td>\n",
       "      <td>0.904245</td>\n",
       "      <td>04/13/2023</td>\n",
       "      <td>4</td>\n",
       "      <td>0</td>\n",
       "      <td>0</td>\n",
       "      <td>1</td>\n",
       "      <td>7:00:00.000</td>\n",
       "      <td>11:15:00.000</td>\n",
       "      <td>0.0</td>\n",
       "      <td>NaN</td>\n",
       "      <td>04MAR24:17:22:00</td>\n",
       "      <td>2023</td>\n",
       "    </tr>\n",
       "    <tr>\n",
       "      <th>37500</th>\n",
       "      <td>1070006</td>\n",
       "      <td>Food City Distribution Center</td>\n",
       "      <td>550421484</td>\n",
       "      <td>KVAT Food Store, Inc.</td>\n",
       "      <td>26631 Hillman Highway</td>\n",
       "      <td>Abingdon</td>\n",
       "      <td>VA</td>\n",
       "      <td>24210</td>\n",
       "      <td>493110</td>\n",
       "      <td>2022</td>\n",
       "      <td>General warehousing and storage</td>\n",
       "      <td>1.0</td>\n",
       "      <td>3</td>\n",
       "      <td>878</td>\n",
       "      <td>1681143</td>\n",
       "      <td>84</td>\n",
       "      <td>Perishable Order Selector</td>\n",
       "      <td>53-7065</td>\n",
       "      <td>Stockers and Order Fillers</td>\n",
       "      <td>0</td>\n",
       "      <td>0.997791</td>\n",
       "      <td>08/16/2023</td>\n",
       "      <td>2</td>\n",
       "      <td>3</td>\n",
       "      <td>0</td>\n",
       "      <td>1</td>\n",
       "      <td>16:30:00.000</td>\n",
       "      <td>19:30:00.000</td>\n",
       "      <td>0.0</td>\n",
       "      <td>NaN</td>\n",
       "      <td>18JAN24:14:39:00</td>\n",
       "      <td>2023</td>\n",
       "    </tr>\n",
       "    <tr>\n",
       "      <th>587137</th>\n",
       "      <td>899222</td>\n",
       "      <td>NA-US-CA-Fremont-45500 Fremont Blvd</td>\n",
       "      <td>912197729</td>\n",
       "      <td>Tesla</td>\n",
       "      <td>45500 Fremont Blvd</td>\n",
       "      <td>Fremont</td>\n",
       "      <td>CA</td>\n",
       "      <td>94538</td>\n",
       "      <td>336110</td>\n",
       "      <td>2022</td>\n",
       "      <td>Automobile Manufacturing</td>\n",
       "      <td>1.0</td>\n",
       "      <td>3</td>\n",
       "      <td>22078</td>\n",
       "      <td>61313800</td>\n",
       "      <td>EVT-75426</td>\n",
       "      <td>Production Associate</td>\n",
       "      <td>51-2099</td>\n",
       "      <td>Assemblers and Fabricators, All Other</td>\n",
       "      <td>1</td>\n",
       "      <td>0.815195</td>\n",
       "      <td>09/21/2023</td>\n",
       "      <td>2</td>\n",
       "      <td>99</td>\n",
       "      <td>0</td>\n",
       "      <td>1</td>\n",
       "      <td>19:00:00.000</td>\n",
       "      <td>3:00:00.000</td>\n",
       "      <td>0.0</td>\n",
       "      <td>NaN</td>\n",
       "      <td>29FEB24:18:56:00</td>\n",
       "      <td>2023</td>\n",
       "    </tr>\n",
       "    <tr>\n",
       "      <th>1578</th>\n",
       "      <td>1066100</td>\n",
       "      <td>Athletic Brewery Trade St</td>\n",
       "      <td>NaN</td>\n",
       "      <td>Athletic Brewing Co</td>\n",
       "      <td>7606 Trade St San Diego CA</td>\n",
       "      <td>San Diego</td>\n",
       "      <td>CA</td>\n",
       "      <td>92121</td>\n",
       "      <td>312120</td>\n",
       "      <td>2022</td>\n",
       "      <td>Ale brewing</td>\n",
       "      <td>1.0</td>\n",
       "      <td>21</td>\n",
       "      <td>70</td>\n",
       "      <td>128059</td>\n",
       "      <td>8</td>\n",
       "      <td>Packaging Manager</td>\n",
       "      <td>11-9199</td>\n",
       "      <td>Managers, All Other</td>\n",
       "      <td>0</td>\n",
       "      <td>0.861949</td>\n",
       "      <td>12/08/2023</td>\n",
       "      <td>2</td>\n",
       "      <td>1</td>\n",
       "      <td>0</td>\n",
       "      <td>1</td>\n",
       "      <td>7:00:00.000</td>\n",
       "      <td>10:45:00.000</td>\n",
       "      <td>0.0</td>\n",
       "      <td>NaN</td>\n",
       "      <td>03JAN24:15:55:00</td>\n",
       "      <td>2023</td>\n",
       "    </tr>\n",
       "  </tbody>\n",
       "</table>\n",
       "</div>"
      ],
      "text/plain": [
       "        establishment_id                   establishment_name        ein  \\\n",
       "id                                                                         \n",
       "541030            509687                      C067 Greensboro  560950585   \n",
       "769968            668167                 Buttura and Sons Inc  030210337   \n",
       "37500            1070006        Food City Distribution Center  550421484   \n",
       "587137            899222  NA-US-CA-Fremont-45500 Fremont Blvd  912197729   \n",
       "1578             1066100            Athletic Brewery Trade St        NaN   \n",
       "\n",
       "                        company_name              street_address        city  \\\n",
       "id                                                                             \n",
       "541030  Coca Cola Consolidated, Inc.          8200 Capital Drive  Greensboro   \n",
       "769968                           NaN          109 Boynton Street       Barre   \n",
       "37500          KVAT Food Store, Inc.       26631 Hillman Highway    Abingdon   \n",
       "587137                         Tesla          45500 Fremont Blvd     Fremont   \n",
       "1578             Athletic Brewing Co  7606 Trade St San Diego CA   San Diego   \n",
       "\n",
       "       state zip_code naics_code naics_year  \\\n",
       "id                                            \n",
       "541030    NC    27409     424490       2022   \n",
       "769968    VT    05641     327991       2022   \n",
       "37500     VA    24210     493110       2022   \n",
       "587137    CA    94538     336110       2022   \n",
       "1578      CA    92121     312120       2022   \n",
       "\n",
       "                                     industry_description  establishment_type  \\\n",
       "id                                                                              \n",
       "541030                                                NaN                 1.0   \n",
       "769968  Monuments and tombstone, cut stone (except fin...                 1.0   \n",
       "37500                     General warehousing and storage                 1.0   \n",
       "587137                           Automobile Manufacturing                 1.0   \n",
       "1578                                          Ale brewing                 1.0   \n",
       "\n",
       "        size  annual_average_employees  total_hours_worked case_number  \\\n",
       "id                                                                       \n",
       "541030     3                       303              606000      C06708   \n",
       "769968    21                        73              156393           4   \n",
       "37500      3                       878             1681143          84   \n",
       "587137     3                     22078            61313800   EVT-75426   \n",
       "1578      21                        70              128059           8   \n",
       "\n",
       "                  job_description soc_code  \\\n",
       "id                                           \n",
       "541030         Traine Route Sales  53-3031   \n",
       "769968                  Sandblast  51-9021   \n",
       "37500   Perishable Order Selector  53-7065   \n",
       "587137       Production Associate  51-2099   \n",
       "1578            Packaging Manager  11-9199   \n",
       "\n",
       "                                          soc_description  soc_reviewed  \\\n",
       "id                                                                        \n",
       "541030                               Driver/Sales Workers             0   \n",
       "769968  Crushing, Grinding, and Polishing Machine Sett...             0   \n",
       "37500                          Stockers and Order Fillers             0   \n",
       "587137              Assemblers and Fabricators, All Other             1   \n",
       "1578                                  Managers, All Other             0   \n",
       "\n",
       "        soc_probability date_of_incident  incident_outcome  dafw_num_away  \\\n",
       "id                                                                          \n",
       "541030         0.999141       08/16/2023                 3              0   \n",
       "769968         0.904245       04/13/2023                 4              0   \n",
       "37500          0.997791       08/16/2023                 2              3   \n",
       "587137         0.815195       09/21/2023                 2             99   \n",
       "1578           0.861949       12/08/2023                 2              1   \n",
       "\n",
       "        djtr_num_tr  type_of_incident time_started_work time_of_incident  \\\n",
       "id                                                                         \n",
       "541030           11                 1       4:46:00.000     10:00:00.000   \n",
       "769968            0                 1       7:00:00.000     11:15:00.000   \n",
       "37500             0                 1      16:30:00.000     19:30:00.000   \n",
       "587137            0                 1      19:00:00.000      3:00:00.000   \n",
       "1578              0                 1       7:00:00.000     10:45:00.000   \n",
       "\n",
       "        time_unknown date_of_death created_timestamp  year_filing_for  \n",
       "id                                                                     \n",
       "541030           0.0           NaN  28FEB24:19:39:00             2023  \n",
       "769968           0.0           NaN  04MAR24:17:22:00             2023  \n",
       "37500            0.0           NaN  18JAN24:14:39:00             2023  \n",
       "587137           0.0           NaN  29FEB24:18:56:00             2023  \n",
       "1578             0.0           NaN  03JAN24:15:55:00             2023  "
      ]
     },
     "execution_count": 5,
     "metadata": {},
     "output_type": "execute_result"
    }
   ],
   "source": [
    "df.sample(5)"
   ]
  },
  {
   "cell_type": "markdown",
   "metadata": {},
   "source": [
    "### (d) Write another function that outputs the distribution of the attributes, and counts the frequencies of the different values"
   ]
  },
  {
   "cell_type": "code",
   "execution_count": 6,
   "metadata": {},
   "outputs": [
    {
     "data": {
      "text/html": [
       "<div>\n",
       "<style scoped>\n",
       "    .dataframe tbody tr th:only-of-type {\n",
       "        vertical-align: middle;\n",
       "    }\n",
       "\n",
       "    .dataframe tbody tr th {\n",
       "        vertical-align: top;\n",
       "    }\n",
       "\n",
       "    .dataframe thead th {\n",
       "        text-align: right;\n",
       "    }\n",
       "</style>\n",
       "<table border=\"1\" class=\"dataframe\">\n",
       "  <thead>\n",
       "    <tr style=\"text-align: right;\">\n",
       "      <th></th>\n",
       "      <th>establishment_id</th>\n",
       "      <th>establishment_name</th>\n",
       "      <th>ein</th>\n",
       "      <th>company_name</th>\n",
       "      <th>street_address</th>\n",
       "      <th>city</th>\n",
       "      <th>state</th>\n",
       "      <th>zip_code</th>\n",
       "      <th>naics_code</th>\n",
       "      <th>naics_year</th>\n",
       "      <th>industry_description</th>\n",
       "      <th>establishment_type</th>\n",
       "      <th>size</th>\n",
       "      <th>annual_average_employees</th>\n",
       "      <th>total_hours_worked</th>\n",
       "      <th>case_number</th>\n",
       "      <th>job_description</th>\n",
       "      <th>soc_code</th>\n",
       "      <th>soc_description</th>\n",
       "      <th>soc_reviewed</th>\n",
       "      <th>soc_probability</th>\n",
       "      <th>date_of_incident</th>\n",
       "      <th>incident_outcome</th>\n",
       "      <th>dafw_num_away</th>\n",
       "      <th>djtr_num_tr</th>\n",
       "      <th>type_of_incident</th>\n",
       "      <th>time_started_work</th>\n",
       "      <th>time_of_incident</th>\n",
       "      <th>time_unknown</th>\n",
       "      <th>date_of_death</th>\n",
       "      <th>created_timestamp</th>\n",
       "      <th>year_filing_for</th>\n",
       "    </tr>\n",
       "  </thead>\n",
       "  <tbody>\n",
       "    <tr>\n",
       "      <th>count</th>\n",
       "      <td>8.894470e+05</td>\n",
       "      <td>889447</td>\n",
       "      <td>812922</td>\n",
       "      <td>840391</td>\n",
       "      <td>889446</td>\n",
       "      <td>889447</td>\n",
       "      <td>889447</td>\n",
       "      <td>889447</td>\n",
       "      <td>889447</td>\n",
       "      <td>888174</td>\n",
       "      <td>829648</td>\n",
       "      <td>887563.000000</td>\n",
       "      <td>889447.000000</td>\n",
       "      <td>8.894470e+05</td>\n",
       "      <td>8.894470e+05</td>\n",
       "      <td>889434</td>\n",
       "      <td>885793</td>\n",
       "      <td>889447</td>\n",
       "      <td>889447</td>\n",
       "      <td>889447.000000</td>\n",
       "      <td>889447.000000</td>\n",
       "      <td>889447</td>\n",
       "      <td>889447.000000</td>\n",
       "      <td>889447.000000</td>\n",
       "      <td>889447.000000</td>\n",
       "      <td>889447.000000</td>\n",
       "      <td>777556</td>\n",
       "      <td>778479</td>\n",
       "      <td>887398.000000</td>\n",
       "      <td>279</td>\n",
       "      <td>889447</td>\n",
       "      <td>889447.0</td>\n",
       "    </tr>\n",
       "    <tr>\n",
       "      <th>unique</th>\n",
       "      <td>NaN</td>\n",
       "      <td>89219</td>\n",
       "      <td>33514</td>\n",
       "      <td>38301</td>\n",
       "      <td>88405</td>\n",
       "      <td>14317</td>\n",
       "      <td>56</td>\n",
       "      <td>17101</td>\n",
       "      <td>865</td>\n",
       "      <td>3</td>\n",
       "      <td>5673</td>\n",
       "      <td>NaN</td>\n",
       "      <td>NaN</td>\n",
       "      <td>NaN</td>\n",
       "      <td>NaN</td>\n",
       "      <td>423945</td>\n",
       "      <td>93398</td>\n",
       "      <td>669</td>\n",
       "      <td>668</td>\n",
       "      <td>NaN</td>\n",
       "      <td>NaN</td>\n",
       "      <td>542</td>\n",
       "      <td>NaN</td>\n",
       "      <td>NaN</td>\n",
       "      <td>NaN</td>\n",
       "      <td>NaN</td>\n",
       "      <td>1439</td>\n",
       "      <td>1440</td>\n",
       "      <td>NaN</td>\n",
       "      <td>185</td>\n",
       "      <td>58560</td>\n",
       "      <td>NaN</td>\n",
       "    </tr>\n",
       "    <tr>\n",
       "      <th>top</th>\n",
       "      <td>NaN</td>\n",
       "      <td>Walt Disney Parks and Resorts US Inc</td>\n",
       "      <td>820544687</td>\n",
       "      <td>Amazon.com Services LLC</td>\n",
       "      <td>UNITED AIRLINES ATTN:MGR</td>\n",
       "      <td>Chicago</td>\n",
       "      <td>CA</td>\n",
       "      <td>32830</td>\n",
       "      <td>622110</td>\n",
       "      <td>2022</td>\n",
       "      <td>Warehouse Clubs and Supercenters</td>\n",
       "      <td>NaN</td>\n",
       "      <td>NaN</td>\n",
       "      <td>NaN</td>\n",
       "      <td>NaN</td>\n",
       "      <td>1</td>\n",
       "      <td>Fulfillment Associate</td>\n",
       "      <td>9999</td>\n",
       "      <td>Uncoded</td>\n",
       "      <td>NaN</td>\n",
       "      <td>NaN</td>\n",
       "      <td>09/12/2023</td>\n",
       "      <td>NaN</td>\n",
       "      <td>NaN</td>\n",
       "      <td>NaN</td>\n",
       "      <td>NaN</td>\n",
       "      <td>7:00:00.000</td>\n",
       "      <td>12:00:00.000</td>\n",
       "      <td>NaN</td>\n",
       "      <td>09/20/2023</td>\n",
       "      <td>03MAY24:18:33:00</td>\n",
       "      <td>NaN</td>\n",
       "    </tr>\n",
       "    <tr>\n",
       "      <th>freq</th>\n",
       "      <td>NaN</td>\n",
       "      <td>3532</td>\n",
       "      <td>38132</td>\n",
       "      <td>38132</td>\n",
       "      <td>3748</td>\n",
       "      <td>5526</td>\n",
       "      <td>113262</td>\n",
       "      <td>3586</td>\n",
       "      <td>155665</td>\n",
       "      <td>789067</td>\n",
       "      <td>64327</td>\n",
       "      <td>NaN</td>\n",
       "      <td>NaN</td>\n",
       "      <td>NaN</td>\n",
       "      <td>NaN</td>\n",
       "      <td>28102</td>\n",
       "      <td>21562</td>\n",
       "      <td>157739</td>\n",
       "      <td>157739</td>\n",
       "      <td>NaN</td>\n",
       "      <td>NaN</td>\n",
       "      <td>3269</td>\n",
       "      <td>NaN</td>\n",
       "      <td>NaN</td>\n",
       "      <td>NaN</td>\n",
       "      <td>NaN</td>\n",
       "      <td>110471</td>\n",
       "      <td>23709</td>\n",
       "      <td>NaN</td>\n",
       "      <td>4</td>\n",
       "      <td>2881</td>\n",
       "      <td>NaN</td>\n",
       "    </tr>\n",
       "    <tr>\n",
       "      <th>mean</th>\n",
       "      <td>8.631224e+05</td>\n",
       "      <td>NaN</td>\n",
       "      <td>NaN</td>\n",
       "      <td>NaN</td>\n",
       "      <td>NaN</td>\n",
       "      <td>NaN</td>\n",
       "      <td>NaN</td>\n",
       "      <td>NaN</td>\n",
       "      <td>NaN</td>\n",
       "      <td>NaN</td>\n",
       "      <td>NaN</td>\n",
       "      <td>1.083898</td>\n",
       "      <td>9.833503</td>\n",
       "      <td>8.200306e+03</td>\n",
       "      <td>3.528374e+06</td>\n",
       "      <td>NaN</td>\n",
       "      <td>NaN</td>\n",
       "      <td>NaN</td>\n",
       "      <td>NaN</td>\n",
       "      <td>0.838397</td>\n",
       "      <td>1.192423</td>\n",
       "      <td>NaN</td>\n",
       "      <td>2.973528</td>\n",
       "      <td>12.804085</td>\n",
       "      <td>15.531824</td>\n",
       "      <td>1.351008</td>\n",
       "      <td>NaN</td>\n",
       "      <td>NaN</td>\n",
       "      <td>0.132183</td>\n",
       "      <td>NaN</td>\n",
       "      <td>NaN</td>\n",
       "      <td>2023.0</td>\n",
       "    </tr>\n",
       "    <tr>\n",
       "      <th>std</th>\n",
       "      <td>3.575762e+05</td>\n",
       "      <td>NaN</td>\n",
       "      <td>NaN</td>\n",
       "      <td>NaN</td>\n",
       "      <td>NaN</td>\n",
       "      <td>NaN</td>\n",
       "      <td>NaN</td>\n",
       "      <td>NaN</td>\n",
       "      <td>NaN</td>\n",
       "      <td>NaN</td>\n",
       "      <td>NaN</td>\n",
       "      <td>0.362637</td>\n",
       "      <td>9.040229</td>\n",
       "      <td>1.033831e+06</td>\n",
       "      <td>2.414035e+07</td>\n",
       "      <td>NaN</td>\n",
       "      <td>NaN</td>\n",
       "      <td>NaN</td>\n",
       "      <td>NaN</td>\n",
       "      <td>0.698820</td>\n",
       "      <td>1.376831</td>\n",
       "      <td>NaN</td>\n",
       "      <td>0.839186</td>\n",
       "      <td>35.737457</td>\n",
       "      <td>34.982631</td>\n",
       "      <td>1.133985</td>\n",
       "      <td>NaN</td>\n",
       "      <td>NaN</td>\n",
       "      <td>0.338690</td>\n",
       "      <td>NaN</td>\n",
       "      <td>NaN</td>\n",
       "      <td>0.0</td>\n",
       "    </tr>\n",
       "    <tr>\n",
       "      <th>min</th>\n",
       "      <td>4.194000e+04</td>\n",
       "      <td>NaN</td>\n",
       "      <td>NaN</td>\n",
       "      <td>NaN</td>\n",
       "      <td>NaN</td>\n",
       "      <td>NaN</td>\n",
       "      <td>NaN</td>\n",
       "      <td>NaN</td>\n",
       "      <td>NaN</td>\n",
       "      <td>NaN</td>\n",
       "      <td>NaN</td>\n",
       "      <td>0.000000</td>\n",
       "      <td>1.000000</td>\n",
       "      <td>0.000000e+00</td>\n",
       "      <td>0.000000e+00</td>\n",
       "      <td>NaN</td>\n",
       "      <td>NaN</td>\n",
       "      <td>NaN</td>\n",
       "      <td>NaN</td>\n",
       "      <td>0.000000</td>\n",
       "      <td>0.000000</td>\n",
       "      <td>NaN</td>\n",
       "      <td>1.000000</td>\n",
       "      <td>0.000000</td>\n",
       "      <td>0.000000</td>\n",
       "      <td>1.000000</td>\n",
       "      <td>NaN</td>\n",
       "      <td>NaN</td>\n",
       "      <td>0.000000</td>\n",
       "      <td>NaN</td>\n",
       "      <td>NaN</td>\n",
       "      <td>2023.0</td>\n",
       "    </tr>\n",
       "    <tr>\n",
       "      <th>25%</th>\n",
       "      <td>6.515120e+05</td>\n",
       "      <td>NaN</td>\n",
       "      <td>NaN</td>\n",
       "      <td>NaN</td>\n",
       "      <td>NaN</td>\n",
       "      <td>NaN</td>\n",
       "      <td>NaN</td>\n",
       "      <td>NaN</td>\n",
       "      <td>NaN</td>\n",
       "      <td>NaN</td>\n",
       "      <td>NaN</td>\n",
       "      <td>1.000000</td>\n",
       "      <td>3.000000</td>\n",
       "      <td>1.490000e+02</td>\n",
       "      <td>2.356850e+05</td>\n",
       "      <td>NaN</td>\n",
       "      <td>NaN</td>\n",
       "      <td>NaN</td>\n",
       "      <td>NaN</td>\n",
       "      <td>0.000000</td>\n",
       "      <td>0.802269</td>\n",
       "      <td>NaN</td>\n",
       "      <td>2.000000</td>\n",
       "      <td>0.000000</td>\n",
       "      <td>0.000000</td>\n",
       "      <td>1.000000</td>\n",
       "      <td>NaN</td>\n",
       "      <td>NaN</td>\n",
       "      <td>0.000000</td>\n",
       "      <td>NaN</td>\n",
       "      <td>NaN</td>\n",
       "      <td>2023.0</td>\n",
       "    </tr>\n",
       "    <tr>\n",
       "      <th>50%</th>\n",
       "      <td>9.893690e+05</td>\n",
       "      <td>NaN</td>\n",
       "      <td>NaN</td>\n",
       "      <td>NaN</td>\n",
       "      <td>NaN</td>\n",
       "      <td>NaN</td>\n",
       "      <td>NaN</td>\n",
       "      <td>NaN</td>\n",
       "      <td>NaN</td>\n",
       "      <td>NaN</td>\n",
       "      <td>NaN</td>\n",
       "      <td>1.000000</td>\n",
       "      <td>3.000000</td>\n",
       "      <td>3.470000e+02</td>\n",
       "      <td>5.840110e+05</td>\n",
       "      <td>NaN</td>\n",
       "      <td>NaN</td>\n",
       "      <td>NaN</td>\n",
       "      <td>NaN</td>\n",
       "      <td>1.000000</td>\n",
       "      <td>0.994869</td>\n",
       "      <td>NaN</td>\n",
       "      <td>3.000000</td>\n",
       "      <td>0.000000</td>\n",
       "      <td>0.000000</td>\n",
       "      <td>1.000000</td>\n",
       "      <td>NaN</td>\n",
       "      <td>NaN</td>\n",
       "      <td>0.000000</td>\n",
       "      <td>NaN</td>\n",
       "      <td>NaN</td>\n",
       "      <td>2023.0</td>\n",
       "    </tr>\n",
       "    <tr>\n",
       "      <th>75%</th>\n",
       "      <td>1.140101e+06</td>\n",
       "      <td>NaN</td>\n",
       "      <td>NaN</td>\n",
       "      <td>NaN</td>\n",
       "      <td>NaN</td>\n",
       "      <td>NaN</td>\n",
       "      <td>NaN</td>\n",
       "      <td>NaN</td>\n",
       "      <td>NaN</td>\n",
       "      <td>NaN</td>\n",
       "      <td>NaN</td>\n",
       "      <td>1.000000</td>\n",
       "      <td>22.000000</td>\n",
       "      <td>1.323000e+03</td>\n",
       "      <td>2.125664e+06</td>\n",
       "      <td>NaN</td>\n",
       "      <td>NaN</td>\n",
       "      <td>NaN</td>\n",
       "      <td>NaN</td>\n",
       "      <td>1.000000</td>\n",
       "      <td>0.999979</td>\n",
       "      <td>NaN</td>\n",
       "      <td>4.000000</td>\n",
       "      <td>5.000000</td>\n",
       "      <td>13.000000</td>\n",
       "      <td>1.000000</td>\n",
       "      <td>NaN</td>\n",
       "      <td>NaN</td>\n",
       "      <td>0.000000</td>\n",
       "      <td>NaN</td>\n",
       "      <td>NaN</td>\n",
       "      <td>2023.0</td>\n",
       "    </tr>\n",
       "    <tr>\n",
       "      <th>max</th>\n",
       "      <td>1.246187e+06</td>\n",
       "      <td>NaN</td>\n",
       "      <td>NaN</td>\n",
       "      <td>NaN</td>\n",
       "      <td>NaN</td>\n",
       "      <td>NaN</td>\n",
       "      <td>NaN</td>\n",
       "      <td>NaN</td>\n",
       "      <td>NaN</td>\n",
       "      <td>NaN</td>\n",
       "      <td>NaN</td>\n",
       "      <td>3.000000</td>\n",
       "      <td>22.000000</td>\n",
       "      <td>1.723076e+08</td>\n",
       "      <td>1.383383e+10</td>\n",
       "      <td>NaN</td>\n",
       "      <td>NaN</td>\n",
       "      <td>NaN</td>\n",
       "      <td>NaN</td>\n",
       "      <td>2.000000</td>\n",
       "      <td>5.000000</td>\n",
       "      <td>NaN</td>\n",
       "      <td>4.000000</td>\n",
       "      <td>640.000000</td>\n",
       "      <td>575.000000</td>\n",
       "      <td>6.000000</td>\n",
       "      <td>NaN</td>\n",
       "      <td>NaN</td>\n",
       "      <td>1.000000</td>\n",
       "      <td>NaN</td>\n",
       "      <td>NaN</td>\n",
       "      <td>2023.0</td>\n",
       "    </tr>\n",
       "  </tbody>\n",
       "</table>\n",
       "</div>"
      ],
      "text/plain": [
       "        establishment_id                    establishment_name        ein  \\\n",
       "count       8.894470e+05                                889447     812922   \n",
       "unique               NaN                                 89219      33514   \n",
       "top                  NaN  Walt Disney Parks and Resorts US Inc  820544687   \n",
       "freq                 NaN                                  3532      38132   \n",
       "mean        8.631224e+05                                   NaN        NaN   \n",
       "std         3.575762e+05                                   NaN        NaN   \n",
       "min         4.194000e+04                                   NaN        NaN   \n",
       "25%         6.515120e+05                                   NaN        NaN   \n",
       "50%         9.893690e+05                                   NaN        NaN   \n",
       "75%         1.140101e+06                                   NaN        NaN   \n",
       "max         1.246187e+06                                   NaN        NaN   \n",
       "\n",
       "                   company_name            street_address     city   state  \\\n",
       "count                    840391                    889446   889447  889447   \n",
       "unique                    38301                     88405    14317      56   \n",
       "top     Amazon.com Services LLC  UNITED AIRLINES ATTN:MGR  Chicago      CA   \n",
       "freq                      38132                      3748     5526  113262   \n",
       "mean                        NaN                       NaN      NaN     NaN   \n",
       "std                         NaN                       NaN      NaN     NaN   \n",
       "min                         NaN                       NaN      NaN     NaN   \n",
       "25%                         NaN                       NaN      NaN     NaN   \n",
       "50%                         NaN                       NaN      NaN     NaN   \n",
       "75%                         NaN                       NaN      NaN     NaN   \n",
       "max                         NaN                       NaN      NaN     NaN   \n",
       "\n",
       "       zip_code naics_code naics_year              industry_description  \\\n",
       "count    889447     889447     888174                            829648   \n",
       "unique    17101        865          3                              5673   \n",
       "top       32830     622110       2022  Warehouse Clubs and Supercenters   \n",
       "freq       3586     155665     789067                             64327   \n",
       "mean        NaN        NaN        NaN                               NaN   \n",
       "std         NaN        NaN        NaN                               NaN   \n",
       "min         NaN        NaN        NaN                               NaN   \n",
       "25%         NaN        NaN        NaN                               NaN   \n",
       "50%         NaN        NaN        NaN                               NaN   \n",
       "75%         NaN        NaN        NaN                               NaN   \n",
       "max         NaN        NaN        NaN                               NaN   \n",
       "\n",
       "        establishment_type           size  annual_average_employees  \\\n",
       "count        887563.000000  889447.000000              8.894470e+05   \n",
       "unique                 NaN            NaN                       NaN   \n",
       "top                    NaN            NaN                       NaN   \n",
       "freq                   NaN            NaN                       NaN   \n",
       "mean              1.083898       9.833503              8.200306e+03   \n",
       "std               0.362637       9.040229              1.033831e+06   \n",
       "min               0.000000       1.000000              0.000000e+00   \n",
       "25%               1.000000       3.000000              1.490000e+02   \n",
       "50%               1.000000       3.000000              3.470000e+02   \n",
       "75%               1.000000      22.000000              1.323000e+03   \n",
       "max               3.000000      22.000000              1.723076e+08   \n",
       "\n",
       "        total_hours_worked case_number        job_description soc_code  \\\n",
       "count         8.894470e+05      889434                 885793   889447   \n",
       "unique                 NaN      423945                  93398      669   \n",
       "top                    NaN           1  Fulfillment Associate     9999   \n",
       "freq                   NaN       28102                  21562   157739   \n",
       "mean          3.528374e+06         NaN                    NaN      NaN   \n",
       "std           2.414035e+07         NaN                    NaN      NaN   \n",
       "min           0.000000e+00         NaN                    NaN      NaN   \n",
       "25%           2.356850e+05         NaN                    NaN      NaN   \n",
       "50%           5.840110e+05         NaN                    NaN      NaN   \n",
       "75%           2.125664e+06         NaN                    NaN      NaN   \n",
       "max           1.383383e+10         NaN                    NaN      NaN   \n",
       "\n",
       "       soc_description   soc_reviewed  soc_probability date_of_incident  \\\n",
       "count           889447  889447.000000    889447.000000           889447   \n",
       "unique             668            NaN              NaN              542   \n",
       "top            Uncoded            NaN              NaN       09/12/2023   \n",
       "freq            157739            NaN              NaN             3269   \n",
       "mean               NaN       0.838397         1.192423              NaN   \n",
       "std                NaN       0.698820         1.376831              NaN   \n",
       "min                NaN       0.000000         0.000000              NaN   \n",
       "25%                NaN       0.000000         0.802269              NaN   \n",
       "50%                NaN       1.000000         0.994869              NaN   \n",
       "75%                NaN       1.000000         0.999979              NaN   \n",
       "max                NaN       2.000000         5.000000              NaN   \n",
       "\n",
       "        incident_outcome  dafw_num_away    djtr_num_tr  type_of_incident  \\\n",
       "count      889447.000000  889447.000000  889447.000000     889447.000000   \n",
       "unique               NaN            NaN            NaN               NaN   \n",
       "top                  NaN            NaN            NaN               NaN   \n",
       "freq                 NaN            NaN            NaN               NaN   \n",
       "mean            2.973528      12.804085      15.531824          1.351008   \n",
       "std             0.839186      35.737457      34.982631          1.133985   \n",
       "min             1.000000       0.000000       0.000000          1.000000   \n",
       "25%             2.000000       0.000000       0.000000          1.000000   \n",
       "50%             3.000000       0.000000       0.000000          1.000000   \n",
       "75%             4.000000       5.000000      13.000000          1.000000   \n",
       "max             4.000000     640.000000     575.000000          6.000000   \n",
       "\n",
       "       time_started_work time_of_incident   time_unknown date_of_death  \\\n",
       "count             777556           778479  887398.000000           279   \n",
       "unique              1439             1440            NaN           185   \n",
       "top          7:00:00.000     12:00:00.000            NaN    09/20/2023   \n",
       "freq              110471            23709            NaN             4   \n",
       "mean                 NaN              NaN       0.132183           NaN   \n",
       "std                  NaN              NaN       0.338690           NaN   \n",
       "min                  NaN              NaN       0.000000           NaN   \n",
       "25%                  NaN              NaN       0.000000           NaN   \n",
       "50%                  NaN              NaN       0.000000           NaN   \n",
       "75%                  NaN              NaN       0.000000           NaN   \n",
       "max                  NaN              NaN       1.000000           NaN   \n",
       "\n",
       "       created_timestamp  year_filing_for  \n",
       "count             889447         889447.0  \n",
       "unique             58560              NaN  \n",
       "top     03MAY24:18:33:00              NaN  \n",
       "freq                2881              NaN  \n",
       "mean                 NaN           2023.0  \n",
       "std                  NaN              0.0  \n",
       "min                  NaN           2023.0  \n",
       "25%                  NaN           2023.0  \n",
       "50%                  NaN           2023.0  \n",
       "75%                  NaN           2023.0  \n",
       "max                  NaN           2023.0  "
      ]
     },
     "execution_count": 6,
     "metadata": {},
     "output_type": "execute_result"
    }
   ],
   "source": [
    "df.describe(include=\"all\")"
   ]
  },
  {
   "cell_type": "code",
   "execution_count": 7,
   "metadata": {},
   "outputs": [
    {
     "data": {
      "text/html": [
       "<div>\n",
       "<style scoped>\n",
       "    .dataframe tbody tr th:only-of-type {\n",
       "        vertical-align: middle;\n",
       "    }\n",
       "\n",
       "    .dataframe tbody tr th {\n",
       "        vertical-align: top;\n",
       "    }\n",
       "\n",
       "    .dataframe thead th {\n",
       "        text-align: right;\n",
       "    }\n",
       "</style>\n",
       "<table border=\"1\" class=\"dataframe\">\n",
       "  <thead>\n",
       "    <tr style=\"text-align: right;\">\n",
       "      <th></th>\n",
       "      <th></th>\n",
       "      <th>Frequency</th>\n",
       "    </tr>\n",
       "    <tr>\n",
       "      <th>Attribute</th>\n",
       "      <th>Value</th>\n",
       "      <th></th>\n",
       "    </tr>\n",
       "  </thead>\n",
       "  <tbody>\n",
       "    <tr>\n",
       "      <th rowspan=\"5\" valign=\"top\">establishment_id</th>\n",
       "      <th>225446</th>\n",
       "      <td>3532</td>\n",
       "    </tr>\n",
       "    <tr>\n",
       "      <th>857258</th>\n",
       "      <td>2948</td>\n",
       "    </tr>\n",
       "    <tr>\n",
       "      <th>899222</th>\n",
       "      <td>2218</td>\n",
       "    </tr>\n",
       "    <tr>\n",
       "      <th>62625</th>\n",
       "      <td>1412</td>\n",
       "    </tr>\n",
       "    <tr>\n",
       "      <th>1126488</th>\n",
       "      <td>1267</td>\n",
       "    </tr>\n",
       "    <tr>\n",
       "      <th>...</th>\n",
       "      <th>...</th>\n",
       "      <td>...</td>\n",
       "    </tr>\n",
       "    <tr>\n",
       "      <th rowspan=\"4\" valign=\"top\">created_timestamp</th>\n",
       "      <th>22JAN24:16:48:00</th>\n",
       "      <td>1</td>\n",
       "    </tr>\n",
       "    <tr>\n",
       "      <th>27FEB24:11:49:00</th>\n",
       "      <td>1</td>\n",
       "    </tr>\n",
       "    <tr>\n",
       "      <th>13FEB24:01:22:00</th>\n",
       "      <td>1</td>\n",
       "    </tr>\n",
       "    <tr>\n",
       "      <th>30AUG24:17:57:00</th>\n",
       "      <td>1</td>\n",
       "    </tr>\n",
       "    <tr>\n",
       "      <th>year_filing_for</th>\n",
       "      <th>2023</th>\n",
       "      <td>889447</td>\n",
       "    </tr>\n",
       "  </tbody>\n",
       "</table>\n",
       "<p>1108932 rows × 1 columns</p>\n",
       "</div>"
      ],
      "text/plain": [
       "                                    Frequency\n",
       "Attribute         Value                      \n",
       "establishment_id  225446                 3532\n",
       "                  857258                 2948\n",
       "                  899222                 2218\n",
       "                  62625                  1412\n",
       "                  1126488                1267\n",
       "...                                       ...\n",
       "created_timestamp 22JAN24:16:48:00          1\n",
       "                  27FEB24:11:49:00          1\n",
       "                  13FEB24:01:22:00          1\n",
       "                  30AUG24:17:57:00          1\n",
       "year_filing_for   2023                 889447\n",
       "\n",
       "[1108932 rows x 1 columns]"
      ]
     },
     "execution_count": 7,
     "metadata": {},
     "output_type": "execute_result"
    }
   ],
   "source": [
    "def get_frequency_distribution(df):\n",
    "    \"\"\"\n",
    "    Creates a DataFrame where:\n",
    "    - Primary index: column names (attributes)\n",
    "    - Secondary index: unique values in each column\n",
    "    - Value column: frequency of each unique value\n",
    "\n",
    "    Parameters:\n",
    "    - df (pd.DataFrame): Input DataFrame.\n",
    "\n",
    "    Returns:\n",
    "    - pd.DataFrame: Frequency distribution as described.\n",
    "    \"\"\"\n",
    "    frequency_df = pd.concat(\n",
    "        {col: df[col].value_counts() for col in df.columns},\n",
    "        names=[\"Attribute\", \"Value\"],\n",
    "    ).reset_index(name=\"Frequency\")\n",
    "\n",
    "    # Set the index as required\n",
    "    return frequency_df.set_index([\"Attribute\", \"Value\"])\n",
    "\n",
    "\n",
    "df_frequency = get_frequency_distribution(df)\n",
    "df_frequency"
   ]
  },
  {
   "cell_type": "code",
   "execution_count": 8,
   "metadata": {},
   "outputs": [],
   "source": [
    "def attribute_distribution(dataframe, attribute, plot_distribution=False):\n",
    "    \"\"\"\n",
    "    Calculates the distribution of values for a specified attribute in the dataset\n",
    "    and optionally plots the distribution using Plotly Express.\n",
    "\n",
    "    Parameters:\n",
    "        dataframe (pd.DataFrame): The DataFrame containing the dataset.\n",
    "        attribute (str): Column name of the attribute to analyze.\n",
    "        plot_distribution (bool): Whether to plot the distribution of the attribute.\n",
    "\n",
    "    Returns:\n",
    "        pd.DataFrame: A DataFrame with value counts and percentage distribution.\n",
    "    \"\"\"\n",
    "    if attribute not in dataframe.columns:\n",
    "        raise ValueError(f\"Attribute '{attribute}' not found in the dataset.\")\n",
    "\n",
    "    # Calculate value counts and percentage\n",
    "    counts = dataframe[attribute].value_counts()\n",
    "    percentages = (counts / counts.sum()) * 100\n",
    "\n",
    "    # Combine counts and percentages into a DataFrame\n",
    "    distribution = pd.DataFrame(\n",
    "        {\n",
    "            \"Value\": counts.index.astype(\n",
    "                str\n",
    "            ),  # Ensure all values are strings for categorical plotting\n",
    "            \"Frequency\": counts.values,\n",
    "            \"Percentage\": percentages.values,\n",
    "        }\n",
    "    ).set_index(\"Value\")\n",
    "\n",
    "    if not plot_distribution:\n",
    "        return distribution\n",
    "\n",
    "    fig = px.bar(\n",
    "        distribution.reset_index(),\n",
    "        x=\"Value\",\n",
    "        y=\"Percentage\",\n",
    "        text=\"Percentage\",\n",
    "        title=f\"Distribution of {attribute} (Percentage)\",\n",
    "        labels={\"Value\": \"Attribute Value\", \"Percentage\": \"Percentage (%)\"},\n",
    "    )\n",
    "    fig.update_traces(texttemplate=\"%{text:.2f}%\", textposition=\"outside\")\n",
    "    fig.update_layout(\n",
    "        xaxis=dict(title=\"Values\"),\n",
    "        yaxis=dict(title=\"Percentage (%)\"),\n",
    "        uniformtext_minsize=8,\n",
    "        uniformtext_mode=\"hide\",\n",
    "    )\n",
    "    fig.show()\n",
    "\n",
    "    return distribution"
   ]
  },
  {
   "cell_type": "code",
   "execution_count": 9,
   "metadata": {},
   "outputs": [
    {
     "data": {
      "application/vnd.plotly.v1+json": {
       "config": {
        "plotlyServerURL": "https://plot.ly"
       },
       "data": [
        {
         "alignmentgroup": "True",
         "hovertemplate": "Attribute Value=%{x}<br>Percentage (%)=%{text}<extra></extra>",
         "legendgroup": "",
         "marker": {
          "color": "#636efa",
          "pattern": {
           "shape": ""
          }
         },
         "name": "",
         "offsetgroup": "",
         "orientation": "v",
         "showlegend": false,
         "text": [
          61.21050495420188,
          25.7282333854631,
          10.957932288264507,
          1.477772143815202,
          0.6255572282553092
         ],
         "textposition": "outside",
         "texttemplate": "%{text:.2f}%",
         "type": "bar",
         "x": [
          "3",
          "22",
          "21",
          "2",
          "1"
         ],
         "xaxis": "x",
         "y": [
          61.21050495420188,
          25.7282333854631,
          10.957932288264507,
          1.477772143815202,
          0.6255572282553092
         ],
         "yaxis": "y"
        }
       ],
       "layout": {
        "barmode": "relative",
        "legend": {
         "tracegroupgap": 0
        },
        "template": {
         "data": {
          "bar": [
           {
            "error_x": {
             "color": "#2a3f5f"
            },
            "error_y": {
             "color": "#2a3f5f"
            },
            "marker": {
             "line": {
              "color": "#E5ECF6",
              "width": 0.5
             },
             "pattern": {
              "fillmode": "overlay",
              "size": 10,
              "solidity": 0.2
             }
            },
            "type": "bar"
           }
          ],
          "barpolar": [
           {
            "marker": {
             "line": {
              "color": "#E5ECF6",
              "width": 0.5
             },
             "pattern": {
              "fillmode": "overlay",
              "size": 10,
              "solidity": 0.2
             }
            },
            "type": "barpolar"
           }
          ],
          "carpet": [
           {
            "aaxis": {
             "endlinecolor": "#2a3f5f",
             "gridcolor": "white",
             "linecolor": "white",
             "minorgridcolor": "white",
             "startlinecolor": "#2a3f5f"
            },
            "baxis": {
             "endlinecolor": "#2a3f5f",
             "gridcolor": "white",
             "linecolor": "white",
             "minorgridcolor": "white",
             "startlinecolor": "#2a3f5f"
            },
            "type": "carpet"
           }
          ],
          "choropleth": [
           {
            "colorbar": {
             "outlinewidth": 0,
             "ticks": ""
            },
            "type": "choropleth"
           }
          ],
          "contour": [
           {
            "colorbar": {
             "outlinewidth": 0,
             "ticks": ""
            },
            "colorscale": [
             [
              0,
              "#0d0887"
             ],
             [
              0.1111111111111111,
              "#46039f"
             ],
             [
              0.2222222222222222,
              "#7201a8"
             ],
             [
              0.3333333333333333,
              "#9c179e"
             ],
             [
              0.4444444444444444,
              "#bd3786"
             ],
             [
              0.5555555555555556,
              "#d8576b"
             ],
             [
              0.6666666666666666,
              "#ed7953"
             ],
             [
              0.7777777777777778,
              "#fb9f3a"
             ],
             [
              0.8888888888888888,
              "#fdca26"
             ],
             [
              1,
              "#f0f921"
             ]
            ],
            "type": "contour"
           }
          ],
          "contourcarpet": [
           {
            "colorbar": {
             "outlinewidth": 0,
             "ticks": ""
            },
            "type": "contourcarpet"
           }
          ],
          "heatmap": [
           {
            "colorbar": {
             "outlinewidth": 0,
             "ticks": ""
            },
            "colorscale": [
             [
              0,
              "#0d0887"
             ],
             [
              0.1111111111111111,
              "#46039f"
             ],
             [
              0.2222222222222222,
              "#7201a8"
             ],
             [
              0.3333333333333333,
              "#9c179e"
             ],
             [
              0.4444444444444444,
              "#bd3786"
             ],
             [
              0.5555555555555556,
              "#d8576b"
             ],
             [
              0.6666666666666666,
              "#ed7953"
             ],
             [
              0.7777777777777778,
              "#fb9f3a"
             ],
             [
              0.8888888888888888,
              "#fdca26"
             ],
             [
              1,
              "#f0f921"
             ]
            ],
            "type": "heatmap"
           }
          ],
          "heatmapgl": [
           {
            "colorbar": {
             "outlinewidth": 0,
             "ticks": ""
            },
            "colorscale": [
             [
              0,
              "#0d0887"
             ],
             [
              0.1111111111111111,
              "#46039f"
             ],
             [
              0.2222222222222222,
              "#7201a8"
             ],
             [
              0.3333333333333333,
              "#9c179e"
             ],
             [
              0.4444444444444444,
              "#bd3786"
             ],
             [
              0.5555555555555556,
              "#d8576b"
             ],
             [
              0.6666666666666666,
              "#ed7953"
             ],
             [
              0.7777777777777778,
              "#fb9f3a"
             ],
             [
              0.8888888888888888,
              "#fdca26"
             ],
             [
              1,
              "#f0f921"
             ]
            ],
            "type": "heatmapgl"
           }
          ],
          "histogram": [
           {
            "marker": {
             "pattern": {
              "fillmode": "overlay",
              "size": 10,
              "solidity": 0.2
             }
            },
            "type": "histogram"
           }
          ],
          "histogram2d": [
           {
            "colorbar": {
             "outlinewidth": 0,
             "ticks": ""
            },
            "colorscale": [
             [
              0,
              "#0d0887"
             ],
             [
              0.1111111111111111,
              "#46039f"
             ],
             [
              0.2222222222222222,
              "#7201a8"
             ],
             [
              0.3333333333333333,
              "#9c179e"
             ],
             [
              0.4444444444444444,
              "#bd3786"
             ],
             [
              0.5555555555555556,
              "#d8576b"
             ],
             [
              0.6666666666666666,
              "#ed7953"
             ],
             [
              0.7777777777777778,
              "#fb9f3a"
             ],
             [
              0.8888888888888888,
              "#fdca26"
             ],
             [
              1,
              "#f0f921"
             ]
            ],
            "type": "histogram2d"
           }
          ],
          "histogram2dcontour": [
           {
            "colorbar": {
             "outlinewidth": 0,
             "ticks": ""
            },
            "colorscale": [
             [
              0,
              "#0d0887"
             ],
             [
              0.1111111111111111,
              "#46039f"
             ],
             [
              0.2222222222222222,
              "#7201a8"
             ],
             [
              0.3333333333333333,
              "#9c179e"
             ],
             [
              0.4444444444444444,
              "#bd3786"
             ],
             [
              0.5555555555555556,
              "#d8576b"
             ],
             [
              0.6666666666666666,
              "#ed7953"
             ],
             [
              0.7777777777777778,
              "#fb9f3a"
             ],
             [
              0.8888888888888888,
              "#fdca26"
             ],
             [
              1,
              "#f0f921"
             ]
            ],
            "type": "histogram2dcontour"
           }
          ],
          "mesh3d": [
           {
            "colorbar": {
             "outlinewidth": 0,
             "ticks": ""
            },
            "type": "mesh3d"
           }
          ],
          "parcoords": [
           {
            "line": {
             "colorbar": {
              "outlinewidth": 0,
              "ticks": ""
             }
            },
            "type": "parcoords"
           }
          ],
          "pie": [
           {
            "automargin": true,
            "type": "pie"
           }
          ],
          "scatter": [
           {
            "fillpattern": {
             "fillmode": "overlay",
             "size": 10,
             "solidity": 0.2
            },
            "type": "scatter"
           }
          ],
          "scatter3d": [
           {
            "line": {
             "colorbar": {
              "outlinewidth": 0,
              "ticks": ""
             }
            },
            "marker": {
             "colorbar": {
              "outlinewidth": 0,
              "ticks": ""
             }
            },
            "type": "scatter3d"
           }
          ],
          "scattercarpet": [
           {
            "marker": {
             "colorbar": {
              "outlinewidth": 0,
              "ticks": ""
             }
            },
            "type": "scattercarpet"
           }
          ],
          "scattergeo": [
           {
            "marker": {
             "colorbar": {
              "outlinewidth": 0,
              "ticks": ""
             }
            },
            "type": "scattergeo"
           }
          ],
          "scattergl": [
           {
            "marker": {
             "colorbar": {
              "outlinewidth": 0,
              "ticks": ""
             }
            },
            "type": "scattergl"
           }
          ],
          "scattermapbox": [
           {
            "marker": {
             "colorbar": {
              "outlinewidth": 0,
              "ticks": ""
             }
            },
            "type": "scattermapbox"
           }
          ],
          "scatterpolar": [
           {
            "marker": {
             "colorbar": {
              "outlinewidth": 0,
              "ticks": ""
             }
            },
            "type": "scatterpolar"
           }
          ],
          "scatterpolargl": [
           {
            "marker": {
             "colorbar": {
              "outlinewidth": 0,
              "ticks": ""
             }
            },
            "type": "scatterpolargl"
           }
          ],
          "scatterternary": [
           {
            "marker": {
             "colorbar": {
              "outlinewidth": 0,
              "ticks": ""
             }
            },
            "type": "scatterternary"
           }
          ],
          "surface": [
           {
            "colorbar": {
             "outlinewidth": 0,
             "ticks": ""
            },
            "colorscale": [
             [
              0,
              "#0d0887"
             ],
             [
              0.1111111111111111,
              "#46039f"
             ],
             [
              0.2222222222222222,
              "#7201a8"
             ],
             [
              0.3333333333333333,
              "#9c179e"
             ],
             [
              0.4444444444444444,
              "#bd3786"
             ],
             [
              0.5555555555555556,
              "#d8576b"
             ],
             [
              0.6666666666666666,
              "#ed7953"
             ],
             [
              0.7777777777777778,
              "#fb9f3a"
             ],
             [
              0.8888888888888888,
              "#fdca26"
             ],
             [
              1,
              "#f0f921"
             ]
            ],
            "type": "surface"
           }
          ],
          "table": [
           {
            "cells": {
             "fill": {
              "color": "#EBF0F8"
             },
             "line": {
              "color": "white"
             }
            },
            "header": {
             "fill": {
              "color": "#C8D4E3"
             },
             "line": {
              "color": "white"
             }
            },
            "type": "table"
           }
          ]
         },
         "layout": {
          "annotationdefaults": {
           "arrowcolor": "#2a3f5f",
           "arrowhead": 0,
           "arrowwidth": 1
          },
          "autotypenumbers": "strict",
          "coloraxis": {
           "colorbar": {
            "outlinewidth": 0,
            "ticks": ""
           }
          },
          "colorscale": {
           "diverging": [
            [
             0,
             "#8e0152"
            ],
            [
             0.1,
             "#c51b7d"
            ],
            [
             0.2,
             "#de77ae"
            ],
            [
             0.3,
             "#f1b6da"
            ],
            [
             0.4,
             "#fde0ef"
            ],
            [
             0.5,
             "#f7f7f7"
            ],
            [
             0.6,
             "#e6f5d0"
            ],
            [
             0.7,
             "#b8e186"
            ],
            [
             0.8,
             "#7fbc41"
            ],
            [
             0.9,
             "#4d9221"
            ],
            [
             1,
             "#276419"
            ]
           ],
           "sequential": [
            [
             0,
             "#0d0887"
            ],
            [
             0.1111111111111111,
             "#46039f"
            ],
            [
             0.2222222222222222,
             "#7201a8"
            ],
            [
             0.3333333333333333,
             "#9c179e"
            ],
            [
             0.4444444444444444,
             "#bd3786"
            ],
            [
             0.5555555555555556,
             "#d8576b"
            ],
            [
             0.6666666666666666,
             "#ed7953"
            ],
            [
             0.7777777777777778,
             "#fb9f3a"
            ],
            [
             0.8888888888888888,
             "#fdca26"
            ],
            [
             1,
             "#f0f921"
            ]
           ],
           "sequentialminus": [
            [
             0,
             "#0d0887"
            ],
            [
             0.1111111111111111,
             "#46039f"
            ],
            [
             0.2222222222222222,
             "#7201a8"
            ],
            [
             0.3333333333333333,
             "#9c179e"
            ],
            [
             0.4444444444444444,
             "#bd3786"
            ],
            [
             0.5555555555555556,
             "#d8576b"
            ],
            [
             0.6666666666666666,
             "#ed7953"
            ],
            [
             0.7777777777777778,
             "#fb9f3a"
            ],
            [
             0.8888888888888888,
             "#fdca26"
            ],
            [
             1,
             "#f0f921"
            ]
           ]
          },
          "colorway": [
           "#636efa",
           "#EF553B",
           "#00cc96",
           "#ab63fa",
           "#FFA15A",
           "#19d3f3",
           "#FF6692",
           "#B6E880",
           "#FF97FF",
           "#FECB52"
          ],
          "font": {
           "color": "#2a3f5f"
          },
          "geo": {
           "bgcolor": "white",
           "lakecolor": "white",
           "landcolor": "#E5ECF6",
           "showlakes": true,
           "showland": true,
           "subunitcolor": "white"
          },
          "hoverlabel": {
           "align": "left"
          },
          "hovermode": "closest",
          "mapbox": {
           "style": "light"
          },
          "paper_bgcolor": "white",
          "plot_bgcolor": "#E5ECF6",
          "polar": {
           "angularaxis": {
            "gridcolor": "white",
            "linecolor": "white",
            "ticks": ""
           },
           "bgcolor": "#E5ECF6",
           "radialaxis": {
            "gridcolor": "white",
            "linecolor": "white",
            "ticks": ""
           }
          },
          "scene": {
           "xaxis": {
            "backgroundcolor": "#E5ECF6",
            "gridcolor": "white",
            "gridwidth": 2,
            "linecolor": "white",
            "showbackground": true,
            "ticks": "",
            "zerolinecolor": "white"
           },
           "yaxis": {
            "backgroundcolor": "#E5ECF6",
            "gridcolor": "white",
            "gridwidth": 2,
            "linecolor": "white",
            "showbackground": true,
            "ticks": "",
            "zerolinecolor": "white"
           },
           "zaxis": {
            "backgroundcolor": "#E5ECF6",
            "gridcolor": "white",
            "gridwidth": 2,
            "linecolor": "white",
            "showbackground": true,
            "ticks": "",
            "zerolinecolor": "white"
           }
          },
          "shapedefaults": {
           "line": {
            "color": "#2a3f5f"
           }
          },
          "ternary": {
           "aaxis": {
            "gridcolor": "white",
            "linecolor": "white",
            "ticks": ""
           },
           "baxis": {
            "gridcolor": "white",
            "linecolor": "white",
            "ticks": ""
           },
           "bgcolor": "#E5ECF6",
           "caxis": {
            "gridcolor": "white",
            "linecolor": "white",
            "ticks": ""
           }
          },
          "title": {
           "x": 0.05
          },
          "xaxis": {
           "automargin": true,
           "gridcolor": "white",
           "linecolor": "white",
           "ticks": "",
           "title": {
            "standoff": 15
           },
           "zerolinecolor": "white",
           "zerolinewidth": 2
          },
          "yaxis": {
           "automargin": true,
           "gridcolor": "white",
           "linecolor": "white",
           "ticks": "",
           "title": {
            "standoff": 15
           },
           "zerolinecolor": "white",
           "zerolinewidth": 2
          }
         }
        },
        "title": {
         "text": "Distribution of size (Percentage)"
        },
        "uniformtext": {
         "minsize": 8,
         "mode": "hide"
        },
        "xaxis": {
         "anchor": "y",
         "domain": [
          0,
          1
         ],
         "title": {
          "text": "Values"
         }
        },
        "yaxis": {
         "anchor": "x",
         "domain": [
          0,
          1
         ],
         "title": {
          "text": "Percentage (%)"
         }
        }
       }
      }
     },
     "metadata": {},
     "output_type": "display_data"
    },
    {
     "data": {
      "text/html": [
       "<div>\n",
       "<style scoped>\n",
       "    .dataframe tbody tr th:only-of-type {\n",
       "        vertical-align: middle;\n",
       "    }\n",
       "\n",
       "    .dataframe tbody tr th {\n",
       "        vertical-align: top;\n",
       "    }\n",
       "\n",
       "    .dataframe thead th {\n",
       "        text-align: right;\n",
       "    }\n",
       "</style>\n",
       "<table border=\"1\" class=\"dataframe\">\n",
       "  <thead>\n",
       "    <tr style=\"text-align: right;\">\n",
       "      <th></th>\n",
       "      <th>Frequency</th>\n",
       "      <th>Percentage</th>\n",
       "    </tr>\n",
       "    <tr>\n",
       "      <th>Value</th>\n",
       "      <th></th>\n",
       "      <th></th>\n",
       "    </tr>\n",
       "  </thead>\n",
       "  <tbody>\n",
       "    <tr>\n",
       "      <th>3</th>\n",
       "      <td>544435</td>\n",
       "      <td>61.210505</td>\n",
       "    </tr>\n",
       "    <tr>\n",
       "      <th>22</th>\n",
       "      <td>228839</td>\n",
       "      <td>25.728233</td>\n",
       "    </tr>\n",
       "    <tr>\n",
       "      <th>21</th>\n",
       "      <td>97465</td>\n",
       "      <td>10.957932</td>\n",
       "    </tr>\n",
       "    <tr>\n",
       "      <th>2</th>\n",
       "      <td>13144</td>\n",
       "      <td>1.477772</td>\n",
       "    </tr>\n",
       "    <tr>\n",
       "      <th>1</th>\n",
       "      <td>5564</td>\n",
       "      <td>0.625557</td>\n",
       "    </tr>\n",
       "  </tbody>\n",
       "</table>\n",
       "</div>"
      ],
      "text/plain": [
       "       Frequency  Percentage\n",
       "Value                       \n",
       "3         544435   61.210505\n",
       "22        228839   25.728233\n",
       "21         97465   10.957932\n",
       "2          13144    1.477772\n",
       "1           5564    0.625557"
      ]
     },
     "execution_count": 9,
     "metadata": {},
     "output_type": "execute_result"
    }
   ],
   "source": [
    "# Single attribute\n",
    "attribute_distribution(df, \"size\", True)"
   ]
  },
  {
   "cell_type": "code",
   "execution_count": 10,
   "metadata": {},
   "outputs": [],
   "source": [
    "# # All attributes\n",
    "# for column_name in df.columns:\n",
    "#     print(attribute_distribution(df, column_name, False))"
   ]
  },
  {
   "cell_type": "markdown",
   "metadata": {},
   "source": [
    "### (e) Try to describe the data set in just a few sentences. How is the data provided? Which kind of attributes are contained in the data set? How large is the data set in terms of the number of those elements (teams, matches, players, historic data, extra records, and so on)?"
   ]
  },
  {
   "cell_type": "markdown",
   "metadata": {},
   "source": [
    "The OSHA Injury Tracking Application (ITA) dataset is a structured repository of work-related injury and illness records reported by establishments with 100 or more employees in high-hazard industries. The data is provided as a CSV file and contains attributes related to establishments (e.g., name, location, industry), incidents (e.g., date, type, outcome, days away from work), and employee roles (e.g., job title, Standard Occupation Codes). Additional narrative fields describe incidents and injuries in detail. The dataset size depends on the reporting frequency but typically includes thousands of records, each representing a unique incident, with detailed fields linking establishments, incidents, and employees for comprehensive analysis."
   ]
  },
  {
   "cell_type": "markdown",
   "metadata": {},
   "source": [
    "### (f) Analyze the errors and missing values. Write a function to count how many missing values per attribute and per entry you have. Analyze what are the most relevant missing values that might hinder the analysis according to you."
   ]
  },
  {
   "cell_type": "code",
   "execution_count": 11,
   "metadata": {},
   "outputs": [
    {
     "data": {
      "application/vnd.plotly.v1+json": {
       "config": {
        "plotlyServerURL": "https://plot.ly"
       },
       "data": [
        {
         "alignmentgroup": "True",
         "hovertemplate": "Attribute=%{x}<br>Percentage_Missing=%{text}<extra></extra>",
         "legendgroup": "",
         "marker": {
          "color": "#636efa",
          "pattern": {
           "shape": ""
          }
         },
         "name": "",
         "offsetgroup": "",
         "orientation": "v",
         "showlegend": false,
         "text": [
          99.96863219506052,
          12.579838933629548,
          12.476066589689998,
          8.603660476678206,
          6.723166192027182,
          5.515337057744869,
          0.41081705823955783,
          0.2303678577812956,
          0.2118170053977359,
          0.14312263687437252,
          0.0014615823090077318,
          0.00011242940838521013
         ],
         "textposition": "outside",
         "texttemplate": "%{text:.2f}%",
         "type": "bar",
         "x": [
          "date_of_death",
          "time_started_work",
          "time_of_incident",
          "ein",
          "industry_description",
          "company_name",
          "job_description",
          "time_unknown",
          "establishment_type",
          "naics_year",
          "case_number",
          "street_address"
         ],
         "xaxis": "x",
         "y": [
          99.96863219506052,
          12.579838933629548,
          12.476066589689998,
          8.603660476678206,
          6.723166192027182,
          5.515337057744869,
          0.41081705823955783,
          0.2303678577812956,
          0.2118170053977359,
          0.14312263687437252,
          0.0014615823090077318,
          0.00011242940838521013
         ],
         "yaxis": "y"
        }
       ],
       "layout": {
        "barmode": "relative",
        "legend": {
         "tracegroupgap": 0
        },
        "showlegend": false,
        "template": {
         "data": {
          "bar": [
           {
            "error_x": {
             "color": "#2a3f5f"
            },
            "error_y": {
             "color": "#2a3f5f"
            },
            "marker": {
             "line": {
              "color": "#E5ECF6",
              "width": 0.5
             },
             "pattern": {
              "fillmode": "overlay",
              "size": 10,
              "solidity": 0.2
             }
            },
            "type": "bar"
           }
          ],
          "barpolar": [
           {
            "marker": {
             "line": {
              "color": "#E5ECF6",
              "width": 0.5
             },
             "pattern": {
              "fillmode": "overlay",
              "size": 10,
              "solidity": 0.2
             }
            },
            "type": "barpolar"
           }
          ],
          "carpet": [
           {
            "aaxis": {
             "endlinecolor": "#2a3f5f",
             "gridcolor": "white",
             "linecolor": "white",
             "minorgridcolor": "white",
             "startlinecolor": "#2a3f5f"
            },
            "baxis": {
             "endlinecolor": "#2a3f5f",
             "gridcolor": "white",
             "linecolor": "white",
             "minorgridcolor": "white",
             "startlinecolor": "#2a3f5f"
            },
            "type": "carpet"
           }
          ],
          "choropleth": [
           {
            "colorbar": {
             "outlinewidth": 0,
             "ticks": ""
            },
            "type": "choropleth"
           }
          ],
          "contour": [
           {
            "colorbar": {
             "outlinewidth": 0,
             "ticks": ""
            },
            "colorscale": [
             [
              0,
              "#0d0887"
             ],
             [
              0.1111111111111111,
              "#46039f"
             ],
             [
              0.2222222222222222,
              "#7201a8"
             ],
             [
              0.3333333333333333,
              "#9c179e"
             ],
             [
              0.4444444444444444,
              "#bd3786"
             ],
             [
              0.5555555555555556,
              "#d8576b"
             ],
             [
              0.6666666666666666,
              "#ed7953"
             ],
             [
              0.7777777777777778,
              "#fb9f3a"
             ],
             [
              0.8888888888888888,
              "#fdca26"
             ],
             [
              1,
              "#f0f921"
             ]
            ],
            "type": "contour"
           }
          ],
          "contourcarpet": [
           {
            "colorbar": {
             "outlinewidth": 0,
             "ticks": ""
            },
            "type": "contourcarpet"
           }
          ],
          "heatmap": [
           {
            "colorbar": {
             "outlinewidth": 0,
             "ticks": ""
            },
            "colorscale": [
             [
              0,
              "#0d0887"
             ],
             [
              0.1111111111111111,
              "#46039f"
             ],
             [
              0.2222222222222222,
              "#7201a8"
             ],
             [
              0.3333333333333333,
              "#9c179e"
             ],
             [
              0.4444444444444444,
              "#bd3786"
             ],
             [
              0.5555555555555556,
              "#d8576b"
             ],
             [
              0.6666666666666666,
              "#ed7953"
             ],
             [
              0.7777777777777778,
              "#fb9f3a"
             ],
             [
              0.8888888888888888,
              "#fdca26"
             ],
             [
              1,
              "#f0f921"
             ]
            ],
            "type": "heatmap"
           }
          ],
          "heatmapgl": [
           {
            "colorbar": {
             "outlinewidth": 0,
             "ticks": ""
            },
            "colorscale": [
             [
              0,
              "#0d0887"
             ],
             [
              0.1111111111111111,
              "#46039f"
             ],
             [
              0.2222222222222222,
              "#7201a8"
             ],
             [
              0.3333333333333333,
              "#9c179e"
             ],
             [
              0.4444444444444444,
              "#bd3786"
             ],
             [
              0.5555555555555556,
              "#d8576b"
             ],
             [
              0.6666666666666666,
              "#ed7953"
             ],
             [
              0.7777777777777778,
              "#fb9f3a"
             ],
             [
              0.8888888888888888,
              "#fdca26"
             ],
             [
              1,
              "#f0f921"
             ]
            ],
            "type": "heatmapgl"
           }
          ],
          "histogram": [
           {
            "marker": {
             "pattern": {
              "fillmode": "overlay",
              "size": 10,
              "solidity": 0.2
             }
            },
            "type": "histogram"
           }
          ],
          "histogram2d": [
           {
            "colorbar": {
             "outlinewidth": 0,
             "ticks": ""
            },
            "colorscale": [
             [
              0,
              "#0d0887"
             ],
             [
              0.1111111111111111,
              "#46039f"
             ],
             [
              0.2222222222222222,
              "#7201a8"
             ],
             [
              0.3333333333333333,
              "#9c179e"
             ],
             [
              0.4444444444444444,
              "#bd3786"
             ],
             [
              0.5555555555555556,
              "#d8576b"
             ],
             [
              0.6666666666666666,
              "#ed7953"
             ],
             [
              0.7777777777777778,
              "#fb9f3a"
             ],
             [
              0.8888888888888888,
              "#fdca26"
             ],
             [
              1,
              "#f0f921"
             ]
            ],
            "type": "histogram2d"
           }
          ],
          "histogram2dcontour": [
           {
            "colorbar": {
             "outlinewidth": 0,
             "ticks": ""
            },
            "colorscale": [
             [
              0,
              "#0d0887"
             ],
             [
              0.1111111111111111,
              "#46039f"
             ],
             [
              0.2222222222222222,
              "#7201a8"
             ],
             [
              0.3333333333333333,
              "#9c179e"
             ],
             [
              0.4444444444444444,
              "#bd3786"
             ],
             [
              0.5555555555555556,
              "#d8576b"
             ],
             [
              0.6666666666666666,
              "#ed7953"
             ],
             [
              0.7777777777777778,
              "#fb9f3a"
             ],
             [
              0.8888888888888888,
              "#fdca26"
             ],
             [
              1,
              "#f0f921"
             ]
            ],
            "type": "histogram2dcontour"
           }
          ],
          "mesh3d": [
           {
            "colorbar": {
             "outlinewidth": 0,
             "ticks": ""
            },
            "type": "mesh3d"
           }
          ],
          "parcoords": [
           {
            "line": {
             "colorbar": {
              "outlinewidth": 0,
              "ticks": ""
             }
            },
            "type": "parcoords"
           }
          ],
          "pie": [
           {
            "automargin": true,
            "type": "pie"
           }
          ],
          "scatter": [
           {
            "fillpattern": {
             "fillmode": "overlay",
             "size": 10,
             "solidity": 0.2
            },
            "type": "scatter"
           }
          ],
          "scatter3d": [
           {
            "line": {
             "colorbar": {
              "outlinewidth": 0,
              "ticks": ""
             }
            },
            "marker": {
             "colorbar": {
              "outlinewidth": 0,
              "ticks": ""
             }
            },
            "type": "scatter3d"
           }
          ],
          "scattercarpet": [
           {
            "marker": {
             "colorbar": {
              "outlinewidth": 0,
              "ticks": ""
             }
            },
            "type": "scattercarpet"
           }
          ],
          "scattergeo": [
           {
            "marker": {
             "colorbar": {
              "outlinewidth": 0,
              "ticks": ""
             }
            },
            "type": "scattergeo"
           }
          ],
          "scattergl": [
           {
            "marker": {
             "colorbar": {
              "outlinewidth": 0,
              "ticks": ""
             }
            },
            "type": "scattergl"
           }
          ],
          "scattermapbox": [
           {
            "marker": {
             "colorbar": {
              "outlinewidth": 0,
              "ticks": ""
             }
            },
            "type": "scattermapbox"
           }
          ],
          "scatterpolar": [
           {
            "marker": {
             "colorbar": {
              "outlinewidth": 0,
              "ticks": ""
             }
            },
            "type": "scatterpolar"
           }
          ],
          "scatterpolargl": [
           {
            "marker": {
             "colorbar": {
              "outlinewidth": 0,
              "ticks": ""
             }
            },
            "type": "scatterpolargl"
           }
          ],
          "scatterternary": [
           {
            "marker": {
             "colorbar": {
              "outlinewidth": 0,
              "ticks": ""
             }
            },
            "type": "scatterternary"
           }
          ],
          "surface": [
           {
            "colorbar": {
             "outlinewidth": 0,
             "ticks": ""
            },
            "colorscale": [
             [
              0,
              "#0d0887"
             ],
             [
              0.1111111111111111,
              "#46039f"
             ],
             [
              0.2222222222222222,
              "#7201a8"
             ],
             [
              0.3333333333333333,
              "#9c179e"
             ],
             [
              0.4444444444444444,
              "#bd3786"
             ],
             [
              0.5555555555555556,
              "#d8576b"
             ],
             [
              0.6666666666666666,
              "#ed7953"
             ],
             [
              0.7777777777777778,
              "#fb9f3a"
             ],
             [
              0.8888888888888888,
              "#fdca26"
             ],
             [
              1,
              "#f0f921"
             ]
            ],
            "type": "surface"
           }
          ],
          "table": [
           {
            "cells": {
             "fill": {
              "color": "#EBF0F8"
             },
             "line": {
              "color": "white"
             }
            },
            "header": {
             "fill": {
              "color": "#C8D4E3"
             },
             "line": {
              "color": "white"
             }
            },
            "type": "table"
           }
          ]
         },
         "layout": {
          "annotationdefaults": {
           "arrowcolor": "#2a3f5f",
           "arrowhead": 0,
           "arrowwidth": 1
          },
          "autotypenumbers": "strict",
          "coloraxis": {
           "colorbar": {
            "outlinewidth": 0,
            "ticks": ""
           }
          },
          "colorscale": {
           "diverging": [
            [
             0,
             "#8e0152"
            ],
            [
             0.1,
             "#c51b7d"
            ],
            [
             0.2,
             "#de77ae"
            ],
            [
             0.3,
             "#f1b6da"
            ],
            [
             0.4,
             "#fde0ef"
            ],
            [
             0.5,
             "#f7f7f7"
            ],
            [
             0.6,
             "#e6f5d0"
            ],
            [
             0.7,
             "#b8e186"
            ],
            [
             0.8,
             "#7fbc41"
            ],
            [
             0.9,
             "#4d9221"
            ],
            [
             1,
             "#276419"
            ]
           ],
           "sequential": [
            [
             0,
             "#0d0887"
            ],
            [
             0.1111111111111111,
             "#46039f"
            ],
            [
             0.2222222222222222,
             "#7201a8"
            ],
            [
             0.3333333333333333,
             "#9c179e"
            ],
            [
             0.4444444444444444,
             "#bd3786"
            ],
            [
             0.5555555555555556,
             "#d8576b"
            ],
            [
             0.6666666666666666,
             "#ed7953"
            ],
            [
             0.7777777777777778,
             "#fb9f3a"
            ],
            [
             0.8888888888888888,
             "#fdca26"
            ],
            [
             1,
             "#f0f921"
            ]
           ],
           "sequentialminus": [
            [
             0,
             "#0d0887"
            ],
            [
             0.1111111111111111,
             "#46039f"
            ],
            [
             0.2222222222222222,
             "#7201a8"
            ],
            [
             0.3333333333333333,
             "#9c179e"
            ],
            [
             0.4444444444444444,
             "#bd3786"
            ],
            [
             0.5555555555555556,
             "#d8576b"
            ],
            [
             0.6666666666666666,
             "#ed7953"
            ],
            [
             0.7777777777777778,
             "#fb9f3a"
            ],
            [
             0.8888888888888888,
             "#fdca26"
            ],
            [
             1,
             "#f0f921"
            ]
           ]
          },
          "colorway": [
           "#636efa",
           "#EF553B",
           "#00cc96",
           "#ab63fa",
           "#FFA15A",
           "#19d3f3",
           "#FF6692",
           "#B6E880",
           "#FF97FF",
           "#FECB52"
          ],
          "font": {
           "color": "#2a3f5f"
          },
          "geo": {
           "bgcolor": "white",
           "lakecolor": "white",
           "landcolor": "#E5ECF6",
           "showlakes": true,
           "showland": true,
           "subunitcolor": "white"
          },
          "hoverlabel": {
           "align": "left"
          },
          "hovermode": "closest",
          "mapbox": {
           "style": "light"
          },
          "paper_bgcolor": "white",
          "plot_bgcolor": "#E5ECF6",
          "polar": {
           "angularaxis": {
            "gridcolor": "white",
            "linecolor": "white",
            "ticks": ""
           },
           "bgcolor": "#E5ECF6",
           "radialaxis": {
            "gridcolor": "white",
            "linecolor": "white",
            "ticks": ""
           }
          },
          "scene": {
           "xaxis": {
            "backgroundcolor": "#E5ECF6",
            "gridcolor": "white",
            "gridwidth": 2,
            "linecolor": "white",
            "showbackground": true,
            "ticks": "",
            "zerolinecolor": "white"
           },
           "yaxis": {
            "backgroundcolor": "#E5ECF6",
            "gridcolor": "white",
            "gridwidth": 2,
            "linecolor": "white",
            "showbackground": true,
            "ticks": "",
            "zerolinecolor": "white"
           },
           "zaxis": {
            "backgroundcolor": "#E5ECF6",
            "gridcolor": "white",
            "gridwidth": 2,
            "linecolor": "white",
            "showbackground": true,
            "ticks": "",
            "zerolinecolor": "white"
           }
          },
          "shapedefaults": {
           "line": {
            "color": "#2a3f5f"
           }
          },
          "ternary": {
           "aaxis": {
            "gridcolor": "white",
            "linecolor": "white",
            "ticks": ""
           },
           "baxis": {
            "gridcolor": "white",
            "linecolor": "white",
            "ticks": ""
           },
           "bgcolor": "#E5ECF6",
           "caxis": {
            "gridcolor": "white",
            "linecolor": "white",
            "ticks": ""
           }
          },
          "title": {
           "x": 0.05
          },
          "xaxis": {
           "automargin": true,
           "gridcolor": "white",
           "linecolor": "white",
           "ticks": "",
           "title": {
            "standoff": 15
           },
           "zerolinecolor": "white",
           "zerolinewidth": 2
          },
          "yaxis": {
           "automargin": true,
           "gridcolor": "white",
           "linecolor": "white",
           "ticks": "",
           "title": {
            "standoff": 15
           },
           "zerolinecolor": "white",
           "zerolinewidth": 2
          }
         }
        },
        "title": {
         "text": "Missing Values Per Attribute (Sorted by Percentage)"
        },
        "uniformtext": {
         "minsize": 8,
         "mode": "hide"
        },
        "xaxis": {
         "anchor": "y",
         "domain": [
          0,
          1
         ],
         "tickangle": 45,
         "title": {
          "text": "Attributes"
         }
        },
        "yaxis": {
         "anchor": "x",
         "domain": [
          0,
          1
         ],
         "title": {
          "text": "Percentage Missing (%)"
         }
        }
       }
      }
     },
     "metadata": {},
     "output_type": "display_data"
    },
    {
     "data": {
      "application/vnd.plotly.v1+json": {
       "config": {
        "plotlyServerURL": "https://plot.ly"
       },
       "data": [
        {
         "alignmentgroup": "True",
         "hovertemplate": "Number of Missing Values=%{x}<br>Number of Rows=%{text}<extra></extra>",
         "legendgroup": "",
         "marker": {
          "color": "#636efa",
          "pattern": {
           "shape": ""
          }
         },
         "name": "",
         "offsetgroup": "",
         "orientation": "v",
         "showlegend": false,
         "text": [
          201,
          603667,
          178776,
          85337,
          18306,
          3134,
          25,
          1
         ],
         "textposition": "outside",
         "texttemplate": "%{text}",
         "type": "bar",
         "x": [
          0,
          1,
          2,
          3,
          4,
          5,
          6,
          7
         ],
         "xaxis": "x",
         "y": [
          201,
          603667,
          178776,
          85337,
          18306,
          3134,
          25,
          1
         ],
         "yaxis": "y"
        }
       ],
       "layout": {
        "barmode": "relative",
        "legend": {
         "tracegroupgap": 0
        },
        "showlegend": false,
        "template": {
         "data": {
          "bar": [
           {
            "error_x": {
             "color": "#2a3f5f"
            },
            "error_y": {
             "color": "#2a3f5f"
            },
            "marker": {
             "line": {
              "color": "#E5ECF6",
              "width": 0.5
             },
             "pattern": {
              "fillmode": "overlay",
              "size": 10,
              "solidity": 0.2
             }
            },
            "type": "bar"
           }
          ],
          "barpolar": [
           {
            "marker": {
             "line": {
              "color": "#E5ECF6",
              "width": 0.5
             },
             "pattern": {
              "fillmode": "overlay",
              "size": 10,
              "solidity": 0.2
             }
            },
            "type": "barpolar"
           }
          ],
          "carpet": [
           {
            "aaxis": {
             "endlinecolor": "#2a3f5f",
             "gridcolor": "white",
             "linecolor": "white",
             "minorgridcolor": "white",
             "startlinecolor": "#2a3f5f"
            },
            "baxis": {
             "endlinecolor": "#2a3f5f",
             "gridcolor": "white",
             "linecolor": "white",
             "minorgridcolor": "white",
             "startlinecolor": "#2a3f5f"
            },
            "type": "carpet"
           }
          ],
          "choropleth": [
           {
            "colorbar": {
             "outlinewidth": 0,
             "ticks": ""
            },
            "type": "choropleth"
           }
          ],
          "contour": [
           {
            "colorbar": {
             "outlinewidth": 0,
             "ticks": ""
            },
            "colorscale": [
             [
              0,
              "#0d0887"
             ],
             [
              0.1111111111111111,
              "#46039f"
             ],
             [
              0.2222222222222222,
              "#7201a8"
             ],
             [
              0.3333333333333333,
              "#9c179e"
             ],
             [
              0.4444444444444444,
              "#bd3786"
             ],
             [
              0.5555555555555556,
              "#d8576b"
             ],
             [
              0.6666666666666666,
              "#ed7953"
             ],
             [
              0.7777777777777778,
              "#fb9f3a"
             ],
             [
              0.8888888888888888,
              "#fdca26"
             ],
             [
              1,
              "#f0f921"
             ]
            ],
            "type": "contour"
           }
          ],
          "contourcarpet": [
           {
            "colorbar": {
             "outlinewidth": 0,
             "ticks": ""
            },
            "type": "contourcarpet"
           }
          ],
          "heatmap": [
           {
            "colorbar": {
             "outlinewidth": 0,
             "ticks": ""
            },
            "colorscale": [
             [
              0,
              "#0d0887"
             ],
             [
              0.1111111111111111,
              "#46039f"
             ],
             [
              0.2222222222222222,
              "#7201a8"
             ],
             [
              0.3333333333333333,
              "#9c179e"
             ],
             [
              0.4444444444444444,
              "#bd3786"
             ],
             [
              0.5555555555555556,
              "#d8576b"
             ],
             [
              0.6666666666666666,
              "#ed7953"
             ],
             [
              0.7777777777777778,
              "#fb9f3a"
             ],
             [
              0.8888888888888888,
              "#fdca26"
             ],
             [
              1,
              "#f0f921"
             ]
            ],
            "type": "heatmap"
           }
          ],
          "heatmapgl": [
           {
            "colorbar": {
             "outlinewidth": 0,
             "ticks": ""
            },
            "colorscale": [
             [
              0,
              "#0d0887"
             ],
             [
              0.1111111111111111,
              "#46039f"
             ],
             [
              0.2222222222222222,
              "#7201a8"
             ],
             [
              0.3333333333333333,
              "#9c179e"
             ],
             [
              0.4444444444444444,
              "#bd3786"
             ],
             [
              0.5555555555555556,
              "#d8576b"
             ],
             [
              0.6666666666666666,
              "#ed7953"
             ],
             [
              0.7777777777777778,
              "#fb9f3a"
             ],
             [
              0.8888888888888888,
              "#fdca26"
             ],
             [
              1,
              "#f0f921"
             ]
            ],
            "type": "heatmapgl"
           }
          ],
          "histogram": [
           {
            "marker": {
             "pattern": {
              "fillmode": "overlay",
              "size": 10,
              "solidity": 0.2
             }
            },
            "type": "histogram"
           }
          ],
          "histogram2d": [
           {
            "colorbar": {
             "outlinewidth": 0,
             "ticks": ""
            },
            "colorscale": [
             [
              0,
              "#0d0887"
             ],
             [
              0.1111111111111111,
              "#46039f"
             ],
             [
              0.2222222222222222,
              "#7201a8"
             ],
             [
              0.3333333333333333,
              "#9c179e"
             ],
             [
              0.4444444444444444,
              "#bd3786"
             ],
             [
              0.5555555555555556,
              "#d8576b"
             ],
             [
              0.6666666666666666,
              "#ed7953"
             ],
             [
              0.7777777777777778,
              "#fb9f3a"
             ],
             [
              0.8888888888888888,
              "#fdca26"
             ],
             [
              1,
              "#f0f921"
             ]
            ],
            "type": "histogram2d"
           }
          ],
          "histogram2dcontour": [
           {
            "colorbar": {
             "outlinewidth": 0,
             "ticks": ""
            },
            "colorscale": [
             [
              0,
              "#0d0887"
             ],
             [
              0.1111111111111111,
              "#46039f"
             ],
             [
              0.2222222222222222,
              "#7201a8"
             ],
             [
              0.3333333333333333,
              "#9c179e"
             ],
             [
              0.4444444444444444,
              "#bd3786"
             ],
             [
              0.5555555555555556,
              "#d8576b"
             ],
             [
              0.6666666666666666,
              "#ed7953"
             ],
             [
              0.7777777777777778,
              "#fb9f3a"
             ],
             [
              0.8888888888888888,
              "#fdca26"
             ],
             [
              1,
              "#f0f921"
             ]
            ],
            "type": "histogram2dcontour"
           }
          ],
          "mesh3d": [
           {
            "colorbar": {
             "outlinewidth": 0,
             "ticks": ""
            },
            "type": "mesh3d"
           }
          ],
          "parcoords": [
           {
            "line": {
             "colorbar": {
              "outlinewidth": 0,
              "ticks": ""
             }
            },
            "type": "parcoords"
           }
          ],
          "pie": [
           {
            "automargin": true,
            "type": "pie"
           }
          ],
          "scatter": [
           {
            "fillpattern": {
             "fillmode": "overlay",
             "size": 10,
             "solidity": 0.2
            },
            "type": "scatter"
           }
          ],
          "scatter3d": [
           {
            "line": {
             "colorbar": {
              "outlinewidth": 0,
              "ticks": ""
             }
            },
            "marker": {
             "colorbar": {
              "outlinewidth": 0,
              "ticks": ""
             }
            },
            "type": "scatter3d"
           }
          ],
          "scattercarpet": [
           {
            "marker": {
             "colorbar": {
              "outlinewidth": 0,
              "ticks": ""
             }
            },
            "type": "scattercarpet"
           }
          ],
          "scattergeo": [
           {
            "marker": {
             "colorbar": {
              "outlinewidth": 0,
              "ticks": ""
             }
            },
            "type": "scattergeo"
           }
          ],
          "scattergl": [
           {
            "marker": {
             "colorbar": {
              "outlinewidth": 0,
              "ticks": ""
             }
            },
            "type": "scattergl"
           }
          ],
          "scattermapbox": [
           {
            "marker": {
             "colorbar": {
              "outlinewidth": 0,
              "ticks": ""
             }
            },
            "type": "scattermapbox"
           }
          ],
          "scatterpolar": [
           {
            "marker": {
             "colorbar": {
              "outlinewidth": 0,
              "ticks": ""
             }
            },
            "type": "scatterpolar"
           }
          ],
          "scatterpolargl": [
           {
            "marker": {
             "colorbar": {
              "outlinewidth": 0,
              "ticks": ""
             }
            },
            "type": "scatterpolargl"
           }
          ],
          "scatterternary": [
           {
            "marker": {
             "colorbar": {
              "outlinewidth": 0,
              "ticks": ""
             }
            },
            "type": "scatterternary"
           }
          ],
          "surface": [
           {
            "colorbar": {
             "outlinewidth": 0,
             "ticks": ""
            },
            "colorscale": [
             [
              0,
              "#0d0887"
             ],
             [
              0.1111111111111111,
              "#46039f"
             ],
             [
              0.2222222222222222,
              "#7201a8"
             ],
             [
              0.3333333333333333,
              "#9c179e"
             ],
             [
              0.4444444444444444,
              "#bd3786"
             ],
             [
              0.5555555555555556,
              "#d8576b"
             ],
             [
              0.6666666666666666,
              "#ed7953"
             ],
             [
              0.7777777777777778,
              "#fb9f3a"
             ],
             [
              0.8888888888888888,
              "#fdca26"
             ],
             [
              1,
              "#f0f921"
             ]
            ],
            "type": "surface"
           }
          ],
          "table": [
           {
            "cells": {
             "fill": {
              "color": "#EBF0F8"
             },
             "line": {
              "color": "white"
             }
            },
            "header": {
             "fill": {
              "color": "#C8D4E3"
             },
             "line": {
              "color": "white"
             }
            },
            "type": "table"
           }
          ]
         },
         "layout": {
          "annotationdefaults": {
           "arrowcolor": "#2a3f5f",
           "arrowhead": 0,
           "arrowwidth": 1
          },
          "autotypenumbers": "strict",
          "coloraxis": {
           "colorbar": {
            "outlinewidth": 0,
            "ticks": ""
           }
          },
          "colorscale": {
           "diverging": [
            [
             0,
             "#8e0152"
            ],
            [
             0.1,
             "#c51b7d"
            ],
            [
             0.2,
             "#de77ae"
            ],
            [
             0.3,
             "#f1b6da"
            ],
            [
             0.4,
             "#fde0ef"
            ],
            [
             0.5,
             "#f7f7f7"
            ],
            [
             0.6,
             "#e6f5d0"
            ],
            [
             0.7,
             "#b8e186"
            ],
            [
             0.8,
             "#7fbc41"
            ],
            [
             0.9,
             "#4d9221"
            ],
            [
             1,
             "#276419"
            ]
           ],
           "sequential": [
            [
             0,
             "#0d0887"
            ],
            [
             0.1111111111111111,
             "#46039f"
            ],
            [
             0.2222222222222222,
             "#7201a8"
            ],
            [
             0.3333333333333333,
             "#9c179e"
            ],
            [
             0.4444444444444444,
             "#bd3786"
            ],
            [
             0.5555555555555556,
             "#d8576b"
            ],
            [
             0.6666666666666666,
             "#ed7953"
            ],
            [
             0.7777777777777778,
             "#fb9f3a"
            ],
            [
             0.8888888888888888,
             "#fdca26"
            ],
            [
             1,
             "#f0f921"
            ]
           ],
           "sequentialminus": [
            [
             0,
             "#0d0887"
            ],
            [
             0.1111111111111111,
             "#46039f"
            ],
            [
             0.2222222222222222,
             "#7201a8"
            ],
            [
             0.3333333333333333,
             "#9c179e"
            ],
            [
             0.4444444444444444,
             "#bd3786"
            ],
            [
             0.5555555555555556,
             "#d8576b"
            ],
            [
             0.6666666666666666,
             "#ed7953"
            ],
            [
             0.7777777777777778,
             "#fb9f3a"
            ],
            [
             0.8888888888888888,
             "#fdca26"
            ],
            [
             1,
             "#f0f921"
            ]
           ]
          },
          "colorway": [
           "#636efa",
           "#EF553B",
           "#00cc96",
           "#ab63fa",
           "#FFA15A",
           "#19d3f3",
           "#FF6692",
           "#B6E880",
           "#FF97FF",
           "#FECB52"
          ],
          "font": {
           "color": "#2a3f5f"
          },
          "geo": {
           "bgcolor": "white",
           "lakecolor": "white",
           "landcolor": "#E5ECF6",
           "showlakes": true,
           "showland": true,
           "subunitcolor": "white"
          },
          "hoverlabel": {
           "align": "left"
          },
          "hovermode": "closest",
          "mapbox": {
           "style": "light"
          },
          "paper_bgcolor": "white",
          "plot_bgcolor": "#E5ECF6",
          "polar": {
           "angularaxis": {
            "gridcolor": "white",
            "linecolor": "white",
            "ticks": ""
           },
           "bgcolor": "#E5ECF6",
           "radialaxis": {
            "gridcolor": "white",
            "linecolor": "white",
            "ticks": ""
           }
          },
          "scene": {
           "xaxis": {
            "backgroundcolor": "#E5ECF6",
            "gridcolor": "white",
            "gridwidth": 2,
            "linecolor": "white",
            "showbackground": true,
            "ticks": "",
            "zerolinecolor": "white"
           },
           "yaxis": {
            "backgroundcolor": "#E5ECF6",
            "gridcolor": "white",
            "gridwidth": 2,
            "linecolor": "white",
            "showbackground": true,
            "ticks": "",
            "zerolinecolor": "white"
           },
           "zaxis": {
            "backgroundcolor": "#E5ECF6",
            "gridcolor": "white",
            "gridwidth": 2,
            "linecolor": "white",
            "showbackground": true,
            "ticks": "",
            "zerolinecolor": "white"
           }
          },
          "shapedefaults": {
           "line": {
            "color": "#2a3f5f"
           }
          },
          "ternary": {
           "aaxis": {
            "gridcolor": "white",
            "linecolor": "white",
            "ticks": ""
           },
           "baxis": {
            "gridcolor": "white",
            "linecolor": "white",
            "ticks": ""
           },
           "bgcolor": "#E5ECF6",
           "caxis": {
            "gridcolor": "white",
            "linecolor": "white",
            "ticks": ""
           }
          },
          "title": {
           "x": 0.05
          },
          "xaxis": {
           "automargin": true,
           "gridcolor": "white",
           "linecolor": "white",
           "ticks": "",
           "title": {
            "standoff": 15
           },
           "zerolinecolor": "white",
           "zerolinewidth": 2
          },
          "yaxis": {
           "automargin": true,
           "gridcolor": "white",
           "linecolor": "white",
           "ticks": "",
           "title": {
            "standoff": 15
           },
           "zerolinecolor": "white",
           "zerolinewidth": 2
          }
         }
        },
        "title": {
         "text": "Distribution of Missing Values Per Row"
        },
        "uniformtext": {
         "minsize": 8,
         "mode": "hide"
        },
        "xaxis": {
         "anchor": "y",
         "domain": [
          0,
          1
         ],
         "title": {
          "text": "Number of Missing Values"
         }
        },
        "yaxis": {
         "anchor": "x",
         "domain": [
          0,
          1
         ],
         "title": {
          "text": "Number of Rows"
         }
        }
       }
      }
     },
     "metadata": {},
     "output_type": "display_data"
    }
   ],
   "source": [
    "def analyze_and_plot_missing_values(dataframe):\n",
    "    \"\"\"\n",
    "    Analyzes and plots the missing values in the dataset.\n",
    "\n",
    "    Parameters:\n",
    "        dataframe (pd.DataFrame): The DataFrame containing the dataset.\n",
    "\n",
    "    Returns:\n",
    "        dict: A dictionary with:\n",
    "              - Total missing values per attribute\n",
    "              - Percentage of missing values per attribute\n",
    "              - Missing values per entry\n",
    "    \"\"\"\n",
    "    # Count missing values per attribute\n",
    "    missing_per_attribute = dataframe.isnull().sum()\n",
    "    percent_missing_per_attribute = (missing_per_attribute / len(dataframe)) * 100\n",
    "\n",
    "    # Combine counts and percentages into a DataFrame\n",
    "    attribute_analysis = (\n",
    "        pd.DataFrame(\n",
    "            {\n",
    "                \"Attribute\": dataframe.columns,\n",
    "                \"Missing_Count\": missing_per_attribute,\n",
    "                \"Percentage_Missing\": percent_missing_per_attribute,\n",
    "            }\n",
    "        )\n",
    "        .query(\"Missing_Count > 0\")\n",
    "        .sort_values(by=\"Percentage_Missing\", ascending=False)\n",
    "        .set_index(\"Attribute\")\n",
    "    )  # Sort in descending order\n",
    "\n",
    "    # Count missing values per entry (row)\n",
    "    missing_per_entry = dataframe.isnull().sum(axis=1)\n",
    "    # Distribution of rows by the number of missing values\n",
    "    row_missing_distribution = missing_per_entry.value_counts().reset_index()\n",
    "    row_missing_distribution.columns = [\"Missing_Count\", \"Row_Count\"]\n",
    "    row_missing_distribution = row_missing_distribution.sort_values(\n",
    "        by=\"Missing_Count\", ascending=True\n",
    "    ).set_index(\"Missing_Count\")\n",
    "\n",
    "    # Plot missing values per attribute\n",
    "    fig_attr = px.bar(\n",
    "        attribute_analysis.reset_index(),\n",
    "        x=\"Attribute\",\n",
    "        y=\"Percentage_Missing\",\n",
    "        text=\"Percentage_Missing\",\n",
    "        title=\"Missing Values Per Attribute (Sorted by Percentage)\",\n",
    "        labels={\n",
    "            \"Attribute\": \"Attribute\",\n",
    "            \"Percentage Missing\": \"Percentage Missing (%)\",\n",
    "        },\n",
    "    )\n",
    "    fig_attr.update_traces(texttemplate=\"%{text:.2f}%\", textposition=\"outside\")\n",
    "    fig_attr.update_layout(\n",
    "        xaxis=dict(title=\"Attributes\", tickangle=45),\n",
    "        yaxis=dict(title=\"Percentage Missing (%)\"),\n",
    "        uniformtext_minsize=8,\n",
    "        uniformtext_mode=\"hide\",\n",
    "        showlegend=False,\n",
    "    )\n",
    "    fig_attr.show()\n",
    "\n",
    "    # Plot distribution of missing values per row\n",
    "    fig_row = px.bar(\n",
    "        row_missing_distribution.reset_index(),\n",
    "        x=\"Missing_Count\",\n",
    "        y=\"Row_Count\",\n",
    "        text=\"Row_Count\",\n",
    "        title=\"Distribution of Missing Values Per Row\",\n",
    "        labels={\n",
    "            \"Missing_Count\": \"Number of Missing Values\",\n",
    "            \"Row_Count\": \"Number of Rows\",\n",
    "        },\n",
    "    )\n",
    "    fig_row.update_traces(texttemplate=\"%{text}\", textposition=\"outside\")\n",
    "    fig_row.update_layout(\n",
    "        xaxis=dict(title=\"Number of Missing Values\"),\n",
    "        yaxis=dict(title=\"Number of Rows\"),\n",
    "        uniformtext_minsize=8,\n",
    "        uniformtext_mode=\"hide\",\n",
    "        showlegend=False,\n",
    "    )\n",
    "    fig_row.show()\n",
    "\n",
    "    return attribute_analysis, row_missing_distribution\n",
    "\n",
    "\n",
    "# Example usage\n",
    "df_missing_attributes, df_row_missing_distribution = analyze_and_plot_missing_values(df)"
   ]
  },
  {
   "cell_type": "code",
   "execution_count": 12,
   "metadata": {},
   "outputs": [
    {
     "data": {
      "text/html": [
       "<div>\n",
       "<style scoped>\n",
       "    .dataframe tbody tr th:only-of-type {\n",
       "        vertical-align: middle;\n",
       "    }\n",
       "\n",
       "    .dataframe tbody tr th {\n",
       "        vertical-align: top;\n",
       "    }\n",
       "\n",
       "    .dataframe thead th {\n",
       "        text-align: right;\n",
       "    }\n",
       "</style>\n",
       "<table border=\"1\" class=\"dataframe\">\n",
       "  <thead>\n",
       "    <tr style=\"text-align: right;\">\n",
       "      <th></th>\n",
       "      <th>Missing_Count</th>\n",
       "      <th>Percentage_Missing</th>\n",
       "    </tr>\n",
       "    <tr>\n",
       "      <th>Attribute</th>\n",
       "      <th></th>\n",
       "      <th></th>\n",
       "    </tr>\n",
       "  </thead>\n",
       "  <tbody>\n",
       "    <tr>\n",
       "      <th>date_of_death</th>\n",
       "      <td>889168</td>\n",
       "      <td>99.968632</td>\n",
       "    </tr>\n",
       "    <tr>\n",
       "      <th>time_started_work</th>\n",
       "      <td>111891</td>\n",
       "      <td>12.579839</td>\n",
       "    </tr>\n",
       "    <tr>\n",
       "      <th>time_of_incident</th>\n",
       "      <td>110968</td>\n",
       "      <td>12.476067</td>\n",
       "    </tr>\n",
       "    <tr>\n",
       "      <th>ein</th>\n",
       "      <td>76525</td>\n",
       "      <td>8.603660</td>\n",
       "    </tr>\n",
       "    <tr>\n",
       "      <th>industry_description</th>\n",
       "      <td>59799</td>\n",
       "      <td>6.723166</td>\n",
       "    </tr>\n",
       "    <tr>\n",
       "      <th>company_name</th>\n",
       "      <td>49056</td>\n",
       "      <td>5.515337</td>\n",
       "    </tr>\n",
       "    <tr>\n",
       "      <th>job_description</th>\n",
       "      <td>3654</td>\n",
       "      <td>0.410817</td>\n",
       "    </tr>\n",
       "    <tr>\n",
       "      <th>time_unknown</th>\n",
       "      <td>2049</td>\n",
       "      <td>0.230368</td>\n",
       "    </tr>\n",
       "    <tr>\n",
       "      <th>establishment_type</th>\n",
       "      <td>1884</td>\n",
       "      <td>0.211817</td>\n",
       "    </tr>\n",
       "    <tr>\n",
       "      <th>naics_year</th>\n",
       "      <td>1273</td>\n",
       "      <td>0.143123</td>\n",
       "    </tr>\n",
       "    <tr>\n",
       "      <th>case_number</th>\n",
       "      <td>13</td>\n",
       "      <td>0.001462</td>\n",
       "    </tr>\n",
       "    <tr>\n",
       "      <th>street_address</th>\n",
       "      <td>1</td>\n",
       "      <td>0.000112</td>\n",
       "    </tr>\n",
       "  </tbody>\n",
       "</table>\n",
       "</div>"
      ],
      "text/plain": [
       "                      Missing_Count  Percentage_Missing\n",
       "Attribute                                              \n",
       "date_of_death                889168           99.968632\n",
       "time_started_work            111891           12.579839\n",
       "time_of_incident             110968           12.476067\n",
       "ein                           76525            8.603660\n",
       "industry_description          59799            6.723166\n",
       "company_name                  49056            5.515337\n",
       "job_description                3654            0.410817\n",
       "time_unknown                   2049            0.230368\n",
       "establishment_type             1884            0.211817\n",
       "naics_year                     1273            0.143123\n",
       "case_number                      13            0.001462\n",
       "street_address                    1            0.000112"
      ]
     },
     "execution_count": 12,
     "metadata": {},
     "output_type": "execute_result"
    }
   ],
   "source": [
    "df_missing_attributes"
   ]
  },
  {
   "cell_type": "code",
   "execution_count": 13,
   "metadata": {},
   "outputs": [
    {
     "data": {
      "text/html": [
       "<div>\n",
       "<style scoped>\n",
       "    .dataframe tbody tr th:only-of-type {\n",
       "        vertical-align: middle;\n",
       "    }\n",
       "\n",
       "    .dataframe tbody tr th {\n",
       "        vertical-align: top;\n",
       "    }\n",
       "\n",
       "    .dataframe thead th {\n",
       "        text-align: right;\n",
       "    }\n",
       "</style>\n",
       "<table border=\"1\" class=\"dataframe\">\n",
       "  <thead>\n",
       "    <tr style=\"text-align: right;\">\n",
       "      <th></th>\n",
       "      <th>Row_Count</th>\n",
       "    </tr>\n",
       "    <tr>\n",
       "      <th>Missing_Count</th>\n",
       "      <th></th>\n",
       "    </tr>\n",
       "  </thead>\n",
       "  <tbody>\n",
       "    <tr>\n",
       "      <th>1</th>\n",
       "      <td>603667</td>\n",
       "    </tr>\n",
       "    <tr>\n",
       "      <th>2</th>\n",
       "      <td>178776</td>\n",
       "    </tr>\n",
       "    <tr>\n",
       "      <th>3</th>\n",
       "      <td>85337</td>\n",
       "    </tr>\n",
       "    <tr>\n",
       "      <th>4</th>\n",
       "      <td>18306</td>\n",
       "    </tr>\n",
       "    <tr>\n",
       "      <th>5</th>\n",
       "      <td>3134</td>\n",
       "    </tr>\n",
       "    <tr>\n",
       "      <th>6</th>\n",
       "      <td>25</td>\n",
       "    </tr>\n",
       "    <tr>\n",
       "      <th>7</th>\n",
       "      <td>1</td>\n",
       "    </tr>\n",
       "  </tbody>\n",
       "</table>\n",
       "</div>"
      ],
      "text/plain": [
       "               Row_Count\n",
       "Missing_Count           \n",
       "1                 603667\n",
       "2                 178776\n",
       "3                  85337\n",
       "4                  18306\n",
       "5                   3134\n",
       "6                     25\n",
       "7                      1"
      ]
     },
     "execution_count": 13,
     "metadata": {},
     "output_type": "execute_result"
    }
   ],
   "source": [
    "df_row_missing_distribution.query(\"Missing_Count > 0\")"
   ]
  },
  {
   "cell_type": "markdown",
   "metadata": {},
   "source": [
    "##### Analysis\n",
    "1. **`date_of_death` (99.97% missing)**\n",
    "- **Impact**: This field is crucial for analyzing fatalities but is practically unusable due to the high missing percentage.\n",
    "- **Recommendation**: Use the `incident_outcome` field, which includes death as a category, to indirectly analyze fatality-related trends.\n",
    "\n",
    "2. **`time_started_work` (12.58% missing) and `time_of_incident` (12.48% missing)**\n",
    "- **Impact**: These fields are essential for analyzing temporal trends, such as incidents occurring shortly after starting work. Missing values reduce the reliability of time-dependent analyses.\n",
    "- **Recommendation**: Focus analyses on the available data or consider imputing missing values based on similar cases or statistical methods.\n",
    "\n",
    "3. **`ein` (8.60% missing)**\n",
    "- **Impact**: The EIN uniquely identifies establishments and is vital for merging datasets or conducting establishment-specific studies. Missing values hinder these analyses.\n",
    "- **Recommendation**: Use `establishment_ID` as an alternative identifier if it is complete.\n",
    "\n",
    "4. **`industry_description` (6.72% missing)**\n",
    "- **Impact**: Industry classification is critical for sector-specific risk analysis. Missing values hinder comparisons of workplace safety across industries.\n",
    "- **Recommendation**: Use `naics_code` for industry-level analysis or group missing values into an \"Unknown\" category.\n",
    "\n",
    "5. **`job_description` (0.41% missing)**\n",
    "- **Impact**: This field is important for analyzing risks associated with specific job roles. Missing data limits occupation-specific insights.\n",
    "- **Recommendation**: Exclude rows with missing `job_description` from job-specific analyses or impute values based on similar cases.\n"
   ]
  },
  {
   "cell_type": "markdown",
   "metadata": {},
   "source": [
    "## Exercise 2 – Goal - Data (Domain specific)\n"
   ]
  },
  {
   "cell_type": "markdown",
   "metadata": {},
   "source": [
    "#### General Overall Goal\n",
    "The primary goal of the visualization tool is to **enable workplace safety analysts, policymakers, and industry leaders** to:\n",
    "1. Identify trends in workplace injuries and illnesses across industries, establishments, and job roles.\n",
    "2. Explore the temporal, geographic, and sector-specific distribution of incidents to identify patterns and potential risk factors.\n",
    "3. Facilitate decision-making by highlighting areas that require safety interventions, such as industries with high incident rates or recurring issues in specific job roles.\n",
    "\n",
    "#### Target Users\n",
    "The visualization tool is designed for:\n",
    "- **Workplace Safety Analysts**: To understand patterns in workplace incidents and investigate contributing factors.\n",
    "- **Policymakers**: To design and evaluate regulations that mitigate risks in high-hazard industries.\n",
    "- **Industry Leaders/Managers**: To assess their establishments’ performance compared to industry benchmarks and implement targeted safety measures.\n",
    "\n",
    "#### Overall Goal and High-Level Actions\n",
    "The primary goal is **\"Exploratory Analysis\"**, focusing on:\n",
    "1. **Comparative Analysis**: Compare incidents across industries, job roles, and geographic regions to identify high-risk categories.\n",
    "2. **Trend Identification**: Examine temporal trends in incident occurrences and severity (e.g., time of day, seasonality).\n",
    "3. **Insight Generation**: Drill down into specific establishments or job types to identify recurring patterns or anomalies.\n",
    "4. **Communication and Awareness**: Present findings in an intuitive, interactive format to raise awareness and drive action.\n",
    "\n",
    "#### Why This Goal is Suitable for the Available Data\n",
    "- The dataset contains a wealth of detailed information about workplace incidents, including establishment-level, incident-level, and job-level attributes. These can be visualized to uncover patterns and correlations that would be hard to identify otherwise.\n",
    "- While some attributes have missing values (e.g., `date_of_death`, `time_started_work`), the remaining data is sufficient to provide meaningful insights at industry, establishment, and incident levels.\n",
    "\n",
    "#### Why Visualization is the Right Means\n",
    "1. **Pattern Recognition**: Visualization allows users to recognize patterns and outliers, such as industries with unusually high incident rates.\n",
    "2. **Exploration and Interaction**: An interactive tool enables users to explore the dataset from various perspectives (e.g., filtering by industry, geographic location, or incident severity).\n",
    "3. **Decision Support**: Visualizing data enables managers and policymakers to make informed decisions quickly by presenting complex data in an understandable format.\n",
    "4. **Communication**: Visualizations can convey insights effectively to diverse stakeholders, including non-technical audiences.\n",
    "\n",
    "This tool is ideal for leveraging the available data to inform workplace safety improvements, reduce incident rates, and ensure compliance with regulations.\n"
   ]
  },
  {
   "cell_type": "markdown",
   "metadata": {},
   "source": [
    "## Exercise 3 – Data (What) Domain specific\n"
   ]
  },
  {
   "cell_type": "markdown",
   "metadata": {},
   "source": [
    "### (a) Write in section What (Data) the description of the data. You can base it on the analysis you have done in exercise 1. What are the general properties of the data you want to use? "
   ]
  },
  {
   "cell_type": "markdown",
   "metadata": {},
   "source": [
    "\n",
    "#### Attributes Needed for the Analysis and Their Relevance\n",
    "\n",
    "1. **Establishment-Level Attributes**:\n",
    "   - **`naics_code` and `industry_description`**: Essential for identifying high-risk industries and understanding sector-specific trends.\n",
    "   - **`state`, `city`, `zip_code`**: Crucial for geographic analysis to detect regional patterns or disparities in workplace safety.\n",
    "   - **`size`, `annual_average_employees`, and `total_hours_worked`**: Provide context for scaling incident data (e.g., incidents per employee or hours worked) to make comparisons meaningful across establishments of different sizes.\n",
    "\n",
    "2. **Incident-Level Attributes**:\n",
    "   - **`date_of_incident`**: Key for temporal analysis, such as identifying trends over time or seasonal variations.\n",
    "   - **`type_of_incident`**: Important for categorizing and understanding the nature of incidents (e.g., injuries vs. illnesses).\n",
    "   - **`incident_outcome`**: Crucial for evaluating the severity of incidents and prioritizing interventions.\n",
    "   - **`dawf_num_away` and `djtr_num_tr`**: Provide metrics to assess the impact of incidents on productivity and employee health.\n",
    "\n",
    "3. **Narrative and Job-Level Attributes**:\n",
    "   - **`job_description`**: Helps identify which roles are most vulnerable to workplace incidents, enabling targeted interventions.\n",
    "   - **`SOC_code` and `SOC_description`**: Provide standard classifications for jobs, supporting cross-industry comparisons.\n",
    "   - **`incident_description` and `nar_what_happened`**: Offer qualitative insights into incident causes and circumstances, which are valuable for designing preventative measures.\n",
    "\n",
    "4. **System Metadata**:\n",
    "   - **`year_of_filing`**: Allows analysis of data trends across multiple reporting years.\n",
    "   - **`created_timestamp`**: Ensures timeliness and relevance of the data used for analysis.\n",
    "\n",
    "#### Why These Attributes Are Relevant\n",
    "These attributes enable comprehensive analyses aligned with the goals of the visualization tool:\n",
    "- **Comparative Analysis**: Attributes like `naics_code`, `state`, and `incident_outcome` allow comparisons across industries, regions, and severity levels.\n",
    "- **Trend Identification**: Temporal attributes such as `date_of_incident` and `year_of_filing` help identify trends in workplace safety over time.\n",
    "- **Actionable Insights**: Narrative and job-level attributes (`job_description`, `SOC_code`, and `incident_description`) provide detailed insights into specific incident causes, enabling targeted interventions.\n",
    "- **Scalability**: Workforce metrics (`size`, `annual_average_employees`, `total_hours_worked`) ensure that analyses are normalized, allowing for meaningful comparisons across establishments of varying sizes.\n",
    "\n",
    "By focusing on these attributes, the visualization tool can deliver actionable insights to workplace safety analysts, policymakers, and industry leaders.\n"
   ]
  },
  {
   "cell_type": "markdown",
   "metadata": {},
   "source": [
    "### (b) Most of the data sets contain noise, missing data values, and relations, or measurement errors. The data of this course is no exception. In exercise 1, you already looked at the missing values. How will you handle missing data values or measurement errors? Think of multiple ways and their pros and cons."
   ]
  },
  {
   "cell_type": "code",
   "execution_count": 14,
   "metadata": {},
   "outputs": [],
   "source": [
    "def preprocess_dataframe(df: pd.DataFrame) -> pd.DataFrame:\n",
    "    \"\"\"\n",
    "    Preprocesses the given DataFrame by performing data cleaning, type conversions,\n",
    "    and mapping of categorical variables for better interpretability and analysis.\n",
    "\n",
    "    Parameters:\n",
    "        df (pd.DataFrame): The input DataFrame containing raw data.\n",
    "\n",
    "    Returns:\n",
    "        pd.DataFrame: A cleaned and preprocessed DataFrame with the following transformations:\n",
    "            - String columns are stripped of whitespace, tabs, and excess spaces.\n",
    "            - Numeric columns are converted to appropriate numeric types with downcasting.\n",
    "            - Categorical columns are mapped to meaningful labels and converted to 'category' type.\n",
    "            - Date and time columns are converted to datetime or time objects as needed.\n",
    "            - Missing values are imputed based on column-specific logic or filled with default placeholders.\n",
    "            - Invalid or placeholder values in specific columns (e.g., EIN, soc_code) are replaced with standardized values.\n",
    "            - Columns with redundant or irrelevant information (e.g., 'year_filing_for') are dropped.\n",
    "\n",
    "    Key Transformations:\n",
    "        - String Cleaning: Strips leading/trailing whitespace, removes tabs, and normalizes spacing.\n",
    "        - Numeric Conversion: Downcasts numeric columns to optimize memory usage.\n",
    "        - Categorical Mapping: Maps numeric or placeholder codes to meaningful labels.\n",
    "        - Date/Time Conversion: Parses date and time strings into appropriate formats.\n",
    "        - Missing Value Imputation:\n",
    "            - 'case_number', 'company_name', 'street_address', 'job_description': Filled with \"Not provided\".\n",
    "            - 'industry_description': Filled with \"No description given\".\n",
    "            - 'ein': \"Enter EIN\" replaced with \"No EIN Given\".\n",
    "            - 'time_unknown': Mapped to \"No\" by default if missing.\n",
    "            - Others: Column-specific imputation logic applied.\n",
    "        - Dropped Columns: 'year_filing_for'.\n",
    "\n",
    "    Notes:\n",
    "        - Assumes specific formats for date and time columns.\n",
    "        - Handles invalid or missing data gracefully using pandas' built-in capabilities (e.g., `errors='coerce'`).\n",
    "    \"\"\"\n",
    "    df_copy = df.query(\"annual_average_employees != 0 & total_hours_worked != 0 & company_name != 'Santa Maria Healthcare, Inc.'\").copy()\n",
    "    df_copy[\"hours_employee_ratio\"] = (\n",
    "    df_copy[\"total_hours_worked\"] / df_copy[\"annual_average_employees\"]\n",
    "    )\n",
    "    df_copy = df_copy.query(\"hours_employee_ratio > 20 & hours_employee_ratio < 5000\").drop(columns=\"hours_employee_ratio\")\n",
    "    codes_to_drop = [\"36-83962\", \"74-187392\"]\n",
    "    df_copy = df_copy[~df_copy[\"ein\"].isin(codes_to_drop)].drop_duplicates().copy()\n",
    "    df_copy[\"ein\"] = df_copy[\"ein\"].str.replace(\"Enter EIN\", \"-1\").fillna(\"-1\")\n",
    "    # Define mappings and preprocessing rules\n",
    "    to_string = [\n",
    "        \"establishment_id\",\n",
    "        \"company_name\",\n",
    "        \"street_address\",\n",
    "        \"city\",\n",
    "        \"zip_code\",\n",
    "        \"industry_description\",\n",
    "        \"case_number\",\n",
    "        \"job_description\",\n",
    "        \"soc_code\",\n",
    "        \"establishment_name\",\n",
    "        \"naics_code\",\n",
    "    ]\n",
    "    to_numeric = [\n",
    "        \"annual_average_employees\",\n",
    "        \"total_hours_worked\",\n",
    "        \"dafw_num_away\",\n",
    "        \"djtr_num_tr\",\n",
    "        \"ein\",\n",
    "    ]\n",
    "    categorical_mappings = {\n",
    "        \"establishment_type\": {\n",
    "            0.0: \"Invalid entry\",\n",
    "            1.0: \"Private industry\",\n",
    "            2.0: \"State government entity\",\n",
    "            3.0: \"Local government entity\",\n",
    "        },\n",
    "        \"size\": {1: \"<20\", 2: \"20-249\", 21: \"20-99\", 22: \"100-249\", 3: \"250+\"},\n",
    "        \"incident_outcome\": {\n",
    "            1: \"Death\",\n",
    "            2: \"Days away from work (DAFW)\",\n",
    "            3: \"Job transfer or restriction\",\n",
    "            4: \"Other recordable case\",\n",
    "        },\n",
    "        \"type_of_incident\": {\n",
    "            1: \"Injury\",\n",
    "            2: \"Skin disorder\",\n",
    "            3: \"Respiratory condition\",\n",
    "            4: \"Poisoning\",\n",
    "            5: \"Hearing Loss\",\n",
    "            6: \"All other illness\",\n",
    "        },\n",
    "        \"time_unknown\": {0: \"No\", 1: \"Yes\"},\n",
    "        \"soc_reviewed\": {0: \"Not reviewed\", 1: \"Reviewed\", 2: \"Not SOC coded\"},\n",
    "        \"state\": {\n",
    "            \"PA\": \"Pennsylvania\",\n",
    "            \"GA\": \"Georgia\",\n",
    "            \"VA\": \"Virginia\",\n",
    "            \"TX\": \"Texas\",\n",
    "            \"UT\": \"Utah\",\n",
    "            \"AZ\": \"Arizona\",\n",
    "            \"IN\": \"Indiana\",\n",
    "            \"TN\": \"Tennessee\",\n",
    "            \"WI\": \"Wisconsin\",\n",
    "            \"NC\": \"North Carolina\",\n",
    "            \"NY\": \"New York\",\n",
    "            \"OH\": \"Ohio\",\n",
    "            \"IA\": \"Iowa\",\n",
    "            \"AK\": \"Alaska\",\n",
    "            \"OK\": \"Oklahoma\",\n",
    "            \"MN\": \"Minnesota\",\n",
    "            \"MO\": \"Missouri\",\n",
    "            \"IL\": \"Illinois\",\n",
    "            \"CT\": \"Connecticut\",\n",
    "            \"NE\": \"Nebraska\",\n",
    "            \"LA\": \"Louisiana\",\n",
    "            \"WV\": \"West Virginia\",\n",
    "            \"NM\": \"New Mexico\",\n",
    "            \"CO\": \"Colorado\",\n",
    "            \"FL\": \"Florida\",\n",
    "            \"CA\": \"California\",\n",
    "            \"MD\": \"Maryland\",\n",
    "            \"AL\": \"Alabama\",\n",
    "            \"KY\": \"Kentucky\",\n",
    "            \"MI\": \"Michigan\",\n",
    "            \"SC\": \"South Carolina\",\n",
    "            \"ID\": \"Idaho\",\n",
    "            \"KS\": \"Kansas\",\n",
    "            \"MS\": \"Mississippi\",\n",
    "            \"AR\": \"Arkansas\",\n",
    "            \"NV\": \"Nevada\",\n",
    "            \"NH\": \"New Hampshire\",\n",
    "            \"VT\": \"Vermont\",\n",
    "            \"NJ\": \"New Jersey\",\n",
    "            \"DE\": \"Delaware\",\n",
    "            \"MA\": \"Massachusetts\",\n",
    "            \"ND\": \"North Dakota\",\n",
    "            \"WA\": \"Washington\",\n",
    "            \"OR\": \"Oregon\",\n",
    "            \"ME\": \"Maine\",\n",
    "            \"SD\": \"South Dakota\",\n",
    "            \"MT\": \"Montana\",\n",
    "            \"PR\": \"Puerto Rico\",\n",
    "            \"RI\": \"Rhode Island\",\n",
    "            \"WY\": \"Wyoming\",\n",
    "            \"HI\": \"Hawaii\",\n",
    "            \"DC\": \"District of Columbia\",\n",
    "            \"VI\": \"U.S. Virgin Islands\",\n",
    "            \"GU\": \"Guam\",\n",
    "            \"MP\": \"Northern Mariana Islands\",\n",
    "            \"AS\": \"American Samoa\",\n",
    "        },\n",
    "    }\n",
    "\n",
    "    # Convert to string and clean text\n",
    "    df_copy[to_string] = (\n",
    "        df_copy[to_string]\n",
    "        .astype(\"string\")\n",
    "        .apply(\n",
    "            lambda col: col.str.strip()\n",
    "            .str.replace(r\"\\t\", \"\", regex=True)\n",
    "            .str.replace(r\"\\s+\", \" \", regex=True)\n",
    "        )\n",
    "    )\n",
    "\n",
    "    # Convert to numeric with downcasting\n",
    "    df_copy[to_numeric] = df_copy[to_numeric].apply(\n",
    "        pd.to_numeric, errors=\"coerce\", downcast=\"integer\"\n",
    "    )\n",
    "    df_copy[\"soc_probability\"] = df_copy[\"soc_probability\"].apply(\n",
    "        pd.to_numeric, errors=\"coerce\", downcast=\"float\"\n",
    "    )\n",
    "\n",
    "    # Map categorical columns\n",
    "    for col, mapping in categorical_mappings.items():\n",
    "        if col in df_copy:\n",
    "            df_copy[col] = (\n",
    "                df_copy[col].map(mapping).fillna(\"Not stated\").astype(\"category\")\n",
    "            )\n",
    "\n",
    "    # Handle specific columns\n",
    "    df_copy[\"case_number\"] = df_copy[\"case_number\"].fillna(\"Not provided\")\n",
    "    df_copy[\"company_name\"] = df_copy[\"company_name\"].fillna(\"Not provided\")\n",
    "    df_copy[\"street_address\"] = df_copy[\"street_address\"].fillna(\"\")\n",
    "    df_copy[\"naics_year\"] = (\n",
    "        df_copy[\"naics_year\"].fillna(\"Invalid NAICS codes\").astype(\"category\")\n",
    "    )\n",
    "    df_copy[\"industry_description\"] = df_copy[\"industry_description\"].fillna(\n",
    "        \"No description given\"\n",
    "    )\n",
    "    df_copy[\"job_description\"] = df_copy[\"job_description\"].fillna(\"No job description\")\n",
    "\n",
    "    df_copy[\"soc_code\"] = (\n",
    "        df_copy[\"soc_code\"].replace(\"0000\", \"00-0000\").replace(\"9999\", \"99-9999\")\n",
    "    )\n",
    "    with open(os.path.join(\"datasets\", \"code_to_description.pkl\"), \"rb\") as file:\n",
    "        category_dict = pickle.load(file)\n",
    "\n",
    "    df_copy = df_copy.rename(columns={\"soc_description\": \"soc_description_4\"})\n",
    "\n",
    "    df_copy[[\"soc_description_1\", \"soc_description_2\", \"soc_description_3\"]] = (\n",
    "        df_copy[\"soc_code\"]\n",
    "        .apply(lambda x: category_dict.get(x, [\"Not assigned\"] * 3))\n",
    "        .apply(pd.Series)\n",
    "    )\n",
    "    df_copy[\"soc_description_1\"] = df_copy[\"soc_description_1\"].astype(\"category\")\n",
    "    df_copy[\"soc_description_2\"] = df_copy[\"soc_description_2\"].astype(\"category\")\n",
    "    df_copy[\"soc_description_3\"] = df_copy[\"soc_description_3\"].astype(\"category\")\n",
    "    df_copy[\"soc_description_4\"] = df_copy[\"soc_description_4\"].astype(\"category\")\n",
    "\n",
    "    # Date and time conversions\n",
    "    date_columns = {\n",
    "        \"date_of_incident\": \"%m/%d/%Y\",\n",
    "        \"date_of_death\": \"%m/%d/%Y\",\n",
    "        \"created_timestamp\": \"%d%b%y:%H:%M:%S\",\n",
    "    }\n",
    "    for col, fmt in date_columns.items():\n",
    "        df_copy[col] = pd.to_datetime(df_copy[col], format=fmt, errors=\"coerce\")\n",
    "\n",
    "    time_columns = [\"time_started_work\", \"time_of_incident\"]\n",
    "\n",
    "    for col in time_columns:\n",
    "        # Convert to datetime\n",
    "        df_copy[col] = pd.to_datetime(\n",
    "            df_copy[col], format=\"%H:%M:%S.%f\", errors=\"coerce\"\n",
    "        )\n",
    "        # TODO: potentially duplicated data, but decided to leave both\n",
    "        # Add hours and minutes columns\n",
    "        df_copy[f\"{col}_hours\"] = df_copy[col].dt.hour\n",
    "        df_copy[f\"{col}_minutes\"] = df_copy[col].dt.minute\n",
    "\n",
    "    # Since it's just 2023, and it does not provide any info\n",
    "    df_copy = df_copy.drop(columns=\"year_filing_for\")\n",
    "    # Outlier values are contained by default [172307584.0, 126.0]\n",
    "    # and [307584.0, 273751.0]. The number of employees is taken from\n",
    "    # https://www.zippia.com/golden-state-foods-careers-24869/demographics/\n",
    "    # and then hours are imputed for roughly same scale companies\n",
    "    # df_copy.loc[\n",
    "    #     df[\"company_name\"] == \"Golden State Foods\",\n",
    "    #     [\"annual_average_employees\", \"total_hours_worked\"],\n",
    "    # ] = [\n",
    "    #     4000,\n",
    "    #     df_copy.query(\"3000 < annual_average_employees < 5000\")[\n",
    "    #         \"total_hours_worked\"\n",
    "    #     ].median(),\n",
    "    # ]\n",
    "    return df_copy\n",
    "\n",
    "\n",
    "df_preproc = preprocess_dataframe(df)"
   ]
  },
  {
   "cell_type": "code",
   "execution_count": 15,
   "metadata": {},
   "outputs": [
    {
     "data": {
      "text/html": [
       "<div>\n",
       "<style scoped>\n",
       "    .dataframe tbody tr th:only-of-type {\n",
       "        vertical-align: middle;\n",
       "    }\n",
       "\n",
       "    .dataframe tbody tr th {\n",
       "        vertical-align: top;\n",
       "    }\n",
       "\n",
       "    .dataframe thead th {\n",
       "        text-align: right;\n",
       "    }\n",
       "</style>\n",
       "<table border=\"1\" class=\"dataframe\">\n",
       "  <thead>\n",
       "    <tr style=\"text-align: right;\">\n",
       "      <th></th>\n",
       "      <th>establishment_id</th>\n",
       "      <th>establishment_name</th>\n",
       "      <th>ein</th>\n",
       "      <th>company_name</th>\n",
       "      <th>street_address</th>\n",
       "      <th>city</th>\n",
       "      <th>state</th>\n",
       "      <th>zip_code</th>\n",
       "      <th>naics_code</th>\n",
       "      <th>naics_year</th>\n",
       "      <th>industry_description</th>\n",
       "      <th>establishment_type</th>\n",
       "      <th>size</th>\n",
       "      <th>annual_average_employees</th>\n",
       "      <th>total_hours_worked</th>\n",
       "      <th>case_number</th>\n",
       "      <th>job_description</th>\n",
       "      <th>soc_code</th>\n",
       "      <th>soc_description_4</th>\n",
       "      <th>soc_reviewed</th>\n",
       "      <th>soc_probability</th>\n",
       "      <th>date_of_incident</th>\n",
       "      <th>incident_outcome</th>\n",
       "      <th>dafw_num_away</th>\n",
       "      <th>djtr_num_tr</th>\n",
       "      <th>type_of_incident</th>\n",
       "      <th>time_started_work</th>\n",
       "      <th>time_of_incident</th>\n",
       "      <th>time_unknown</th>\n",
       "      <th>date_of_death</th>\n",
       "      <th>created_timestamp</th>\n",
       "      <th>soc_description_1</th>\n",
       "      <th>soc_description_2</th>\n",
       "      <th>soc_description_3</th>\n",
       "      <th>time_started_work_hours</th>\n",
       "      <th>time_started_work_minutes</th>\n",
       "      <th>time_of_incident_hours</th>\n",
       "      <th>time_of_incident_minutes</th>\n",
       "    </tr>\n",
       "    <tr>\n",
       "      <th>id</th>\n",
       "      <th></th>\n",
       "      <th></th>\n",
       "      <th></th>\n",
       "      <th></th>\n",
       "      <th></th>\n",
       "      <th></th>\n",
       "      <th></th>\n",
       "      <th></th>\n",
       "      <th></th>\n",
       "      <th></th>\n",
       "      <th></th>\n",
       "      <th></th>\n",
       "      <th></th>\n",
       "      <th></th>\n",
       "      <th></th>\n",
       "      <th></th>\n",
       "      <th></th>\n",
       "      <th></th>\n",
       "      <th></th>\n",
       "      <th></th>\n",
       "      <th></th>\n",
       "      <th></th>\n",
       "      <th></th>\n",
       "      <th></th>\n",
       "      <th></th>\n",
       "      <th></th>\n",
       "      <th></th>\n",
       "      <th></th>\n",
       "      <th></th>\n",
       "      <th></th>\n",
       "      <th></th>\n",
       "      <th></th>\n",
       "      <th></th>\n",
       "      <th></th>\n",
       "      <th></th>\n",
       "      <th></th>\n",
       "      <th></th>\n",
       "      <th></th>\n",
       "    </tr>\n",
       "  </thead>\n",
       "  <tbody>\n",
       "    <tr>\n",
       "      <th>163109</th>\n",
       "      <td>1105264</td>\n",
       "      <td>TNOAK - OAKHAVEN PACKAGE DISTRIBUTION CENTER</td>\n",
       "      <td>582480149.0</td>\n",
       "      <td>United Parcel Service Inc.</td>\n",
       "      <td>3675 SWINNEA ROAD</td>\n",
       "      <td>MEMPHIS</td>\n",
       "      <td>Tennessee</td>\n",
       "      <td>38118</td>\n",
       "      <td>492110</td>\n",
       "      <td>2022</td>\n",
       "      <td>Couriers and Express Delivery Services</td>\n",
       "      <td>Private industry</td>\n",
       "      <td>250+</td>\n",
       "      <td>2140</td>\n",
       "      <td>3033952</td>\n",
       "      <td>2803144741</td>\n",
       "      <td>LoaderUnloader Hub</td>\n",
       "      <td>53-7062</td>\n",
       "      <td>Laborers and Freight, Stock, and Material Move...</td>\n",
       "      <td>Reviewed</td>\n",
       "      <td>5.000000</td>\n",
       "      <td>2023-02-07</td>\n",
       "      <td>Job transfer or restriction</td>\n",
       "      <td>0</td>\n",
       "      <td>15</td>\n",
       "      <td>Injury</td>\n",
       "      <td>1900-01-01 16:15:00</td>\n",
       "      <td>1900-01-01 19:00:00</td>\n",
       "      <td>No</td>\n",
       "      <td>NaT</td>\n",
       "      <td>2024-02-05 19:10:00</td>\n",
       "      <td>Transportation and Material Moving Occupations</td>\n",
       "      <td>Material Moving Workers</td>\n",
       "      <td>Laborers and Material Movers</td>\n",
       "      <td>16.0</td>\n",
       "      <td>15.0</td>\n",
       "      <td>19.0</td>\n",
       "      <td>0.0</td>\n",
       "    </tr>\n",
       "    <tr>\n",
       "      <th>95131</th>\n",
       "      <td>271678</td>\n",
       "      <td>Mount Sinai Hospital</td>\n",
       "      <td>361509000.0</td>\n",
       "      <td>Sinai Health System</td>\n",
       "      <td>1500 S. Fairfield</td>\n",
       "      <td>Chicago</td>\n",
       "      <td>Illinois</td>\n",
       "      <td>60608</td>\n",
       "      <td>622110</td>\n",
       "      <td>2022</td>\n",
       "      <td>General medical and surgical hospitals</td>\n",
       "      <td>Private industry</td>\n",
       "      <td>250+</td>\n",
       "      <td>2010</td>\n",
       "      <td>3251661</td>\n",
       "      <td>194521</td>\n",
       "      <td>RADIATION THERAPIST</td>\n",
       "      <td>29-1124</td>\n",
       "      <td>Radiation Therapists</td>\n",
       "      <td>Not reviewed</td>\n",
       "      <td>0.998791</td>\n",
       "      <td>2023-02-11</td>\n",
       "      <td>Days away from work (DAFW)</td>\n",
       "      <td>11</td>\n",
       "      <td>0</td>\n",
       "      <td>Respiratory condition</td>\n",
       "      <td>NaT</td>\n",
       "      <td>NaT</td>\n",
       "      <td>Yes</td>\n",
       "      <td>NaT</td>\n",
       "      <td>2024-01-30 15:28:00</td>\n",
       "      <td>Healthcare Practitioners and Technical Occupat...</td>\n",
       "      <td>Healthcare Diagnosing or Treating Practitioners</td>\n",
       "      <td>Therapists</td>\n",
       "      <td>NaN</td>\n",
       "      <td>NaN</td>\n",
       "      <td>NaN</td>\n",
       "      <td>NaN</td>\n",
       "    </tr>\n",
       "    <tr>\n",
       "      <th>658394</th>\n",
       "      <td>1205207</td>\n",
       "      <td>585 PARK CITY - MOUNTAIN</td>\n",
       "      <td>841466271.0</td>\n",
       "      <td>Vail Resorts, Inc.</td>\n",
       "      <td>1345 LOWELL AVE</td>\n",
       "      <td>PARK CITY</td>\n",
       "      <td>Utah</td>\n",
       "      <td>84060</td>\n",
       "      <td>721110</td>\n",
       "      <td>2022</td>\n",
       "      <td>Alpine skiing facilities with accommodations (...</td>\n",
       "      <td>Private industry</td>\n",
       "      <td>250+</td>\n",
       "      <td>1279</td>\n",
       "      <td>1471720</td>\n",
       "      <td>4193</td>\n",
       "      <td>V</td>\n",
       "      <td>99-9999</td>\n",
       "      <td>Uncoded</td>\n",
       "      <td>Not SOC coded</td>\n",
       "      <td>0.000000</td>\n",
       "      <td>2023-12-21</td>\n",
       "      <td>Job transfer or restriction</td>\n",
       "      <td>0</td>\n",
       "      <td>5</td>\n",
       "      <td>Injury</td>\n",
       "      <td>1900-01-01 08:00:00</td>\n",
       "      <td>1900-01-01 14:00:00</td>\n",
       "      <td>No</td>\n",
       "      <td>NaT</td>\n",
       "      <td>2024-03-01 16:30:00</td>\n",
       "      <td>Insufficient info</td>\n",
       "      <td>Insufficient info</td>\n",
       "      <td>Insufficient info</td>\n",
       "      <td>8.0</td>\n",
       "      <td>0.0</td>\n",
       "      <td>14.0</td>\n",
       "      <td>0.0</td>\n",
       "    </tr>\n",
       "    <tr>\n",
       "      <th>140455</th>\n",
       "      <td>1103748</td>\n",
       "      <td>Memorial Hospital South Bend</td>\n",
       "      <td>350868132.0</td>\n",
       "      <td>Beacon Health System</td>\n",
       "      <td>615 n michigan st</td>\n",
       "      <td>south bend</td>\n",
       "      <td>Indiana</td>\n",
       "      <td>46601</td>\n",
       "      <td>622110</td>\n",
       "      <td>2022</td>\n",
       "      <td>Hospitals, general medical and surgical</td>\n",
       "      <td>Private industry</td>\n",
       "      <td>250+</td>\n",
       "      <td>2875</td>\n",
       "      <td>4244429</td>\n",
       "      <td>221880</td>\n",
       "      <td>RN</td>\n",
       "      <td>29-1141</td>\n",
       "      <td>Registered Nurses</td>\n",
       "      <td>Reviewed</td>\n",
       "      <td>0.999885</td>\n",
       "      <td>2023-04-13</td>\n",
       "      <td>Other recordable case</td>\n",
       "      <td>0</td>\n",
       "      <td>0</td>\n",
       "      <td>All other illness</td>\n",
       "      <td>1900-01-01 07:00:00</td>\n",
       "      <td>1900-01-01 01:41:00</td>\n",
       "      <td>No</td>\n",
       "      <td>NaT</td>\n",
       "      <td>2024-02-05 17:18:00</td>\n",
       "      <td>Healthcare Practitioners and Technical Occupat...</td>\n",
       "      <td>Healthcare Diagnosing or Treating Practitioners</td>\n",
       "      <td>Registered Nurses</td>\n",
       "      <td>7.0</td>\n",
       "      <td>0.0</td>\n",
       "      <td>1.0</td>\n",
       "      <td>41.0</td>\n",
       "    </tr>\n",
       "    <tr>\n",
       "      <th>39648</th>\n",
       "      <td>819169</td>\n",
       "      <td>ABS Global - Leeds</td>\n",
       "      <td>510393574.0</td>\n",
       "      <td>ABS Global</td>\n",
       "      <td>W5126 State HWY 60</td>\n",
       "      <td>Rio</td>\n",
       "      <td>Wisconsin</td>\n",
       "      <td>53960</td>\n",
       "      <td>115210</td>\n",
       "      <td>2022</td>\n",
       "      <td>Animal semen banks</td>\n",
       "      <td>Private industry</td>\n",
       "      <td>20-99</td>\n",
       "      <td>70</td>\n",
       "      <td>145600</td>\n",
       "      <td>3</td>\n",
       "      <td>Livestock Handler</td>\n",
       "      <td>45-2093</td>\n",
       "      <td>Farmworkers, Farm, Ranch, and Aquacultural Ani...</td>\n",
       "      <td>Not reviewed</td>\n",
       "      <td>0.966398</td>\n",
       "      <td>2023-09-19</td>\n",
       "      <td>Days away from work (DAFW)</td>\n",
       "      <td>7</td>\n",
       "      <td>0</td>\n",
       "      <td>Injury</td>\n",
       "      <td>1900-01-01 06:00:00</td>\n",
       "      <td>NaT</td>\n",
       "      <td>Yes</td>\n",
       "      <td>NaT</td>\n",
       "      <td>2024-01-18 18:58:00</td>\n",
       "      <td>Farming, Fishing, and Forestry Occupations</td>\n",
       "      <td>Agricultural Workers</td>\n",
       "      <td>Miscellaneous Agricultural Workers</td>\n",
       "      <td>6.0</td>\n",
       "      <td>0.0</td>\n",
       "      <td>NaN</td>\n",
       "      <td>NaN</td>\n",
       "    </tr>\n",
       "  </tbody>\n",
       "</table>\n",
       "</div>"
      ],
      "text/plain": [
       "       establishment_id                            establishment_name  \\\n",
       "id                                                                      \n",
       "163109          1105264  TNOAK - OAKHAVEN PACKAGE DISTRIBUTION CENTER   \n",
       "95131            271678                          Mount Sinai Hospital   \n",
       "658394          1205207                      585 PARK CITY - MOUNTAIN   \n",
       "140455          1103748                  Memorial Hospital South Bend   \n",
       "39648            819169                            ABS Global - Leeds   \n",
       "\n",
       "                ein                company_name      street_address  \\\n",
       "id                                                                    \n",
       "163109  582480149.0  United Parcel Service Inc.   3675 SWINNEA ROAD   \n",
       "95131   361509000.0         Sinai Health System   1500 S. Fairfield   \n",
       "658394  841466271.0          Vail Resorts, Inc.     1345 LOWELL AVE   \n",
       "140455  350868132.0        Beacon Health System   615 n michigan st   \n",
       "39648   510393574.0                  ABS Global  W5126 State HWY 60   \n",
       "\n",
       "              city      state zip_code naics_code naics_year  \\\n",
       "id                                                             \n",
       "163109     MEMPHIS  Tennessee    38118     492110       2022   \n",
       "95131      Chicago   Illinois    60608     622110       2022   \n",
       "658394   PARK CITY       Utah    84060     721110       2022   \n",
       "140455  south bend    Indiana    46601     622110       2022   \n",
       "39648          Rio  Wisconsin    53960     115210       2022   \n",
       "\n",
       "                                     industry_description establishment_type  \\\n",
       "id                                                                             \n",
       "163109             Couriers and Express Delivery Services   Private industry   \n",
       "95131              General medical and surgical hospitals   Private industry   \n",
       "658394  Alpine skiing facilities with accommodations (...   Private industry   \n",
       "140455            Hospitals, general medical and surgical   Private industry   \n",
       "39648                                  Animal semen banks   Private industry   \n",
       "\n",
       "         size  annual_average_employees  total_hours_worked case_number  \\\n",
       "id                                                                        \n",
       "163109   250+                      2140             3033952  2803144741   \n",
       "95131    250+                      2010             3251661      194521   \n",
       "658394   250+                      1279             1471720        4193   \n",
       "140455   250+                      2875             4244429      221880   \n",
       "39648   20-99                        70              145600           3   \n",
       "\n",
       "            job_description soc_code  \\\n",
       "id                                     \n",
       "163109   LoaderUnloader Hub  53-7062   \n",
       "95131   RADIATION THERAPIST  29-1124   \n",
       "658394                    V  99-9999   \n",
       "140455                   RN  29-1141   \n",
       "39648     Livestock Handler  45-2093   \n",
       "\n",
       "                                        soc_description_4   soc_reviewed  \\\n",
       "id                                                                         \n",
       "163109  Laborers and Freight, Stock, and Material Move...       Reviewed   \n",
       "95131                                Radiation Therapists   Not reviewed   \n",
       "658394                                            Uncoded  Not SOC coded   \n",
       "140455                                  Registered Nurses       Reviewed   \n",
       "39648   Farmworkers, Farm, Ranch, and Aquacultural Ani...   Not reviewed   \n",
       "\n",
       "        soc_probability date_of_incident             incident_outcome  \\\n",
       "id                                                                      \n",
       "163109         5.000000       2023-02-07  Job transfer or restriction   \n",
       "95131          0.998791       2023-02-11   Days away from work (DAFW)   \n",
       "658394         0.000000       2023-12-21  Job transfer or restriction   \n",
       "140455         0.999885       2023-04-13        Other recordable case   \n",
       "39648          0.966398       2023-09-19   Days away from work (DAFW)   \n",
       "\n",
       "        dafw_num_away  djtr_num_tr       type_of_incident   time_started_work  \\\n",
       "id                                                                              \n",
       "163109              0           15                 Injury 1900-01-01 16:15:00   \n",
       "95131              11            0  Respiratory condition                 NaT   \n",
       "658394              0            5                 Injury 1900-01-01 08:00:00   \n",
       "140455              0            0      All other illness 1900-01-01 07:00:00   \n",
       "39648               7            0                 Injury 1900-01-01 06:00:00   \n",
       "\n",
       "          time_of_incident time_unknown date_of_death   created_timestamp  \\\n",
       "id                                                                          \n",
       "163109 1900-01-01 19:00:00           No           NaT 2024-02-05 19:10:00   \n",
       "95131                  NaT          Yes           NaT 2024-01-30 15:28:00   \n",
       "658394 1900-01-01 14:00:00           No           NaT 2024-03-01 16:30:00   \n",
       "140455 1900-01-01 01:41:00           No           NaT 2024-02-05 17:18:00   \n",
       "39648                  NaT          Yes           NaT 2024-01-18 18:58:00   \n",
       "\n",
       "                                        soc_description_1  \\\n",
       "id                                                          \n",
       "163109     Transportation and Material Moving Occupations   \n",
       "95131   Healthcare Practitioners and Technical Occupat...   \n",
       "658394                                  Insufficient info   \n",
       "140455  Healthcare Practitioners and Technical Occupat...   \n",
       "39648          Farming, Fishing, and Forestry Occupations   \n",
       "\n",
       "                                      soc_description_2  \\\n",
       "id                                                        \n",
       "163109                          Material Moving Workers   \n",
       "95131   Healthcare Diagnosing or Treating Practitioners   \n",
       "658394                                Insufficient info   \n",
       "140455  Healthcare Diagnosing or Treating Practitioners   \n",
       "39648                              Agricultural Workers   \n",
       "\n",
       "                         soc_description_3  time_started_work_hours  \\\n",
       "id                                                                    \n",
       "163109        Laborers and Material Movers                     16.0   \n",
       "95131                           Therapists                      NaN   \n",
       "658394                   Insufficient info                      8.0   \n",
       "140455                   Registered Nurses                      7.0   \n",
       "39648   Miscellaneous Agricultural Workers                      6.0   \n",
       "\n",
       "        time_started_work_minutes  time_of_incident_hours  \\\n",
       "id                                                          \n",
       "163109                       15.0                    19.0   \n",
       "95131                         NaN                     NaN   \n",
       "658394                        0.0                    14.0   \n",
       "140455                        0.0                     1.0   \n",
       "39648                         0.0                     NaN   \n",
       "\n",
       "        time_of_incident_minutes  \n",
       "id                                \n",
       "163109                       0.0  \n",
       "95131                        NaN  \n",
       "658394                       0.0  \n",
       "140455                      41.0  \n",
       "39648                        NaN  "
      ]
     },
     "execution_count": 15,
     "metadata": {},
     "output_type": "execute_result"
    }
   ],
   "source": [
    "df_preproc.sample(5)"
   ]
  },
  {
   "cell_type": "code",
   "execution_count": 16,
   "metadata": {},
   "outputs": [
    {
     "name": "stdout",
     "output_type": "stream",
     "text": [
      "<class 'pandas.core.frame.DataFrame'>\n",
      "Index: 878577 entries, 446827 to 900939\n",
      "Data columns (total 38 columns):\n",
      " #   Column                     Non-Null Count   Dtype         \n",
      "---  ------                     --------------   -----         \n",
      " 0   establishment_id           878577 non-null  string        \n",
      " 1   establishment_name         878577 non-null  string        \n",
      " 2   ein                        878561 non-null  float64       \n",
      " 3   company_name               878577 non-null  string        \n",
      " 4   street_address             878577 non-null  string        \n",
      " 5   city                       878577 non-null  string        \n",
      " 6   state                      878577 non-null  category      \n",
      " 7   zip_code                   878577 non-null  string        \n",
      " 8   naics_code                 878577 non-null  string        \n",
      " 9   naics_year                 878577 non-null  category      \n",
      " 10  industry_description       878577 non-null  string        \n",
      " 11  establishment_type         878577 non-null  category      \n",
      " 12  size                       878577 non-null  category      \n",
      " 13  annual_average_employees   878577 non-null  int32         \n",
      " 14  total_hours_worked         878577 non-null  int32         \n",
      " 15  case_number                878577 non-null  string        \n",
      " 16  job_description            878577 non-null  string        \n",
      " 17  soc_code                   878577 non-null  string        \n",
      " 18  soc_description_4          878577 non-null  category      \n",
      " 19  soc_reviewed               878577 non-null  category      \n",
      " 20  soc_probability            878577 non-null  float64       \n",
      " 21  date_of_incident           878577 non-null  datetime64[ns]\n",
      " 22  incident_outcome           878577 non-null  category      \n",
      " 23  dafw_num_away              878577 non-null  int16         \n",
      " 24  djtr_num_tr                878577 non-null  int16         \n",
      " 25  type_of_incident           878577 non-null  category      \n",
      " 26  time_started_work          767769 non-null  datetime64[ns]\n",
      " 27  time_of_incident           769219 non-null  datetime64[ns]\n",
      " 28  time_unknown               878577 non-null  category      \n",
      " 29  date_of_death              277 non-null     datetime64[ns]\n",
      " 30  created_timestamp          878577 non-null  datetime64[ns]\n",
      " 31  soc_description_1          878577 non-null  category      \n",
      " 32  soc_description_2          878577 non-null  category      \n",
      " 33  soc_description_3          878577 non-null  category      \n",
      " 34  time_started_work_hours    767769 non-null  float64       \n",
      " 35  time_started_work_minutes  767769 non-null  float64       \n",
      " 36  time_of_incident_hours     769219 non-null  float64       \n",
      " 37  time_of_incident_minutes   769219 non-null  float64       \n",
      "dtypes: category(12), datetime64[ns](5), float64(6), int16(2), int32(2), string(11)\n",
      "memory usage: 176.0 MB\n"
     ]
    }
   ],
   "source": [
    "df_preproc.info()"
   ]
  },
  {
   "cell_type": "code",
   "execution_count": 17,
   "metadata": {},
   "outputs": [],
   "source": [
    "output_directory = \"datasets\"\n",
    "os.makedirs(output_directory, exist_ok=True)\n",
    "df_preproc.to_parquet(\n",
    "    os.path.join(output_directory, \"processed_data.parquet\"), index=False\n",
    ")"
   ]
  },
  {
   "cell_type": "markdown",
   "metadata": {},
   "source": [
    "### (c) (Data (What)) Choose one of the methods and implement it for the data set. Describe it in the section and mention what is the effect on the data."
   ]
  },
  {
   "cell_type": "code",
   "execution_count": null,
   "metadata": {},
   "outputs": [],
   "source": [
    "df_numeric = df_preproc.select_dtypes(include=[np.number])\n",
    "\n",
    "for column in df_numeric.columns:\n",
    "    grouped_data = df_numeric[column].value_counts(bins=50).reset_index()\n",
    "    grouped_data.columns = ['bin_range', 'count']\n",
    "    fig_incident = px.bar(grouped_data, x='bin_range', y='count', title=f\"Histogram of {column}\")\n",
    "    fig_incident.show()\n"
   ]
  },
  {
   "cell_type": "code",
   "execution_count": 19,
   "metadata": {},
   "outputs": [],
   "source": [
    "# df_time = df_preproc[df_preproc.select_dtypes(include=[\"datetime\"]).columns]\n",
    "\n",
    "# for column in df_time.columns:\n",
    "#     fig_incident = px.histogram(\n",
    "#         df_time[df_time[column].notna()],\n",
    "#         x=column,\n",
    "#         title=f\"Histogram of {column}\",\n",
    "#         nbins=100,\n",
    "#     )\n",
    "#     fig_incident.show()"
   ]
  },
  {
   "cell_type": "code",
   "execution_count": 20,
   "metadata": {},
   "outputs": [],
   "source": [
    "# df_categorical = df_preproc.select_dtypes(include=[\"category\"])\n",
    "\n",
    "# # Generate histograms for categorical data\n",
    "# for column in df_categorical.columns:\n",
    "#     fig = px.histogram(\n",
    "#         df_categorical[column].dropna(),\n",
    "#         x=column,\n",
    "#         title=f\"Distribution of {column}\",\n",
    "#         text_auto=True,\n",
    "#     )\n",
    "#     fig.show()"
   ]
  },
  {
   "cell_type": "markdown",
   "metadata": {},
   "source": [
    "# El problemo: wtf is happening to company employees and hours\n"
   ]
  },
  {
   "cell_type": "code",
   "execution_count": 21,
   "metadata": {},
   "outputs": [
    {
     "data": {
      "text/html": [
       "<div>\n",
       "<style scoped>\n",
       "    .dataframe tbody tr th:only-of-type {\n",
       "        vertical-align: middle;\n",
       "    }\n",
       "\n",
       "    .dataframe tbody tr th {\n",
       "        vertical-align: top;\n",
       "    }\n",
       "\n",
       "    .dataframe thead th {\n",
       "        text-align: right;\n",
       "    }\n",
       "</style>\n",
       "<table border=\"1\" class=\"dataframe\">\n",
       "  <thead>\n",
       "    <tr style=\"text-align: right;\">\n",
       "      <th></th>\n",
       "      <th>establishment_id</th>\n",
       "      <th>establishment_name</th>\n",
       "      <th>ein</th>\n",
       "      <th>company_name</th>\n",
       "      <th>street_address</th>\n",
       "      <th>city</th>\n",
       "      <th>state</th>\n",
       "      <th>zip_code</th>\n",
       "      <th>naics_code</th>\n",
       "      <th>naics_year</th>\n",
       "      <th>industry_description</th>\n",
       "      <th>establishment_type</th>\n",
       "      <th>size</th>\n",
       "      <th>annual_average_employees</th>\n",
       "      <th>total_hours_worked</th>\n",
       "      <th>case_number</th>\n",
       "      <th>job_description</th>\n",
       "      <th>soc_code</th>\n",
       "      <th>soc_description_4</th>\n",
       "      <th>soc_reviewed</th>\n",
       "      <th>soc_probability</th>\n",
       "      <th>date_of_incident</th>\n",
       "      <th>incident_outcome</th>\n",
       "      <th>dafw_num_away</th>\n",
       "      <th>djtr_num_tr</th>\n",
       "      <th>type_of_incident</th>\n",
       "      <th>time_started_work</th>\n",
       "      <th>time_of_incident</th>\n",
       "      <th>time_unknown</th>\n",
       "      <th>date_of_death</th>\n",
       "      <th>created_timestamp</th>\n",
       "      <th>soc_description_1</th>\n",
       "      <th>soc_description_2</th>\n",
       "      <th>soc_description_3</th>\n",
       "      <th>time_started_work_hours</th>\n",
       "      <th>time_started_work_minutes</th>\n",
       "      <th>time_of_incident_hours</th>\n",
       "      <th>time_of_incident_minutes</th>\n",
       "      <th>hours_employee_ratio</th>\n",
       "    </tr>\n",
       "    <tr>\n",
       "      <th>id</th>\n",
       "      <th></th>\n",
       "      <th></th>\n",
       "      <th></th>\n",
       "      <th></th>\n",
       "      <th></th>\n",
       "      <th></th>\n",
       "      <th></th>\n",
       "      <th></th>\n",
       "      <th></th>\n",
       "      <th></th>\n",
       "      <th></th>\n",
       "      <th></th>\n",
       "      <th></th>\n",
       "      <th></th>\n",
       "      <th></th>\n",
       "      <th></th>\n",
       "      <th></th>\n",
       "      <th></th>\n",
       "      <th></th>\n",
       "      <th></th>\n",
       "      <th></th>\n",
       "      <th></th>\n",
       "      <th></th>\n",
       "      <th></th>\n",
       "      <th></th>\n",
       "      <th></th>\n",
       "      <th></th>\n",
       "      <th></th>\n",
       "      <th></th>\n",
       "      <th></th>\n",
       "      <th></th>\n",
       "      <th></th>\n",
       "      <th></th>\n",
       "      <th></th>\n",
       "      <th></th>\n",
       "      <th></th>\n",
       "      <th></th>\n",
       "      <th></th>\n",
       "      <th></th>\n",
       "    </tr>\n",
       "  </thead>\n",
       "  <tbody>\n",
       "    <tr>\n",
       "      <th>279563</th>\n",
       "      <td>554858</td>\n",
       "      <td>Radial Inc MTV 2</td>\n",
       "      <td>232993313.0</td>\n",
       "      <td>Radial bPost</td>\n",
       "      <td>229 Hollie Dr</td>\n",
       "      <td>Martinsville</td>\n",
       "      <td>Virginia</td>\n",
       "      <td>24112</td>\n",
       "      <td>493110</td>\n",
       "      <td>2022</td>\n",
       "      <td>General warehousing and storage</td>\n",
       "      <td>Private industry</td>\n",
       "      <td>100-249</td>\n",
       "      <td>72</td>\n",
       "      <td>1479</td>\n",
       "      <td>1</td>\n",
       "      <td>IT Tech</td>\n",
       "      <td>15-1299</td>\n",
       "      <td>Computer Occupations, All Other</td>\n",
       "      <td>Not reviewed</td>\n",
       "      <td>0.987803</td>\n",
       "      <td>2023-07-17</td>\n",
       "      <td>Job transfer or restriction</td>\n",
       "      <td>0</td>\n",
       "      <td>7</td>\n",
       "      <td>Injury</td>\n",
       "      <td>1900-01-01 07:30:00</td>\n",
       "      <td>1900-01-01 13:00:00</td>\n",
       "      <td>No</td>\n",
       "      <td>NaT</td>\n",
       "      <td>2024-02-19 12:04:00</td>\n",
       "      <td>Computer and Mathematical Occupations</td>\n",
       "      <td>Computer Occupations</td>\n",
       "      <td>Miscellaneous Computer Occupations</td>\n",
       "      <td>7.0</td>\n",
       "      <td>30.0</td>\n",
       "      <td>13.0</td>\n",
       "      <td>0.0</td>\n",
       "      <td>20.541667</td>\n",
       "    </tr>\n",
       "    <tr>\n",
       "      <th>279564</th>\n",
       "      <td>554858</td>\n",
       "      <td>Radial Inc MTV 2</td>\n",
       "      <td>232993313.0</td>\n",
       "      <td>Radial bPost</td>\n",
       "      <td>229 Hollie Dr</td>\n",
       "      <td>Martinsville</td>\n",
       "      <td>Virginia</td>\n",
       "      <td>24112</td>\n",
       "      <td>493110</td>\n",
       "      <td>2022</td>\n",
       "      <td>General warehousing and storage</td>\n",
       "      <td>Private industry</td>\n",
       "      <td>100-249</td>\n",
       "      <td>72</td>\n",
       "      <td>1479</td>\n",
       "      <td>2</td>\n",
       "      <td>Picker packer</td>\n",
       "      <td>53-7064</td>\n",
       "      <td>Packers and Packagers, Hand</td>\n",
       "      <td>Not reviewed</td>\n",
       "      <td>1.000000</td>\n",
       "      <td>2023-08-18</td>\n",
       "      <td>Job transfer or restriction</td>\n",
       "      <td>0</td>\n",
       "      <td>7</td>\n",
       "      <td>Injury</td>\n",
       "      <td>1900-01-01 07:00:00</td>\n",
       "      <td>1900-01-01 12:00:00</td>\n",
       "      <td>No</td>\n",
       "      <td>NaT</td>\n",
       "      <td>2024-02-19 12:08:00</td>\n",
       "      <td>Transportation and Material Moving Occupations</td>\n",
       "      <td>Material Moving Workers</td>\n",
       "      <td>Laborers and Material Movers</td>\n",
       "      <td>7.0</td>\n",
       "      <td>0.0</td>\n",
       "      <td>12.0</td>\n",
       "      <td>0.0</td>\n",
       "      <td>20.541667</td>\n",
       "    </tr>\n",
       "    <tr>\n",
       "      <th>279576</th>\n",
       "      <td>554858</td>\n",
       "      <td>Radial Inc MTV 2</td>\n",
       "      <td>232993313.0</td>\n",
       "      <td>Radial bPost</td>\n",
       "      <td>229 Hollie Dr</td>\n",
       "      <td>Martinsville</td>\n",
       "      <td>Virginia</td>\n",
       "      <td>24112</td>\n",
       "      <td>493110</td>\n",
       "      <td>2022</td>\n",
       "      <td>General warehousing and storage</td>\n",
       "      <td>Private industry</td>\n",
       "      <td>100-249</td>\n",
       "      <td>72</td>\n",
       "      <td>1479</td>\n",
       "      <td>3</td>\n",
       "      <td>picker</td>\n",
       "      <td>53-7064</td>\n",
       "      <td>Packers and Packagers, Hand</td>\n",
       "      <td>Not reviewed</td>\n",
       "      <td>0.997352</td>\n",
       "      <td>2023-11-21</td>\n",
       "      <td>Days away from work (DAFW)</td>\n",
       "      <td>33</td>\n",
       "      <td>7</td>\n",
       "      <td>Injury</td>\n",
       "      <td>1900-01-01 06:30:00</td>\n",
       "      <td>1900-01-01 06:50:00</td>\n",
       "      <td>No</td>\n",
       "      <td>NaT</td>\n",
       "      <td>2024-02-19 12:36:00</td>\n",
       "      <td>Transportation and Material Moving Occupations</td>\n",
       "      <td>Material Moving Workers</td>\n",
       "      <td>Laborers and Material Movers</td>\n",
       "      <td>6.0</td>\n",
       "      <td>30.0</td>\n",
       "      <td>6.0</td>\n",
       "      <td>50.0</td>\n",
       "      <td>20.541667</td>\n",
       "    </tr>\n",
       "    <tr>\n",
       "      <th>279578</th>\n",
       "      <td>554858</td>\n",
       "      <td>Radial Inc MTV 2</td>\n",
       "      <td>232993313.0</td>\n",
       "      <td>Radial bPost</td>\n",
       "      <td>229 Hollie Dr</td>\n",
       "      <td>Martinsville</td>\n",
       "      <td>Virginia</td>\n",
       "      <td>24112</td>\n",
       "      <td>493110</td>\n",
       "      <td>2022</td>\n",
       "      <td>General warehousing and storage</td>\n",
       "      <td>Private industry</td>\n",
       "      <td>100-249</td>\n",
       "      <td>72</td>\n",
       "      <td>1479</td>\n",
       "      <td>4</td>\n",
       "      <td>Packer for Godvia</td>\n",
       "      <td>53-7064</td>\n",
       "      <td>Packers and Packagers, Hand</td>\n",
       "      <td>Not reviewed</td>\n",
       "      <td>0.998823</td>\n",
       "      <td>2023-12-08</td>\n",
       "      <td>Job transfer or restriction</td>\n",
       "      <td>0</td>\n",
       "      <td>5</td>\n",
       "      <td>Injury</td>\n",
       "      <td>1900-01-01 07:00:00</td>\n",
       "      <td>1900-01-01 10:30:00</td>\n",
       "      <td>No</td>\n",
       "      <td>NaT</td>\n",
       "      <td>2024-02-19 12:39:00</td>\n",
       "      <td>Transportation and Material Moving Occupations</td>\n",
       "      <td>Material Moving Workers</td>\n",
       "      <td>Laborers and Material Movers</td>\n",
       "      <td>7.0</td>\n",
       "      <td>0.0</td>\n",
       "      <td>10.0</td>\n",
       "      <td>30.0</td>\n",
       "      <td>20.541667</td>\n",
       "    </tr>\n",
       "    <tr>\n",
       "      <th>790573</th>\n",
       "      <td>1234697</td>\n",
       "      <td>MEMORIAL HEALTH SYSTEM</td>\n",
       "      <td>486099935.0</td>\n",
       "      <td>MEMORIAL HEALTH SYSTEM - G110005</td>\n",
       "      <td>511 NE 10TH STREET</td>\n",
       "      <td>ABILENE</td>\n",
       "      <td>Kansas</td>\n",
       "      <td>67410</td>\n",
       "      <td>622110</td>\n",
       "      <td>2022</td>\n",
       "      <td>No description given</td>\n",
       "      <td>Private industry</td>\n",
       "      <td>250+</td>\n",
       "      <td>493</td>\n",
       "      <td>10132</td>\n",
       "      <td>K548236</td>\n",
       "      <td>Food service worker</td>\n",
       "      <td>35-2019</td>\n",
       "      <td>Cooks, All Other</td>\n",
       "      <td>Reviewed</td>\n",
       "      <td>0.995661</td>\n",
       "      <td>2023-01-17</td>\n",
       "      <td>Job transfer or restriction</td>\n",
       "      <td>0</td>\n",
       "      <td>5</td>\n",
       "      <td>Injury</td>\n",
       "      <td>1900-01-01 06:00:00</td>\n",
       "      <td>1900-01-01 13:33:00</td>\n",
       "      <td>No</td>\n",
       "      <td>NaT</td>\n",
       "      <td>2024-03-06 19:36:00</td>\n",
       "      <td>Food Preparation and Serving Related Occupations</td>\n",
       "      <td>Cooks and Food Preparation Workers</td>\n",
       "      <td>Cooks</td>\n",
       "      <td>6.0</td>\n",
       "      <td>0.0</td>\n",
       "      <td>13.0</td>\n",
       "      <td>33.0</td>\n",
       "      <td>20.551724</td>\n",
       "    </tr>\n",
       "    <tr>\n",
       "      <th>...</th>\n",
       "      <td>...</td>\n",
       "      <td>...</td>\n",
       "      <td>...</td>\n",
       "      <td>...</td>\n",
       "      <td>...</td>\n",
       "      <td>...</td>\n",
       "      <td>...</td>\n",
       "      <td>...</td>\n",
       "      <td>...</td>\n",
       "      <td>...</td>\n",
       "      <td>...</td>\n",
       "      <td>...</td>\n",
       "      <td>...</td>\n",
       "      <td>...</td>\n",
       "      <td>...</td>\n",
       "      <td>...</td>\n",
       "      <td>...</td>\n",
       "      <td>...</td>\n",
       "      <td>...</td>\n",
       "      <td>...</td>\n",
       "      <td>...</td>\n",
       "      <td>...</td>\n",
       "      <td>...</td>\n",
       "      <td>...</td>\n",
       "      <td>...</td>\n",
       "      <td>...</td>\n",
       "      <td>...</td>\n",
       "      <td>...</td>\n",
       "      <td>...</td>\n",
       "      <td>...</td>\n",
       "      <td>...</td>\n",
       "      <td>...</td>\n",
       "      <td>...</td>\n",
       "      <td>...</td>\n",
       "      <td>...</td>\n",
       "      <td>...</td>\n",
       "      <td>...</td>\n",
       "      <td>...</td>\n",
       "      <td>...</td>\n",
       "    </tr>\n",
       "    <tr>\n",
       "      <th>234382</th>\n",
       "      <td>1124146</td>\n",
       "      <td>6700 ALEXANDRIA RAIL FACILITY</td>\n",
       "      <td>520847040.0</td>\n",
       "      <td>Washington Metro Area Transit Authority ALEXAN...</td>\n",
       "      <td>3391 EISENHOWER AVE</td>\n",
       "      <td>ALEXANDRIA</td>\n",
       "      <td>Virginia</td>\n",
       "      <td>22304</td>\n",
       "      <td>485112</td>\n",
       "      <td>2022</td>\n",
       "      <td>Commuter Rail Systems</td>\n",
       "      <td>Private industry</td>\n",
       "      <td>250+</td>\n",
       "      <td>820</td>\n",
       "      <td>4058193</td>\n",
       "      <td>10108</td>\n",
       "      <td>Train Operator</td>\n",
       "      <td>99-9999</td>\n",
       "      <td>Uncoded</td>\n",
       "      <td>Not SOC coded</td>\n",
       "      <td>0.000000</td>\n",
       "      <td>2023-12-05</td>\n",
       "      <td>Days away from work (DAFW)</td>\n",
       "      <td>70</td>\n",
       "      <td>0</td>\n",
       "      <td>All other illness</td>\n",
       "      <td>1900-01-01 00:00:00</td>\n",
       "      <td>1900-01-01 05:25:00</td>\n",
       "      <td>No</td>\n",
       "      <td>NaT</td>\n",
       "      <td>2024-02-14 14:38:00</td>\n",
       "      <td>Insufficient info</td>\n",
       "      <td>Insufficient info</td>\n",
       "      <td>Insufficient info</td>\n",
       "      <td>0.0</td>\n",
       "      <td>0.0</td>\n",
       "      <td>5.0</td>\n",
       "      <td>25.0</td>\n",
       "      <td>4949.015854</td>\n",
       "    </tr>\n",
       "    <tr>\n",
       "      <th>234381</th>\n",
       "      <td>1124146</td>\n",
       "      <td>6700 ALEXANDRIA RAIL FACILITY</td>\n",
       "      <td>520847040.0</td>\n",
       "      <td>Washington Metro Area Transit Authority ALEXAN...</td>\n",
       "      <td>3391 EISENHOWER AVE</td>\n",
       "      <td>ALEXANDRIA</td>\n",
       "      <td>Virginia</td>\n",
       "      <td>22304</td>\n",
       "      <td>485112</td>\n",
       "      <td>2022</td>\n",
       "      <td>Commuter Rail Systems</td>\n",
       "      <td>Private industry</td>\n",
       "      <td>250+</td>\n",
       "      <td>820</td>\n",
       "      <td>4058193</td>\n",
       "      <td>10016</td>\n",
       "      <td>Mechanical Tech</td>\n",
       "      <td>49-3031</td>\n",
       "      <td>Bus and Truck Mechanics and Diesel Engine Spec...</td>\n",
       "      <td>Not reviewed</td>\n",
       "      <td>0.901068</td>\n",
       "      <td>2023-11-01</td>\n",
       "      <td>Days away from work (DAFW)</td>\n",
       "      <td>104</td>\n",
       "      <td>0</td>\n",
       "      <td>Injury</td>\n",
       "      <td>1900-01-01 06:00:00</td>\n",
       "      <td>1900-01-01 09:30:00</td>\n",
       "      <td>No</td>\n",
       "      <td>NaT</td>\n",
       "      <td>2024-02-14 14:38:00</td>\n",
       "      <td>Installation, Maintenance, and Repair Occupations</td>\n",
       "      <td>Vehicle and Mobile Equipment Mechanics, Instal...</td>\n",
       "      <td>Bus and Truck Mechanics and Diesel Engine Spec...</td>\n",
       "      <td>6.0</td>\n",
       "      <td>0.0</td>\n",
       "      <td>9.0</td>\n",
       "      <td>30.0</td>\n",
       "      <td>4949.015854</td>\n",
       "    </tr>\n",
       "    <tr>\n",
       "      <th>598894</th>\n",
       "      <td>619613</td>\n",
       "      <td>Vanguard Cahokia</td>\n",
       "      <td>461125968.0</td>\n",
       "      <td>Vanguard Truck Centers</td>\n",
       "      <td>1 Vanguard Way</td>\n",
       "      <td>Cahokia</td>\n",
       "      <td>Illinois</td>\n",
       "      <td>62206</td>\n",
       "      <td>423110</td>\n",
       "      <td>2022</td>\n",
       "      <td>Automobile &amp; Other Motor Vehicle Merchant Wholslr</td>\n",
       "      <td>Private industry</td>\n",
       "      <td>20-99</td>\n",
       "      <td>70</td>\n",
       "      <td>347088</td>\n",
       "      <td>2023-12</td>\n",
       "      <td>Sales Rep</td>\n",
       "      <td>41-4010</td>\n",
       "      <td>Sales Representatives, Wholesale and Manufactu...</td>\n",
       "      <td>Not reviewed</td>\n",
       "      <td>0.851691</td>\n",
       "      <td>2023-04-28</td>\n",
       "      <td>Days away from work (DAFW)</td>\n",
       "      <td>1</td>\n",
       "      <td>0</td>\n",
       "      <td>Injury</td>\n",
       "      <td>NaT</td>\n",
       "      <td>1900-01-01 12:00:00</td>\n",
       "      <td>No</td>\n",
       "      <td>NaT</td>\n",
       "      <td>2024-02-29 20:00:00</td>\n",
       "      <td>Sales and Related Occupations</td>\n",
       "      <td>Sales Representatives, Wholesale and Manufactu...</td>\n",
       "      <td>Sales Representatives, Wholesale and Manufactu...</td>\n",
       "      <td>NaN</td>\n",
       "      <td>NaN</td>\n",
       "      <td>12.0</td>\n",
       "      <td>0.0</td>\n",
       "      <td>4958.400000</td>\n",
       "    </tr>\n",
       "    <tr>\n",
       "      <th>689115</th>\n",
       "      <td>1197613</td>\n",
       "      <td>COMMERCE GA</td>\n",
       "      <td>134042452.0</td>\n",
       "      <td>BOTTLING GROUP LLC</td>\n",
       "      <td>22 COLD SASSY RD</td>\n",
       "      <td>COMMERCE</td>\n",
       "      <td>Georgia</td>\n",
       "      <td>30529</td>\n",
       "      <td>493110</td>\n",
       "      <td>2022</td>\n",
       "      <td>General Warehousing and Storage</td>\n",
       "      <td>Private industry</td>\n",
       "      <td>20-99</td>\n",
       "      <td>50</td>\n",
       "      <td>249600</td>\n",
       "      <td>W194000</td>\n",
       "      <td>WAREHOUSE PERSON</td>\n",
       "      <td>53-7062</td>\n",
       "      <td>Laborers and Freight, Stock, and Material Move...</td>\n",
       "      <td>Not reviewed</td>\n",
       "      <td>0.987394</td>\n",
       "      <td>2023-03-07</td>\n",
       "      <td>Job transfer or restriction</td>\n",
       "      <td>0</td>\n",
       "      <td>72</td>\n",
       "      <td>Injury</td>\n",
       "      <td>NaT</td>\n",
       "      <td>1900-01-01 07:15:00</td>\n",
       "      <td>No</td>\n",
       "      <td>NaT</td>\n",
       "      <td>2024-03-01 20:53:00</td>\n",
       "      <td>Transportation and Material Moving Occupations</td>\n",
       "      <td>Material Moving Workers</td>\n",
       "      <td>Laborers and Material Movers</td>\n",
       "      <td>NaN</td>\n",
       "      <td>NaN</td>\n",
       "      <td>7.0</td>\n",
       "      <td>15.0</td>\n",
       "      <td>4992.000000</td>\n",
       "    </tr>\n",
       "    <tr>\n",
       "      <th>689116</th>\n",
       "      <td>1197613</td>\n",
       "      <td>COMMERCE GA</td>\n",
       "      <td>134042452.0</td>\n",
       "      <td>BOTTLING GROUP LLC</td>\n",
       "      <td>22 COLD SASSY RD</td>\n",
       "      <td>COMMERCE</td>\n",
       "      <td>Georgia</td>\n",
       "      <td>30529</td>\n",
       "      <td>493110</td>\n",
       "      <td>2022</td>\n",
       "      <td>General Warehousing and Storage</td>\n",
       "      <td>Private industry</td>\n",
       "      <td>20-99</td>\n",
       "      <td>50</td>\n",
       "      <td>249600</td>\n",
       "      <td>W200121</td>\n",
       "      <td>WAREHOUSE PERSON</td>\n",
       "      <td>53-7062</td>\n",
       "      <td>Laborers and Freight, Stock, and Material Move...</td>\n",
       "      <td>Not reviewed</td>\n",
       "      <td>0.987394</td>\n",
       "      <td>2023-12-07</td>\n",
       "      <td>Job transfer or restriction</td>\n",
       "      <td>0</td>\n",
       "      <td>55</td>\n",
       "      <td>Injury</td>\n",
       "      <td>NaT</td>\n",
       "      <td>1900-01-01 07:20:00</td>\n",
       "      <td>No</td>\n",
       "      <td>NaT</td>\n",
       "      <td>2024-03-01 20:53:00</td>\n",
       "      <td>Transportation and Material Moving Occupations</td>\n",
       "      <td>Material Moving Workers</td>\n",
       "      <td>Laborers and Material Movers</td>\n",
       "      <td>NaN</td>\n",
       "      <td>NaN</td>\n",
       "      <td>7.0</td>\n",
       "      <td>20.0</td>\n",
       "      <td>4992.000000</td>\n",
       "    </tr>\n",
       "  </tbody>\n",
       "</table>\n",
       "<p>712 rows × 39 columns</p>\n",
       "</div>"
      ],
      "text/plain": [
       "       establishment_id             establishment_name          ein  \\\n",
       "id                                                                    \n",
       "279563           554858               Radial Inc MTV 2  232993313.0   \n",
       "279564           554858               Radial Inc MTV 2  232993313.0   \n",
       "279576           554858               Radial Inc MTV 2  232993313.0   \n",
       "279578           554858               Radial Inc MTV 2  232993313.0   \n",
       "790573          1234697         MEMORIAL HEALTH SYSTEM  486099935.0   \n",
       "...                 ...                            ...          ...   \n",
       "234382          1124146  6700 ALEXANDRIA RAIL FACILITY  520847040.0   \n",
       "234381          1124146  6700 ALEXANDRIA RAIL FACILITY  520847040.0   \n",
       "598894           619613               Vanguard Cahokia  461125968.0   \n",
       "689115          1197613                    COMMERCE GA  134042452.0   \n",
       "689116          1197613                    COMMERCE GA  134042452.0   \n",
       "\n",
       "                                             company_name  \\\n",
       "id                                                          \n",
       "279563                                       Radial bPost   \n",
       "279564                                       Radial bPost   \n",
       "279576                                       Radial bPost   \n",
       "279578                                       Radial bPost   \n",
       "790573                   MEMORIAL HEALTH SYSTEM - G110005   \n",
       "...                                                   ...   \n",
       "234382  Washington Metro Area Transit Authority ALEXAN...   \n",
       "234381  Washington Metro Area Transit Authority ALEXAN...   \n",
       "598894                             Vanguard Truck Centers   \n",
       "689115                                 BOTTLING GROUP LLC   \n",
       "689116                                 BOTTLING GROUP LLC   \n",
       "\n",
       "             street_address          city     state zip_code naics_code  \\\n",
       "id                                                                        \n",
       "279563        229 Hollie Dr  Martinsville  Virginia    24112     493110   \n",
       "279564        229 Hollie Dr  Martinsville  Virginia    24112     493110   \n",
       "279576        229 Hollie Dr  Martinsville  Virginia    24112     493110   \n",
       "279578        229 Hollie Dr  Martinsville  Virginia    24112     493110   \n",
       "790573   511 NE 10TH STREET       ABILENE    Kansas    67410     622110   \n",
       "...                     ...           ...       ...      ...        ...   \n",
       "234382  3391 EISENHOWER AVE    ALEXANDRIA  Virginia    22304     485112   \n",
       "234381  3391 EISENHOWER AVE    ALEXANDRIA  Virginia    22304     485112   \n",
       "598894       1 Vanguard Way       Cahokia  Illinois    62206     423110   \n",
       "689115     22 COLD SASSY RD      COMMERCE   Georgia    30529     493110   \n",
       "689116     22 COLD SASSY RD      COMMERCE   Georgia    30529     493110   \n",
       "\n",
       "       naics_year                               industry_description  \\\n",
       "id                                                                     \n",
       "279563       2022                    General warehousing and storage   \n",
       "279564       2022                    General warehousing and storage   \n",
       "279576       2022                    General warehousing and storage   \n",
       "279578       2022                    General warehousing and storage   \n",
       "790573       2022                               No description given   \n",
       "...           ...                                                ...   \n",
       "234382       2022                              Commuter Rail Systems   \n",
       "234381       2022                              Commuter Rail Systems   \n",
       "598894       2022  Automobile & Other Motor Vehicle Merchant Wholslr   \n",
       "689115       2022                    General Warehousing and Storage   \n",
       "689116       2022                    General Warehousing and Storage   \n",
       "\n",
       "       establishment_type     size  annual_average_employees  \\\n",
       "id                                                             \n",
       "279563   Private industry  100-249                        72   \n",
       "279564   Private industry  100-249                        72   \n",
       "279576   Private industry  100-249                        72   \n",
       "279578   Private industry  100-249                        72   \n",
       "790573   Private industry     250+                       493   \n",
       "...                   ...      ...                       ...   \n",
       "234382   Private industry     250+                       820   \n",
       "234381   Private industry     250+                       820   \n",
       "598894   Private industry    20-99                        70   \n",
       "689115   Private industry    20-99                        50   \n",
       "689116   Private industry    20-99                        50   \n",
       "\n",
       "        total_hours_worked case_number      job_description soc_code  \\\n",
       "id                                                                     \n",
       "279563                1479           1              IT Tech  15-1299   \n",
       "279564                1479           2        Picker packer  53-7064   \n",
       "279576                1479           3               picker  53-7064   \n",
       "279578                1479           4    Packer for Godvia  53-7064   \n",
       "790573               10132     K548236  Food service worker  35-2019   \n",
       "...                    ...         ...                  ...      ...   \n",
       "234382             4058193       10108       Train Operator  99-9999   \n",
       "234381             4058193       10016      Mechanical Tech  49-3031   \n",
       "598894              347088     2023-12            Sales Rep  41-4010   \n",
       "689115              249600     W194000     WAREHOUSE PERSON  53-7062   \n",
       "689116              249600     W200121     WAREHOUSE PERSON  53-7062   \n",
       "\n",
       "                                        soc_description_4   soc_reviewed  \\\n",
       "id                                                                         \n",
       "279563                    Computer Occupations, All Other   Not reviewed   \n",
       "279564                        Packers and Packagers, Hand   Not reviewed   \n",
       "279576                        Packers and Packagers, Hand   Not reviewed   \n",
       "279578                        Packers and Packagers, Hand   Not reviewed   \n",
       "790573                                   Cooks, All Other       Reviewed   \n",
       "...                                                   ...            ...   \n",
       "234382                                            Uncoded  Not SOC coded   \n",
       "234381  Bus and Truck Mechanics and Diesel Engine Spec...   Not reviewed   \n",
       "598894  Sales Representatives, Wholesale and Manufactu...   Not reviewed   \n",
       "689115  Laborers and Freight, Stock, and Material Move...   Not reviewed   \n",
       "689116  Laborers and Freight, Stock, and Material Move...   Not reviewed   \n",
       "\n",
       "        soc_probability date_of_incident             incident_outcome  \\\n",
       "id                                                                      \n",
       "279563         0.987803       2023-07-17  Job transfer or restriction   \n",
       "279564         1.000000       2023-08-18  Job transfer or restriction   \n",
       "279576         0.997352       2023-11-21   Days away from work (DAFW)   \n",
       "279578         0.998823       2023-12-08  Job transfer or restriction   \n",
       "790573         0.995661       2023-01-17  Job transfer or restriction   \n",
       "...                 ...              ...                          ...   \n",
       "234382         0.000000       2023-12-05   Days away from work (DAFW)   \n",
       "234381         0.901068       2023-11-01   Days away from work (DAFW)   \n",
       "598894         0.851691       2023-04-28   Days away from work (DAFW)   \n",
       "689115         0.987394       2023-03-07  Job transfer or restriction   \n",
       "689116         0.987394       2023-12-07  Job transfer or restriction   \n",
       "\n",
       "        dafw_num_away  djtr_num_tr   type_of_incident   time_started_work  \\\n",
       "id                                                                          \n",
       "279563              0            7             Injury 1900-01-01 07:30:00   \n",
       "279564              0            7             Injury 1900-01-01 07:00:00   \n",
       "279576             33            7             Injury 1900-01-01 06:30:00   \n",
       "279578              0            5             Injury 1900-01-01 07:00:00   \n",
       "790573              0            5             Injury 1900-01-01 06:00:00   \n",
       "...               ...          ...                ...                 ...   \n",
       "234382             70            0  All other illness 1900-01-01 00:00:00   \n",
       "234381            104            0             Injury 1900-01-01 06:00:00   \n",
       "598894              1            0             Injury                 NaT   \n",
       "689115              0           72             Injury                 NaT   \n",
       "689116              0           55             Injury                 NaT   \n",
       "\n",
       "          time_of_incident time_unknown date_of_death   created_timestamp  \\\n",
       "id                                                                          \n",
       "279563 1900-01-01 13:00:00           No           NaT 2024-02-19 12:04:00   \n",
       "279564 1900-01-01 12:00:00           No           NaT 2024-02-19 12:08:00   \n",
       "279576 1900-01-01 06:50:00           No           NaT 2024-02-19 12:36:00   \n",
       "279578 1900-01-01 10:30:00           No           NaT 2024-02-19 12:39:00   \n",
       "790573 1900-01-01 13:33:00           No           NaT 2024-03-06 19:36:00   \n",
       "...                    ...          ...           ...                 ...   \n",
       "234382 1900-01-01 05:25:00           No           NaT 2024-02-14 14:38:00   \n",
       "234381 1900-01-01 09:30:00           No           NaT 2024-02-14 14:38:00   \n",
       "598894 1900-01-01 12:00:00           No           NaT 2024-02-29 20:00:00   \n",
       "689115 1900-01-01 07:15:00           No           NaT 2024-03-01 20:53:00   \n",
       "689116 1900-01-01 07:20:00           No           NaT 2024-03-01 20:53:00   \n",
       "\n",
       "                                        soc_description_1  \\\n",
       "id                                                          \n",
       "279563              Computer and Mathematical Occupations   \n",
       "279564     Transportation and Material Moving Occupations   \n",
       "279576     Transportation and Material Moving Occupations   \n",
       "279578     Transportation and Material Moving Occupations   \n",
       "790573   Food Preparation and Serving Related Occupations   \n",
       "...                                                   ...   \n",
       "234382                                  Insufficient info   \n",
       "234381  Installation, Maintenance, and Repair Occupations   \n",
       "598894                      Sales and Related Occupations   \n",
       "689115     Transportation and Material Moving Occupations   \n",
       "689116     Transportation and Material Moving Occupations   \n",
       "\n",
       "                                        soc_description_2  \\\n",
       "id                                                          \n",
       "279563                               Computer Occupations   \n",
       "279564                            Material Moving Workers   \n",
       "279576                            Material Moving Workers   \n",
       "279578                            Material Moving Workers   \n",
       "790573                 Cooks and Food Preparation Workers   \n",
       "...                                                   ...   \n",
       "234382                                  Insufficient info   \n",
       "234381  Vehicle and Mobile Equipment Mechanics, Instal...   \n",
       "598894  Sales Representatives, Wholesale and Manufactu...   \n",
       "689115                            Material Moving Workers   \n",
       "689116                            Material Moving Workers   \n",
       "\n",
       "                                        soc_description_3  \\\n",
       "id                                                          \n",
       "279563                 Miscellaneous Computer Occupations   \n",
       "279564                       Laborers and Material Movers   \n",
       "279576                       Laborers and Material Movers   \n",
       "279578                       Laborers and Material Movers   \n",
       "790573                                              Cooks   \n",
       "...                                                   ...   \n",
       "234382                                  Insufficient info   \n",
       "234381  Bus and Truck Mechanics and Diesel Engine Spec...   \n",
       "598894  Sales Representatives, Wholesale and Manufactu...   \n",
       "689115                       Laborers and Material Movers   \n",
       "689116                       Laborers and Material Movers   \n",
       "\n",
       "        time_started_work_hours  time_started_work_minutes  \\\n",
       "id                                                           \n",
       "279563                      7.0                       30.0   \n",
       "279564                      7.0                        0.0   \n",
       "279576                      6.0                       30.0   \n",
       "279578                      7.0                        0.0   \n",
       "790573                      6.0                        0.0   \n",
       "...                         ...                        ...   \n",
       "234382                      0.0                        0.0   \n",
       "234381                      6.0                        0.0   \n",
       "598894                      NaN                        NaN   \n",
       "689115                      NaN                        NaN   \n",
       "689116                      NaN                        NaN   \n",
       "\n",
       "        time_of_incident_hours  time_of_incident_minutes  hours_employee_ratio  \n",
       "id                                                                              \n",
       "279563                    13.0                       0.0             20.541667  \n",
       "279564                    12.0                       0.0             20.541667  \n",
       "279576                     6.0                      50.0             20.541667  \n",
       "279578                    10.0                      30.0             20.541667  \n",
       "790573                    13.0                      33.0             20.551724  \n",
       "...                        ...                       ...                   ...  \n",
       "234382                     5.0                      25.0           4949.015854  \n",
       "234381                     9.0                      30.0           4949.015854  \n",
       "598894                    12.0                       0.0           4958.400000  \n",
       "689115                     7.0                      15.0           4992.000000  \n",
       "689116                     7.0                      20.0           4992.000000  \n",
       "\n",
       "[712 rows x 39 columns]"
      ]
     },
     "execution_count": 21,
     "metadata": {},
     "output_type": "execute_result"
    }
   ],
   "source": [
    "ratio_df = df_preproc.copy()\n",
    "ratio_df[\"hours_employee_ratio\"] = (\n",
    "    ratio_df[\"total_hours_worked\"] / ratio_df[\"annual_average_employees\"]\n",
    ")\n",
    "ratio_df.query(\"hours_employee_ratio < 40 | hours_employee_ratio > 4500\").sort_values(\n",
    "    \"hours_employee_ratio\"\n",
    ")\n"
   ]
  },
  {
   "cell_type": "code",
   "execution_count": 22,
   "metadata": {},
   "outputs": [
    {
     "data": {
      "application/vnd.plotly.v1+json": {
       "config": {
        "plotlyServerURL": "https://plot.ly"
       },
       "data": [
        {
         "alignmentgroup": "True",
         "hovertemplate": "Attribute=%{x}<br>Percentage_Missing=%{text}<extra></extra>",
         "legendgroup": "",
         "marker": {
          "color": "#636efa",
          "pattern": {
           "shape": ""
          }
         },
         "name": "",
         "offsetgroup": "",
         "orientation": "v",
         "showlegend": false,
         "text": [
          99.96847174465073,
          12.612212703041395,
          12.612212703041395,
          12.612212703041395,
          12.447173099227502,
          12.447173099227502,
          12.447173099227502,
          0.0018211266627740084
         ],
         "textposition": "outside",
         "texttemplate": "%{text:.2f}%",
         "type": "bar",
         "x": [
          "date_of_death",
          "time_started_work",
          "time_started_work_hours",
          "time_started_work_minutes",
          "time_of_incident",
          "time_of_incident_hours",
          "time_of_incident_minutes",
          "ein"
         ],
         "xaxis": "x",
         "y": [
          99.96847174465073,
          12.612212703041395,
          12.612212703041395,
          12.612212703041395,
          12.447173099227502,
          12.447173099227502,
          12.447173099227502,
          0.0018211266627740084
         ],
         "yaxis": "y"
        }
       ],
       "layout": {
        "barmode": "relative",
        "legend": {
         "tracegroupgap": 0
        },
        "showlegend": false,
        "template": {
         "data": {
          "bar": [
           {
            "error_x": {
             "color": "#2a3f5f"
            },
            "error_y": {
             "color": "#2a3f5f"
            },
            "marker": {
             "line": {
              "color": "#E5ECF6",
              "width": 0.5
             },
             "pattern": {
              "fillmode": "overlay",
              "size": 10,
              "solidity": 0.2
             }
            },
            "type": "bar"
           }
          ],
          "barpolar": [
           {
            "marker": {
             "line": {
              "color": "#E5ECF6",
              "width": 0.5
             },
             "pattern": {
              "fillmode": "overlay",
              "size": 10,
              "solidity": 0.2
             }
            },
            "type": "barpolar"
           }
          ],
          "carpet": [
           {
            "aaxis": {
             "endlinecolor": "#2a3f5f",
             "gridcolor": "white",
             "linecolor": "white",
             "minorgridcolor": "white",
             "startlinecolor": "#2a3f5f"
            },
            "baxis": {
             "endlinecolor": "#2a3f5f",
             "gridcolor": "white",
             "linecolor": "white",
             "minorgridcolor": "white",
             "startlinecolor": "#2a3f5f"
            },
            "type": "carpet"
           }
          ],
          "choropleth": [
           {
            "colorbar": {
             "outlinewidth": 0,
             "ticks": ""
            },
            "type": "choropleth"
           }
          ],
          "contour": [
           {
            "colorbar": {
             "outlinewidth": 0,
             "ticks": ""
            },
            "colorscale": [
             [
              0,
              "#0d0887"
             ],
             [
              0.1111111111111111,
              "#46039f"
             ],
             [
              0.2222222222222222,
              "#7201a8"
             ],
             [
              0.3333333333333333,
              "#9c179e"
             ],
             [
              0.4444444444444444,
              "#bd3786"
             ],
             [
              0.5555555555555556,
              "#d8576b"
             ],
             [
              0.6666666666666666,
              "#ed7953"
             ],
             [
              0.7777777777777778,
              "#fb9f3a"
             ],
             [
              0.8888888888888888,
              "#fdca26"
             ],
             [
              1,
              "#f0f921"
             ]
            ],
            "type": "contour"
           }
          ],
          "contourcarpet": [
           {
            "colorbar": {
             "outlinewidth": 0,
             "ticks": ""
            },
            "type": "contourcarpet"
           }
          ],
          "heatmap": [
           {
            "colorbar": {
             "outlinewidth": 0,
             "ticks": ""
            },
            "colorscale": [
             [
              0,
              "#0d0887"
             ],
             [
              0.1111111111111111,
              "#46039f"
             ],
             [
              0.2222222222222222,
              "#7201a8"
             ],
             [
              0.3333333333333333,
              "#9c179e"
             ],
             [
              0.4444444444444444,
              "#bd3786"
             ],
             [
              0.5555555555555556,
              "#d8576b"
             ],
             [
              0.6666666666666666,
              "#ed7953"
             ],
             [
              0.7777777777777778,
              "#fb9f3a"
             ],
             [
              0.8888888888888888,
              "#fdca26"
             ],
             [
              1,
              "#f0f921"
             ]
            ],
            "type": "heatmap"
           }
          ],
          "heatmapgl": [
           {
            "colorbar": {
             "outlinewidth": 0,
             "ticks": ""
            },
            "colorscale": [
             [
              0,
              "#0d0887"
             ],
             [
              0.1111111111111111,
              "#46039f"
             ],
             [
              0.2222222222222222,
              "#7201a8"
             ],
             [
              0.3333333333333333,
              "#9c179e"
             ],
             [
              0.4444444444444444,
              "#bd3786"
             ],
             [
              0.5555555555555556,
              "#d8576b"
             ],
             [
              0.6666666666666666,
              "#ed7953"
             ],
             [
              0.7777777777777778,
              "#fb9f3a"
             ],
             [
              0.8888888888888888,
              "#fdca26"
             ],
             [
              1,
              "#f0f921"
             ]
            ],
            "type": "heatmapgl"
           }
          ],
          "histogram": [
           {
            "marker": {
             "pattern": {
              "fillmode": "overlay",
              "size": 10,
              "solidity": 0.2
             }
            },
            "type": "histogram"
           }
          ],
          "histogram2d": [
           {
            "colorbar": {
             "outlinewidth": 0,
             "ticks": ""
            },
            "colorscale": [
             [
              0,
              "#0d0887"
             ],
             [
              0.1111111111111111,
              "#46039f"
             ],
             [
              0.2222222222222222,
              "#7201a8"
             ],
             [
              0.3333333333333333,
              "#9c179e"
             ],
             [
              0.4444444444444444,
              "#bd3786"
             ],
             [
              0.5555555555555556,
              "#d8576b"
             ],
             [
              0.6666666666666666,
              "#ed7953"
             ],
             [
              0.7777777777777778,
              "#fb9f3a"
             ],
             [
              0.8888888888888888,
              "#fdca26"
             ],
             [
              1,
              "#f0f921"
             ]
            ],
            "type": "histogram2d"
           }
          ],
          "histogram2dcontour": [
           {
            "colorbar": {
             "outlinewidth": 0,
             "ticks": ""
            },
            "colorscale": [
             [
              0,
              "#0d0887"
             ],
             [
              0.1111111111111111,
              "#46039f"
             ],
             [
              0.2222222222222222,
              "#7201a8"
             ],
             [
              0.3333333333333333,
              "#9c179e"
             ],
             [
              0.4444444444444444,
              "#bd3786"
             ],
             [
              0.5555555555555556,
              "#d8576b"
             ],
             [
              0.6666666666666666,
              "#ed7953"
             ],
             [
              0.7777777777777778,
              "#fb9f3a"
             ],
             [
              0.8888888888888888,
              "#fdca26"
             ],
             [
              1,
              "#f0f921"
             ]
            ],
            "type": "histogram2dcontour"
           }
          ],
          "mesh3d": [
           {
            "colorbar": {
             "outlinewidth": 0,
             "ticks": ""
            },
            "type": "mesh3d"
           }
          ],
          "parcoords": [
           {
            "line": {
             "colorbar": {
              "outlinewidth": 0,
              "ticks": ""
             }
            },
            "type": "parcoords"
           }
          ],
          "pie": [
           {
            "automargin": true,
            "type": "pie"
           }
          ],
          "scatter": [
           {
            "fillpattern": {
             "fillmode": "overlay",
             "size": 10,
             "solidity": 0.2
            },
            "type": "scatter"
           }
          ],
          "scatter3d": [
           {
            "line": {
             "colorbar": {
              "outlinewidth": 0,
              "ticks": ""
             }
            },
            "marker": {
             "colorbar": {
              "outlinewidth": 0,
              "ticks": ""
             }
            },
            "type": "scatter3d"
           }
          ],
          "scattercarpet": [
           {
            "marker": {
             "colorbar": {
              "outlinewidth": 0,
              "ticks": ""
             }
            },
            "type": "scattercarpet"
           }
          ],
          "scattergeo": [
           {
            "marker": {
             "colorbar": {
              "outlinewidth": 0,
              "ticks": ""
             }
            },
            "type": "scattergeo"
           }
          ],
          "scattergl": [
           {
            "marker": {
             "colorbar": {
              "outlinewidth": 0,
              "ticks": ""
             }
            },
            "type": "scattergl"
           }
          ],
          "scattermapbox": [
           {
            "marker": {
             "colorbar": {
              "outlinewidth": 0,
              "ticks": ""
             }
            },
            "type": "scattermapbox"
           }
          ],
          "scatterpolar": [
           {
            "marker": {
             "colorbar": {
              "outlinewidth": 0,
              "ticks": ""
             }
            },
            "type": "scatterpolar"
           }
          ],
          "scatterpolargl": [
           {
            "marker": {
             "colorbar": {
              "outlinewidth": 0,
              "ticks": ""
             }
            },
            "type": "scatterpolargl"
           }
          ],
          "scatterternary": [
           {
            "marker": {
             "colorbar": {
              "outlinewidth": 0,
              "ticks": ""
             }
            },
            "type": "scatterternary"
           }
          ],
          "surface": [
           {
            "colorbar": {
             "outlinewidth": 0,
             "ticks": ""
            },
            "colorscale": [
             [
              0,
              "#0d0887"
             ],
             [
              0.1111111111111111,
              "#46039f"
             ],
             [
              0.2222222222222222,
              "#7201a8"
             ],
             [
              0.3333333333333333,
              "#9c179e"
             ],
             [
              0.4444444444444444,
              "#bd3786"
             ],
             [
              0.5555555555555556,
              "#d8576b"
             ],
             [
              0.6666666666666666,
              "#ed7953"
             ],
             [
              0.7777777777777778,
              "#fb9f3a"
             ],
             [
              0.8888888888888888,
              "#fdca26"
             ],
             [
              1,
              "#f0f921"
             ]
            ],
            "type": "surface"
           }
          ],
          "table": [
           {
            "cells": {
             "fill": {
              "color": "#EBF0F8"
             },
             "line": {
              "color": "white"
             }
            },
            "header": {
             "fill": {
              "color": "#C8D4E3"
             },
             "line": {
              "color": "white"
             }
            },
            "type": "table"
           }
          ]
         },
         "layout": {
          "annotationdefaults": {
           "arrowcolor": "#2a3f5f",
           "arrowhead": 0,
           "arrowwidth": 1
          },
          "autotypenumbers": "strict",
          "coloraxis": {
           "colorbar": {
            "outlinewidth": 0,
            "ticks": ""
           }
          },
          "colorscale": {
           "diverging": [
            [
             0,
             "#8e0152"
            ],
            [
             0.1,
             "#c51b7d"
            ],
            [
             0.2,
             "#de77ae"
            ],
            [
             0.3,
             "#f1b6da"
            ],
            [
             0.4,
             "#fde0ef"
            ],
            [
             0.5,
             "#f7f7f7"
            ],
            [
             0.6,
             "#e6f5d0"
            ],
            [
             0.7,
             "#b8e186"
            ],
            [
             0.8,
             "#7fbc41"
            ],
            [
             0.9,
             "#4d9221"
            ],
            [
             1,
             "#276419"
            ]
           ],
           "sequential": [
            [
             0,
             "#0d0887"
            ],
            [
             0.1111111111111111,
             "#46039f"
            ],
            [
             0.2222222222222222,
             "#7201a8"
            ],
            [
             0.3333333333333333,
             "#9c179e"
            ],
            [
             0.4444444444444444,
             "#bd3786"
            ],
            [
             0.5555555555555556,
             "#d8576b"
            ],
            [
             0.6666666666666666,
             "#ed7953"
            ],
            [
             0.7777777777777778,
             "#fb9f3a"
            ],
            [
             0.8888888888888888,
             "#fdca26"
            ],
            [
             1,
             "#f0f921"
            ]
           ],
           "sequentialminus": [
            [
             0,
             "#0d0887"
            ],
            [
             0.1111111111111111,
             "#46039f"
            ],
            [
             0.2222222222222222,
             "#7201a8"
            ],
            [
             0.3333333333333333,
             "#9c179e"
            ],
            [
             0.4444444444444444,
             "#bd3786"
            ],
            [
             0.5555555555555556,
             "#d8576b"
            ],
            [
             0.6666666666666666,
             "#ed7953"
            ],
            [
             0.7777777777777778,
             "#fb9f3a"
            ],
            [
             0.8888888888888888,
             "#fdca26"
            ],
            [
             1,
             "#f0f921"
            ]
           ]
          },
          "colorway": [
           "#636efa",
           "#EF553B",
           "#00cc96",
           "#ab63fa",
           "#FFA15A",
           "#19d3f3",
           "#FF6692",
           "#B6E880",
           "#FF97FF",
           "#FECB52"
          ],
          "font": {
           "color": "#2a3f5f"
          },
          "geo": {
           "bgcolor": "white",
           "lakecolor": "white",
           "landcolor": "#E5ECF6",
           "showlakes": true,
           "showland": true,
           "subunitcolor": "white"
          },
          "hoverlabel": {
           "align": "left"
          },
          "hovermode": "closest",
          "mapbox": {
           "style": "light"
          },
          "paper_bgcolor": "white",
          "plot_bgcolor": "#E5ECF6",
          "polar": {
           "angularaxis": {
            "gridcolor": "white",
            "linecolor": "white",
            "ticks": ""
           },
           "bgcolor": "#E5ECF6",
           "radialaxis": {
            "gridcolor": "white",
            "linecolor": "white",
            "ticks": ""
           }
          },
          "scene": {
           "xaxis": {
            "backgroundcolor": "#E5ECF6",
            "gridcolor": "white",
            "gridwidth": 2,
            "linecolor": "white",
            "showbackground": true,
            "ticks": "",
            "zerolinecolor": "white"
           },
           "yaxis": {
            "backgroundcolor": "#E5ECF6",
            "gridcolor": "white",
            "gridwidth": 2,
            "linecolor": "white",
            "showbackground": true,
            "ticks": "",
            "zerolinecolor": "white"
           },
           "zaxis": {
            "backgroundcolor": "#E5ECF6",
            "gridcolor": "white",
            "gridwidth": 2,
            "linecolor": "white",
            "showbackground": true,
            "ticks": "",
            "zerolinecolor": "white"
           }
          },
          "shapedefaults": {
           "line": {
            "color": "#2a3f5f"
           }
          },
          "ternary": {
           "aaxis": {
            "gridcolor": "white",
            "linecolor": "white",
            "ticks": ""
           },
           "baxis": {
            "gridcolor": "white",
            "linecolor": "white",
            "ticks": ""
           },
           "bgcolor": "#E5ECF6",
           "caxis": {
            "gridcolor": "white",
            "linecolor": "white",
            "ticks": ""
           }
          },
          "title": {
           "x": 0.05
          },
          "xaxis": {
           "automargin": true,
           "gridcolor": "white",
           "linecolor": "white",
           "ticks": "",
           "title": {
            "standoff": 15
           },
           "zerolinecolor": "white",
           "zerolinewidth": 2
          },
          "yaxis": {
           "automargin": true,
           "gridcolor": "white",
           "linecolor": "white",
           "ticks": "",
           "title": {
            "standoff": 15
           },
           "zerolinecolor": "white",
           "zerolinewidth": 2
          }
         }
        },
        "title": {
         "text": "Missing Values Per Attribute (Sorted by Percentage)"
        },
        "uniformtext": {
         "minsize": 8,
         "mode": "hide"
        },
        "xaxis": {
         "anchor": "y",
         "domain": [
          0,
          1
         ],
         "tickangle": 45,
         "title": {
          "text": "Attributes"
         }
        },
        "yaxis": {
         "anchor": "x",
         "domain": [
          0,
          1
         ],
         "title": {
          "text": "Percentage Missing (%)"
         }
        }
       }
      }
     },
     "metadata": {},
     "output_type": "display_data"
    },
    {
     "data": {
      "application/vnd.plotly.v1+json": {
       "config": {
        "plotlyServerURL": "https://plot.ly"
       },
       "data": [
        {
         "alignmentgroup": "True",
         "hovertemplate": "Number of Missing Values=%{x}<br>Number of Rows=%{text}<extra></extra>",
         "legendgroup": "",
         "marker": {
          "color": "#636efa",
          "pattern": {
           "shape": ""
          }
         },
         "name": "",
         "offsetgroup": "",
         "orientation": "v",
         "showlegend": false,
         "text": [
          226,
          708371,
          16,
          38,
          119724,
          13,
          50189
         ],
         "textposition": "outside",
         "texttemplate": "%{text}",
         "type": "bar",
         "x": [
          0,
          1,
          2,
          3,
          4,
          6,
          7
         ],
         "xaxis": "x",
         "y": [
          226,
          708371,
          16,
          38,
          119724,
          13,
          50189
         ],
         "yaxis": "y"
        }
       ],
       "layout": {
        "barmode": "relative",
        "legend": {
         "tracegroupgap": 0
        },
        "showlegend": false,
        "template": {
         "data": {
          "bar": [
           {
            "error_x": {
             "color": "#2a3f5f"
            },
            "error_y": {
             "color": "#2a3f5f"
            },
            "marker": {
             "line": {
              "color": "#E5ECF6",
              "width": 0.5
             },
             "pattern": {
              "fillmode": "overlay",
              "size": 10,
              "solidity": 0.2
             }
            },
            "type": "bar"
           }
          ],
          "barpolar": [
           {
            "marker": {
             "line": {
              "color": "#E5ECF6",
              "width": 0.5
             },
             "pattern": {
              "fillmode": "overlay",
              "size": 10,
              "solidity": 0.2
             }
            },
            "type": "barpolar"
           }
          ],
          "carpet": [
           {
            "aaxis": {
             "endlinecolor": "#2a3f5f",
             "gridcolor": "white",
             "linecolor": "white",
             "minorgridcolor": "white",
             "startlinecolor": "#2a3f5f"
            },
            "baxis": {
             "endlinecolor": "#2a3f5f",
             "gridcolor": "white",
             "linecolor": "white",
             "minorgridcolor": "white",
             "startlinecolor": "#2a3f5f"
            },
            "type": "carpet"
           }
          ],
          "choropleth": [
           {
            "colorbar": {
             "outlinewidth": 0,
             "ticks": ""
            },
            "type": "choropleth"
           }
          ],
          "contour": [
           {
            "colorbar": {
             "outlinewidth": 0,
             "ticks": ""
            },
            "colorscale": [
             [
              0,
              "#0d0887"
             ],
             [
              0.1111111111111111,
              "#46039f"
             ],
             [
              0.2222222222222222,
              "#7201a8"
             ],
             [
              0.3333333333333333,
              "#9c179e"
             ],
             [
              0.4444444444444444,
              "#bd3786"
             ],
             [
              0.5555555555555556,
              "#d8576b"
             ],
             [
              0.6666666666666666,
              "#ed7953"
             ],
             [
              0.7777777777777778,
              "#fb9f3a"
             ],
             [
              0.8888888888888888,
              "#fdca26"
             ],
             [
              1,
              "#f0f921"
             ]
            ],
            "type": "contour"
           }
          ],
          "contourcarpet": [
           {
            "colorbar": {
             "outlinewidth": 0,
             "ticks": ""
            },
            "type": "contourcarpet"
           }
          ],
          "heatmap": [
           {
            "colorbar": {
             "outlinewidth": 0,
             "ticks": ""
            },
            "colorscale": [
             [
              0,
              "#0d0887"
             ],
             [
              0.1111111111111111,
              "#46039f"
             ],
             [
              0.2222222222222222,
              "#7201a8"
             ],
             [
              0.3333333333333333,
              "#9c179e"
             ],
             [
              0.4444444444444444,
              "#bd3786"
             ],
             [
              0.5555555555555556,
              "#d8576b"
             ],
             [
              0.6666666666666666,
              "#ed7953"
             ],
             [
              0.7777777777777778,
              "#fb9f3a"
             ],
             [
              0.8888888888888888,
              "#fdca26"
             ],
             [
              1,
              "#f0f921"
             ]
            ],
            "type": "heatmap"
           }
          ],
          "heatmapgl": [
           {
            "colorbar": {
             "outlinewidth": 0,
             "ticks": ""
            },
            "colorscale": [
             [
              0,
              "#0d0887"
             ],
             [
              0.1111111111111111,
              "#46039f"
             ],
             [
              0.2222222222222222,
              "#7201a8"
             ],
             [
              0.3333333333333333,
              "#9c179e"
             ],
             [
              0.4444444444444444,
              "#bd3786"
             ],
             [
              0.5555555555555556,
              "#d8576b"
             ],
             [
              0.6666666666666666,
              "#ed7953"
             ],
             [
              0.7777777777777778,
              "#fb9f3a"
             ],
             [
              0.8888888888888888,
              "#fdca26"
             ],
             [
              1,
              "#f0f921"
             ]
            ],
            "type": "heatmapgl"
           }
          ],
          "histogram": [
           {
            "marker": {
             "pattern": {
              "fillmode": "overlay",
              "size": 10,
              "solidity": 0.2
             }
            },
            "type": "histogram"
           }
          ],
          "histogram2d": [
           {
            "colorbar": {
             "outlinewidth": 0,
             "ticks": ""
            },
            "colorscale": [
             [
              0,
              "#0d0887"
             ],
             [
              0.1111111111111111,
              "#46039f"
             ],
             [
              0.2222222222222222,
              "#7201a8"
             ],
             [
              0.3333333333333333,
              "#9c179e"
             ],
             [
              0.4444444444444444,
              "#bd3786"
             ],
             [
              0.5555555555555556,
              "#d8576b"
             ],
             [
              0.6666666666666666,
              "#ed7953"
             ],
             [
              0.7777777777777778,
              "#fb9f3a"
             ],
             [
              0.8888888888888888,
              "#fdca26"
             ],
             [
              1,
              "#f0f921"
             ]
            ],
            "type": "histogram2d"
           }
          ],
          "histogram2dcontour": [
           {
            "colorbar": {
             "outlinewidth": 0,
             "ticks": ""
            },
            "colorscale": [
             [
              0,
              "#0d0887"
             ],
             [
              0.1111111111111111,
              "#46039f"
             ],
             [
              0.2222222222222222,
              "#7201a8"
             ],
             [
              0.3333333333333333,
              "#9c179e"
             ],
             [
              0.4444444444444444,
              "#bd3786"
             ],
             [
              0.5555555555555556,
              "#d8576b"
             ],
             [
              0.6666666666666666,
              "#ed7953"
             ],
             [
              0.7777777777777778,
              "#fb9f3a"
             ],
             [
              0.8888888888888888,
              "#fdca26"
             ],
             [
              1,
              "#f0f921"
             ]
            ],
            "type": "histogram2dcontour"
           }
          ],
          "mesh3d": [
           {
            "colorbar": {
             "outlinewidth": 0,
             "ticks": ""
            },
            "type": "mesh3d"
           }
          ],
          "parcoords": [
           {
            "line": {
             "colorbar": {
              "outlinewidth": 0,
              "ticks": ""
             }
            },
            "type": "parcoords"
           }
          ],
          "pie": [
           {
            "automargin": true,
            "type": "pie"
           }
          ],
          "scatter": [
           {
            "fillpattern": {
             "fillmode": "overlay",
             "size": 10,
             "solidity": 0.2
            },
            "type": "scatter"
           }
          ],
          "scatter3d": [
           {
            "line": {
             "colorbar": {
              "outlinewidth": 0,
              "ticks": ""
             }
            },
            "marker": {
             "colorbar": {
              "outlinewidth": 0,
              "ticks": ""
             }
            },
            "type": "scatter3d"
           }
          ],
          "scattercarpet": [
           {
            "marker": {
             "colorbar": {
              "outlinewidth": 0,
              "ticks": ""
             }
            },
            "type": "scattercarpet"
           }
          ],
          "scattergeo": [
           {
            "marker": {
             "colorbar": {
              "outlinewidth": 0,
              "ticks": ""
             }
            },
            "type": "scattergeo"
           }
          ],
          "scattergl": [
           {
            "marker": {
             "colorbar": {
              "outlinewidth": 0,
              "ticks": ""
             }
            },
            "type": "scattergl"
           }
          ],
          "scattermapbox": [
           {
            "marker": {
             "colorbar": {
              "outlinewidth": 0,
              "ticks": ""
             }
            },
            "type": "scattermapbox"
           }
          ],
          "scatterpolar": [
           {
            "marker": {
             "colorbar": {
              "outlinewidth": 0,
              "ticks": ""
             }
            },
            "type": "scatterpolar"
           }
          ],
          "scatterpolargl": [
           {
            "marker": {
             "colorbar": {
              "outlinewidth": 0,
              "ticks": ""
             }
            },
            "type": "scatterpolargl"
           }
          ],
          "scatterternary": [
           {
            "marker": {
             "colorbar": {
              "outlinewidth": 0,
              "ticks": ""
             }
            },
            "type": "scatterternary"
           }
          ],
          "surface": [
           {
            "colorbar": {
             "outlinewidth": 0,
             "ticks": ""
            },
            "colorscale": [
             [
              0,
              "#0d0887"
             ],
             [
              0.1111111111111111,
              "#46039f"
             ],
             [
              0.2222222222222222,
              "#7201a8"
             ],
             [
              0.3333333333333333,
              "#9c179e"
             ],
             [
              0.4444444444444444,
              "#bd3786"
             ],
             [
              0.5555555555555556,
              "#d8576b"
             ],
             [
              0.6666666666666666,
              "#ed7953"
             ],
             [
              0.7777777777777778,
              "#fb9f3a"
             ],
             [
              0.8888888888888888,
              "#fdca26"
             ],
             [
              1,
              "#f0f921"
             ]
            ],
            "type": "surface"
           }
          ],
          "table": [
           {
            "cells": {
             "fill": {
              "color": "#EBF0F8"
             },
             "line": {
              "color": "white"
             }
            },
            "header": {
             "fill": {
              "color": "#C8D4E3"
             },
             "line": {
              "color": "white"
             }
            },
            "type": "table"
           }
          ]
         },
         "layout": {
          "annotationdefaults": {
           "arrowcolor": "#2a3f5f",
           "arrowhead": 0,
           "arrowwidth": 1
          },
          "autotypenumbers": "strict",
          "coloraxis": {
           "colorbar": {
            "outlinewidth": 0,
            "ticks": ""
           }
          },
          "colorscale": {
           "diverging": [
            [
             0,
             "#8e0152"
            ],
            [
             0.1,
             "#c51b7d"
            ],
            [
             0.2,
             "#de77ae"
            ],
            [
             0.3,
             "#f1b6da"
            ],
            [
             0.4,
             "#fde0ef"
            ],
            [
             0.5,
             "#f7f7f7"
            ],
            [
             0.6,
             "#e6f5d0"
            ],
            [
             0.7,
             "#b8e186"
            ],
            [
             0.8,
             "#7fbc41"
            ],
            [
             0.9,
             "#4d9221"
            ],
            [
             1,
             "#276419"
            ]
           ],
           "sequential": [
            [
             0,
             "#0d0887"
            ],
            [
             0.1111111111111111,
             "#46039f"
            ],
            [
             0.2222222222222222,
             "#7201a8"
            ],
            [
             0.3333333333333333,
             "#9c179e"
            ],
            [
             0.4444444444444444,
             "#bd3786"
            ],
            [
             0.5555555555555556,
             "#d8576b"
            ],
            [
             0.6666666666666666,
             "#ed7953"
            ],
            [
             0.7777777777777778,
             "#fb9f3a"
            ],
            [
             0.8888888888888888,
             "#fdca26"
            ],
            [
             1,
             "#f0f921"
            ]
           ],
           "sequentialminus": [
            [
             0,
             "#0d0887"
            ],
            [
             0.1111111111111111,
             "#46039f"
            ],
            [
             0.2222222222222222,
             "#7201a8"
            ],
            [
             0.3333333333333333,
             "#9c179e"
            ],
            [
             0.4444444444444444,
             "#bd3786"
            ],
            [
             0.5555555555555556,
             "#d8576b"
            ],
            [
             0.6666666666666666,
             "#ed7953"
            ],
            [
             0.7777777777777778,
             "#fb9f3a"
            ],
            [
             0.8888888888888888,
             "#fdca26"
            ],
            [
             1,
             "#f0f921"
            ]
           ]
          },
          "colorway": [
           "#636efa",
           "#EF553B",
           "#00cc96",
           "#ab63fa",
           "#FFA15A",
           "#19d3f3",
           "#FF6692",
           "#B6E880",
           "#FF97FF",
           "#FECB52"
          ],
          "font": {
           "color": "#2a3f5f"
          },
          "geo": {
           "bgcolor": "white",
           "lakecolor": "white",
           "landcolor": "#E5ECF6",
           "showlakes": true,
           "showland": true,
           "subunitcolor": "white"
          },
          "hoverlabel": {
           "align": "left"
          },
          "hovermode": "closest",
          "mapbox": {
           "style": "light"
          },
          "paper_bgcolor": "white",
          "plot_bgcolor": "#E5ECF6",
          "polar": {
           "angularaxis": {
            "gridcolor": "white",
            "linecolor": "white",
            "ticks": ""
           },
           "bgcolor": "#E5ECF6",
           "radialaxis": {
            "gridcolor": "white",
            "linecolor": "white",
            "ticks": ""
           }
          },
          "scene": {
           "xaxis": {
            "backgroundcolor": "#E5ECF6",
            "gridcolor": "white",
            "gridwidth": 2,
            "linecolor": "white",
            "showbackground": true,
            "ticks": "",
            "zerolinecolor": "white"
           },
           "yaxis": {
            "backgroundcolor": "#E5ECF6",
            "gridcolor": "white",
            "gridwidth": 2,
            "linecolor": "white",
            "showbackground": true,
            "ticks": "",
            "zerolinecolor": "white"
           },
           "zaxis": {
            "backgroundcolor": "#E5ECF6",
            "gridcolor": "white",
            "gridwidth": 2,
            "linecolor": "white",
            "showbackground": true,
            "ticks": "",
            "zerolinecolor": "white"
           }
          },
          "shapedefaults": {
           "line": {
            "color": "#2a3f5f"
           }
          },
          "ternary": {
           "aaxis": {
            "gridcolor": "white",
            "linecolor": "white",
            "ticks": ""
           },
           "baxis": {
            "gridcolor": "white",
            "linecolor": "white",
            "ticks": ""
           },
           "bgcolor": "#E5ECF6",
           "caxis": {
            "gridcolor": "white",
            "linecolor": "white",
            "ticks": ""
           }
          },
          "title": {
           "x": 0.05
          },
          "xaxis": {
           "automargin": true,
           "gridcolor": "white",
           "linecolor": "white",
           "ticks": "",
           "title": {
            "standoff": 15
           },
           "zerolinecolor": "white",
           "zerolinewidth": 2
          },
          "yaxis": {
           "automargin": true,
           "gridcolor": "white",
           "linecolor": "white",
           "ticks": "",
           "title": {
            "standoff": 15
           },
           "zerolinecolor": "white",
           "zerolinewidth": 2
          }
         }
        },
        "title": {
         "text": "Distribution of Missing Values Per Row"
        },
        "uniformtext": {
         "minsize": 8,
         "mode": "hide"
        },
        "xaxis": {
         "anchor": "y",
         "domain": [
          0,
          1
         ],
         "title": {
          "text": "Number of Missing Values"
         }
        },
        "yaxis": {
         "anchor": "x",
         "domain": [
          0,
          1
         ],
         "title": {
          "text": "Number of Rows"
         }
        }
       }
      }
     },
     "metadata": {},
     "output_type": "display_data"
    },
    {
     "data": {
      "text/plain": [
       "(                           Missing_Count  Percentage_Missing\n",
       " Attribute                                                   \n",
       " date_of_death                     878300           99.968472\n",
       " time_started_work                 110808           12.612213\n",
       " time_started_work_hours           110808           12.612213\n",
       " time_started_work_minutes         110808           12.612213\n",
       " time_of_incident                  109358           12.447173\n",
       " time_of_incident_hours            109358           12.447173\n",
       " time_of_incident_minutes          109358           12.447173\n",
       " ein                                   16            0.001821,\n",
       "                Row_Count\n",
       " Missing_Count           \n",
       " 0                    226\n",
       " 1                 708371\n",
       " 2                     16\n",
       " 3                     38\n",
       " 4                 119724\n",
       " 6                     13\n",
       " 7                  50189)"
      ]
     },
     "execution_count": 22,
     "metadata": {},
     "output_type": "execute_result"
    }
   ],
   "source": [
    "analyze_and_plot_missing_values(df_preproc)"
   ]
  },
  {
   "cell_type": "markdown",
   "metadata": {},
   "source": [
    "## Exercise 4 – Data (What) Abstraction"
   ]
  },
  {
   "cell_type": "markdown",
   "metadata": {},
   "source": [
    "| id | Variable Name               | Description                                                                                                                                                                        | Data Type         |\n",
    "|----|-----------------------------|------------------------------------------------------------------------------------------------------------------------------------------------------------------------------------|-------------------|\n",
    "| 1  | establishment_id           | Identifier for the establishment.                                                                                                                                                  | string            |\n",
    "| 2  | establishment_name         | The name of the establishment reporting data.                                                                                                                                       | string            |\n",
    "| 3  | ein                        | Employer Identification Number (EIN) is also known as Federal Tax Identification Number. Has 9 digit format. If not given, states “No EIN Given”.                                   | float64            |\n",
    "| 4  | company_name               | The name of the company that owns the establishment.                                                                                                                               | string            |\n",
    "| 5  | street_address             | The street address of the establishment. If not given, states “Not provided”.                                                                                                      | string            |\n",
    "| 6  | city                       | The city where the establishment is located.                                                                                                                                       | string            |\n",
    "| 7  | state                      | Full name of the state or territory where the establishment is located.                                                                                                            | category          |\n",
    "| 8  | zip_code                   | The full zip code for the establishment. Can be converted to numbers, but stored as a string for interpretability.                                                                 | string            |\n",
    "| 9  | naics_code                 | The North American Industry Classification System (NAICS) code for the establishment. Data use a 2012, 2017, or 2022 NAICS code.                                                  | string            |\n",
    "| 10 | naics_year                 | The calendar year reflecting the version of NAICS codes used by the establishment [2012, 2017, or 2022]. Invalid NAICS codes are shown as “Invalid NAICS codes”.                   | category          |\n",
    "| 11 | industry_description       | The industry description for the establishment.                                                                                                                                    | string            |\n",
    "| 12 | establishment_type         | Type of establishment: Private industry, State government entity, Local government entity.                                                                                         | category          |\n",
    "| 13 | size                       | The size of the establishment is employer-reported and based on the maximum number of employees who worked there at any point in the year: <20, 20-249, 20-99, 100-249, 250+.      | category          |\n",
    "| 14 | annual_average_employees   | The annual average number of employees at the establishment. Note: This field should not be summed across cases in an establishment.                                               | int32             |\n",
    "| 15 | total_hours_worked         | The total hours worked by all employees at the establishment. Note: This field should not be summed across cases in an establishment.                                              | int64             |\n",
    "| 16 | case_number                | An employer-assigned case number for each unique case (i.e., injured/ill employee).                                                                                                | string            |\n",
    "| 17 | job_description            | The job title of the injured/ill employee.                                                                                                                                          | string            |\n",
    "| 18 | soc_code                   | The 2018 Standard Occupation Code (SOC) assigned by the NIOSH Industry and Occupation Computerized Coding System (NIOCCS) or OSHA.                                                  | string            |\n",
    "| 19 | soc_description            | Text description of the 2018 SOC Code.                                                                                                                                              | string            |\n",
    "| 20 | soc_reviewed               | Indicator variable as to whether the SOC code was manually reviewed before posting: Not reviewed, Reviewed, Not SOC coded.                                                         | category          |\n",
    "| 21 | soc_probability            | The score given by the NIOSH Industry and Occupation Computerized Coding System (NIOCCS) for the expected accuracy of the SOC code. Codes assigned directly by OSHA are given a score of 5. | float64           |\n",
    "| 22 | date_of_incident           | The date the incident occurred.                                                                                                                                                    | datetime64[ns]    |\n",
    "| 23 | incident_outcome           | The most serious outcome that occurred: Death, Days away from work (DAFW), Job transfer or restriction, Other recordable case.                                                     | category          |\n",
    "| 24 | dafw_num_away              | The number of days away from work the employee required to recover from the incident before returning to work.                                                                      | int16             |\n",
    "| 25 | djtr_num_tr                | The number of days the employee needed to be transferred or reassigned to another job or placed on restricted duty due to the incident.                                             | int16             |\n",
    "| 26 | type_of_incident           | The type of incident that occurred: Injury, Skin disorder, Respiratory condition, Poisoning, Hearing Loss, All other illness.                                                      | category          |\n",
    "| 27 | time_started_work          | The time the affected employee started work prior to the incident.                                                                                                                 | datetime64[ns]    |\n",
    "| 28 | time_of_incident           | The time the incident occurred. Can have none values.                                                                                                                                                   | datetime64[ns]    |\n",
    "| 29 | time_unknown               | Was the time of the incident unknown? Yes, No.                                                                                                                                      | category          |\n",
    "| 30 | date_of_death              | The date the death occurred, if applicable. Can have none values.                                                                                                                                       | datetime64[ns]    |\n",
    "| 31 | created_timestamp          | Timestamp when the record was created. Can have none values.                                                                                                                                             | datetime64[ns]    |\n",
    "| 32 | time_started_work_minutes  | The minute component of the time the affected employee started work prior to the incident. Can have missing values.                           | float64           |\n",
    "| 33 | time_of_incident_hours     | The hour component of the time the incident occurred. Can have missing values.                                                                | float64           |\n",
    "| 34 | time_of_incident_minutes   | The minute component of the time the incident occurred. Can have missing values.                                                              | float64           |\n",
    "| 35 | soc_description_#   | #th level of description based on soc codes                                                              | category           |\n"
   ]
  },
  {
   "cell_type": "code",
   "execution_count": null,
   "metadata": {},
   "outputs": [],
   "source": []
  }
 ],
 "metadata": {
  "kernelspec": {
   "display_name": "Python 3",
   "language": "python",
   "name": "python3"
  },
  "language_info": {
   "codemirror_mode": {
    "name": "ipython",
    "version": 3
   },
   "file_extension": ".py",
   "mimetype": "text/x-python",
   "name": "python",
   "nbconvert_exporter": "python",
   "pygments_lexer": "ipython3",
   "version": "3.12.3"
  }
 },
 "nbformat": 4,
 "nbformat_minor": 4
}
