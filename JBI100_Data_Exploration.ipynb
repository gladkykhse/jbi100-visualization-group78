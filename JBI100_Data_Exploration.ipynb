{
 "cells": [
  {
   "cell_type": "markdown",
   "metadata": {},
   "source": [
    "# JBI100 Visualization \n",
    "### Academic year 2024-2025\n",
    "\n",
    "## Incidents and Accidents\n",
    "Data sources:\n",
    "\n",
    "- Work-related Injury and Illness (https://www.osha.gov/Establishment-Specific-Injury-and-Illness-Data)\n"
   ]
  },
  {
   "cell_type": "code",
   "execution_count": 1,
   "metadata": {},
   "outputs": [],
   "source": [
    "# Import libraries\n",
    "import pandas as pd\n",
    "import plotly.express as px\n",
    "import numpy as np\n",
    "import os\n",
    "\n",
    "# Do not truncate tables\n",
    "pd.set_option(\"display.max_columns\", None)"
   ]
  },
  {
   "cell_type": "markdown",
   "metadata": {},
   "source": [
    "# Assignment 1"
   ]
  },
  {
   "cell_type": "markdown",
   "metadata": {},
   "source": [
    "## Exercise 1 – Data Set "
   ]
  },
  {
   "cell_type": "markdown",
   "metadata": {},
   "source": [
    "### (a) What is the information you can obtain from the data set/ data sets?"
   ]
  },
  {
   "cell_type": "markdown",
   "metadata": {},
   "source": [
    "The OSHA Injury Tracking Application (ITA) Case Detail dataset contains detailed information on work-related injuries and illnesses (each row is a case of work-related injuries or illnesses). The data includes the following types of information:\n",
    "\n",
    "#### 1. Establishment-Level Information\n",
    "- **Unique Identifiers**: Establishment ID, Employer Identification Number (EIN).\n",
    "- **Demographic Information**: Establishment name, company name, street address, city, state, zip code.\n",
    "- **Industry Classification**: North American Industry Classification System (NAICS) code, year of NAICS code used, industry description.\n",
    "- **Establishment Type**: Private industry, state government entity, or local government entity.\n",
    "- **Workforce Data**: Size of the establishment, annual average employees, total hours worked.\n",
    "\n",
    "#### 2. Incident-Level Information\n",
    "- **Incident Identifiers**: Unique case number, establishment ID linkable to 300A data.\n",
    "- **Incident Details**: Date of incident, type of incident (injury, skin disorder, etc.), time of incident, time started work prior to incident, and whether time was unknown.\n",
    "- **Outcomes**: Most serious outcome (e.g., death, days away from work, job transfer/restriction), number of days away from work, number of restricted duty or transfer days.\n",
    "- **Fatalities**: Date of death (if applicable).\n",
    "\n",
    "#### 3. Narrative Descriptions\n",
    "- **Incident Details**: What the employee was doing before the incident, how the incident happened, injury/illness description, and the object/substance directly harming the employee.\n",
    "\n",
    "#### 4. Occupational Coding Information\n",
    "- **Job Information**: Job title of the injured/ill employee.\n",
    "- **Standard Occupation Code (SOC)**:\n",
    "  - SOC Code and Description: Assigned using NIOCCS.\n",
    "  - SOC Probability: Confidence score for SOC coding.\n",
    "  - SOC Reviewed: Indicates whether the SOC code was reviewed or reassigned.\n",
    "\n",
    "#### 5. System Metadata\n",
    "- **Submission Information**: Created timestamp, year of filing.\n",
    "- **Data Quality Indicators**: Codes for missing or invalid entries (e.g., \"9999\" for SOC code when unassignable).\n"
   ]
  },
  {
   "cell_type": "markdown",
   "metadata": {},
   "source": [
    "### (b) What are the attributes in the data and what is their meaning?"
   ]
  },
  {
   "cell_type": "markdown",
   "metadata": {},
   "source": [
    "The OSHA Injury Tracking Application (ITA) Case Detail dataset includes the following attributes, categorized by their context and meaning:\n",
    "\n",
    "#### 1. **Establishment Information**\n",
    "- **`establishment_ID`**: Unique identifier for each establishment.\n",
    "- **`establishment_name`**: Name of the establishment reporting the data.\n",
    "- **`ein`**: Employer Identification Number (Federal Tax Identification Number).\n",
    "- **`company_name`**: Name of the parent company of the establishment.\n",
    "- **`street_address`**: Street address of the establishment.\n",
    "- **`city`**: City where the establishment is located.\n",
    "- **`state`**: State or territory where the establishment is located.\n",
    "- **`zip_code`**: Full zip code of the establishment.\n",
    "- **`naics_code`**: North American Industry Classification System (NAICS) code for the establishment.\n",
    "- **`naics_year`**: Year version of NAICS code used.\n",
    "- **`industry_description`**: Industry description based on the NAICS code.\n",
    "- **`establishment_type`**: Type of establishment:\n",
    "  - 1 = Private industry\n",
    "  - 2 = State government entity\n",
    "  - 3 = Local government entity\n",
    "- **`size`**: Size of the establishment based on maximum employees:\n",
    "  - 1 = <20 employees\n",
    "  - 21 = 20-99 employees\n",
    "  - 22 = 100-249 employees\n",
    "  - 3 = 250+ employees\n",
    "- **`annual_average_employees`**: Annual average number of employees.\n",
    "- **`total_hours_worked`**: Total hours worked by all employees at the establishment.\n",
    "\n",
    "#### 2. **Incident Information**\n",
    "- **`case_number`**: Employer-assigned unique case number for each injury/illness.\n",
    "- **`date_of_incident`**: Date when the incident occurred.\n",
    "- **`incident_outcome`**: Most serious outcome of the incident:\n",
    "  - 1 = Death\n",
    "  - 2 = Days away from work (DAFW)\n",
    "  - 3 = Job transfer or restriction\n",
    "  - 4 = Other recordable case\n",
    "- **`dawf_num_away`**: Number of days away from work due to the incident.\n",
    "- **`djtr_num_tr`**: Number of days on restricted duty or job transfer due to the incident.\n",
    "- **`type_of_incident`**: Type of incident:\n",
    "  - 1 = Injury\n",
    "  - 2 = Skin disorder\n",
    "  - 3 = Respiratory condition\n",
    "  - 4 = Poisoning\n",
    "  - 5 = Hearing loss\n",
    "  - 6 = All other illness\n",
    "- **`time_started_work`**: Time the employee began work prior to the incident.\n",
    "- **`time_of_incident`**: Time the incident occurred.\n",
    "- **`time_unknown`**: Indicator if the time of the incident is unknown:\n",
    "  - 0 = No\n",
    "  - 1 = Yes\n",
    "- **`date_of_death`**: Date of death, if applicable.\n",
    "\n",
    "#### 3. **Narrative Descriptions**\n",
    "- **`incident_description`**: Description of the incident.\n",
    "- **`nar_before_incident`**: Description of what the employee was doing before the incident.\n",
    "- **`nar_what_happened`**: Description of what happened during the incident.\n",
    "- **`nar_injury_illness`**: Description of the injury or illness.\n",
    "- **`nar_object_substance`**: Description of the object or substance directly harming the employee.\n",
    "\n",
    "#### 4. **Occupational Information**\n",
    "- **`job_description`**: Job title of the injured/ill employee.\n",
    "- **`SOC_code`**: Standard Occupation Code assigned by NIOCCS or OSHA.\n",
    "- **`SOC_description`**: Text description of the SOC code.\n",
    "- **`SOC_probability`**: Confidence score for the SOC coding (5 indicates a manually reassigned code).\n",
    "- **`SOC_reviewed`**: Indicator of whether the SOC code was reviewed:\n",
    "  - 0 = Not reviewed, NIOCCS coded\n",
    "  - 1 = Reviewed by OSHA\n",
    "  - 2 = Not SOC coded (SOC = \"9999\")\n",
    "\n",
    "#### 5. **System Metadata**\n",
    "- **`created_timestamp`**: Timestamp when the record was submitted.\n",
    "- **`year_of_filing`**: Year in which the reported injuries/illnesses occurred."
   ]
  },
  {
   "cell_type": "markdown",
   "metadata": {},
   "source": [
    "### (c) Write a small parsing function that can read the data position (column, row) from the file format you selected. "
   ]
  },
  {
   "cell_type": "code",
   "execution_count": 2,
   "metadata": {},
   "outputs": [],
   "source": [
    "def parse_dataset():\n",
    "    dataset_path = os.path.join(\n",
    "        \"Work-related Injury and Illness\",\n",
    "        \"ITA Case Detail Data 2023 through 8-31-2023.csv\",\n",
    "    )\n",
    "    return pd.read_csv(\n",
    "        dataset_path,\n",
    "        delimiter=\",\",\n",
    "        low_memory=False,\n",
    "        encoding=\"utf-8\",\n",
    "        dtype={\"zip_code\": \"string\", \"naics_code\": \"string\", \"naics_year\": \"string\"},\n",
    "        index_col=\"id\",\n",
    "    )\n",
    "\n",
    "\n",
    "df = parse_dataset()"
   ]
  },
  {
   "cell_type": "code",
   "execution_count": 3,
   "metadata": {},
   "outputs": [
    {
     "name": "stdout",
     "output_type": "stream",
     "text": [
      "<class 'pandas.core.frame.DataFrame'>\n",
      "Index: 889447 entries, 446827 to 900939\n",
      "Data columns (total 32 columns):\n",
      " #   Column                    Non-Null Count   Dtype  \n",
      "---  ------                    --------------   -----  \n",
      " 0   establishment_id          889447 non-null  int64  \n",
      " 1   establishment_name        889447 non-null  object \n",
      " 2   ein                       812922 non-null  object \n",
      " 3   company_name              840391 non-null  object \n",
      " 4   street_address            889446 non-null  object \n",
      " 5   city                      889447 non-null  object \n",
      " 6   state                     889447 non-null  object \n",
      " 7   zip_code                  889447 non-null  string \n",
      " 8   naics_code                889447 non-null  string \n",
      " 9   naics_year                888174 non-null  string \n",
      " 10  industry_description      829648 non-null  object \n",
      " 11  establishment_type        887563 non-null  float64\n",
      " 12  size                      889447 non-null  int64  \n",
      " 13  annual_average_employees  889447 non-null  int64  \n",
      " 14  total_hours_worked        889447 non-null  int64  \n",
      " 15  case_number               889434 non-null  object \n",
      " 16  job_description           885793 non-null  object \n",
      " 17  soc_code                  889447 non-null  object \n",
      " 18  soc_description           889447 non-null  object \n",
      " 19  soc_reviewed              889447 non-null  int64  \n",
      " 20  soc_probability           889447 non-null  float64\n",
      " 21  date_of_incident          889447 non-null  object \n",
      " 22  incident_outcome          889447 non-null  int64  \n",
      " 23  dafw_num_away             889447 non-null  int64  \n",
      " 24  djtr_num_tr               889447 non-null  int64  \n",
      " 25  type_of_incident          889447 non-null  int64  \n",
      " 26  time_started_work         777556 non-null  object \n",
      " 27  time_of_incident          778479 non-null  object \n",
      " 28  time_unknown              887398 non-null  float64\n",
      " 29  date_of_death             279 non-null     object \n",
      " 30  created_timestamp         889447 non-null  object \n",
      " 31  year_filing_for           889447 non-null  int64  \n",
      "dtypes: float64(3), int64(10), object(16), string(3)\n",
      "memory usage: 223.9+ MB\n"
     ]
    }
   ],
   "source": [
    "df.info()"
   ]
  },
  {
   "cell_type": "code",
   "execution_count": 4,
   "metadata": {},
   "outputs": [
    {
     "data": {
      "text/plain": [
       "(889447, 32)"
      ]
     },
     "execution_count": 4,
     "metadata": {},
     "output_type": "execute_result"
    }
   ],
   "source": [
    "df.shape"
   ]
  },
  {
   "cell_type": "code",
   "execution_count": 5,
   "metadata": {},
   "outputs": [
    {
     "data": {
      "text/html": [
       "<div>\n",
       "<style scoped>\n",
       "    .dataframe tbody tr th:only-of-type {\n",
       "        vertical-align: middle;\n",
       "    }\n",
       "\n",
       "    .dataframe tbody tr th {\n",
       "        vertical-align: top;\n",
       "    }\n",
       "\n",
       "    .dataframe thead th {\n",
       "        text-align: right;\n",
       "    }\n",
       "</style>\n",
       "<table border=\"1\" class=\"dataframe\">\n",
       "  <thead>\n",
       "    <tr style=\"text-align: right;\">\n",
       "      <th></th>\n",
       "      <th>establishment_id</th>\n",
       "      <th>establishment_name</th>\n",
       "      <th>ein</th>\n",
       "      <th>company_name</th>\n",
       "      <th>street_address</th>\n",
       "      <th>city</th>\n",
       "      <th>state</th>\n",
       "      <th>zip_code</th>\n",
       "      <th>naics_code</th>\n",
       "      <th>naics_year</th>\n",
       "      <th>industry_description</th>\n",
       "      <th>establishment_type</th>\n",
       "      <th>size</th>\n",
       "      <th>annual_average_employees</th>\n",
       "      <th>total_hours_worked</th>\n",
       "      <th>case_number</th>\n",
       "      <th>job_description</th>\n",
       "      <th>soc_code</th>\n",
       "      <th>soc_description</th>\n",
       "      <th>soc_reviewed</th>\n",
       "      <th>soc_probability</th>\n",
       "      <th>date_of_incident</th>\n",
       "      <th>incident_outcome</th>\n",
       "      <th>dafw_num_away</th>\n",
       "      <th>djtr_num_tr</th>\n",
       "      <th>type_of_incident</th>\n",
       "      <th>time_started_work</th>\n",
       "      <th>time_of_incident</th>\n",
       "      <th>time_unknown</th>\n",
       "      <th>date_of_death</th>\n",
       "      <th>created_timestamp</th>\n",
       "      <th>year_filing_for</th>\n",
       "    </tr>\n",
       "    <tr>\n",
       "      <th>id</th>\n",
       "      <th></th>\n",
       "      <th></th>\n",
       "      <th></th>\n",
       "      <th></th>\n",
       "      <th></th>\n",
       "      <th></th>\n",
       "      <th></th>\n",
       "      <th></th>\n",
       "      <th></th>\n",
       "      <th></th>\n",
       "      <th></th>\n",
       "      <th></th>\n",
       "      <th></th>\n",
       "      <th></th>\n",
       "      <th></th>\n",
       "      <th></th>\n",
       "      <th></th>\n",
       "      <th></th>\n",
       "      <th></th>\n",
       "      <th></th>\n",
       "      <th></th>\n",
       "      <th></th>\n",
       "      <th></th>\n",
       "      <th></th>\n",
       "      <th></th>\n",
       "      <th></th>\n",
       "      <th></th>\n",
       "      <th></th>\n",
       "      <th></th>\n",
       "      <th></th>\n",
       "      <th></th>\n",
       "      <th></th>\n",
       "    </tr>\n",
       "  </thead>\n",
       "  <tbody>\n",
       "    <tr>\n",
       "      <th>830838</th>\n",
       "      <td>1219338</td>\n",
       "      <td>WM 834</td>\n",
       "      <td>710862119</td>\n",
       "      <td>Wal-Mart Stores East, LP</td>\n",
       "      <td>810 S 37TH ST</td>\n",
       "      <td>BETHANY</td>\n",
       "      <td>MO</td>\n",
       "      <td>64424</td>\n",
       "      <td>452910</td>\n",
       "      <td>2012</td>\n",
       "      <td>Warehouse Clubs and Supercenters</td>\n",
       "      <td>1.0</td>\n",
       "      <td>22</td>\n",
       "      <td>156</td>\n",
       "      <td>276605</td>\n",
       "      <td>C3543737</td>\n",
       "      <td>STOCKER GENERAL MERCHANDISE</td>\n",
       "      <td>53-7065</td>\n",
       "      <td>Stockers and Order Fillers</td>\n",
       "      <td>1</td>\n",
       "      <td>0.997296</td>\n",
       "      <td>01/08/2023</td>\n",
       "      <td>4</td>\n",
       "      <td>0</td>\n",
       "      <td>0</td>\n",
       "      <td>1</td>\n",
       "      <td>21:51:00.000</td>\n",
       "      <td>4:15:00.000</td>\n",
       "      <td>0.0</td>\n",
       "      <td>NaN</td>\n",
       "      <td>11MAR24:21:31:00</td>\n",
       "      <td>2023</td>\n",
       "    </tr>\n",
       "    <tr>\n",
       "      <th>798682</th>\n",
       "      <td>110200</td>\n",
       "      <td>XSD</td>\n",
       "      <td>942904084</td>\n",
       "      <td>XPO Logistics Freight Inc.</td>\n",
       "      <td>50 EDGEBORO RD</td>\n",
       "      <td>EAST BRUNSWICK</td>\n",
       "      <td>NJ</td>\n",
       "      <td>08816</td>\n",
       "      <td>484122</td>\n",
       "      <td>2022</td>\n",
       "      <td>Freight Transportation</td>\n",
       "      <td>1.0</td>\n",
       "      <td>22</td>\n",
       "      <td>133</td>\n",
       "      <td>287126</td>\n",
       "      <td>4.29316E+1</td>\n",
       "      <td>Driver Sales Rep</td>\n",
       "      <td>41-3091</td>\n",
       "      <td>Sales Representatives of Services, Except Adve...</td>\n",
       "      <td>1</td>\n",
       "      <td>0.943694</td>\n",
       "      <td>03/14/2023</td>\n",
       "      <td>2</td>\n",
       "      <td>175</td>\n",
       "      <td>0</td>\n",
       "      <td>1</td>\n",
       "      <td>19:00:00.000</td>\n",
       "      <td>20:20:00.000</td>\n",
       "      <td>0.0</td>\n",
       "      <td>NaN</td>\n",
       "      <td>08MAR24:22:23:00</td>\n",
       "      <td>2023</td>\n",
       "    </tr>\n",
       "    <tr>\n",
       "      <th>664759</th>\n",
       "      <td>1196690</td>\n",
       "      <td>Murray</td>\n",
       "      <td>391629977</td>\n",
       "      <td>Saputo Cheese USA, Inc</td>\n",
       "      <td>100 East Chestnut St.</td>\n",
       "      <td>Murray</td>\n",
       "      <td>KY</td>\n",
       "      <td>42071</td>\n",
       "      <td>311511</td>\n",
       "      <td>2022</td>\n",
       "      <td>Flavored milk drinks manufacturing</td>\n",
       "      <td>1.0</td>\n",
       "      <td>3</td>\n",
       "      <td>343</td>\n",
       "      <td>680639</td>\n",
       "      <td>INJ-000815</td>\n",
       "      <td>Utility  Murray Union</td>\n",
       "      <td>9999</td>\n",
       "      <td>Uncoded</td>\n",
       "      <td>2</td>\n",
       "      <td>0.000000</td>\n",
       "      <td>07/13/2023</td>\n",
       "      <td>2</td>\n",
       "      <td>49</td>\n",
       "      <td>0</td>\n",
       "      <td>1</td>\n",
       "      <td>6:30:00.000</td>\n",
       "      <td>10:00:00.000</td>\n",
       "      <td>0.0</td>\n",
       "      <td>NaN</td>\n",
       "      <td>01MAR24:17:01:00</td>\n",
       "      <td>2023</td>\n",
       "    </tr>\n",
       "    <tr>\n",
       "      <th>334843</th>\n",
       "      <td>167724</td>\n",
       "      <td>WellStar West Georgia Medical Center</td>\n",
       "      <td>581649541</td>\n",
       "      <td>WellStar Health System, Inc.</td>\n",
       "      <td>1514 Vernon Raod</td>\n",
       "      <td>LaGrange</td>\n",
       "      <td>GA</td>\n",
       "      <td>30240</td>\n",
       "      <td>622110</td>\n",
       "      <td>2022</td>\n",
       "      <td>Hospitals, general medical and surgical</td>\n",
       "      <td>1.0</td>\n",
       "      <td>3</td>\n",
       "      <td>2031</td>\n",
       "      <td>2411341</td>\n",
       "      <td>346175</td>\n",
       "      <td>ED Tech</td>\n",
       "      <td>9999</td>\n",
       "      <td>Uncoded</td>\n",
       "      <td>2</td>\n",
       "      <td>0.000000</td>\n",
       "      <td>05/17/2023</td>\n",
       "      <td>2</td>\n",
       "      <td>1</td>\n",
       "      <td>0</td>\n",
       "      <td>1</td>\n",
       "      <td>7:00:00.000</td>\n",
       "      <td>17:20:00.000</td>\n",
       "      <td>0.0</td>\n",
       "      <td>NaN</td>\n",
       "      <td>20FEB24:19:38:00</td>\n",
       "      <td>2023</td>\n",
       "    </tr>\n",
       "    <tr>\n",
       "      <th>113270</th>\n",
       "      <td>925652</td>\n",
       "      <td>Northland Constructors of Duluth, Inc.</td>\n",
       "      <td>411451666</td>\n",
       "      <td>Northland Constructors of Duluth, Inc.</td>\n",
       "      <td>4843 Rice Lake Road</td>\n",
       "      <td>Duluth</td>\n",
       "      <td>MN</td>\n",
       "      <td>55803</td>\n",
       "      <td>237310</td>\n",
       "      <td>2022</td>\n",
       "      <td>Pavement, highway, road, street, bridge or air...</td>\n",
       "      <td>1.0</td>\n",
       "      <td>2</td>\n",
       "      <td>156</td>\n",
       "      <td>357897</td>\n",
       "      <td>8</td>\n",
       "      <td>Cement Finisher</td>\n",
       "      <td>47-2071</td>\n",
       "      <td>Paving, Surfacing, and Tamping Equipment Opera...</td>\n",
       "      <td>0</td>\n",
       "      <td>0.998629</td>\n",
       "      <td>09/28/2023</td>\n",
       "      <td>4</td>\n",
       "      <td>0</td>\n",
       "      <td>0</td>\n",
       "      <td>1</td>\n",
       "      <td>7:00:00.000</td>\n",
       "      <td>NaN</td>\n",
       "      <td>1.0</td>\n",
       "      <td>NaN</td>\n",
       "      <td>31JAN24:19:35:00</td>\n",
       "      <td>2023</td>\n",
       "    </tr>\n",
       "  </tbody>\n",
       "</table>\n",
       "</div>"
      ],
      "text/plain": [
       "        establishment_id                      establishment_name        ein  \\\n",
       "id                                                                            \n",
       "830838           1219338                                  WM 834  710862119   \n",
       "798682            110200                                     XSD  942904084   \n",
       "664759           1196690                                  Murray  391629977   \n",
       "334843            167724    WellStar West Georgia Medical Center  581649541   \n",
       "113270            925652  Northland Constructors of Duluth, Inc.  411451666   \n",
       "\n",
       "                                  company_name         street_address  \\\n",
       "id                                                                      \n",
       "830838                Wal-Mart Stores East, LP          810 S 37TH ST   \n",
       "798682              XPO Logistics Freight Inc.         50 EDGEBORO RD   \n",
       "664759                  Saputo Cheese USA, Inc  100 East Chestnut St.   \n",
       "334843            WellStar Health System, Inc.       1514 Vernon Raod   \n",
       "113270  Northland Constructors of Duluth, Inc.    4843 Rice Lake Road   \n",
       "\n",
       "                  city state zip_code naics_code naics_year  \\\n",
       "id                                                            \n",
       "830838         BETHANY    MO    64424     452910       2012   \n",
       "798682  EAST BRUNSWICK    NJ    08816     484122       2022   \n",
       "664759          Murray    KY    42071     311511       2022   \n",
       "334843        LaGrange    GA    30240     622110       2022   \n",
       "113270          Duluth    MN    55803     237310       2022   \n",
       "\n",
       "                                     industry_description  establishment_type  \\\n",
       "id                                                                              \n",
       "830838                   Warehouse Clubs and Supercenters                 1.0   \n",
       "798682                             Freight Transportation                 1.0   \n",
       "664759                 Flavored milk drinks manufacturing                 1.0   \n",
       "334843            Hospitals, general medical and surgical                 1.0   \n",
       "113270  Pavement, highway, road, street, bridge or air...                 1.0   \n",
       "\n",
       "        size  annual_average_employees  total_hours_worked case_number  \\\n",
       "id                                                                       \n",
       "830838    22                       156              276605    C3543737   \n",
       "798682    22                       133              287126  4.29316E+1   \n",
       "664759     3                       343              680639  INJ-000815   \n",
       "334843     3                      2031             2411341      346175   \n",
       "113270     2                       156              357897           8   \n",
       "\n",
       "                    job_description soc_code  \\\n",
       "id                                             \n",
       "830838  STOCKER GENERAL MERCHANDISE  53-7065   \n",
       "798682             Driver Sales Rep  41-3091   \n",
       "664759        Utility  Murray Union     9999   \n",
       "334843                      ED Tech     9999   \n",
       "113270              Cement Finisher  47-2071   \n",
       "\n",
       "                                          soc_description  soc_reviewed  \\\n",
       "id                                                                        \n",
       "830838                         Stockers and Order Fillers             1   \n",
       "798682  Sales Representatives of Services, Except Adve...             1   \n",
       "664759                                            Uncoded             2   \n",
       "334843                                            Uncoded             2   \n",
       "113270  Paving, Surfacing, and Tamping Equipment Opera...             0   \n",
       "\n",
       "        soc_probability date_of_incident  incident_outcome  dafw_num_away  \\\n",
       "id                                                                          \n",
       "830838         0.997296       01/08/2023                 4              0   \n",
       "798682         0.943694       03/14/2023                 2            175   \n",
       "664759         0.000000       07/13/2023                 2             49   \n",
       "334843         0.000000       05/17/2023                 2              1   \n",
       "113270         0.998629       09/28/2023                 4              0   \n",
       "\n",
       "        djtr_num_tr  type_of_incident time_started_work time_of_incident  \\\n",
       "id                                                                         \n",
       "830838            0                 1      21:51:00.000      4:15:00.000   \n",
       "798682            0                 1      19:00:00.000     20:20:00.000   \n",
       "664759            0                 1       6:30:00.000     10:00:00.000   \n",
       "334843            0                 1       7:00:00.000     17:20:00.000   \n",
       "113270            0                 1       7:00:00.000              NaN   \n",
       "\n",
       "        time_unknown date_of_death created_timestamp  year_filing_for  \n",
       "id                                                                     \n",
       "830838           0.0           NaN  11MAR24:21:31:00             2023  \n",
       "798682           0.0           NaN  08MAR24:22:23:00             2023  \n",
       "664759           0.0           NaN  01MAR24:17:01:00             2023  \n",
       "334843           0.0           NaN  20FEB24:19:38:00             2023  \n",
       "113270           1.0           NaN  31JAN24:19:35:00             2023  "
      ]
     },
     "execution_count": 5,
     "metadata": {},
     "output_type": "execute_result"
    }
   ],
   "source": [
    "df.sample(5)"
   ]
  },
  {
   "cell_type": "markdown",
   "metadata": {},
   "source": [
    "### (d) Write another function that outputs the distribution of the attributes, and counts the frequencies of the different values"
   ]
  },
  {
   "cell_type": "code",
   "execution_count": 6,
   "metadata": {},
   "outputs": [
    {
     "data": {
      "text/html": [
       "<div>\n",
       "<style scoped>\n",
       "    .dataframe tbody tr th:only-of-type {\n",
       "        vertical-align: middle;\n",
       "    }\n",
       "\n",
       "    .dataframe tbody tr th {\n",
       "        vertical-align: top;\n",
       "    }\n",
       "\n",
       "    .dataframe thead th {\n",
       "        text-align: right;\n",
       "    }\n",
       "</style>\n",
       "<table border=\"1\" class=\"dataframe\">\n",
       "  <thead>\n",
       "    <tr style=\"text-align: right;\">\n",
       "      <th></th>\n",
       "      <th>establishment_id</th>\n",
       "      <th>establishment_name</th>\n",
       "      <th>ein</th>\n",
       "      <th>company_name</th>\n",
       "      <th>street_address</th>\n",
       "      <th>city</th>\n",
       "      <th>state</th>\n",
       "      <th>zip_code</th>\n",
       "      <th>naics_code</th>\n",
       "      <th>naics_year</th>\n",
       "      <th>industry_description</th>\n",
       "      <th>establishment_type</th>\n",
       "      <th>size</th>\n",
       "      <th>annual_average_employees</th>\n",
       "      <th>total_hours_worked</th>\n",
       "      <th>case_number</th>\n",
       "      <th>job_description</th>\n",
       "      <th>soc_code</th>\n",
       "      <th>soc_description</th>\n",
       "      <th>soc_reviewed</th>\n",
       "      <th>soc_probability</th>\n",
       "      <th>date_of_incident</th>\n",
       "      <th>incident_outcome</th>\n",
       "      <th>dafw_num_away</th>\n",
       "      <th>djtr_num_tr</th>\n",
       "      <th>type_of_incident</th>\n",
       "      <th>time_started_work</th>\n",
       "      <th>time_of_incident</th>\n",
       "      <th>time_unknown</th>\n",
       "      <th>date_of_death</th>\n",
       "      <th>created_timestamp</th>\n",
       "      <th>year_filing_for</th>\n",
       "    </tr>\n",
       "  </thead>\n",
       "  <tbody>\n",
       "    <tr>\n",
       "      <th>count</th>\n",
       "      <td>8.894470e+05</td>\n",
       "      <td>889447</td>\n",
       "      <td>812922</td>\n",
       "      <td>840391</td>\n",
       "      <td>889446</td>\n",
       "      <td>889447</td>\n",
       "      <td>889447</td>\n",
       "      <td>889447</td>\n",
       "      <td>889447</td>\n",
       "      <td>888174</td>\n",
       "      <td>829648</td>\n",
       "      <td>887563.000000</td>\n",
       "      <td>889447.000000</td>\n",
       "      <td>8.894470e+05</td>\n",
       "      <td>8.894470e+05</td>\n",
       "      <td>889434</td>\n",
       "      <td>885793</td>\n",
       "      <td>889447</td>\n",
       "      <td>889447</td>\n",
       "      <td>889447.000000</td>\n",
       "      <td>889447.000000</td>\n",
       "      <td>889447</td>\n",
       "      <td>889447.000000</td>\n",
       "      <td>889447.000000</td>\n",
       "      <td>889447.000000</td>\n",
       "      <td>889447.000000</td>\n",
       "      <td>777556</td>\n",
       "      <td>778479</td>\n",
       "      <td>887398.000000</td>\n",
       "      <td>279</td>\n",
       "      <td>889447</td>\n",
       "      <td>889447.0</td>\n",
       "    </tr>\n",
       "    <tr>\n",
       "      <th>unique</th>\n",
       "      <td>NaN</td>\n",
       "      <td>89219</td>\n",
       "      <td>33514</td>\n",
       "      <td>38301</td>\n",
       "      <td>88405</td>\n",
       "      <td>14317</td>\n",
       "      <td>56</td>\n",
       "      <td>17101</td>\n",
       "      <td>865</td>\n",
       "      <td>3</td>\n",
       "      <td>5673</td>\n",
       "      <td>NaN</td>\n",
       "      <td>NaN</td>\n",
       "      <td>NaN</td>\n",
       "      <td>NaN</td>\n",
       "      <td>423945</td>\n",
       "      <td>93398</td>\n",
       "      <td>669</td>\n",
       "      <td>668</td>\n",
       "      <td>NaN</td>\n",
       "      <td>NaN</td>\n",
       "      <td>542</td>\n",
       "      <td>NaN</td>\n",
       "      <td>NaN</td>\n",
       "      <td>NaN</td>\n",
       "      <td>NaN</td>\n",
       "      <td>1439</td>\n",
       "      <td>1440</td>\n",
       "      <td>NaN</td>\n",
       "      <td>185</td>\n",
       "      <td>58560</td>\n",
       "      <td>NaN</td>\n",
       "    </tr>\n",
       "    <tr>\n",
       "      <th>top</th>\n",
       "      <td>NaN</td>\n",
       "      <td>Walt Disney Parks and Resorts US Inc</td>\n",
       "      <td>820544687</td>\n",
       "      <td>Amazon.com Services LLC</td>\n",
       "      <td>UNITED AIRLINES ATTN:MGR</td>\n",
       "      <td>Chicago</td>\n",
       "      <td>CA</td>\n",
       "      <td>32830</td>\n",
       "      <td>622110</td>\n",
       "      <td>2022</td>\n",
       "      <td>Warehouse Clubs and Supercenters</td>\n",
       "      <td>NaN</td>\n",
       "      <td>NaN</td>\n",
       "      <td>NaN</td>\n",
       "      <td>NaN</td>\n",
       "      <td>1</td>\n",
       "      <td>Fulfillment Associate</td>\n",
       "      <td>9999</td>\n",
       "      <td>Uncoded</td>\n",
       "      <td>NaN</td>\n",
       "      <td>NaN</td>\n",
       "      <td>09/12/2023</td>\n",
       "      <td>NaN</td>\n",
       "      <td>NaN</td>\n",
       "      <td>NaN</td>\n",
       "      <td>NaN</td>\n",
       "      <td>7:00:00.000</td>\n",
       "      <td>12:00:00.000</td>\n",
       "      <td>NaN</td>\n",
       "      <td>09/20/2023</td>\n",
       "      <td>03MAY24:18:33:00</td>\n",
       "      <td>NaN</td>\n",
       "    </tr>\n",
       "    <tr>\n",
       "      <th>freq</th>\n",
       "      <td>NaN</td>\n",
       "      <td>3532</td>\n",
       "      <td>38132</td>\n",
       "      <td>38132</td>\n",
       "      <td>3748</td>\n",
       "      <td>5526</td>\n",
       "      <td>113262</td>\n",
       "      <td>3586</td>\n",
       "      <td>155665</td>\n",
       "      <td>789067</td>\n",
       "      <td>64327</td>\n",
       "      <td>NaN</td>\n",
       "      <td>NaN</td>\n",
       "      <td>NaN</td>\n",
       "      <td>NaN</td>\n",
       "      <td>28102</td>\n",
       "      <td>21562</td>\n",
       "      <td>157739</td>\n",
       "      <td>157739</td>\n",
       "      <td>NaN</td>\n",
       "      <td>NaN</td>\n",
       "      <td>3269</td>\n",
       "      <td>NaN</td>\n",
       "      <td>NaN</td>\n",
       "      <td>NaN</td>\n",
       "      <td>NaN</td>\n",
       "      <td>110471</td>\n",
       "      <td>23709</td>\n",
       "      <td>NaN</td>\n",
       "      <td>4</td>\n",
       "      <td>2881</td>\n",
       "      <td>NaN</td>\n",
       "    </tr>\n",
       "    <tr>\n",
       "      <th>mean</th>\n",
       "      <td>8.631224e+05</td>\n",
       "      <td>NaN</td>\n",
       "      <td>NaN</td>\n",
       "      <td>NaN</td>\n",
       "      <td>NaN</td>\n",
       "      <td>NaN</td>\n",
       "      <td>NaN</td>\n",
       "      <td>NaN</td>\n",
       "      <td>NaN</td>\n",
       "      <td>NaN</td>\n",
       "      <td>NaN</td>\n",
       "      <td>1.083898</td>\n",
       "      <td>9.833503</td>\n",
       "      <td>8.200306e+03</td>\n",
       "      <td>3.528374e+06</td>\n",
       "      <td>NaN</td>\n",
       "      <td>NaN</td>\n",
       "      <td>NaN</td>\n",
       "      <td>NaN</td>\n",
       "      <td>0.838397</td>\n",
       "      <td>1.192423</td>\n",
       "      <td>NaN</td>\n",
       "      <td>2.973528</td>\n",
       "      <td>12.804085</td>\n",
       "      <td>15.531824</td>\n",
       "      <td>1.351008</td>\n",
       "      <td>NaN</td>\n",
       "      <td>NaN</td>\n",
       "      <td>0.132183</td>\n",
       "      <td>NaN</td>\n",
       "      <td>NaN</td>\n",
       "      <td>2023.0</td>\n",
       "    </tr>\n",
       "    <tr>\n",
       "      <th>std</th>\n",
       "      <td>3.575762e+05</td>\n",
       "      <td>NaN</td>\n",
       "      <td>NaN</td>\n",
       "      <td>NaN</td>\n",
       "      <td>NaN</td>\n",
       "      <td>NaN</td>\n",
       "      <td>NaN</td>\n",
       "      <td>NaN</td>\n",
       "      <td>NaN</td>\n",
       "      <td>NaN</td>\n",
       "      <td>NaN</td>\n",
       "      <td>0.362637</td>\n",
       "      <td>9.040229</td>\n",
       "      <td>1.033831e+06</td>\n",
       "      <td>2.414035e+07</td>\n",
       "      <td>NaN</td>\n",
       "      <td>NaN</td>\n",
       "      <td>NaN</td>\n",
       "      <td>NaN</td>\n",
       "      <td>0.698820</td>\n",
       "      <td>1.376831</td>\n",
       "      <td>NaN</td>\n",
       "      <td>0.839186</td>\n",
       "      <td>35.737457</td>\n",
       "      <td>34.982631</td>\n",
       "      <td>1.133985</td>\n",
       "      <td>NaN</td>\n",
       "      <td>NaN</td>\n",
       "      <td>0.338690</td>\n",
       "      <td>NaN</td>\n",
       "      <td>NaN</td>\n",
       "      <td>0.0</td>\n",
       "    </tr>\n",
       "    <tr>\n",
       "      <th>min</th>\n",
       "      <td>4.194000e+04</td>\n",
       "      <td>NaN</td>\n",
       "      <td>NaN</td>\n",
       "      <td>NaN</td>\n",
       "      <td>NaN</td>\n",
       "      <td>NaN</td>\n",
       "      <td>NaN</td>\n",
       "      <td>NaN</td>\n",
       "      <td>NaN</td>\n",
       "      <td>NaN</td>\n",
       "      <td>NaN</td>\n",
       "      <td>0.000000</td>\n",
       "      <td>1.000000</td>\n",
       "      <td>0.000000e+00</td>\n",
       "      <td>0.000000e+00</td>\n",
       "      <td>NaN</td>\n",
       "      <td>NaN</td>\n",
       "      <td>NaN</td>\n",
       "      <td>NaN</td>\n",
       "      <td>0.000000</td>\n",
       "      <td>0.000000</td>\n",
       "      <td>NaN</td>\n",
       "      <td>1.000000</td>\n",
       "      <td>0.000000</td>\n",
       "      <td>0.000000</td>\n",
       "      <td>1.000000</td>\n",
       "      <td>NaN</td>\n",
       "      <td>NaN</td>\n",
       "      <td>0.000000</td>\n",
       "      <td>NaN</td>\n",
       "      <td>NaN</td>\n",
       "      <td>2023.0</td>\n",
       "    </tr>\n",
       "    <tr>\n",
       "      <th>25%</th>\n",
       "      <td>6.515120e+05</td>\n",
       "      <td>NaN</td>\n",
       "      <td>NaN</td>\n",
       "      <td>NaN</td>\n",
       "      <td>NaN</td>\n",
       "      <td>NaN</td>\n",
       "      <td>NaN</td>\n",
       "      <td>NaN</td>\n",
       "      <td>NaN</td>\n",
       "      <td>NaN</td>\n",
       "      <td>NaN</td>\n",
       "      <td>1.000000</td>\n",
       "      <td>3.000000</td>\n",
       "      <td>1.490000e+02</td>\n",
       "      <td>2.356850e+05</td>\n",
       "      <td>NaN</td>\n",
       "      <td>NaN</td>\n",
       "      <td>NaN</td>\n",
       "      <td>NaN</td>\n",
       "      <td>0.000000</td>\n",
       "      <td>0.802269</td>\n",
       "      <td>NaN</td>\n",
       "      <td>2.000000</td>\n",
       "      <td>0.000000</td>\n",
       "      <td>0.000000</td>\n",
       "      <td>1.000000</td>\n",
       "      <td>NaN</td>\n",
       "      <td>NaN</td>\n",
       "      <td>0.000000</td>\n",
       "      <td>NaN</td>\n",
       "      <td>NaN</td>\n",
       "      <td>2023.0</td>\n",
       "    </tr>\n",
       "    <tr>\n",
       "      <th>50%</th>\n",
       "      <td>9.893690e+05</td>\n",
       "      <td>NaN</td>\n",
       "      <td>NaN</td>\n",
       "      <td>NaN</td>\n",
       "      <td>NaN</td>\n",
       "      <td>NaN</td>\n",
       "      <td>NaN</td>\n",
       "      <td>NaN</td>\n",
       "      <td>NaN</td>\n",
       "      <td>NaN</td>\n",
       "      <td>NaN</td>\n",
       "      <td>1.000000</td>\n",
       "      <td>3.000000</td>\n",
       "      <td>3.470000e+02</td>\n",
       "      <td>5.840110e+05</td>\n",
       "      <td>NaN</td>\n",
       "      <td>NaN</td>\n",
       "      <td>NaN</td>\n",
       "      <td>NaN</td>\n",
       "      <td>1.000000</td>\n",
       "      <td>0.994869</td>\n",
       "      <td>NaN</td>\n",
       "      <td>3.000000</td>\n",
       "      <td>0.000000</td>\n",
       "      <td>0.000000</td>\n",
       "      <td>1.000000</td>\n",
       "      <td>NaN</td>\n",
       "      <td>NaN</td>\n",
       "      <td>0.000000</td>\n",
       "      <td>NaN</td>\n",
       "      <td>NaN</td>\n",
       "      <td>2023.0</td>\n",
       "    </tr>\n",
       "    <tr>\n",
       "      <th>75%</th>\n",
       "      <td>1.140101e+06</td>\n",
       "      <td>NaN</td>\n",
       "      <td>NaN</td>\n",
       "      <td>NaN</td>\n",
       "      <td>NaN</td>\n",
       "      <td>NaN</td>\n",
       "      <td>NaN</td>\n",
       "      <td>NaN</td>\n",
       "      <td>NaN</td>\n",
       "      <td>NaN</td>\n",
       "      <td>NaN</td>\n",
       "      <td>1.000000</td>\n",
       "      <td>22.000000</td>\n",
       "      <td>1.323000e+03</td>\n",
       "      <td>2.125664e+06</td>\n",
       "      <td>NaN</td>\n",
       "      <td>NaN</td>\n",
       "      <td>NaN</td>\n",
       "      <td>NaN</td>\n",
       "      <td>1.000000</td>\n",
       "      <td>0.999979</td>\n",
       "      <td>NaN</td>\n",
       "      <td>4.000000</td>\n",
       "      <td>5.000000</td>\n",
       "      <td>13.000000</td>\n",
       "      <td>1.000000</td>\n",
       "      <td>NaN</td>\n",
       "      <td>NaN</td>\n",
       "      <td>0.000000</td>\n",
       "      <td>NaN</td>\n",
       "      <td>NaN</td>\n",
       "      <td>2023.0</td>\n",
       "    </tr>\n",
       "    <tr>\n",
       "      <th>max</th>\n",
       "      <td>1.246187e+06</td>\n",
       "      <td>NaN</td>\n",
       "      <td>NaN</td>\n",
       "      <td>NaN</td>\n",
       "      <td>NaN</td>\n",
       "      <td>NaN</td>\n",
       "      <td>NaN</td>\n",
       "      <td>NaN</td>\n",
       "      <td>NaN</td>\n",
       "      <td>NaN</td>\n",
       "      <td>NaN</td>\n",
       "      <td>3.000000</td>\n",
       "      <td>22.000000</td>\n",
       "      <td>1.723076e+08</td>\n",
       "      <td>1.383383e+10</td>\n",
       "      <td>NaN</td>\n",
       "      <td>NaN</td>\n",
       "      <td>NaN</td>\n",
       "      <td>NaN</td>\n",
       "      <td>2.000000</td>\n",
       "      <td>5.000000</td>\n",
       "      <td>NaN</td>\n",
       "      <td>4.000000</td>\n",
       "      <td>640.000000</td>\n",
       "      <td>575.000000</td>\n",
       "      <td>6.000000</td>\n",
       "      <td>NaN</td>\n",
       "      <td>NaN</td>\n",
       "      <td>1.000000</td>\n",
       "      <td>NaN</td>\n",
       "      <td>NaN</td>\n",
       "      <td>2023.0</td>\n",
       "    </tr>\n",
       "  </tbody>\n",
       "</table>\n",
       "</div>"
      ],
      "text/plain": [
       "        establishment_id                    establishment_name        ein  \\\n",
       "count       8.894470e+05                                889447     812922   \n",
       "unique               NaN                                 89219      33514   \n",
       "top                  NaN  Walt Disney Parks and Resorts US Inc  820544687   \n",
       "freq                 NaN                                  3532      38132   \n",
       "mean        8.631224e+05                                   NaN        NaN   \n",
       "std         3.575762e+05                                   NaN        NaN   \n",
       "min         4.194000e+04                                   NaN        NaN   \n",
       "25%         6.515120e+05                                   NaN        NaN   \n",
       "50%         9.893690e+05                                   NaN        NaN   \n",
       "75%         1.140101e+06                                   NaN        NaN   \n",
       "max         1.246187e+06                                   NaN        NaN   \n",
       "\n",
       "                   company_name            street_address     city   state  \\\n",
       "count                    840391                    889446   889447  889447   \n",
       "unique                    38301                     88405    14317      56   \n",
       "top     Amazon.com Services LLC  UNITED AIRLINES ATTN:MGR  Chicago      CA   \n",
       "freq                      38132                      3748     5526  113262   \n",
       "mean                        NaN                       NaN      NaN     NaN   \n",
       "std                         NaN                       NaN      NaN     NaN   \n",
       "min                         NaN                       NaN      NaN     NaN   \n",
       "25%                         NaN                       NaN      NaN     NaN   \n",
       "50%                         NaN                       NaN      NaN     NaN   \n",
       "75%                         NaN                       NaN      NaN     NaN   \n",
       "max                         NaN                       NaN      NaN     NaN   \n",
       "\n",
       "       zip_code naics_code naics_year              industry_description  \\\n",
       "count    889447     889447     888174                            829648   \n",
       "unique    17101        865          3                              5673   \n",
       "top       32830     622110       2022  Warehouse Clubs and Supercenters   \n",
       "freq       3586     155665     789067                             64327   \n",
       "mean        NaN        NaN        NaN                               NaN   \n",
       "std         NaN        NaN        NaN                               NaN   \n",
       "min         NaN        NaN        NaN                               NaN   \n",
       "25%         NaN        NaN        NaN                               NaN   \n",
       "50%         NaN        NaN        NaN                               NaN   \n",
       "75%         NaN        NaN        NaN                               NaN   \n",
       "max         NaN        NaN        NaN                               NaN   \n",
       "\n",
       "        establishment_type           size  annual_average_employees  \\\n",
       "count        887563.000000  889447.000000              8.894470e+05   \n",
       "unique                 NaN            NaN                       NaN   \n",
       "top                    NaN            NaN                       NaN   \n",
       "freq                   NaN            NaN                       NaN   \n",
       "mean              1.083898       9.833503              8.200306e+03   \n",
       "std               0.362637       9.040229              1.033831e+06   \n",
       "min               0.000000       1.000000              0.000000e+00   \n",
       "25%               1.000000       3.000000              1.490000e+02   \n",
       "50%               1.000000       3.000000              3.470000e+02   \n",
       "75%               1.000000      22.000000              1.323000e+03   \n",
       "max               3.000000      22.000000              1.723076e+08   \n",
       "\n",
       "        total_hours_worked case_number        job_description soc_code  \\\n",
       "count         8.894470e+05      889434                 885793   889447   \n",
       "unique                 NaN      423945                  93398      669   \n",
       "top                    NaN           1  Fulfillment Associate     9999   \n",
       "freq                   NaN       28102                  21562   157739   \n",
       "mean          3.528374e+06         NaN                    NaN      NaN   \n",
       "std           2.414035e+07         NaN                    NaN      NaN   \n",
       "min           0.000000e+00         NaN                    NaN      NaN   \n",
       "25%           2.356850e+05         NaN                    NaN      NaN   \n",
       "50%           5.840110e+05         NaN                    NaN      NaN   \n",
       "75%           2.125664e+06         NaN                    NaN      NaN   \n",
       "max           1.383383e+10         NaN                    NaN      NaN   \n",
       "\n",
       "       soc_description   soc_reviewed  soc_probability date_of_incident  \\\n",
       "count           889447  889447.000000    889447.000000           889447   \n",
       "unique             668            NaN              NaN              542   \n",
       "top            Uncoded            NaN              NaN       09/12/2023   \n",
       "freq            157739            NaN              NaN             3269   \n",
       "mean               NaN       0.838397         1.192423              NaN   \n",
       "std                NaN       0.698820         1.376831              NaN   \n",
       "min                NaN       0.000000         0.000000              NaN   \n",
       "25%                NaN       0.000000         0.802269              NaN   \n",
       "50%                NaN       1.000000         0.994869              NaN   \n",
       "75%                NaN       1.000000         0.999979              NaN   \n",
       "max                NaN       2.000000         5.000000              NaN   \n",
       "\n",
       "        incident_outcome  dafw_num_away    djtr_num_tr  type_of_incident  \\\n",
       "count      889447.000000  889447.000000  889447.000000     889447.000000   \n",
       "unique               NaN            NaN            NaN               NaN   \n",
       "top                  NaN            NaN            NaN               NaN   \n",
       "freq                 NaN            NaN            NaN               NaN   \n",
       "mean            2.973528      12.804085      15.531824          1.351008   \n",
       "std             0.839186      35.737457      34.982631          1.133985   \n",
       "min             1.000000       0.000000       0.000000          1.000000   \n",
       "25%             2.000000       0.000000       0.000000          1.000000   \n",
       "50%             3.000000       0.000000       0.000000          1.000000   \n",
       "75%             4.000000       5.000000      13.000000          1.000000   \n",
       "max             4.000000     640.000000     575.000000          6.000000   \n",
       "\n",
       "       time_started_work time_of_incident   time_unknown date_of_death  \\\n",
       "count             777556           778479  887398.000000           279   \n",
       "unique              1439             1440            NaN           185   \n",
       "top          7:00:00.000     12:00:00.000            NaN    09/20/2023   \n",
       "freq              110471            23709            NaN             4   \n",
       "mean                 NaN              NaN       0.132183           NaN   \n",
       "std                  NaN              NaN       0.338690           NaN   \n",
       "min                  NaN              NaN       0.000000           NaN   \n",
       "25%                  NaN              NaN       0.000000           NaN   \n",
       "50%                  NaN              NaN       0.000000           NaN   \n",
       "75%                  NaN              NaN       0.000000           NaN   \n",
       "max                  NaN              NaN       1.000000           NaN   \n",
       "\n",
       "       created_timestamp  year_filing_for  \n",
       "count             889447         889447.0  \n",
       "unique             58560              NaN  \n",
       "top     03MAY24:18:33:00              NaN  \n",
       "freq                2881              NaN  \n",
       "mean                 NaN           2023.0  \n",
       "std                  NaN              0.0  \n",
       "min                  NaN           2023.0  \n",
       "25%                  NaN           2023.0  \n",
       "50%                  NaN           2023.0  \n",
       "75%                  NaN           2023.0  \n",
       "max                  NaN           2023.0  "
      ]
     },
     "execution_count": 6,
     "metadata": {},
     "output_type": "execute_result"
    }
   ],
   "source": [
    "df.describe(include=\"all\")"
   ]
  },
  {
   "cell_type": "code",
   "execution_count": 7,
   "metadata": {},
   "outputs": [
    {
     "data": {
      "text/html": [
       "<div>\n",
       "<style scoped>\n",
       "    .dataframe tbody tr th:only-of-type {\n",
       "        vertical-align: middle;\n",
       "    }\n",
       "\n",
       "    .dataframe tbody tr th {\n",
       "        vertical-align: top;\n",
       "    }\n",
       "\n",
       "    .dataframe thead th {\n",
       "        text-align: right;\n",
       "    }\n",
       "</style>\n",
       "<table border=\"1\" class=\"dataframe\">\n",
       "  <thead>\n",
       "    <tr style=\"text-align: right;\">\n",
       "      <th></th>\n",
       "      <th></th>\n",
       "      <th>Frequency</th>\n",
       "    </tr>\n",
       "    <tr>\n",
       "      <th>Attribute</th>\n",
       "      <th>Value</th>\n",
       "      <th></th>\n",
       "    </tr>\n",
       "  </thead>\n",
       "  <tbody>\n",
       "    <tr>\n",
       "      <th rowspan=\"5\" valign=\"top\">establishment_id</th>\n",
       "      <th>225446</th>\n",
       "      <td>3532</td>\n",
       "    </tr>\n",
       "    <tr>\n",
       "      <th>857258</th>\n",
       "      <td>2948</td>\n",
       "    </tr>\n",
       "    <tr>\n",
       "      <th>899222</th>\n",
       "      <td>2218</td>\n",
       "    </tr>\n",
       "    <tr>\n",
       "      <th>62625</th>\n",
       "      <td>1412</td>\n",
       "    </tr>\n",
       "    <tr>\n",
       "      <th>1126488</th>\n",
       "      <td>1267</td>\n",
       "    </tr>\n",
       "    <tr>\n",
       "      <th>...</th>\n",
       "      <th>...</th>\n",
       "      <td>...</td>\n",
       "    </tr>\n",
       "    <tr>\n",
       "      <th rowspan=\"4\" valign=\"top\">created_timestamp</th>\n",
       "      <th>22JAN24:16:48:00</th>\n",
       "      <td>1</td>\n",
       "    </tr>\n",
       "    <tr>\n",
       "      <th>27FEB24:11:49:00</th>\n",
       "      <td>1</td>\n",
       "    </tr>\n",
       "    <tr>\n",
       "      <th>13FEB24:01:22:00</th>\n",
       "      <td>1</td>\n",
       "    </tr>\n",
       "    <tr>\n",
       "      <th>30AUG24:17:57:00</th>\n",
       "      <td>1</td>\n",
       "    </tr>\n",
       "    <tr>\n",
       "      <th>year_filing_for</th>\n",
       "      <th>2023</th>\n",
       "      <td>889447</td>\n",
       "    </tr>\n",
       "  </tbody>\n",
       "</table>\n",
       "<p>1108932 rows × 1 columns</p>\n",
       "</div>"
      ],
      "text/plain": [
       "                                    Frequency\n",
       "Attribute         Value                      \n",
       "establishment_id  225446                 3532\n",
       "                  857258                 2948\n",
       "                  899222                 2218\n",
       "                  62625                  1412\n",
       "                  1126488                1267\n",
       "...                                       ...\n",
       "created_timestamp 22JAN24:16:48:00          1\n",
       "                  27FEB24:11:49:00          1\n",
       "                  13FEB24:01:22:00          1\n",
       "                  30AUG24:17:57:00          1\n",
       "year_filing_for   2023                 889447\n",
       "\n",
       "[1108932 rows x 1 columns]"
      ]
     },
     "execution_count": 7,
     "metadata": {},
     "output_type": "execute_result"
    }
   ],
   "source": [
    "def get_frequency_distribution(df):\n",
    "    \"\"\"\n",
    "    Creates a DataFrame where:\n",
    "    - Primary index: column names (attributes)\n",
    "    - Secondary index: unique values in each column\n",
    "    - Value column: frequency of each unique value\n",
    "\n",
    "    Parameters:\n",
    "    - df (pd.DataFrame): Input DataFrame.\n",
    "\n",
    "    Returns:\n",
    "    - pd.DataFrame: Frequency distribution as described.\n",
    "    \"\"\"\n",
    "    frequency_df = pd.concat(\n",
    "        {col: df[col].value_counts() for col in df.columns},\n",
    "        names=[\"Attribute\", \"Value\"],\n",
    "    ).reset_index(name=\"Frequency\")\n",
    "\n",
    "    # Set the index as required\n",
    "    return frequency_df.set_index([\"Attribute\", \"Value\"])\n",
    "\n",
    "\n",
    "df_frequency = get_frequency_distribution(df)\n",
    "df_frequency"
   ]
  },
  {
   "cell_type": "code",
   "execution_count": 8,
   "metadata": {},
   "outputs": [],
   "source": [
    "def attribute_distribution(dataframe, attribute, plot_distribution=False):\n",
    "    \"\"\"\n",
    "    Calculates the distribution of values for a specified attribute in the dataset\n",
    "    and optionally plots the distribution using Plotly Express.\n",
    "\n",
    "    Parameters:\n",
    "        dataframe (pd.DataFrame): The DataFrame containing the dataset.\n",
    "        attribute (str): Column name of the attribute to analyze.\n",
    "        plot_distribution (bool): Whether to plot the distribution of the attribute.\n",
    "\n",
    "    Returns:\n",
    "        pd.DataFrame: A DataFrame with value counts and percentage distribution.\n",
    "    \"\"\"\n",
    "    if attribute not in dataframe.columns:\n",
    "        raise ValueError(f\"Attribute '{attribute}' not found in the dataset.\")\n",
    "\n",
    "    # Calculate value counts and percentage\n",
    "    counts = dataframe[attribute].value_counts()\n",
    "    percentages = (counts / counts.sum()) * 100\n",
    "\n",
    "    # Combine counts and percentages into a DataFrame\n",
    "    distribution = pd.DataFrame(\n",
    "        {\n",
    "            \"Value\": counts.index.astype(\n",
    "                str\n",
    "            ),  # Ensure all values are strings for categorical plotting\n",
    "            \"Frequency\": counts.values,\n",
    "            \"Percentage\": percentages.values,\n",
    "        }\n",
    "    ).set_index(\"Value\")\n",
    "\n",
    "    if not plot_distribution:\n",
    "        return distribution\n",
    "\n",
    "    fig = px.bar(\n",
    "        distribution.reset_index(),\n",
    "        x=\"Value\",\n",
    "        y=\"Percentage\",\n",
    "        text=\"Percentage\",\n",
    "        title=f\"Distribution of {attribute} (Percentage)\",\n",
    "        labels={\"Value\": \"Attribute Value\", \"Percentage\": \"Percentage (%)\"},\n",
    "    )\n",
    "    fig.update_traces(texttemplate=\"%{text:.2f}%\", textposition=\"outside\")\n",
    "    fig.update_layout(\n",
    "        xaxis=dict(title=\"Values\"),\n",
    "        yaxis=dict(title=\"Percentage (%)\"),\n",
    "        uniformtext_minsize=8,\n",
    "        uniformtext_mode=\"hide\",\n",
    "    )\n",
    "    fig.show()\n",
    "\n",
    "    return distribution"
   ]
  },
  {
   "cell_type": "code",
   "execution_count": 9,
   "metadata": {},
   "outputs": [
    {
     "data": {
      "application/vnd.plotly.v1+json": {
       "config": {
        "plotlyServerURL": "https://plot.ly"
       },
       "data": [
        {
         "alignmentgroup": "True",
         "hovertemplate": "Attribute Value=%{x}<br>Percentage (%)=%{text}<extra></extra>",
         "legendgroup": "",
         "marker": {
          "color": "#636efa",
          "pattern": {
           "shape": ""
          }
         },
         "name": "",
         "offsetgroup": "",
         "orientation": "v",
         "showlegend": false,
         "text": [
          61.21050495420188,
          25.7282333854631,
          10.957932288264507,
          1.477772143815202,
          0.6255572282553092
         ],
         "textposition": "outside",
         "texttemplate": "%{text:.2f}%",
         "type": "bar",
         "x": [
          "3",
          "22",
          "21",
          "2",
          "1"
         ],
         "xaxis": "x",
         "y": [
          61.21050495420188,
          25.7282333854631,
          10.957932288264507,
          1.477772143815202,
          0.6255572282553092
         ],
         "yaxis": "y"
        }
       ],
       "layout": {
        "barmode": "relative",
        "legend": {
         "tracegroupgap": 0
        },
        "template": {
         "data": {
          "bar": [
           {
            "error_x": {
             "color": "#2a3f5f"
            },
            "error_y": {
             "color": "#2a3f5f"
            },
            "marker": {
             "line": {
              "color": "#E5ECF6",
              "width": 0.5
             },
             "pattern": {
              "fillmode": "overlay",
              "size": 10,
              "solidity": 0.2
             }
            },
            "type": "bar"
           }
          ],
          "barpolar": [
           {
            "marker": {
             "line": {
              "color": "#E5ECF6",
              "width": 0.5
             },
             "pattern": {
              "fillmode": "overlay",
              "size": 10,
              "solidity": 0.2
             }
            },
            "type": "barpolar"
           }
          ],
          "carpet": [
           {
            "aaxis": {
             "endlinecolor": "#2a3f5f",
             "gridcolor": "white",
             "linecolor": "white",
             "minorgridcolor": "white",
             "startlinecolor": "#2a3f5f"
            },
            "baxis": {
             "endlinecolor": "#2a3f5f",
             "gridcolor": "white",
             "linecolor": "white",
             "minorgridcolor": "white",
             "startlinecolor": "#2a3f5f"
            },
            "type": "carpet"
           }
          ],
          "choropleth": [
           {
            "colorbar": {
             "outlinewidth": 0,
             "ticks": ""
            },
            "type": "choropleth"
           }
          ],
          "contour": [
           {
            "colorbar": {
             "outlinewidth": 0,
             "ticks": ""
            },
            "colorscale": [
             [
              0,
              "#0d0887"
             ],
             [
              0.1111111111111111,
              "#46039f"
             ],
             [
              0.2222222222222222,
              "#7201a8"
             ],
             [
              0.3333333333333333,
              "#9c179e"
             ],
             [
              0.4444444444444444,
              "#bd3786"
             ],
             [
              0.5555555555555556,
              "#d8576b"
             ],
             [
              0.6666666666666666,
              "#ed7953"
             ],
             [
              0.7777777777777778,
              "#fb9f3a"
             ],
             [
              0.8888888888888888,
              "#fdca26"
             ],
             [
              1,
              "#f0f921"
             ]
            ],
            "type": "contour"
           }
          ],
          "contourcarpet": [
           {
            "colorbar": {
             "outlinewidth": 0,
             "ticks": ""
            },
            "type": "contourcarpet"
           }
          ],
          "heatmap": [
           {
            "colorbar": {
             "outlinewidth": 0,
             "ticks": ""
            },
            "colorscale": [
             [
              0,
              "#0d0887"
             ],
             [
              0.1111111111111111,
              "#46039f"
             ],
             [
              0.2222222222222222,
              "#7201a8"
             ],
             [
              0.3333333333333333,
              "#9c179e"
             ],
             [
              0.4444444444444444,
              "#bd3786"
             ],
             [
              0.5555555555555556,
              "#d8576b"
             ],
             [
              0.6666666666666666,
              "#ed7953"
             ],
             [
              0.7777777777777778,
              "#fb9f3a"
             ],
             [
              0.8888888888888888,
              "#fdca26"
             ],
             [
              1,
              "#f0f921"
             ]
            ],
            "type": "heatmap"
           }
          ],
          "heatmapgl": [
           {
            "colorbar": {
             "outlinewidth": 0,
             "ticks": ""
            },
            "colorscale": [
             [
              0,
              "#0d0887"
             ],
             [
              0.1111111111111111,
              "#46039f"
             ],
             [
              0.2222222222222222,
              "#7201a8"
             ],
             [
              0.3333333333333333,
              "#9c179e"
             ],
             [
              0.4444444444444444,
              "#bd3786"
             ],
             [
              0.5555555555555556,
              "#d8576b"
             ],
             [
              0.6666666666666666,
              "#ed7953"
             ],
             [
              0.7777777777777778,
              "#fb9f3a"
             ],
             [
              0.8888888888888888,
              "#fdca26"
             ],
             [
              1,
              "#f0f921"
             ]
            ],
            "type": "heatmapgl"
           }
          ],
          "histogram": [
           {
            "marker": {
             "pattern": {
              "fillmode": "overlay",
              "size": 10,
              "solidity": 0.2
             }
            },
            "type": "histogram"
           }
          ],
          "histogram2d": [
           {
            "colorbar": {
             "outlinewidth": 0,
             "ticks": ""
            },
            "colorscale": [
             [
              0,
              "#0d0887"
             ],
             [
              0.1111111111111111,
              "#46039f"
             ],
             [
              0.2222222222222222,
              "#7201a8"
             ],
             [
              0.3333333333333333,
              "#9c179e"
             ],
             [
              0.4444444444444444,
              "#bd3786"
             ],
             [
              0.5555555555555556,
              "#d8576b"
             ],
             [
              0.6666666666666666,
              "#ed7953"
             ],
             [
              0.7777777777777778,
              "#fb9f3a"
             ],
             [
              0.8888888888888888,
              "#fdca26"
             ],
             [
              1,
              "#f0f921"
             ]
            ],
            "type": "histogram2d"
           }
          ],
          "histogram2dcontour": [
           {
            "colorbar": {
             "outlinewidth": 0,
             "ticks": ""
            },
            "colorscale": [
             [
              0,
              "#0d0887"
             ],
             [
              0.1111111111111111,
              "#46039f"
             ],
             [
              0.2222222222222222,
              "#7201a8"
             ],
             [
              0.3333333333333333,
              "#9c179e"
             ],
             [
              0.4444444444444444,
              "#bd3786"
             ],
             [
              0.5555555555555556,
              "#d8576b"
             ],
             [
              0.6666666666666666,
              "#ed7953"
             ],
             [
              0.7777777777777778,
              "#fb9f3a"
             ],
             [
              0.8888888888888888,
              "#fdca26"
             ],
             [
              1,
              "#f0f921"
             ]
            ],
            "type": "histogram2dcontour"
           }
          ],
          "mesh3d": [
           {
            "colorbar": {
             "outlinewidth": 0,
             "ticks": ""
            },
            "type": "mesh3d"
           }
          ],
          "parcoords": [
           {
            "line": {
             "colorbar": {
              "outlinewidth": 0,
              "ticks": ""
             }
            },
            "type": "parcoords"
           }
          ],
          "pie": [
           {
            "automargin": true,
            "type": "pie"
           }
          ],
          "scatter": [
           {
            "fillpattern": {
             "fillmode": "overlay",
             "size": 10,
             "solidity": 0.2
            },
            "type": "scatter"
           }
          ],
          "scatter3d": [
           {
            "line": {
             "colorbar": {
              "outlinewidth": 0,
              "ticks": ""
             }
            },
            "marker": {
             "colorbar": {
              "outlinewidth": 0,
              "ticks": ""
             }
            },
            "type": "scatter3d"
           }
          ],
          "scattercarpet": [
           {
            "marker": {
             "colorbar": {
              "outlinewidth": 0,
              "ticks": ""
             }
            },
            "type": "scattercarpet"
           }
          ],
          "scattergeo": [
           {
            "marker": {
             "colorbar": {
              "outlinewidth": 0,
              "ticks": ""
             }
            },
            "type": "scattergeo"
           }
          ],
          "scattergl": [
           {
            "marker": {
             "colorbar": {
              "outlinewidth": 0,
              "ticks": ""
             }
            },
            "type": "scattergl"
           }
          ],
          "scattermapbox": [
           {
            "marker": {
             "colorbar": {
              "outlinewidth": 0,
              "ticks": ""
             }
            },
            "type": "scattermapbox"
           }
          ],
          "scatterpolar": [
           {
            "marker": {
             "colorbar": {
              "outlinewidth": 0,
              "ticks": ""
             }
            },
            "type": "scatterpolar"
           }
          ],
          "scatterpolargl": [
           {
            "marker": {
             "colorbar": {
              "outlinewidth": 0,
              "ticks": ""
             }
            },
            "type": "scatterpolargl"
           }
          ],
          "scatterternary": [
           {
            "marker": {
             "colorbar": {
              "outlinewidth": 0,
              "ticks": ""
             }
            },
            "type": "scatterternary"
           }
          ],
          "surface": [
           {
            "colorbar": {
             "outlinewidth": 0,
             "ticks": ""
            },
            "colorscale": [
             [
              0,
              "#0d0887"
             ],
             [
              0.1111111111111111,
              "#46039f"
             ],
             [
              0.2222222222222222,
              "#7201a8"
             ],
             [
              0.3333333333333333,
              "#9c179e"
             ],
             [
              0.4444444444444444,
              "#bd3786"
             ],
             [
              0.5555555555555556,
              "#d8576b"
             ],
             [
              0.6666666666666666,
              "#ed7953"
             ],
             [
              0.7777777777777778,
              "#fb9f3a"
             ],
             [
              0.8888888888888888,
              "#fdca26"
             ],
             [
              1,
              "#f0f921"
             ]
            ],
            "type": "surface"
           }
          ],
          "table": [
           {
            "cells": {
             "fill": {
              "color": "#EBF0F8"
             },
             "line": {
              "color": "white"
             }
            },
            "header": {
             "fill": {
              "color": "#C8D4E3"
             },
             "line": {
              "color": "white"
             }
            },
            "type": "table"
           }
          ]
         },
         "layout": {
          "annotationdefaults": {
           "arrowcolor": "#2a3f5f",
           "arrowhead": 0,
           "arrowwidth": 1
          },
          "autotypenumbers": "strict",
          "coloraxis": {
           "colorbar": {
            "outlinewidth": 0,
            "ticks": ""
           }
          },
          "colorscale": {
           "diverging": [
            [
             0,
             "#8e0152"
            ],
            [
             0.1,
             "#c51b7d"
            ],
            [
             0.2,
             "#de77ae"
            ],
            [
             0.3,
             "#f1b6da"
            ],
            [
             0.4,
             "#fde0ef"
            ],
            [
             0.5,
             "#f7f7f7"
            ],
            [
             0.6,
             "#e6f5d0"
            ],
            [
             0.7,
             "#b8e186"
            ],
            [
             0.8,
             "#7fbc41"
            ],
            [
             0.9,
             "#4d9221"
            ],
            [
             1,
             "#276419"
            ]
           ],
           "sequential": [
            [
             0,
             "#0d0887"
            ],
            [
             0.1111111111111111,
             "#46039f"
            ],
            [
             0.2222222222222222,
             "#7201a8"
            ],
            [
             0.3333333333333333,
             "#9c179e"
            ],
            [
             0.4444444444444444,
             "#bd3786"
            ],
            [
             0.5555555555555556,
             "#d8576b"
            ],
            [
             0.6666666666666666,
             "#ed7953"
            ],
            [
             0.7777777777777778,
             "#fb9f3a"
            ],
            [
             0.8888888888888888,
             "#fdca26"
            ],
            [
             1,
             "#f0f921"
            ]
           ],
           "sequentialminus": [
            [
             0,
             "#0d0887"
            ],
            [
             0.1111111111111111,
             "#46039f"
            ],
            [
             0.2222222222222222,
             "#7201a8"
            ],
            [
             0.3333333333333333,
             "#9c179e"
            ],
            [
             0.4444444444444444,
             "#bd3786"
            ],
            [
             0.5555555555555556,
             "#d8576b"
            ],
            [
             0.6666666666666666,
             "#ed7953"
            ],
            [
             0.7777777777777778,
             "#fb9f3a"
            ],
            [
             0.8888888888888888,
             "#fdca26"
            ],
            [
             1,
             "#f0f921"
            ]
           ]
          },
          "colorway": [
           "#636efa",
           "#EF553B",
           "#00cc96",
           "#ab63fa",
           "#FFA15A",
           "#19d3f3",
           "#FF6692",
           "#B6E880",
           "#FF97FF",
           "#FECB52"
          ],
          "font": {
           "color": "#2a3f5f"
          },
          "geo": {
           "bgcolor": "white",
           "lakecolor": "white",
           "landcolor": "#E5ECF6",
           "showlakes": true,
           "showland": true,
           "subunitcolor": "white"
          },
          "hoverlabel": {
           "align": "left"
          },
          "hovermode": "closest",
          "mapbox": {
           "style": "light"
          },
          "paper_bgcolor": "white",
          "plot_bgcolor": "#E5ECF6",
          "polar": {
           "angularaxis": {
            "gridcolor": "white",
            "linecolor": "white",
            "ticks": ""
           },
           "bgcolor": "#E5ECF6",
           "radialaxis": {
            "gridcolor": "white",
            "linecolor": "white",
            "ticks": ""
           }
          },
          "scene": {
           "xaxis": {
            "backgroundcolor": "#E5ECF6",
            "gridcolor": "white",
            "gridwidth": 2,
            "linecolor": "white",
            "showbackground": true,
            "ticks": "",
            "zerolinecolor": "white"
           },
           "yaxis": {
            "backgroundcolor": "#E5ECF6",
            "gridcolor": "white",
            "gridwidth": 2,
            "linecolor": "white",
            "showbackground": true,
            "ticks": "",
            "zerolinecolor": "white"
           },
           "zaxis": {
            "backgroundcolor": "#E5ECF6",
            "gridcolor": "white",
            "gridwidth": 2,
            "linecolor": "white",
            "showbackground": true,
            "ticks": "",
            "zerolinecolor": "white"
           }
          },
          "shapedefaults": {
           "line": {
            "color": "#2a3f5f"
           }
          },
          "ternary": {
           "aaxis": {
            "gridcolor": "white",
            "linecolor": "white",
            "ticks": ""
           },
           "baxis": {
            "gridcolor": "white",
            "linecolor": "white",
            "ticks": ""
           },
           "bgcolor": "#E5ECF6",
           "caxis": {
            "gridcolor": "white",
            "linecolor": "white",
            "ticks": ""
           }
          },
          "title": {
           "x": 0.05
          },
          "xaxis": {
           "automargin": true,
           "gridcolor": "white",
           "linecolor": "white",
           "ticks": "",
           "title": {
            "standoff": 15
           },
           "zerolinecolor": "white",
           "zerolinewidth": 2
          },
          "yaxis": {
           "automargin": true,
           "gridcolor": "white",
           "linecolor": "white",
           "ticks": "",
           "title": {
            "standoff": 15
           },
           "zerolinecolor": "white",
           "zerolinewidth": 2
          }
         }
        },
        "title": {
         "text": "Distribution of size (Percentage)"
        },
        "uniformtext": {
         "minsize": 8,
         "mode": "hide"
        },
        "xaxis": {
         "anchor": "y",
         "domain": [
          0,
          1
         ],
         "title": {
          "text": "Values"
         }
        },
        "yaxis": {
         "anchor": "x",
         "domain": [
          0,
          1
         ],
         "title": {
          "text": "Percentage (%)"
         }
        }
       }
      }
     },
     "metadata": {},
     "output_type": "display_data"
    },
    {
     "data": {
      "text/html": [
       "<div>\n",
       "<style scoped>\n",
       "    .dataframe tbody tr th:only-of-type {\n",
       "        vertical-align: middle;\n",
       "    }\n",
       "\n",
       "    .dataframe tbody tr th {\n",
       "        vertical-align: top;\n",
       "    }\n",
       "\n",
       "    .dataframe thead th {\n",
       "        text-align: right;\n",
       "    }\n",
       "</style>\n",
       "<table border=\"1\" class=\"dataframe\">\n",
       "  <thead>\n",
       "    <tr style=\"text-align: right;\">\n",
       "      <th></th>\n",
       "      <th>Frequency</th>\n",
       "      <th>Percentage</th>\n",
       "    </tr>\n",
       "    <tr>\n",
       "      <th>Value</th>\n",
       "      <th></th>\n",
       "      <th></th>\n",
       "    </tr>\n",
       "  </thead>\n",
       "  <tbody>\n",
       "    <tr>\n",
       "      <th>3</th>\n",
       "      <td>544435</td>\n",
       "      <td>61.210505</td>\n",
       "    </tr>\n",
       "    <tr>\n",
       "      <th>22</th>\n",
       "      <td>228839</td>\n",
       "      <td>25.728233</td>\n",
       "    </tr>\n",
       "    <tr>\n",
       "      <th>21</th>\n",
       "      <td>97465</td>\n",
       "      <td>10.957932</td>\n",
       "    </tr>\n",
       "    <tr>\n",
       "      <th>2</th>\n",
       "      <td>13144</td>\n",
       "      <td>1.477772</td>\n",
       "    </tr>\n",
       "    <tr>\n",
       "      <th>1</th>\n",
       "      <td>5564</td>\n",
       "      <td>0.625557</td>\n",
       "    </tr>\n",
       "  </tbody>\n",
       "</table>\n",
       "</div>"
      ],
      "text/plain": [
       "       Frequency  Percentage\n",
       "Value                       \n",
       "3         544435   61.210505\n",
       "22        228839   25.728233\n",
       "21         97465   10.957932\n",
       "2          13144    1.477772\n",
       "1           5564    0.625557"
      ]
     },
     "execution_count": 9,
     "metadata": {},
     "output_type": "execute_result"
    }
   ],
   "source": [
    "# Single attribute\n",
    "attribute_distribution(df, \"size\", True)"
   ]
  },
  {
   "cell_type": "code",
   "execution_count": 10,
   "metadata": {},
   "outputs": [],
   "source": [
    "# # All attributes\n",
    "# for column_name in df.columns:\n",
    "#     print(attribute_distribution(df, column_name, False))\n",
    "\n"
   ]
  },
  {
   "cell_type": "markdown",
   "metadata": {},
   "source": [
    "### (e) Try to describe the data set in just a few sentences. How is the data provided? Which kind of attributes are contained in the data set? How large is the data set in terms of the number of those elements (teams, matches, players, historic data, extra records, and so on)?"
   ]
  },
  {
   "cell_type": "markdown",
   "metadata": {},
   "source": [
    "The OSHA Injury Tracking Application (ITA) dataset is a structured repository of work-related injury and illness records reported by establishments with 100 or more employees in high-hazard industries. The data is provided as a CSV file and contains attributes related to establishments (e.g., name, location, industry), incidents (e.g., date, type, outcome, days away from work), and employee roles (e.g., job title, Standard Occupation Codes). Additional narrative fields describe incidents and injuries in detail. The dataset size depends on the reporting frequency but typically includes thousands of records, each representing a unique incident, with detailed fields linking establishments, incidents, and employees for comprehensive analysis."
   ]
  },
  {
   "cell_type": "markdown",
   "metadata": {},
   "source": [
    "### (f) Analyze the errors and missing values. Write a function to count how many missing values per attribute and per entry you have. Analyze what are the most relevant missing values that might hinder the analysis according to you."
   ]
  },
  {
   "cell_type": "code",
   "execution_count": 11,
   "metadata": {},
   "outputs": [
    {
     "data": {
      "application/vnd.plotly.v1+json": {
       "config": {
        "plotlyServerURL": "https://plot.ly"
       },
       "data": [
        {
         "alignmentgroup": "True",
         "hovertemplate": "Attribute=%{x}<br>Percentage_Missing=%{text}<extra></extra>",
         "legendgroup": "",
         "marker": {
          "color": "#636efa",
          "pattern": {
           "shape": ""
          }
         },
         "name": "",
         "offsetgroup": "",
         "orientation": "v",
         "showlegend": false,
         "text": [
          99.96863219506052,
          12.579838933629548,
          12.476066589689998,
          8.603660476678206,
          6.723166192027182,
          5.515337057744869,
          0.41081705823955783,
          0.2303678577812956,
          0.2118170053977359,
          0.14312263687437252,
          0.0014615823090077318,
          0.00011242940838521013
         ],
         "textposition": "outside",
         "texttemplate": "%{text:.2f}%",
         "type": "bar",
         "x": [
          "date_of_death",
          "time_started_work",
          "time_of_incident",
          "ein",
          "industry_description",
          "company_name",
          "job_description",
          "time_unknown",
          "establishment_type",
          "naics_year",
          "case_number",
          "street_address"
         ],
         "xaxis": "x",
         "y": [
          99.96863219506052,
          12.579838933629548,
          12.476066589689998,
          8.603660476678206,
          6.723166192027182,
          5.515337057744869,
          0.41081705823955783,
          0.2303678577812956,
          0.2118170053977359,
          0.14312263687437252,
          0.0014615823090077318,
          0.00011242940838521013
         ],
         "yaxis": "y"
        }
       ],
       "layout": {
        "barmode": "relative",
        "legend": {
         "tracegroupgap": 0
        },
        "showlegend": false,
        "template": {
         "data": {
          "bar": [
           {
            "error_x": {
             "color": "#2a3f5f"
            },
            "error_y": {
             "color": "#2a3f5f"
            },
            "marker": {
             "line": {
              "color": "#E5ECF6",
              "width": 0.5
             },
             "pattern": {
              "fillmode": "overlay",
              "size": 10,
              "solidity": 0.2
             }
            },
            "type": "bar"
           }
          ],
          "barpolar": [
           {
            "marker": {
             "line": {
              "color": "#E5ECF6",
              "width": 0.5
             },
             "pattern": {
              "fillmode": "overlay",
              "size": 10,
              "solidity": 0.2
             }
            },
            "type": "barpolar"
           }
          ],
          "carpet": [
           {
            "aaxis": {
             "endlinecolor": "#2a3f5f",
             "gridcolor": "white",
             "linecolor": "white",
             "minorgridcolor": "white",
             "startlinecolor": "#2a3f5f"
            },
            "baxis": {
             "endlinecolor": "#2a3f5f",
             "gridcolor": "white",
             "linecolor": "white",
             "minorgridcolor": "white",
             "startlinecolor": "#2a3f5f"
            },
            "type": "carpet"
           }
          ],
          "choropleth": [
           {
            "colorbar": {
             "outlinewidth": 0,
             "ticks": ""
            },
            "type": "choropleth"
           }
          ],
          "contour": [
           {
            "colorbar": {
             "outlinewidth": 0,
             "ticks": ""
            },
            "colorscale": [
             [
              0,
              "#0d0887"
             ],
             [
              0.1111111111111111,
              "#46039f"
             ],
             [
              0.2222222222222222,
              "#7201a8"
             ],
             [
              0.3333333333333333,
              "#9c179e"
             ],
             [
              0.4444444444444444,
              "#bd3786"
             ],
             [
              0.5555555555555556,
              "#d8576b"
             ],
             [
              0.6666666666666666,
              "#ed7953"
             ],
             [
              0.7777777777777778,
              "#fb9f3a"
             ],
             [
              0.8888888888888888,
              "#fdca26"
             ],
             [
              1,
              "#f0f921"
             ]
            ],
            "type": "contour"
           }
          ],
          "contourcarpet": [
           {
            "colorbar": {
             "outlinewidth": 0,
             "ticks": ""
            },
            "type": "contourcarpet"
           }
          ],
          "heatmap": [
           {
            "colorbar": {
             "outlinewidth": 0,
             "ticks": ""
            },
            "colorscale": [
             [
              0,
              "#0d0887"
             ],
             [
              0.1111111111111111,
              "#46039f"
             ],
             [
              0.2222222222222222,
              "#7201a8"
             ],
             [
              0.3333333333333333,
              "#9c179e"
             ],
             [
              0.4444444444444444,
              "#bd3786"
             ],
             [
              0.5555555555555556,
              "#d8576b"
             ],
             [
              0.6666666666666666,
              "#ed7953"
             ],
             [
              0.7777777777777778,
              "#fb9f3a"
             ],
             [
              0.8888888888888888,
              "#fdca26"
             ],
             [
              1,
              "#f0f921"
             ]
            ],
            "type": "heatmap"
           }
          ],
          "heatmapgl": [
           {
            "colorbar": {
             "outlinewidth": 0,
             "ticks": ""
            },
            "colorscale": [
             [
              0,
              "#0d0887"
             ],
             [
              0.1111111111111111,
              "#46039f"
             ],
             [
              0.2222222222222222,
              "#7201a8"
             ],
             [
              0.3333333333333333,
              "#9c179e"
             ],
             [
              0.4444444444444444,
              "#bd3786"
             ],
             [
              0.5555555555555556,
              "#d8576b"
             ],
             [
              0.6666666666666666,
              "#ed7953"
             ],
             [
              0.7777777777777778,
              "#fb9f3a"
             ],
             [
              0.8888888888888888,
              "#fdca26"
             ],
             [
              1,
              "#f0f921"
             ]
            ],
            "type": "heatmapgl"
           }
          ],
          "histogram": [
           {
            "marker": {
             "pattern": {
              "fillmode": "overlay",
              "size": 10,
              "solidity": 0.2
             }
            },
            "type": "histogram"
           }
          ],
          "histogram2d": [
           {
            "colorbar": {
             "outlinewidth": 0,
             "ticks": ""
            },
            "colorscale": [
             [
              0,
              "#0d0887"
             ],
             [
              0.1111111111111111,
              "#46039f"
             ],
             [
              0.2222222222222222,
              "#7201a8"
             ],
             [
              0.3333333333333333,
              "#9c179e"
             ],
             [
              0.4444444444444444,
              "#bd3786"
             ],
             [
              0.5555555555555556,
              "#d8576b"
             ],
             [
              0.6666666666666666,
              "#ed7953"
             ],
             [
              0.7777777777777778,
              "#fb9f3a"
             ],
             [
              0.8888888888888888,
              "#fdca26"
             ],
             [
              1,
              "#f0f921"
             ]
            ],
            "type": "histogram2d"
           }
          ],
          "histogram2dcontour": [
           {
            "colorbar": {
             "outlinewidth": 0,
             "ticks": ""
            },
            "colorscale": [
             [
              0,
              "#0d0887"
             ],
             [
              0.1111111111111111,
              "#46039f"
             ],
             [
              0.2222222222222222,
              "#7201a8"
             ],
             [
              0.3333333333333333,
              "#9c179e"
             ],
             [
              0.4444444444444444,
              "#bd3786"
             ],
             [
              0.5555555555555556,
              "#d8576b"
             ],
             [
              0.6666666666666666,
              "#ed7953"
             ],
             [
              0.7777777777777778,
              "#fb9f3a"
             ],
             [
              0.8888888888888888,
              "#fdca26"
             ],
             [
              1,
              "#f0f921"
             ]
            ],
            "type": "histogram2dcontour"
           }
          ],
          "mesh3d": [
           {
            "colorbar": {
             "outlinewidth": 0,
             "ticks": ""
            },
            "type": "mesh3d"
           }
          ],
          "parcoords": [
           {
            "line": {
             "colorbar": {
              "outlinewidth": 0,
              "ticks": ""
             }
            },
            "type": "parcoords"
           }
          ],
          "pie": [
           {
            "automargin": true,
            "type": "pie"
           }
          ],
          "scatter": [
           {
            "fillpattern": {
             "fillmode": "overlay",
             "size": 10,
             "solidity": 0.2
            },
            "type": "scatter"
           }
          ],
          "scatter3d": [
           {
            "line": {
             "colorbar": {
              "outlinewidth": 0,
              "ticks": ""
             }
            },
            "marker": {
             "colorbar": {
              "outlinewidth": 0,
              "ticks": ""
             }
            },
            "type": "scatter3d"
           }
          ],
          "scattercarpet": [
           {
            "marker": {
             "colorbar": {
              "outlinewidth": 0,
              "ticks": ""
             }
            },
            "type": "scattercarpet"
           }
          ],
          "scattergeo": [
           {
            "marker": {
             "colorbar": {
              "outlinewidth": 0,
              "ticks": ""
             }
            },
            "type": "scattergeo"
           }
          ],
          "scattergl": [
           {
            "marker": {
             "colorbar": {
              "outlinewidth": 0,
              "ticks": ""
             }
            },
            "type": "scattergl"
           }
          ],
          "scattermapbox": [
           {
            "marker": {
             "colorbar": {
              "outlinewidth": 0,
              "ticks": ""
             }
            },
            "type": "scattermapbox"
           }
          ],
          "scatterpolar": [
           {
            "marker": {
             "colorbar": {
              "outlinewidth": 0,
              "ticks": ""
             }
            },
            "type": "scatterpolar"
           }
          ],
          "scatterpolargl": [
           {
            "marker": {
             "colorbar": {
              "outlinewidth": 0,
              "ticks": ""
             }
            },
            "type": "scatterpolargl"
           }
          ],
          "scatterternary": [
           {
            "marker": {
             "colorbar": {
              "outlinewidth": 0,
              "ticks": ""
             }
            },
            "type": "scatterternary"
           }
          ],
          "surface": [
           {
            "colorbar": {
             "outlinewidth": 0,
             "ticks": ""
            },
            "colorscale": [
             [
              0,
              "#0d0887"
             ],
             [
              0.1111111111111111,
              "#46039f"
             ],
             [
              0.2222222222222222,
              "#7201a8"
             ],
             [
              0.3333333333333333,
              "#9c179e"
             ],
             [
              0.4444444444444444,
              "#bd3786"
             ],
             [
              0.5555555555555556,
              "#d8576b"
             ],
             [
              0.6666666666666666,
              "#ed7953"
             ],
             [
              0.7777777777777778,
              "#fb9f3a"
             ],
             [
              0.8888888888888888,
              "#fdca26"
             ],
             [
              1,
              "#f0f921"
             ]
            ],
            "type": "surface"
           }
          ],
          "table": [
           {
            "cells": {
             "fill": {
              "color": "#EBF0F8"
             },
             "line": {
              "color": "white"
             }
            },
            "header": {
             "fill": {
              "color": "#C8D4E3"
             },
             "line": {
              "color": "white"
             }
            },
            "type": "table"
           }
          ]
         },
         "layout": {
          "annotationdefaults": {
           "arrowcolor": "#2a3f5f",
           "arrowhead": 0,
           "arrowwidth": 1
          },
          "autotypenumbers": "strict",
          "coloraxis": {
           "colorbar": {
            "outlinewidth": 0,
            "ticks": ""
           }
          },
          "colorscale": {
           "diverging": [
            [
             0,
             "#8e0152"
            ],
            [
             0.1,
             "#c51b7d"
            ],
            [
             0.2,
             "#de77ae"
            ],
            [
             0.3,
             "#f1b6da"
            ],
            [
             0.4,
             "#fde0ef"
            ],
            [
             0.5,
             "#f7f7f7"
            ],
            [
             0.6,
             "#e6f5d0"
            ],
            [
             0.7,
             "#b8e186"
            ],
            [
             0.8,
             "#7fbc41"
            ],
            [
             0.9,
             "#4d9221"
            ],
            [
             1,
             "#276419"
            ]
           ],
           "sequential": [
            [
             0,
             "#0d0887"
            ],
            [
             0.1111111111111111,
             "#46039f"
            ],
            [
             0.2222222222222222,
             "#7201a8"
            ],
            [
             0.3333333333333333,
             "#9c179e"
            ],
            [
             0.4444444444444444,
             "#bd3786"
            ],
            [
             0.5555555555555556,
             "#d8576b"
            ],
            [
             0.6666666666666666,
             "#ed7953"
            ],
            [
             0.7777777777777778,
             "#fb9f3a"
            ],
            [
             0.8888888888888888,
             "#fdca26"
            ],
            [
             1,
             "#f0f921"
            ]
           ],
           "sequentialminus": [
            [
             0,
             "#0d0887"
            ],
            [
             0.1111111111111111,
             "#46039f"
            ],
            [
             0.2222222222222222,
             "#7201a8"
            ],
            [
             0.3333333333333333,
             "#9c179e"
            ],
            [
             0.4444444444444444,
             "#bd3786"
            ],
            [
             0.5555555555555556,
             "#d8576b"
            ],
            [
             0.6666666666666666,
             "#ed7953"
            ],
            [
             0.7777777777777778,
             "#fb9f3a"
            ],
            [
             0.8888888888888888,
             "#fdca26"
            ],
            [
             1,
             "#f0f921"
            ]
           ]
          },
          "colorway": [
           "#636efa",
           "#EF553B",
           "#00cc96",
           "#ab63fa",
           "#FFA15A",
           "#19d3f3",
           "#FF6692",
           "#B6E880",
           "#FF97FF",
           "#FECB52"
          ],
          "font": {
           "color": "#2a3f5f"
          },
          "geo": {
           "bgcolor": "white",
           "lakecolor": "white",
           "landcolor": "#E5ECF6",
           "showlakes": true,
           "showland": true,
           "subunitcolor": "white"
          },
          "hoverlabel": {
           "align": "left"
          },
          "hovermode": "closest",
          "mapbox": {
           "style": "light"
          },
          "paper_bgcolor": "white",
          "plot_bgcolor": "#E5ECF6",
          "polar": {
           "angularaxis": {
            "gridcolor": "white",
            "linecolor": "white",
            "ticks": ""
           },
           "bgcolor": "#E5ECF6",
           "radialaxis": {
            "gridcolor": "white",
            "linecolor": "white",
            "ticks": ""
           }
          },
          "scene": {
           "xaxis": {
            "backgroundcolor": "#E5ECF6",
            "gridcolor": "white",
            "gridwidth": 2,
            "linecolor": "white",
            "showbackground": true,
            "ticks": "",
            "zerolinecolor": "white"
           },
           "yaxis": {
            "backgroundcolor": "#E5ECF6",
            "gridcolor": "white",
            "gridwidth": 2,
            "linecolor": "white",
            "showbackground": true,
            "ticks": "",
            "zerolinecolor": "white"
           },
           "zaxis": {
            "backgroundcolor": "#E5ECF6",
            "gridcolor": "white",
            "gridwidth": 2,
            "linecolor": "white",
            "showbackground": true,
            "ticks": "",
            "zerolinecolor": "white"
           }
          },
          "shapedefaults": {
           "line": {
            "color": "#2a3f5f"
           }
          },
          "ternary": {
           "aaxis": {
            "gridcolor": "white",
            "linecolor": "white",
            "ticks": ""
           },
           "baxis": {
            "gridcolor": "white",
            "linecolor": "white",
            "ticks": ""
           },
           "bgcolor": "#E5ECF6",
           "caxis": {
            "gridcolor": "white",
            "linecolor": "white",
            "ticks": ""
           }
          },
          "title": {
           "x": 0.05
          },
          "xaxis": {
           "automargin": true,
           "gridcolor": "white",
           "linecolor": "white",
           "ticks": "",
           "title": {
            "standoff": 15
           },
           "zerolinecolor": "white",
           "zerolinewidth": 2
          },
          "yaxis": {
           "automargin": true,
           "gridcolor": "white",
           "linecolor": "white",
           "ticks": "",
           "title": {
            "standoff": 15
           },
           "zerolinecolor": "white",
           "zerolinewidth": 2
          }
         }
        },
        "title": {
         "text": "Missing Values Per Attribute (Sorted by Percentage)"
        },
        "uniformtext": {
         "minsize": 8,
         "mode": "hide"
        },
        "xaxis": {
         "anchor": "y",
         "domain": [
          0,
          1
         ],
         "tickangle": 45,
         "title": {
          "text": "Attributes"
         }
        },
        "yaxis": {
         "anchor": "x",
         "domain": [
          0,
          1
         ],
         "title": {
          "text": "Percentage Missing (%)"
         }
        }
       }
      }
     },
     "metadata": {},
     "output_type": "display_data"
    },
    {
     "data": {
      "application/vnd.plotly.v1+json": {
       "config": {
        "plotlyServerURL": "https://plot.ly"
       },
       "data": [
        {
         "alignmentgroup": "True",
         "hovertemplate": "Number of Missing Values=%{x}<br>Number of Rows=%{text}<extra></extra>",
         "legendgroup": "",
         "marker": {
          "color": "#636efa",
          "pattern": {
           "shape": ""
          }
         },
         "name": "",
         "offsetgroup": "",
         "orientation": "v",
         "showlegend": false,
         "text": [
          201,
          603667,
          178776,
          85337,
          18306,
          3134,
          25,
          1
         ],
         "textposition": "outside",
         "texttemplate": "%{text}",
         "type": "bar",
         "x": [
          0,
          1,
          2,
          3,
          4,
          5,
          6,
          7
         ],
         "xaxis": "x",
         "y": [
          201,
          603667,
          178776,
          85337,
          18306,
          3134,
          25,
          1
         ],
         "yaxis": "y"
        }
       ],
       "layout": {
        "barmode": "relative",
        "legend": {
         "tracegroupgap": 0
        },
        "showlegend": false,
        "template": {
         "data": {
          "bar": [
           {
            "error_x": {
             "color": "#2a3f5f"
            },
            "error_y": {
             "color": "#2a3f5f"
            },
            "marker": {
             "line": {
              "color": "#E5ECF6",
              "width": 0.5
             },
             "pattern": {
              "fillmode": "overlay",
              "size": 10,
              "solidity": 0.2
             }
            },
            "type": "bar"
           }
          ],
          "barpolar": [
           {
            "marker": {
             "line": {
              "color": "#E5ECF6",
              "width": 0.5
             },
             "pattern": {
              "fillmode": "overlay",
              "size": 10,
              "solidity": 0.2
             }
            },
            "type": "barpolar"
           }
          ],
          "carpet": [
           {
            "aaxis": {
             "endlinecolor": "#2a3f5f",
             "gridcolor": "white",
             "linecolor": "white",
             "minorgridcolor": "white",
             "startlinecolor": "#2a3f5f"
            },
            "baxis": {
             "endlinecolor": "#2a3f5f",
             "gridcolor": "white",
             "linecolor": "white",
             "minorgridcolor": "white",
             "startlinecolor": "#2a3f5f"
            },
            "type": "carpet"
           }
          ],
          "choropleth": [
           {
            "colorbar": {
             "outlinewidth": 0,
             "ticks": ""
            },
            "type": "choropleth"
           }
          ],
          "contour": [
           {
            "colorbar": {
             "outlinewidth": 0,
             "ticks": ""
            },
            "colorscale": [
             [
              0,
              "#0d0887"
             ],
             [
              0.1111111111111111,
              "#46039f"
             ],
             [
              0.2222222222222222,
              "#7201a8"
             ],
             [
              0.3333333333333333,
              "#9c179e"
             ],
             [
              0.4444444444444444,
              "#bd3786"
             ],
             [
              0.5555555555555556,
              "#d8576b"
             ],
             [
              0.6666666666666666,
              "#ed7953"
             ],
             [
              0.7777777777777778,
              "#fb9f3a"
             ],
             [
              0.8888888888888888,
              "#fdca26"
             ],
             [
              1,
              "#f0f921"
             ]
            ],
            "type": "contour"
           }
          ],
          "contourcarpet": [
           {
            "colorbar": {
             "outlinewidth": 0,
             "ticks": ""
            },
            "type": "contourcarpet"
           }
          ],
          "heatmap": [
           {
            "colorbar": {
             "outlinewidth": 0,
             "ticks": ""
            },
            "colorscale": [
             [
              0,
              "#0d0887"
             ],
             [
              0.1111111111111111,
              "#46039f"
             ],
             [
              0.2222222222222222,
              "#7201a8"
             ],
             [
              0.3333333333333333,
              "#9c179e"
             ],
             [
              0.4444444444444444,
              "#bd3786"
             ],
             [
              0.5555555555555556,
              "#d8576b"
             ],
             [
              0.6666666666666666,
              "#ed7953"
             ],
             [
              0.7777777777777778,
              "#fb9f3a"
             ],
             [
              0.8888888888888888,
              "#fdca26"
             ],
             [
              1,
              "#f0f921"
             ]
            ],
            "type": "heatmap"
           }
          ],
          "heatmapgl": [
           {
            "colorbar": {
             "outlinewidth": 0,
             "ticks": ""
            },
            "colorscale": [
             [
              0,
              "#0d0887"
             ],
             [
              0.1111111111111111,
              "#46039f"
             ],
             [
              0.2222222222222222,
              "#7201a8"
             ],
             [
              0.3333333333333333,
              "#9c179e"
             ],
             [
              0.4444444444444444,
              "#bd3786"
             ],
             [
              0.5555555555555556,
              "#d8576b"
             ],
             [
              0.6666666666666666,
              "#ed7953"
             ],
             [
              0.7777777777777778,
              "#fb9f3a"
             ],
             [
              0.8888888888888888,
              "#fdca26"
             ],
             [
              1,
              "#f0f921"
             ]
            ],
            "type": "heatmapgl"
           }
          ],
          "histogram": [
           {
            "marker": {
             "pattern": {
              "fillmode": "overlay",
              "size": 10,
              "solidity": 0.2
             }
            },
            "type": "histogram"
           }
          ],
          "histogram2d": [
           {
            "colorbar": {
             "outlinewidth": 0,
             "ticks": ""
            },
            "colorscale": [
             [
              0,
              "#0d0887"
             ],
             [
              0.1111111111111111,
              "#46039f"
             ],
             [
              0.2222222222222222,
              "#7201a8"
             ],
             [
              0.3333333333333333,
              "#9c179e"
             ],
             [
              0.4444444444444444,
              "#bd3786"
             ],
             [
              0.5555555555555556,
              "#d8576b"
             ],
             [
              0.6666666666666666,
              "#ed7953"
             ],
             [
              0.7777777777777778,
              "#fb9f3a"
             ],
             [
              0.8888888888888888,
              "#fdca26"
             ],
             [
              1,
              "#f0f921"
             ]
            ],
            "type": "histogram2d"
           }
          ],
          "histogram2dcontour": [
           {
            "colorbar": {
             "outlinewidth": 0,
             "ticks": ""
            },
            "colorscale": [
             [
              0,
              "#0d0887"
             ],
             [
              0.1111111111111111,
              "#46039f"
             ],
             [
              0.2222222222222222,
              "#7201a8"
             ],
             [
              0.3333333333333333,
              "#9c179e"
             ],
             [
              0.4444444444444444,
              "#bd3786"
             ],
             [
              0.5555555555555556,
              "#d8576b"
             ],
             [
              0.6666666666666666,
              "#ed7953"
             ],
             [
              0.7777777777777778,
              "#fb9f3a"
             ],
             [
              0.8888888888888888,
              "#fdca26"
             ],
             [
              1,
              "#f0f921"
             ]
            ],
            "type": "histogram2dcontour"
           }
          ],
          "mesh3d": [
           {
            "colorbar": {
             "outlinewidth": 0,
             "ticks": ""
            },
            "type": "mesh3d"
           }
          ],
          "parcoords": [
           {
            "line": {
             "colorbar": {
              "outlinewidth": 0,
              "ticks": ""
             }
            },
            "type": "parcoords"
           }
          ],
          "pie": [
           {
            "automargin": true,
            "type": "pie"
           }
          ],
          "scatter": [
           {
            "fillpattern": {
             "fillmode": "overlay",
             "size": 10,
             "solidity": 0.2
            },
            "type": "scatter"
           }
          ],
          "scatter3d": [
           {
            "line": {
             "colorbar": {
              "outlinewidth": 0,
              "ticks": ""
             }
            },
            "marker": {
             "colorbar": {
              "outlinewidth": 0,
              "ticks": ""
             }
            },
            "type": "scatter3d"
           }
          ],
          "scattercarpet": [
           {
            "marker": {
             "colorbar": {
              "outlinewidth": 0,
              "ticks": ""
             }
            },
            "type": "scattercarpet"
           }
          ],
          "scattergeo": [
           {
            "marker": {
             "colorbar": {
              "outlinewidth": 0,
              "ticks": ""
             }
            },
            "type": "scattergeo"
           }
          ],
          "scattergl": [
           {
            "marker": {
             "colorbar": {
              "outlinewidth": 0,
              "ticks": ""
             }
            },
            "type": "scattergl"
           }
          ],
          "scattermapbox": [
           {
            "marker": {
             "colorbar": {
              "outlinewidth": 0,
              "ticks": ""
             }
            },
            "type": "scattermapbox"
           }
          ],
          "scatterpolar": [
           {
            "marker": {
             "colorbar": {
              "outlinewidth": 0,
              "ticks": ""
             }
            },
            "type": "scatterpolar"
           }
          ],
          "scatterpolargl": [
           {
            "marker": {
             "colorbar": {
              "outlinewidth": 0,
              "ticks": ""
             }
            },
            "type": "scatterpolargl"
           }
          ],
          "scatterternary": [
           {
            "marker": {
             "colorbar": {
              "outlinewidth": 0,
              "ticks": ""
             }
            },
            "type": "scatterternary"
           }
          ],
          "surface": [
           {
            "colorbar": {
             "outlinewidth": 0,
             "ticks": ""
            },
            "colorscale": [
             [
              0,
              "#0d0887"
             ],
             [
              0.1111111111111111,
              "#46039f"
             ],
             [
              0.2222222222222222,
              "#7201a8"
             ],
             [
              0.3333333333333333,
              "#9c179e"
             ],
             [
              0.4444444444444444,
              "#bd3786"
             ],
             [
              0.5555555555555556,
              "#d8576b"
             ],
             [
              0.6666666666666666,
              "#ed7953"
             ],
             [
              0.7777777777777778,
              "#fb9f3a"
             ],
             [
              0.8888888888888888,
              "#fdca26"
             ],
             [
              1,
              "#f0f921"
             ]
            ],
            "type": "surface"
           }
          ],
          "table": [
           {
            "cells": {
             "fill": {
              "color": "#EBF0F8"
             },
             "line": {
              "color": "white"
             }
            },
            "header": {
             "fill": {
              "color": "#C8D4E3"
             },
             "line": {
              "color": "white"
             }
            },
            "type": "table"
           }
          ]
         },
         "layout": {
          "annotationdefaults": {
           "arrowcolor": "#2a3f5f",
           "arrowhead": 0,
           "arrowwidth": 1
          },
          "autotypenumbers": "strict",
          "coloraxis": {
           "colorbar": {
            "outlinewidth": 0,
            "ticks": ""
           }
          },
          "colorscale": {
           "diverging": [
            [
             0,
             "#8e0152"
            ],
            [
             0.1,
             "#c51b7d"
            ],
            [
             0.2,
             "#de77ae"
            ],
            [
             0.3,
             "#f1b6da"
            ],
            [
             0.4,
             "#fde0ef"
            ],
            [
             0.5,
             "#f7f7f7"
            ],
            [
             0.6,
             "#e6f5d0"
            ],
            [
             0.7,
             "#b8e186"
            ],
            [
             0.8,
             "#7fbc41"
            ],
            [
             0.9,
             "#4d9221"
            ],
            [
             1,
             "#276419"
            ]
           ],
           "sequential": [
            [
             0,
             "#0d0887"
            ],
            [
             0.1111111111111111,
             "#46039f"
            ],
            [
             0.2222222222222222,
             "#7201a8"
            ],
            [
             0.3333333333333333,
             "#9c179e"
            ],
            [
             0.4444444444444444,
             "#bd3786"
            ],
            [
             0.5555555555555556,
             "#d8576b"
            ],
            [
             0.6666666666666666,
             "#ed7953"
            ],
            [
             0.7777777777777778,
             "#fb9f3a"
            ],
            [
             0.8888888888888888,
             "#fdca26"
            ],
            [
             1,
             "#f0f921"
            ]
           ],
           "sequentialminus": [
            [
             0,
             "#0d0887"
            ],
            [
             0.1111111111111111,
             "#46039f"
            ],
            [
             0.2222222222222222,
             "#7201a8"
            ],
            [
             0.3333333333333333,
             "#9c179e"
            ],
            [
             0.4444444444444444,
             "#bd3786"
            ],
            [
             0.5555555555555556,
             "#d8576b"
            ],
            [
             0.6666666666666666,
             "#ed7953"
            ],
            [
             0.7777777777777778,
             "#fb9f3a"
            ],
            [
             0.8888888888888888,
             "#fdca26"
            ],
            [
             1,
             "#f0f921"
            ]
           ]
          },
          "colorway": [
           "#636efa",
           "#EF553B",
           "#00cc96",
           "#ab63fa",
           "#FFA15A",
           "#19d3f3",
           "#FF6692",
           "#B6E880",
           "#FF97FF",
           "#FECB52"
          ],
          "font": {
           "color": "#2a3f5f"
          },
          "geo": {
           "bgcolor": "white",
           "lakecolor": "white",
           "landcolor": "#E5ECF6",
           "showlakes": true,
           "showland": true,
           "subunitcolor": "white"
          },
          "hoverlabel": {
           "align": "left"
          },
          "hovermode": "closest",
          "mapbox": {
           "style": "light"
          },
          "paper_bgcolor": "white",
          "plot_bgcolor": "#E5ECF6",
          "polar": {
           "angularaxis": {
            "gridcolor": "white",
            "linecolor": "white",
            "ticks": ""
           },
           "bgcolor": "#E5ECF6",
           "radialaxis": {
            "gridcolor": "white",
            "linecolor": "white",
            "ticks": ""
           }
          },
          "scene": {
           "xaxis": {
            "backgroundcolor": "#E5ECF6",
            "gridcolor": "white",
            "gridwidth": 2,
            "linecolor": "white",
            "showbackground": true,
            "ticks": "",
            "zerolinecolor": "white"
           },
           "yaxis": {
            "backgroundcolor": "#E5ECF6",
            "gridcolor": "white",
            "gridwidth": 2,
            "linecolor": "white",
            "showbackground": true,
            "ticks": "",
            "zerolinecolor": "white"
           },
           "zaxis": {
            "backgroundcolor": "#E5ECF6",
            "gridcolor": "white",
            "gridwidth": 2,
            "linecolor": "white",
            "showbackground": true,
            "ticks": "",
            "zerolinecolor": "white"
           }
          },
          "shapedefaults": {
           "line": {
            "color": "#2a3f5f"
           }
          },
          "ternary": {
           "aaxis": {
            "gridcolor": "white",
            "linecolor": "white",
            "ticks": ""
           },
           "baxis": {
            "gridcolor": "white",
            "linecolor": "white",
            "ticks": ""
           },
           "bgcolor": "#E5ECF6",
           "caxis": {
            "gridcolor": "white",
            "linecolor": "white",
            "ticks": ""
           }
          },
          "title": {
           "x": 0.05
          },
          "xaxis": {
           "automargin": true,
           "gridcolor": "white",
           "linecolor": "white",
           "ticks": "",
           "title": {
            "standoff": 15
           },
           "zerolinecolor": "white",
           "zerolinewidth": 2
          },
          "yaxis": {
           "automargin": true,
           "gridcolor": "white",
           "linecolor": "white",
           "ticks": "",
           "title": {
            "standoff": 15
           },
           "zerolinecolor": "white",
           "zerolinewidth": 2
          }
         }
        },
        "title": {
         "text": "Distribution of Missing Values Per Row"
        },
        "uniformtext": {
         "minsize": 8,
         "mode": "hide"
        },
        "xaxis": {
         "anchor": "y",
         "domain": [
          0,
          1
         ],
         "title": {
          "text": "Number of Missing Values"
         }
        },
        "yaxis": {
         "anchor": "x",
         "domain": [
          0,
          1
         ],
         "title": {
          "text": "Number of Rows"
         }
        }
       }
      }
     },
     "metadata": {},
     "output_type": "display_data"
    }
   ],
   "source": [
    "def analyze_and_plot_missing_values(dataframe):\n",
    "    \"\"\"\n",
    "    Analyzes and plots the missing values in the dataset.\n",
    "\n",
    "    Parameters:\n",
    "        dataframe (pd.DataFrame): The DataFrame containing the dataset.\n",
    "\n",
    "    Returns:\n",
    "        dict: A dictionary with:\n",
    "              - Total missing values per attribute\n",
    "              - Percentage of missing values per attribute\n",
    "              - Missing values per entry\n",
    "    \"\"\"\n",
    "    # Count missing values per attribute\n",
    "    missing_per_attribute = dataframe.isnull().sum()\n",
    "    percent_missing_per_attribute = (missing_per_attribute / len(dataframe)) * 100\n",
    "\n",
    "    # Combine counts and percentages into a DataFrame\n",
    "    attribute_analysis = (\n",
    "        pd.DataFrame(\n",
    "            {\n",
    "                \"Attribute\": dataframe.columns,\n",
    "                \"Missing_Count\": missing_per_attribute,\n",
    "                \"Percentage_Missing\": percent_missing_per_attribute,\n",
    "            }\n",
    "        )\n",
    "        .query(\"Missing_Count > 0\")\n",
    "        .sort_values(by=\"Percentage_Missing\", ascending=False)\n",
    "        .set_index(\"Attribute\")\n",
    "    )  # Sort in descending order\n",
    "\n",
    "    # Count missing values per entry (row)\n",
    "    missing_per_entry = dataframe.isnull().sum(axis=1)\n",
    "    # Distribution of rows by the number of missing values\n",
    "    row_missing_distribution = missing_per_entry.value_counts().reset_index()\n",
    "    row_missing_distribution.columns = [\"Missing_Count\", \"Row_Count\"]\n",
    "    row_missing_distribution = row_missing_distribution.sort_values(\n",
    "        by=\"Missing_Count\", ascending=True\n",
    "    ).set_index(\"Missing_Count\")\n",
    "\n",
    "    # Plot missing values per attribute\n",
    "    fig_attr = px.bar(\n",
    "        attribute_analysis.reset_index(),\n",
    "        x=\"Attribute\",\n",
    "        y=\"Percentage_Missing\",\n",
    "        text=\"Percentage_Missing\",\n",
    "        title=\"Missing Values Per Attribute (Sorted by Percentage)\",\n",
    "        labels={\n",
    "            \"Attribute\": \"Attribute\",\n",
    "            \"Percentage Missing\": \"Percentage Missing (%)\",\n",
    "        },\n",
    "    )\n",
    "    fig_attr.update_traces(texttemplate=\"%{text:.2f}%\", textposition=\"outside\")\n",
    "    fig_attr.update_layout(\n",
    "        xaxis=dict(title=\"Attributes\", tickangle=45),\n",
    "        yaxis=dict(title=\"Percentage Missing (%)\"),\n",
    "        uniformtext_minsize=8,\n",
    "        uniformtext_mode=\"hide\",\n",
    "        showlegend=False,\n",
    "    )\n",
    "    fig_attr.show()\n",
    "\n",
    "    # Plot distribution of missing values per row\n",
    "    fig_row = px.bar(\n",
    "        row_missing_distribution.reset_index(),\n",
    "        x=\"Missing_Count\",\n",
    "        y=\"Row_Count\",\n",
    "        text=\"Row_Count\",\n",
    "        title=\"Distribution of Missing Values Per Row\",\n",
    "        labels={\n",
    "            \"Missing_Count\": \"Number of Missing Values\",\n",
    "            \"Row_Count\": \"Number of Rows\",\n",
    "        },\n",
    "    )\n",
    "    fig_row.update_traces(texttemplate=\"%{text}\", textposition=\"outside\")\n",
    "    fig_row.update_layout(\n",
    "        xaxis=dict(title=\"Number of Missing Values\"),\n",
    "        yaxis=dict(title=\"Number of Rows\"),\n",
    "        uniformtext_minsize=8,\n",
    "        uniformtext_mode=\"hide\",\n",
    "        showlegend=False,\n",
    "    )\n",
    "    fig_row.show()\n",
    "\n",
    "    return attribute_analysis, row_missing_distribution\n",
    "\n",
    "\n",
    "# Example usage\n",
    "df_missing_attributes, df_row_missing_distribution = analyze_and_plot_missing_values(df)"
   ]
  },
  {
   "cell_type": "code",
   "execution_count": 12,
   "metadata": {},
   "outputs": [
    {
     "data": {
      "text/html": [
       "<div>\n",
       "<style scoped>\n",
       "    .dataframe tbody tr th:only-of-type {\n",
       "        vertical-align: middle;\n",
       "    }\n",
       "\n",
       "    .dataframe tbody tr th {\n",
       "        vertical-align: top;\n",
       "    }\n",
       "\n",
       "    .dataframe thead th {\n",
       "        text-align: right;\n",
       "    }\n",
       "</style>\n",
       "<table border=\"1\" class=\"dataframe\">\n",
       "  <thead>\n",
       "    <tr style=\"text-align: right;\">\n",
       "      <th></th>\n",
       "      <th>Missing_Count</th>\n",
       "      <th>Percentage_Missing</th>\n",
       "    </tr>\n",
       "    <tr>\n",
       "      <th>Attribute</th>\n",
       "      <th></th>\n",
       "      <th></th>\n",
       "    </tr>\n",
       "  </thead>\n",
       "  <tbody>\n",
       "    <tr>\n",
       "      <th>date_of_death</th>\n",
       "      <td>889168</td>\n",
       "      <td>99.968632</td>\n",
       "    </tr>\n",
       "    <tr>\n",
       "      <th>time_started_work</th>\n",
       "      <td>111891</td>\n",
       "      <td>12.579839</td>\n",
       "    </tr>\n",
       "    <tr>\n",
       "      <th>time_of_incident</th>\n",
       "      <td>110968</td>\n",
       "      <td>12.476067</td>\n",
       "    </tr>\n",
       "    <tr>\n",
       "      <th>ein</th>\n",
       "      <td>76525</td>\n",
       "      <td>8.603660</td>\n",
       "    </tr>\n",
       "    <tr>\n",
       "      <th>industry_description</th>\n",
       "      <td>59799</td>\n",
       "      <td>6.723166</td>\n",
       "    </tr>\n",
       "    <tr>\n",
       "      <th>company_name</th>\n",
       "      <td>49056</td>\n",
       "      <td>5.515337</td>\n",
       "    </tr>\n",
       "    <tr>\n",
       "      <th>job_description</th>\n",
       "      <td>3654</td>\n",
       "      <td>0.410817</td>\n",
       "    </tr>\n",
       "    <tr>\n",
       "      <th>time_unknown</th>\n",
       "      <td>2049</td>\n",
       "      <td>0.230368</td>\n",
       "    </tr>\n",
       "    <tr>\n",
       "      <th>establishment_type</th>\n",
       "      <td>1884</td>\n",
       "      <td>0.211817</td>\n",
       "    </tr>\n",
       "    <tr>\n",
       "      <th>naics_year</th>\n",
       "      <td>1273</td>\n",
       "      <td>0.143123</td>\n",
       "    </tr>\n",
       "    <tr>\n",
       "      <th>case_number</th>\n",
       "      <td>13</td>\n",
       "      <td>0.001462</td>\n",
       "    </tr>\n",
       "    <tr>\n",
       "      <th>street_address</th>\n",
       "      <td>1</td>\n",
       "      <td>0.000112</td>\n",
       "    </tr>\n",
       "  </tbody>\n",
       "</table>\n",
       "</div>"
      ],
      "text/plain": [
       "                      Missing_Count  Percentage_Missing\n",
       "Attribute                                              \n",
       "date_of_death                889168           99.968632\n",
       "time_started_work            111891           12.579839\n",
       "time_of_incident             110968           12.476067\n",
       "ein                           76525            8.603660\n",
       "industry_description          59799            6.723166\n",
       "company_name                  49056            5.515337\n",
       "job_description                3654            0.410817\n",
       "time_unknown                   2049            0.230368\n",
       "establishment_type             1884            0.211817\n",
       "naics_year                     1273            0.143123\n",
       "case_number                      13            0.001462\n",
       "street_address                    1            0.000112"
      ]
     },
     "execution_count": 12,
     "metadata": {},
     "output_type": "execute_result"
    }
   ],
   "source": [
    "df_missing_attributes"
   ]
  },
  {
   "cell_type": "code",
   "execution_count": 13,
   "metadata": {},
   "outputs": [
    {
     "data": {
      "text/html": [
       "<div>\n",
       "<style scoped>\n",
       "    .dataframe tbody tr th:only-of-type {\n",
       "        vertical-align: middle;\n",
       "    }\n",
       "\n",
       "    .dataframe tbody tr th {\n",
       "        vertical-align: top;\n",
       "    }\n",
       "\n",
       "    .dataframe thead th {\n",
       "        text-align: right;\n",
       "    }\n",
       "</style>\n",
       "<table border=\"1\" class=\"dataframe\">\n",
       "  <thead>\n",
       "    <tr style=\"text-align: right;\">\n",
       "      <th></th>\n",
       "      <th>Row_Count</th>\n",
       "    </tr>\n",
       "    <tr>\n",
       "      <th>Missing_Count</th>\n",
       "      <th></th>\n",
       "    </tr>\n",
       "  </thead>\n",
       "  <tbody>\n",
       "    <tr>\n",
       "      <th>1</th>\n",
       "      <td>603667</td>\n",
       "    </tr>\n",
       "    <tr>\n",
       "      <th>2</th>\n",
       "      <td>178776</td>\n",
       "    </tr>\n",
       "    <tr>\n",
       "      <th>3</th>\n",
       "      <td>85337</td>\n",
       "    </tr>\n",
       "    <tr>\n",
       "      <th>4</th>\n",
       "      <td>18306</td>\n",
       "    </tr>\n",
       "    <tr>\n",
       "      <th>5</th>\n",
       "      <td>3134</td>\n",
       "    </tr>\n",
       "    <tr>\n",
       "      <th>6</th>\n",
       "      <td>25</td>\n",
       "    </tr>\n",
       "    <tr>\n",
       "      <th>7</th>\n",
       "      <td>1</td>\n",
       "    </tr>\n",
       "  </tbody>\n",
       "</table>\n",
       "</div>"
      ],
      "text/plain": [
       "               Row_Count\n",
       "Missing_Count           \n",
       "1                 603667\n",
       "2                 178776\n",
       "3                  85337\n",
       "4                  18306\n",
       "5                   3134\n",
       "6                     25\n",
       "7                      1"
      ]
     },
     "execution_count": 13,
     "metadata": {},
     "output_type": "execute_result"
    }
   ],
   "source": [
    "df_row_missing_distribution.query(\"Missing_Count > 0\")"
   ]
  },
  {
   "cell_type": "markdown",
   "metadata": {},
   "source": [
    "##### Analysis\n",
    "1. **`date_of_death` (99.97% missing)**\n",
    "- **Impact**: This field is crucial for analyzing fatalities but is practically unusable due to the high missing percentage.\n",
    "- **Recommendation**: Use the `incident_outcome` field, which includes death as a category, to indirectly analyze fatality-related trends.\n",
    "\n",
    "2. **`time_started_work` (12.58% missing) and `time_of_incident` (12.48% missing)**\n",
    "- **Impact**: These fields are essential for analyzing temporal trends, such as incidents occurring shortly after starting work. Missing values reduce the reliability of time-dependent analyses.\n",
    "- **Recommendation**: Focus analyses on the available data or consider imputing missing values based on similar cases or statistical methods.\n",
    "\n",
    "3. **`ein` (8.60% missing)**\n",
    "- **Impact**: The EIN uniquely identifies establishments and is vital for merging datasets or conducting establishment-specific studies. Missing values hinder these analyses.\n",
    "- **Recommendation**: Use `establishment_ID` as an alternative identifier if it is complete.\n",
    "\n",
    "4. **`industry_description` (6.72% missing)**\n",
    "- **Impact**: Industry classification is critical for sector-specific risk analysis. Missing values hinder comparisons of workplace safety across industries.\n",
    "- **Recommendation**: Use `naics_code` for industry-level analysis or group missing values into an \"Unknown\" category.\n",
    "\n",
    "5. **`job_description` (0.41% missing)**\n",
    "- **Impact**: This field is important for analyzing risks associated with specific job roles. Missing data limits occupation-specific insights.\n",
    "- **Recommendation**: Exclude rows with missing `job_description` from job-specific analyses or impute values based on similar cases.\n"
   ]
  },
  {
   "cell_type": "markdown",
   "metadata": {},
   "source": [
    "## Exercise 2 – Goal - Data (Domain specific)\n"
   ]
  },
  {
   "cell_type": "markdown",
   "metadata": {},
   "source": [
    "#### General Overall Goal\n",
    "The primary goal of the visualization tool is to **enable workplace safety analysts, policymakers, and industry leaders** to:\n",
    "1. Identify trends in workplace injuries and illnesses across industries, establishments, and job roles.\n",
    "2. Explore the temporal, geographic, and sector-specific distribution of incidents to identify patterns and potential risk factors.\n",
    "3. Facilitate decision-making by highlighting areas that require safety interventions, such as industries with high incident rates or recurring issues in specific job roles.\n",
    "\n",
    "#### Target Users\n",
    "The visualization tool is designed for:\n",
    "- **Workplace Safety Analysts**: To understand patterns in workplace incidents and investigate contributing factors.\n",
    "- **Policymakers**: To design and evaluate regulations that mitigate risks in high-hazard industries.\n",
    "- **Industry Leaders/Managers**: To assess their establishments’ performance compared to industry benchmarks and implement targeted safety measures.\n",
    "\n",
    "#### Overall Goal and High-Level Actions\n",
    "The primary goal is **\"Exploratory Analysis\"**, focusing on:\n",
    "1. **Comparative Analysis**: Compare incidents across industries, job roles, and geographic regions to identify high-risk categories.\n",
    "2. **Trend Identification**: Examine temporal trends in incident occurrences and severity (e.g., time of day, seasonality).\n",
    "3. **Insight Generation**: Drill down into specific establishments or job types to identify recurring patterns or anomalies.\n",
    "4. **Communication and Awareness**: Present findings in an intuitive, interactive format to raise awareness and drive action.\n",
    "\n",
    "#### Why This Goal is Suitable for the Available Data\n",
    "- The dataset contains a wealth of detailed information about workplace incidents, including establishment-level, incident-level, and job-level attributes. These can be visualized to uncover patterns and correlations that would be hard to identify otherwise.\n",
    "- While some attributes have missing values (e.g., `date_of_death`, `time_started_work`), the remaining data is sufficient to provide meaningful insights at industry, establishment, and incident levels.\n",
    "\n",
    "#### Why Visualization is the Right Means\n",
    "1. **Pattern Recognition**: Visualization allows users to recognize patterns and outliers, such as industries with unusually high incident rates.\n",
    "2. **Exploration and Interaction**: An interactive tool enables users to explore the dataset from various perspectives (e.g., filtering by industry, geographic location, or incident severity).\n",
    "3. **Decision Support**: Visualizing data enables managers and policymakers to make informed decisions quickly by presenting complex data in an understandable format.\n",
    "4. **Communication**: Visualizations can convey insights effectively to diverse stakeholders, including non-technical audiences.\n",
    "\n",
    "This tool is ideal for leveraging the available data to inform workplace safety improvements, reduce incident rates, and ensure compliance with regulations.\n"
   ]
  },
  {
   "cell_type": "markdown",
   "metadata": {},
   "source": [
    "## Exercise 3 – Data (What) Domain specific\n"
   ]
  },
  {
   "cell_type": "markdown",
   "metadata": {},
   "source": [
    "### (a) Write in section What (Data) the description of the data. You can base it on the analysis you have done in exercise 1. What are the general properties of the data you want to use? "
   ]
  },
  {
   "cell_type": "markdown",
   "metadata": {},
   "source": [
    "\n",
    "#### Attributes Needed for the Analysis and Their Relevance\n",
    "\n",
    "1. **Establishment-Level Attributes**:\n",
    "   - **`naics_code` and `industry_description`**: Essential for identifying high-risk industries and understanding sector-specific trends.\n",
    "   - **`state`, `city`, `zip_code`**: Crucial for geographic analysis to detect regional patterns or disparities in workplace safety.\n",
    "   - **`size`, `annual_average_employees`, and `total_hours_worked`**: Provide context for scaling incident data (e.g., incidents per employee or hours worked) to make comparisons meaningful across establishments of different sizes.\n",
    "\n",
    "2. **Incident-Level Attributes**:\n",
    "   - **`date_of_incident`**: Key for temporal analysis, such as identifying trends over time or seasonal variations.\n",
    "   - **`type_of_incident`**: Important for categorizing and understanding the nature of incidents (e.g., injuries vs. illnesses).\n",
    "   - **`incident_outcome`**: Crucial for evaluating the severity of incidents and prioritizing interventions.\n",
    "   - **`dawf_num_away` and `djtr_num_tr`**: Provide metrics to assess the impact of incidents on productivity and employee health.\n",
    "\n",
    "3. **Narrative and Job-Level Attributes**:\n",
    "   - **`job_description`**: Helps identify which roles are most vulnerable to workplace incidents, enabling targeted interventions.\n",
    "   - **`SOC_code` and `SOC_description`**: Provide standard classifications for jobs, supporting cross-industry comparisons.\n",
    "   - **`incident_description` and `nar_what_happened`**: Offer qualitative insights into incident causes and circumstances, which are valuable for designing preventative measures.\n",
    "\n",
    "4. **System Metadata**:\n",
    "   - **`year_of_filing`**: Allows analysis of data trends across multiple reporting years.\n",
    "   - **`created_timestamp`**: Ensures timeliness and relevance of the data used for analysis.\n",
    "\n",
    "#### Why These Attributes Are Relevant\n",
    "These attributes enable comprehensive analyses aligned with the goals of the visualization tool:\n",
    "- **Comparative Analysis**: Attributes like `naics_code`, `state`, and `incident_outcome` allow comparisons across industries, regions, and severity levels.\n",
    "- **Trend Identification**: Temporal attributes such as `date_of_incident` and `year_of_filing` help identify trends in workplace safety over time.\n",
    "- **Actionable Insights**: Narrative and job-level attributes (`job_description`, `SOC_code`, and `incident_description`) provide detailed insights into specific incident causes, enabling targeted interventions.\n",
    "- **Scalability**: Workforce metrics (`size`, `annual_average_employees`, `total_hours_worked`) ensure that analyses are normalized, allowing for meaningful comparisons across establishments of varying sizes.\n",
    "\n",
    "By focusing on these attributes, the visualization tool can deliver actionable insights to workplace safety analysts, policymakers, and industry leaders.\n"
   ]
  },
  {
   "cell_type": "markdown",
   "metadata": {},
   "source": [
    "### (b) Most of the data sets contain noise, missing data values, and relations, or measurement errors. The data of this course is no exception. In exercise 1, you already looked at the missing values. How will you handle missing data values or measurement errors? Think of multiple ways and their pros and cons."
   ]
  },
  {
   "cell_type": "code",
   "execution_count": 14,
   "metadata": {},
   "outputs": [],
   "source": [
    "def preprocess_dataframe(df: pd.DataFrame) -> pd.DataFrame:\n",
    "    \"\"\"\n",
    "    Preprocesses the given DataFrame by performing data cleaning, type conversions,\n",
    "    and mapping of categorical variables for better interpretability and analysis.\n",
    "\n",
    "    Parameters:\n",
    "        df (pd.DataFrame): The input DataFrame containing raw data.\n",
    "\n",
    "    Returns:\n",
    "        pd.DataFrame: A cleaned and preprocessed DataFrame with the following transformations:\n",
    "            - String columns are stripped of whitespace, tabs, and excess spaces.\n",
    "            - Numeric columns are converted to appropriate numeric types with downcasting.\n",
    "            - Categorical columns are mapped to meaningful labels and converted to 'category' type.\n",
    "            - Date and time columns are converted to datetime or time objects as needed.\n",
    "            - Missing values are imputed based on column-specific logic or filled with default placeholders.\n",
    "            - Invalid or placeholder values in specific columns (e.g., EIN, soc_code) are replaced with standardized values.\n",
    "            - Columns with redundant or irrelevant information (e.g., 'year_filing_for') are dropped.\n",
    "\n",
    "    Key Transformations:\n",
    "        - String Cleaning: Strips leading/trailing whitespace, removes tabs, and normalizes spacing.\n",
    "        - Numeric Conversion: Downcasts numeric columns to optimize memory usage.\n",
    "        - Categorical Mapping: Maps numeric or placeholder codes to meaningful labels.\n",
    "        - Date/Time Conversion: Parses date and time strings into appropriate formats.\n",
    "        - Missing Value Imputation:\n",
    "            - 'case_number', 'company_name', 'street_address', 'job_description': Filled with \"Not provided\".\n",
    "            - 'industry_description': Filled with \"No description given\".\n",
    "            - 'ein': \"Enter EIN\" replaced with \"No EIN Given\".\n",
    "            - 'time_unknown': Mapped to \"No\" by default if missing.\n",
    "            - Others: Column-specific imputation logic applied.\n",
    "        - Dropped Columns: 'year_filing_for'.\n",
    "\n",
    "    Notes:\n",
    "        - Assumes specific formats for date and time columns.\n",
    "        - Handles invalid or missing data gracefully using pandas' built-in capabilities (e.g., `errors='coerce'`).\n",
    "    \"\"\"\n",
    "\n",
    "    df_copy = df.copy()\n",
    "\n",
    "    # Define mappings and preprocessing rules\n",
    "    # TODO: do we care about string size optimization like U-#?\n",
    "    # TODO: ein - 36-283962 and 74-187392 cause they have a dash instead of a number\n",
    "    # TODO: street_address - would be nice to extract city, house number\n",
    "    # TODO: and etc, but format is too different, so idk how to do that\n",
    "    # TODO: case_number - completely random with numbers and dates and etc.\n",
    "    # TODO: soc_code - idk how to efficiently store it cause it nn-nnnn format\n",
    "    # TODO: and 0000 and 9999 for wrong and insufficient info\n",
    "    # TODO: soc_description are sometimes comma separated for multicategories\n",
    "    to_string = [\n",
    "        \"establishment_id\",\n",
    "        \"ein\",\n",
    "        \"company_name\",\n",
    "        \"street_address\",\n",
    "        \"city\",\n",
    "        \"zip_code\",\n",
    "        \"industry_description\",\n",
    "        \"case_number\",\n",
    "        \"job_description\",\n",
    "        \"soc_code\",\n",
    "        \"soc_description\",\n",
    "        \"establishment_name\",\n",
    "        \"naics_code\",\n",
    "    ]\n",
    "    to_numeric = [\n",
    "        \"annual_average_employees\",\n",
    "        \"total_hours_worked\",\n",
    "        \"dafw_num_away\",\n",
    "        \"djtr_num_tr\",\n",
    "    ]\n",
    "    categorical_mappings = {\n",
    "        \"establishment_type\": {\n",
    "            # TODO: I couldn't find info on 0.0, but it can mean something else\n",
    "            0.0: \"Invalid entry\",\n",
    "            1.0: \"Private industry\",\n",
    "            2.0: \"State government entity\",\n",
    "            3.0: \"Local government entity\",\n",
    "        },\n",
    "        # TODO: I value interpretability more than pseudo ordering\n",
    "        # TODO: so I don't encode it as numbers, but explicit categories\n",
    "        \"size\": {1: \"<20\", 2: \"20-249\", 21: \"20-99\", 22: \"100-249\", 3: \"250+\"},\n",
    "        \"incident_outcome\": {\n",
    "            1: \"Death\",\n",
    "            2: \"Days away from work (DAFW)\",\n",
    "            3: \"Job transfer or restriction\",\n",
    "            4: \"Other recordable case\",\n",
    "        },\n",
    "        \"type_of_incident\": {\n",
    "            1: \"Injury\",\n",
    "            2: \"Skin disorder\",\n",
    "            3: \"Respiratory condition\",\n",
    "            4: \"Poisoning\",\n",
    "            5: \"Hearing Loss\",\n",
    "            6: \"All other illness\",\n",
    "        },\n",
    "        \"time_unknown\": {0: \"No\", 1: \"Yes\"},\n",
    "        \"soc_reviewed\": {0: \"Not reviewed\", 1: \"Reviewed\", 2: \"Not SOC coded\"},\n",
    "        \"state\": {\n",
    "            \"PA\": \"Pennsylvania\",\n",
    "            \"GA\": \"Georgia\",\n",
    "            \"VA\": \"Virginia\",\n",
    "            \"TX\": \"Texas\",\n",
    "            \"UT\": \"Utah\",\n",
    "            \"AZ\": \"Arizona\",\n",
    "            \"IN\": \"Indiana\",\n",
    "            \"TN\": \"Tennessee\",\n",
    "            \"WI\": \"Wisconsin\",\n",
    "            \"NC\": \"North Carolina\",\n",
    "            \"NY\": \"New York\",\n",
    "            \"OH\": \"Ohio\",\n",
    "            \"IA\": \"Iowa\",\n",
    "            \"AK\": \"Alaska\",\n",
    "            \"OK\": \"Oklahoma\",\n",
    "            \"MN\": \"Minnesota\",\n",
    "            \"MO\": \"Missouri\",\n",
    "            \"IL\": \"Illinois\",\n",
    "            \"CT\": \"Connecticut\",\n",
    "            \"NE\": \"Nebraska\",\n",
    "            \"LA\": \"Louisiana\",\n",
    "            \"WV\": \"West Virginia\",\n",
    "            \"NM\": \"New Mexico\",\n",
    "            \"CO\": \"Colorado\",\n",
    "            \"FL\": \"Florida\",\n",
    "            \"CA\": \"California\",\n",
    "            \"MD\": \"Maryland\",\n",
    "            \"AL\": \"Alabama\",\n",
    "            \"KY\": \"Kentucky\",\n",
    "            \"MI\": \"Michigan\",\n",
    "            \"SC\": \"South Carolina\",\n",
    "            \"ID\": \"Idaho\",\n",
    "            \"KS\": \"Kansas\",\n",
    "            \"MS\": \"Mississippi\",\n",
    "            \"AR\": \"Arkansas\",\n",
    "            \"NV\": \"Nevada\",\n",
    "            \"NH\": \"New Hampshire\",\n",
    "            \"VT\": \"Vermont\",\n",
    "            \"NJ\": \"New Jersey\",\n",
    "            \"DE\": \"Delaware\",\n",
    "            \"MA\": \"Massachusetts\",\n",
    "            \"ND\": \"North Dakota\",\n",
    "            \"WA\": \"Washington\",\n",
    "            \"OR\": \"Oregon\",\n",
    "            \"ME\": \"Maine\",\n",
    "            \"SD\": \"South Dakota\",\n",
    "            \"MT\": \"Montana\",\n",
    "            \"PR\": \"Puerto Rico\",\n",
    "            \"RI\": \"Rhode Island\",\n",
    "            \"WY\": \"Wyoming\",\n",
    "            \"HI\": \"Hawaii\",\n",
    "            \"DC\": \"District of Columbia\",\n",
    "            \"VI\": \"U.S. Virgin Islands\",\n",
    "            \"GU\": \"Guam\",\n",
    "            \"MP\": \"Northern Mariana Islands\",\n",
    "            \"AS\": \"American Samoa\",\n",
    "        },\n",
    "    }\n",
    "\n",
    "    # Convert to string and clean text\n",
    "    df_copy[to_string] = (\n",
    "        df_copy[to_string]\n",
    "        .astype(\"string\")\n",
    "        .apply(\n",
    "            lambda col: col.str.strip()\n",
    "            .str.replace(r\"\\t\", \"\", regex=True)\n",
    "            .str.replace(r\"\\s+\", \" \", regex=True)\n",
    "        )\n",
    "    )\n",
    "\n",
    "    # Convert to numeric with downcasting\n",
    "    df_copy[to_numeric] = df_copy[to_numeric].apply(\n",
    "        pd.to_numeric, errors=\"coerce\", downcast=\"integer\"\n",
    "    )\n",
    "    # TODO: soc_probability = 5 means that the soc_code is wrong, which was determined\n",
    "    # after it was soc_reviewed. What to do with 5?\n",
    "    df_copy[\"soc_probability\"] = df_copy[\"soc_probability\"].apply(\n",
    "        pd.to_numeric, errors=\"coerce\", downcast=\"float\"\n",
    "    )\n",
    "\n",
    "    # Map categorical columns\n",
    "    for col, mapping in categorical_mappings.items():\n",
    "        if col in df_copy:\n",
    "            df_copy[col] = (\n",
    "                df_copy[col].map(mapping).fillna(\"Not stated\").astype(\"category\")\n",
    "            )\n",
    "\n",
    "    # Handle specific columns\n",
    "    df_copy[\"case_number\"] = df_copy[\"case_number\"].fillna(\"Not provided\")\n",
    "    df_copy[\"company_name\"] = df_copy[\"company_name\"].fillna(\"Not provided\")\n",
    "    df_copy[\"street_address\"] = df_copy[\"street_address\"].fillna(\"\")\n",
    "    df_copy[\"naics_year\"] = (\n",
    "        df_copy[\"naics_year\"].fillna(\"Invalid NAICS codes\").astype(\"category\")\n",
    "    )\n",
    "    df_copy[\"ein\"] = (\n",
    "        df_copy[\"ein\"].str.replace(\"Enter EIN\", \"No EIN Given\").fillna(\"No EIN Given\")\n",
    "    )\n",
    "    df_copy[\"industry_description\"] = df_copy[\"industry_description\"].fillna(\n",
    "        \"No description given\"\n",
    "    )\n",
    "    df_copy[\"job_description\"] = df_copy[\"job_description\"].fillna(\"No job description\")\n",
    "    df_copy[\"soc_code\"] = (\n",
    "        df_copy[\"soc_code\"].replace(\"0000\", \"00-0000\").replace(\"9999\", \"99-9999\")\n",
    "    )\n",
    "\n",
    "    # Date and time conversions\n",
    "    # TODO: what am I doing with all missing time data?\n",
    "    date_columns = {\n",
    "        \"date_of_incident\": \"%m/%d/%Y\",\n",
    "        \"date_of_death\": \"%m/%d/%Y\",\n",
    "        \"created_timestamp\": \"%d%b%y:%H:%M:%S\",\n",
    "    }\n",
    "    for col, fmt in date_columns.items():\n",
    "        df_copy[col] = pd.to_datetime(df_copy[col], format=fmt, errors=\"coerce\")\n",
    "\n",
    "    # TODO: object and not time object. Can be saved with the date though....\n",
    "    # .dt.time for time object saved as object\n",
    "    time_columns = [\"time_started_work\", \"time_of_incident\"]\n",
    "    for col in time_columns:\n",
    "        df_copy[col] = pd.to_datetime(\n",
    "            df_copy[col], format=\"%H:%M:%S.%f\", errors=\"coerce\"\n",
    "        )\n",
    "\n",
    "    # Since it's just 2023, and it does not provide any info\n",
    "    df_copy = df_copy.drop(columns=\"year_filing_for\")\n",
    "    # Outlier values are contained by default [172307584.0, 126.0]\n",
    "    # and [307584.0, 273751.0]. The number of employees is taken from\n",
    "    # https://www.zippia.com/golden-state-foods-careers-24869/demographics/\n",
    "    # and then hours are imputed for roughly same scale companies\n",
    "    df_copy.loc[\n",
    "        df[\"company_name\"] == \"Golden State Foods\",\n",
    "        [\"annual_average_employees\", \"total_hours_worked\"],\n",
    "    ] = [\n",
    "        4000,\n",
    "        df_copy.query(\"3000 < annual_average_employees < 5000\")[\n",
    "            \"total_hours_worked\"\n",
    "        ].median(),\n",
    "    ]\n",
    "\n",
    "    return df_copy\n",
    "\n",
    "\n",
    "df_preproc = preprocess_dataframe(df)"
   ]
  },
  {
   "cell_type": "code",
   "execution_count": 15,
   "metadata": {},
   "outputs": [
    {
     "data": {
      "text/html": [
       "<div>\n",
       "<style scoped>\n",
       "    .dataframe tbody tr th:only-of-type {\n",
       "        vertical-align: middle;\n",
       "    }\n",
       "\n",
       "    .dataframe tbody tr th {\n",
       "        vertical-align: top;\n",
       "    }\n",
       "\n",
       "    .dataframe thead th {\n",
       "        text-align: right;\n",
       "    }\n",
       "</style>\n",
       "<table border=\"1\" class=\"dataframe\">\n",
       "  <thead>\n",
       "    <tr style=\"text-align: right;\">\n",
       "      <th></th>\n",
       "      <th>establishment_id</th>\n",
       "      <th>establishment_name</th>\n",
       "      <th>ein</th>\n",
       "      <th>company_name</th>\n",
       "      <th>street_address</th>\n",
       "      <th>city</th>\n",
       "      <th>state</th>\n",
       "      <th>zip_code</th>\n",
       "      <th>naics_code</th>\n",
       "      <th>naics_year</th>\n",
       "      <th>industry_description</th>\n",
       "      <th>establishment_type</th>\n",
       "      <th>size</th>\n",
       "      <th>annual_average_employees</th>\n",
       "      <th>total_hours_worked</th>\n",
       "      <th>case_number</th>\n",
       "      <th>job_description</th>\n",
       "      <th>soc_code</th>\n",
       "      <th>soc_description</th>\n",
       "      <th>soc_reviewed</th>\n",
       "      <th>soc_probability</th>\n",
       "      <th>date_of_incident</th>\n",
       "      <th>incident_outcome</th>\n",
       "      <th>dafw_num_away</th>\n",
       "      <th>djtr_num_tr</th>\n",
       "      <th>type_of_incident</th>\n",
       "      <th>time_started_work</th>\n",
       "      <th>time_of_incident</th>\n",
       "      <th>time_unknown</th>\n",
       "      <th>date_of_death</th>\n",
       "      <th>created_timestamp</th>\n",
       "    </tr>\n",
       "    <tr>\n",
       "      <th>id</th>\n",
       "      <th></th>\n",
       "      <th></th>\n",
       "      <th></th>\n",
       "      <th></th>\n",
       "      <th></th>\n",
       "      <th></th>\n",
       "      <th></th>\n",
       "      <th></th>\n",
       "      <th></th>\n",
       "      <th></th>\n",
       "      <th></th>\n",
       "      <th></th>\n",
       "      <th></th>\n",
       "      <th></th>\n",
       "      <th></th>\n",
       "      <th></th>\n",
       "      <th></th>\n",
       "      <th></th>\n",
       "      <th></th>\n",
       "      <th></th>\n",
       "      <th></th>\n",
       "      <th></th>\n",
       "      <th></th>\n",
       "      <th></th>\n",
       "      <th></th>\n",
       "      <th></th>\n",
       "      <th></th>\n",
       "      <th></th>\n",
       "      <th></th>\n",
       "      <th></th>\n",
       "      <th></th>\n",
       "    </tr>\n",
       "  </thead>\n",
       "  <tbody>\n",
       "    <tr>\n",
       "      <th>451654</th>\n",
       "      <td>485945</td>\n",
       "      <td>Ochsner Baptist Medical Center</td>\n",
       "      <td>720502505</td>\n",
       "      <td>OCHSNER HEALTH SYSTEM</td>\n",
       "      <td>2700 Napoleon Ave</td>\n",
       "      <td>New Orleans</td>\n",
       "      <td>Louisiana</td>\n",
       "      <td>70115</td>\n",
       "      <td>622110</td>\n",
       "      <td>2022</td>\n",
       "      <td>Hospital, general medical and surgical</td>\n",
       "      <td>Private industry</td>\n",
       "      <td>250+</td>\n",
       "      <td>1448</td>\n",
       "      <td>2295331</td>\n",
       "      <td>AAAC000000</td>\n",
       "      <td>LPNHospital Inpatient</td>\n",
       "      <td>99-9999</td>\n",
       "      <td>Uncoded</td>\n",
       "      <td>Not SOC coded</td>\n",
       "      <td>0.000000</td>\n",
       "      <td>2023-10-27</td>\n",
       "      <td>Other recordable case</td>\n",
       "      <td>0</td>\n",
       "      <td>0</td>\n",
       "      <td>Injury</td>\n",
       "      <td>1900-01-01 21:00:00</td>\n",
       "      <td>1900-01-01 10:30:00</td>\n",
       "      <td>No</td>\n",
       "      <td>NaT</td>\n",
       "      <td>2024-02-26 21:52:00</td>\n",
       "    </tr>\n",
       "    <tr>\n",
       "      <th>869601</th>\n",
       "      <td>1215585</td>\n",
       "      <td>WM 3231</td>\n",
       "      <td>710415188</td>\n",
       "      <td>Walmart Inc.</td>\n",
       "      <td>551 LIBERTY DR</td>\n",
       "      <td>GREENWOOD</td>\n",
       "      <td>Arkansas</td>\n",
       "      <td>72936</td>\n",
       "      <td>452910</td>\n",
       "      <td>2012</td>\n",
       "      <td>Warehouse Clubs and Supercenters</td>\n",
       "      <td>Private industry</td>\n",
       "      <td>100-249</td>\n",
       "      <td>225</td>\n",
       "      <td>391993</td>\n",
       "      <td>C3594995</td>\n",
       "      <td>STOCKER GROCERY</td>\n",
       "      <td>53-7065</td>\n",
       "      <td>Stockers and Order Fillers</td>\n",
       "      <td>Reviewed</td>\n",
       "      <td>0.999391</td>\n",
       "      <td>2023-04-30</td>\n",
       "      <td>Other recordable case</td>\n",
       "      <td>0</td>\n",
       "      <td>0</td>\n",
       "      <td>Hearing Loss</td>\n",
       "      <td>1900-01-01 13:00:00</td>\n",
       "      <td>1900-01-01 13:30:00</td>\n",
       "      <td>No</td>\n",
       "      <td>NaT</td>\n",
       "      <td>2024-03-13 21:41:00</td>\n",
       "    </tr>\n",
       "    <tr>\n",
       "      <th>686265</th>\n",
       "      <td>62625</td>\n",
       "      <td>Newport News Shipbuilding - Division of Huntin...</td>\n",
       "      <td>540318880</td>\n",
       "      <td>Huntington Ingalls Industries</td>\n",
       "      <td>4101 Washington Avenue</td>\n",
       "      <td>Newport News</td>\n",
       "      <td>Virginia</td>\n",
       "      <td>23607</td>\n",
       "      <td>336611</td>\n",
       "      <td>2022</td>\n",
       "      <td>Shipyard (i.e., facility capable of building s...</td>\n",
       "      <td>Private industry</td>\n",
       "      <td>250+</td>\n",
       "      <td>26559</td>\n",
       "      <td>53631727</td>\n",
       "      <td>2023002072</td>\n",
       "      <td>RIGGER</td>\n",
       "      <td>49-9096</td>\n",
       "      <td>Riggers</td>\n",
       "      <td>Reviewed</td>\n",
       "      <td>0.999949</td>\n",
       "      <td>2023-05-31</td>\n",
       "      <td>Days away from work (DAFW)</td>\n",
       "      <td>4</td>\n",
       "      <td>0</td>\n",
       "      <td>Injury</td>\n",
       "      <td>NaT</td>\n",
       "      <td>1900-01-01 23:15:00</td>\n",
       "      <td>No</td>\n",
       "      <td>NaT</td>\n",
       "      <td>2024-03-01 20:33:00</td>\n",
       "    </tr>\n",
       "    <tr>\n",
       "      <th>162968</th>\n",
       "      <td>1105361</td>\n",
       "      <td>INFLD - PLAINFIELD</td>\n",
       "      <td>582480149</td>\n",
       "      <td>United Parcel Service Inc.</td>\n",
       "      <td>10095 BRADFORD ROAD</td>\n",
       "      <td>PLAINFIELD</td>\n",
       "      <td>Indiana</td>\n",
       "      <td>46168</td>\n",
       "      <td>492110</td>\n",
       "      <td>2022</td>\n",
       "      <td>Couriers and Express Delivery Services</td>\n",
       "      <td>Private industry</td>\n",
       "      <td>250+</td>\n",
       "      <td>1860</td>\n",
       "      <td>2744307</td>\n",
       "      <td>2803269891</td>\n",
       "      <td>LoaderUnloader Hub</td>\n",
       "      <td>53-7062</td>\n",
       "      <td>Laborers and Freight, Stock, and Material Move...</td>\n",
       "      <td>Reviewed</td>\n",
       "      <td>5.000000</td>\n",
       "      <td>2023-04-05</td>\n",
       "      <td>Job transfer or restriction</td>\n",
       "      <td>0</td>\n",
       "      <td>40</td>\n",
       "      <td>Injury</td>\n",
       "      <td>1900-01-01 23:05:00</td>\n",
       "      <td>1900-01-01 01:15:00</td>\n",
       "      <td>No</td>\n",
       "      <td>NaT</td>\n",
       "      <td>2024-02-05 19:10:00</td>\n",
       "    </tr>\n",
       "    <tr>\n",
       "      <th>800058</th>\n",
       "      <td>1235426</td>\n",
       "      <td>Mission Inn and Resort</td>\n",
       "      <td>843655810</td>\n",
       "      <td>MMI Hotel Group Employment Services LLC</td>\n",
       "      <td>10400 FL-48</td>\n",
       "      <td>Howey-In-The-Hills</td>\n",
       "      <td>Florida</td>\n",
       "      <td>34737</td>\n",
       "      <td>721110</td>\n",
       "      <td>2022</td>\n",
       "      <td>Hotel management services (i.e., providing man...</td>\n",
       "      <td>Private industry</td>\n",
       "      <td>100-249</td>\n",
       "      <td>234</td>\n",
       "      <td>359159</td>\n",
       "      <td>6</td>\n",
       "      <td>Greenskeeper</td>\n",
       "      <td>11-9081</td>\n",
       "      <td>Lodging Managers</td>\n",
       "      <td>Not reviewed</td>\n",
       "      <td>0.999998</td>\n",
       "      <td>2023-07-13</td>\n",
       "      <td>Other recordable case</td>\n",
       "      <td>0</td>\n",
       "      <td>0</td>\n",
       "      <td>Injury</td>\n",
       "      <td>1900-01-01 05:00:00</td>\n",
       "      <td>NaT</td>\n",
       "      <td>Yes</td>\n",
       "      <td>NaT</td>\n",
       "      <td>2024-03-11 14:23:00</td>\n",
       "    </tr>\n",
       "  </tbody>\n",
       "</table>\n",
       "</div>"
      ],
      "text/plain": [
       "       establishment_id                                 establishment_name  \\\n",
       "id                                                                           \n",
       "451654           485945                     Ochsner Baptist Medical Center   \n",
       "869601          1215585                                            WM 3231   \n",
       "686265            62625  Newport News Shipbuilding - Division of Huntin...   \n",
       "162968          1105361                                 INFLD - PLAINFIELD   \n",
       "800058          1235426                             Mission Inn and Resort   \n",
       "\n",
       "              ein                             company_name  \\\n",
       "id                                                           \n",
       "451654  720502505                    OCHSNER HEALTH SYSTEM   \n",
       "869601  710415188                             Walmart Inc.   \n",
       "686265  540318880            Huntington Ingalls Industries   \n",
       "162968  582480149               United Parcel Service Inc.   \n",
       "800058  843655810  MMI Hotel Group Employment Services LLC   \n",
       "\n",
       "                street_address                city      state zip_code  \\\n",
       "id                                                                       \n",
       "451654       2700 Napoleon Ave         New Orleans  Louisiana    70115   \n",
       "869601          551 LIBERTY DR           GREENWOOD   Arkansas    72936   \n",
       "686265  4101 Washington Avenue        Newport News   Virginia    23607   \n",
       "162968     10095 BRADFORD ROAD          PLAINFIELD    Indiana    46168   \n",
       "800058             10400 FL-48  Howey-In-The-Hills    Florida    34737   \n",
       "\n",
       "       naics_code naics_year  \\\n",
       "id                             \n",
       "451654     622110       2022   \n",
       "869601     452910       2012   \n",
       "686265     336611       2022   \n",
       "162968     492110       2022   \n",
       "800058     721110       2022   \n",
       "\n",
       "                                     industry_description establishment_type  \\\n",
       "id                                                                             \n",
       "451654             Hospital, general medical and surgical   Private industry   \n",
       "869601                   Warehouse Clubs and Supercenters   Private industry   \n",
       "686265  Shipyard (i.e., facility capable of building s...   Private industry   \n",
       "162968             Couriers and Express Delivery Services   Private industry   \n",
       "800058  Hotel management services (i.e., providing man...   Private industry   \n",
       "\n",
       "           size  annual_average_employees  total_hours_worked case_number  \\\n",
       "id                                                                          \n",
       "451654     250+                      1448             2295331  AAAC000000   \n",
       "869601  100-249                       225              391993    C3594995   \n",
       "686265     250+                     26559            53631727  2023002072   \n",
       "162968     250+                      1860             2744307  2803269891   \n",
       "800058  100-249                       234              359159           6   \n",
       "\n",
       "              job_description soc_code  \\\n",
       "id                                       \n",
       "451654  LPNHospital Inpatient  99-9999   \n",
       "869601        STOCKER GROCERY  53-7065   \n",
       "686265                 RIGGER  49-9096   \n",
       "162968     LoaderUnloader Hub  53-7062   \n",
       "800058           Greenskeeper  11-9081   \n",
       "\n",
       "                                          soc_description   soc_reviewed  \\\n",
       "id                                                                         \n",
       "451654                                            Uncoded  Not SOC coded   \n",
       "869601                         Stockers and Order Fillers       Reviewed   \n",
       "686265                                            Riggers       Reviewed   \n",
       "162968  Laborers and Freight, Stock, and Material Move...       Reviewed   \n",
       "800058                                   Lodging Managers   Not reviewed   \n",
       "\n",
       "        soc_probability date_of_incident             incident_outcome  \\\n",
       "id                                                                      \n",
       "451654         0.000000       2023-10-27        Other recordable case   \n",
       "869601         0.999391       2023-04-30        Other recordable case   \n",
       "686265         0.999949       2023-05-31   Days away from work (DAFW)   \n",
       "162968         5.000000       2023-04-05  Job transfer or restriction   \n",
       "800058         0.999998       2023-07-13        Other recordable case   \n",
       "\n",
       "        dafw_num_away  djtr_num_tr type_of_incident   time_started_work  \\\n",
       "id                                                                        \n",
       "451654              0            0           Injury 1900-01-01 21:00:00   \n",
       "869601              0            0     Hearing Loss 1900-01-01 13:00:00   \n",
       "686265              4            0           Injury                 NaT   \n",
       "162968              0           40           Injury 1900-01-01 23:05:00   \n",
       "800058              0            0           Injury 1900-01-01 05:00:00   \n",
       "\n",
       "          time_of_incident time_unknown date_of_death   created_timestamp  \n",
       "id                                                                         \n",
       "451654 1900-01-01 10:30:00           No           NaT 2024-02-26 21:52:00  \n",
       "869601 1900-01-01 13:30:00           No           NaT 2024-03-13 21:41:00  \n",
       "686265 1900-01-01 23:15:00           No           NaT 2024-03-01 20:33:00  \n",
       "162968 1900-01-01 01:15:00           No           NaT 2024-02-05 19:10:00  \n",
       "800058                 NaT          Yes           NaT 2024-03-11 14:23:00  "
      ]
     },
     "execution_count": 15,
     "metadata": {},
     "output_type": "execute_result"
    }
   ],
   "source": [
    "df_preproc.sample(5)"
   ]
  },
  {
   "cell_type": "code",
   "execution_count": 16,
   "metadata": {},
   "outputs": [
    {
     "name": "stdout",
     "output_type": "stream",
     "text": [
      "<class 'pandas.core.frame.DataFrame'>\n",
      "Index: 889447 entries, 446827 to 900939\n",
      "Data columns (total 31 columns):\n",
      " #   Column                    Non-Null Count   Dtype         \n",
      "---  ------                    --------------   -----         \n",
      " 0   establishment_id          889447 non-null  string        \n",
      " 1   establishment_name        889447 non-null  string        \n",
      " 2   ein                       889447 non-null  string        \n",
      " 3   company_name              889447 non-null  string        \n",
      " 4   street_address            889447 non-null  string        \n",
      " 5   city                      889447 non-null  string        \n",
      " 6   state                     889447 non-null  category      \n",
      " 7   zip_code                  889447 non-null  string        \n",
      " 8   naics_code                889447 non-null  string        \n",
      " 9   naics_year                889447 non-null  category      \n",
      " 10  industry_description      889447 non-null  string        \n",
      " 11  establishment_type        889447 non-null  category      \n",
      " 12  size                      889447 non-null  category      \n",
      " 13  annual_average_employees  889447 non-null  int32         \n",
      " 14  total_hours_worked        889447 non-null  int64         \n",
      " 15  case_number               889447 non-null  string        \n",
      " 16  job_description           889447 non-null  string        \n",
      " 17  soc_code                  889447 non-null  string        \n",
      " 18  soc_description           889447 non-null  string        \n",
      " 19  soc_reviewed              889447 non-null  category      \n",
      " 20  soc_probability           889447 non-null  float64       \n",
      " 21  date_of_incident          889447 non-null  datetime64[ns]\n",
      " 22  incident_outcome          889447 non-null  category      \n",
      " 23  dafw_num_away             889447 non-null  int16         \n",
      " 24  djtr_num_tr               889447 non-null  int16         \n",
      " 25  type_of_incident          889447 non-null  category      \n",
      " 26  time_started_work         777556 non-null  datetime64[ns]\n",
      " 27  time_of_incident          778479 non-null  datetime64[ns]\n",
      " 28  time_unknown              889447 non-null  category      \n",
      " 29  date_of_death             279 non-null     datetime64[ns]\n",
      " 30  created_timestamp         889447 non-null  datetime64[ns]\n",
      "dtypes: category(8), datetime64[ns](5), float64(1), int16(2), int32(1), int64(1), string(13)\n",
      "memory usage: 156.1 MB\n"
     ]
    }
   ],
   "source": [
    "df_preproc.info()"
   ]
  },
  {
   "cell_type": "code",
   "execution_count": 17,
   "metadata": {},
   "outputs": [
    {
     "data": {
      "text/html": [
       "<div>\n",
       "<style scoped>\n",
       "    .dataframe tbody tr th:only-of-type {\n",
       "        vertical-align: middle;\n",
       "    }\n",
       "\n",
       "    .dataframe tbody tr th {\n",
       "        vertical-align: top;\n",
       "    }\n",
       "\n",
       "    .dataframe thead th {\n",
       "        text-align: right;\n",
       "    }\n",
       "</style>\n",
       "<table border=\"1\" class=\"dataframe\">\n",
       "  <thead>\n",
       "    <tr style=\"text-align: right;\">\n",
       "      <th></th>\n",
       "      <th>establishment_id</th>\n",
       "      <th>establishment_name</th>\n",
       "      <th>ein</th>\n",
       "      <th>company_name</th>\n",
       "      <th>street_address</th>\n",
       "      <th>city</th>\n",
       "      <th>state</th>\n",
       "      <th>zip_code</th>\n",
       "      <th>naics_code</th>\n",
       "      <th>naics_year</th>\n",
       "      <th>industry_description</th>\n",
       "      <th>establishment_type</th>\n",
       "      <th>size</th>\n",
       "      <th>annual_average_employees</th>\n",
       "      <th>total_hours_worked</th>\n",
       "      <th>case_number</th>\n",
       "      <th>job_description</th>\n",
       "      <th>soc_code</th>\n",
       "      <th>soc_description</th>\n",
       "      <th>soc_reviewed</th>\n",
       "      <th>soc_probability</th>\n",
       "      <th>date_of_incident</th>\n",
       "      <th>incident_outcome</th>\n",
       "      <th>dafw_num_away</th>\n",
       "      <th>djtr_num_tr</th>\n",
       "      <th>type_of_incident</th>\n",
       "      <th>time_started_work</th>\n",
       "      <th>time_of_incident</th>\n",
       "      <th>time_unknown</th>\n",
       "      <th>date_of_death</th>\n",
       "      <th>created_timestamp</th>\n",
       "    </tr>\n",
       "    <tr>\n",
       "      <th>id</th>\n",
       "      <th></th>\n",
       "      <th></th>\n",
       "      <th></th>\n",
       "      <th></th>\n",
       "      <th></th>\n",
       "      <th></th>\n",
       "      <th></th>\n",
       "      <th></th>\n",
       "      <th></th>\n",
       "      <th></th>\n",
       "      <th></th>\n",
       "      <th></th>\n",
       "      <th></th>\n",
       "      <th></th>\n",
       "      <th></th>\n",
       "      <th></th>\n",
       "      <th></th>\n",
       "      <th></th>\n",
       "      <th></th>\n",
       "      <th></th>\n",
       "      <th></th>\n",
       "      <th></th>\n",
       "      <th></th>\n",
       "      <th></th>\n",
       "      <th></th>\n",
       "      <th></th>\n",
       "      <th></th>\n",
       "      <th></th>\n",
       "      <th></th>\n",
       "      <th></th>\n",
       "      <th></th>\n",
       "    </tr>\n",
       "  </thead>\n",
       "  <tbody>\n",
       "    <tr>\n",
       "      <th>446827</th>\n",
       "      <td>41940</td>\n",
       "      <td>AristaCare at Meadow Springs</td>\n",
       "      <td>204755042</td>\n",
       "      <td>AristaCare at Meadow Springs LLC</td>\n",
       "      <td>845 Germantown Pike</td>\n",
       "      <td>Plymouth Meeting</td>\n",
       "      <td>Pennsylvania</td>\n",
       "      <td>19462</td>\n",
       "      <td>623110</td>\n",
       "      <td>2022</td>\n",
       "      <td>Skilled nursing facilities</td>\n",
       "      <td>Private industry</td>\n",
       "      <td>250+</td>\n",
       "      <td>282</td>\n",
       "      <td>357675</td>\n",
       "      <td>1</td>\n",
       "      <td>RN</td>\n",
       "      <td>29-1141</td>\n",
       "      <td>Registered Nurses</td>\n",
       "      <td>Reviewed</td>\n",
       "      <td>0.999735</td>\n",
       "      <td>2023-01-07</td>\n",
       "      <td>Other recordable case</td>\n",
       "      <td>0</td>\n",
       "      <td>0</td>\n",
       "      <td>All other illness</td>\n",
       "      <td>1900-01-01 07:00:00</td>\n",
       "      <td>1900-01-01 14:45:00</td>\n",
       "      <td>No</td>\n",
       "      <td>NaT</td>\n",
       "      <td>2024-02-26 20:47:00</td>\n",
       "    </tr>\n",
       "    <tr>\n",
       "      <th>448949</th>\n",
       "      <td>41940</td>\n",
       "      <td>AristaCare at Meadow Springs</td>\n",
       "      <td>204755042</td>\n",
       "      <td>AristaCare at Meadow Springs LLC</td>\n",
       "      <td>845 Germantown Pike</td>\n",
       "      <td>Plymouth Meeting</td>\n",
       "      <td>Pennsylvania</td>\n",
       "      <td>19462</td>\n",
       "      <td>623110</td>\n",
       "      <td>2022</td>\n",
       "      <td>Skilled nursing facilities</td>\n",
       "      <td>Private industry</td>\n",
       "      <td>250+</td>\n",
       "      <td>282</td>\n",
       "      <td>357675</td>\n",
       "      <td>2</td>\n",
       "      <td>CNA</td>\n",
       "      <td>31-1131</td>\n",
       "      <td>Nursing Assistants</td>\n",
       "      <td>Reviewed</td>\n",
       "      <td>0.999999</td>\n",
       "      <td>2023-01-16</td>\n",
       "      <td>Job transfer or restriction</td>\n",
       "      <td>0</td>\n",
       "      <td>18</td>\n",
       "      <td>Injury</td>\n",
       "      <td>1900-01-01 23:00:00</td>\n",
       "      <td>NaT</td>\n",
       "      <td>Yes</td>\n",
       "      <td>NaT</td>\n",
       "      <td>2024-02-26 21:03:00</td>\n",
       "    </tr>\n",
       "    <tr>\n",
       "      <th>450502</th>\n",
       "      <td>41940</td>\n",
       "      <td>AristaCare at Meadow Springs</td>\n",
       "      <td>204755042</td>\n",
       "      <td>AristaCare at Meadow Springs LLC</td>\n",
       "      <td>845 Germantown Pike</td>\n",
       "      <td>Plymouth Meeting</td>\n",
       "      <td>Pennsylvania</td>\n",
       "      <td>19462</td>\n",
       "      <td>623110</td>\n",
       "      <td>2022</td>\n",
       "      <td>Skilled nursing facilities</td>\n",
       "      <td>Private industry</td>\n",
       "      <td>250+</td>\n",
       "      <td>282</td>\n",
       "      <td>357675</td>\n",
       "      <td>5</td>\n",
       "      <td>LPN</td>\n",
       "      <td>29-2061</td>\n",
       "      <td>Licensed Practical and Licensed Vocational Nurses</td>\n",
       "      <td>Reviewed</td>\n",
       "      <td>0.999957</td>\n",
       "      <td>2023-06-16</td>\n",
       "      <td>Other recordable case</td>\n",
       "      <td>0</td>\n",
       "      <td>0</td>\n",
       "      <td>All other illness</td>\n",
       "      <td>1900-01-01 07:00:00</td>\n",
       "      <td>1900-01-01 12:00:00</td>\n",
       "      <td>No</td>\n",
       "      <td>NaT</td>\n",
       "      <td>2024-02-26 21:28:00</td>\n",
       "    </tr>\n",
       "    <tr>\n",
       "      <th>450647</th>\n",
       "      <td>41940</td>\n",
       "      <td>AristaCare at Meadow Springs</td>\n",
       "      <td>204755042</td>\n",
       "      <td>AristaCare at Meadow Springs LLC</td>\n",
       "      <td>845 Germantown Pike</td>\n",
       "      <td>Plymouth Meeting</td>\n",
       "      <td>Pennsylvania</td>\n",
       "      <td>19462</td>\n",
       "      <td>623110</td>\n",
       "      <td>2022</td>\n",
       "      <td>Skilled nursing facilities</td>\n",
       "      <td>Private industry</td>\n",
       "      <td>250+</td>\n",
       "      <td>282</td>\n",
       "      <td>357675</td>\n",
       "      <td>6</td>\n",
       "      <td>CNA</td>\n",
       "      <td>31-1131</td>\n",
       "      <td>Nursing Assistants</td>\n",
       "      <td>Reviewed</td>\n",
       "      <td>0.999999</td>\n",
       "      <td>2023-07-09</td>\n",
       "      <td>Other recordable case</td>\n",
       "      <td>0</td>\n",
       "      <td>0</td>\n",
       "      <td>All other illness</td>\n",
       "      <td>1900-01-01 15:00:00</td>\n",
       "      <td>NaT</td>\n",
       "      <td>Yes</td>\n",
       "      <td>NaT</td>\n",
       "      <td>2024-02-26 21:33:00</td>\n",
       "    </tr>\n",
       "    <tr>\n",
       "      <th>123561</th>\n",
       "      <td>41952</td>\n",
       "      <td>SMM Group Chesapeake, VA</td>\n",
       "      <td>453807558</td>\n",
       "      <td>Sims Metal Management</td>\n",
       "      <td>4300 Buell Street</td>\n",
       "      <td>Chesapeake</td>\n",
       "      <td>Virginia</td>\n",
       "      <td>23324</td>\n",
       "      <td>423930</td>\n",
       "      <td>2022</td>\n",
       "      <td>Metal scrap and waste merchant wholesalers</td>\n",
       "      <td>Private industry</td>\n",
       "      <td>100-249</td>\n",
       "      <td>131</td>\n",
       "      <td>291312</td>\n",
       "      <td>IN-2023090</td>\n",
       "      <td>Laborer</td>\n",
       "      <td>53-7062</td>\n",
       "      <td>Laborers and Freight, Stock, and Material Move...</td>\n",
       "      <td>Reviewed</td>\n",
       "      <td>0.999993</td>\n",
       "      <td>2023-09-06</td>\n",
       "      <td>Other recordable case</td>\n",
       "      <td>0</td>\n",
       "      <td>0</td>\n",
       "      <td>Injury</td>\n",
       "      <td>1900-01-01 06:00:00</td>\n",
       "      <td>1900-01-01 13:55:00</td>\n",
       "      <td>No</td>\n",
       "      <td>NaT</td>\n",
       "      <td>2024-02-01 18:03:00</td>\n",
       "    </tr>\n",
       "    <tr>\n",
       "      <th>...</th>\n",
       "      <td>...</td>\n",
       "      <td>...</td>\n",
       "      <td>...</td>\n",
       "      <td>...</td>\n",
       "      <td>...</td>\n",
       "      <td>...</td>\n",
       "      <td>...</td>\n",
       "      <td>...</td>\n",
       "      <td>...</td>\n",
       "      <td>...</td>\n",
       "      <td>...</td>\n",
       "      <td>...</td>\n",
       "      <td>...</td>\n",
       "      <td>...</td>\n",
       "      <td>...</td>\n",
       "      <td>...</td>\n",
       "      <td>...</td>\n",
       "      <td>...</td>\n",
       "      <td>...</td>\n",
       "      <td>...</td>\n",
       "      <td>...</td>\n",
       "      <td>...</td>\n",
       "      <td>...</td>\n",
       "      <td>...</td>\n",
       "      <td>...</td>\n",
       "      <td>...</td>\n",
       "      <td>...</td>\n",
       "      <td>...</td>\n",
       "      <td>...</td>\n",
       "      <td>...</td>\n",
       "      <td>...</td>\n",
       "    </tr>\n",
       "    <tr>\n",
       "      <th>883956</th>\n",
       "      <td>1240511</td>\n",
       "      <td>Huth Ben Pearson</td>\n",
       "      <td>465766195</td>\n",
       "      <td>Huth Ben Pearson</td>\n",
       "      <td>260 Grant St</td>\n",
       "      <td>Hartford</td>\n",
       "      <td>Wisconsin</td>\n",
       "      <td>53027</td>\n",
       "      <td>332710</td>\n",
       "      <td>2022</td>\n",
       "      <td>Machine shops</td>\n",
       "      <td>Private industry</td>\n",
       "      <td>20-99</td>\n",
       "      <td>25</td>\n",
       "      <td>50000</td>\n",
       "      <td>1</td>\n",
       "      <td>Machinist</td>\n",
       "      <td>51-4041</td>\n",
       "      <td>Machinists</td>\n",
       "      <td>Reviewed</td>\n",
       "      <td>0.999947</td>\n",
       "      <td>2023-10-16</td>\n",
       "      <td>Days away from work (DAFW)</td>\n",
       "      <td>1</td>\n",
       "      <td>0</td>\n",
       "      <td>Injury</td>\n",
       "      <td>1900-01-01 06:00:00</td>\n",
       "      <td>1900-01-01 06:58:00</td>\n",
       "      <td>No</td>\n",
       "      <td>NaT</td>\n",
       "      <td>2024-04-09 19:20:00</td>\n",
       "    </tr>\n",
       "    <tr>\n",
       "      <th>883969</th>\n",
       "      <td>1240575</td>\n",
       "      <td>Rolette Community Care Center</td>\n",
       "      <td>No EIN Given</td>\n",
       "      <td>Rolette Community Care Center</td>\n",
       "      <td>804 State Street</td>\n",
       "      <td>Rolette</td>\n",
       "      <td>North Dakota</td>\n",
       "      <td>58366</td>\n",
       "      <td>623110</td>\n",
       "      <td>2022</td>\n",
       "      <td>Skilled nursing facilities</td>\n",
       "      <td>Private industry</td>\n",
       "      <td>20-99</td>\n",
       "      <td>54</td>\n",
       "      <td>55851</td>\n",
       "      <td>1</td>\n",
       "      <td>housekeeping</td>\n",
       "      <td>37-2012</td>\n",
       "      <td>Maids and Housekeeping Cleaners</td>\n",
       "      <td>Reviewed</td>\n",
       "      <td>0.999998</td>\n",
       "      <td>2023-01-06</td>\n",
       "      <td>Other recordable case</td>\n",
       "      <td>0</td>\n",
       "      <td>0</td>\n",
       "      <td>Respiratory condition</td>\n",
       "      <td>1900-01-01 08:00:00</td>\n",
       "      <td>1900-01-01 16:00:00</td>\n",
       "      <td>No</td>\n",
       "      <td>NaT</td>\n",
       "      <td>2024-04-09 20:08:00</td>\n",
       "    </tr>\n",
       "    <tr>\n",
       "      <th>883972</th>\n",
       "      <td>1240575</td>\n",
       "      <td>Rolette Community Care Center</td>\n",
       "      <td>No EIN Given</td>\n",
       "      <td>Rolette Community Care Center</td>\n",
       "      <td>804 State Street</td>\n",
       "      <td>Rolette</td>\n",
       "      <td>North Dakota</td>\n",
       "      <td>58366</td>\n",
       "      <td>623110</td>\n",
       "      <td>2022</td>\n",
       "      <td>Skilled nursing facilities</td>\n",
       "      <td>Private industry</td>\n",
       "      <td>20-99</td>\n",
       "      <td>54</td>\n",
       "      <td>55851</td>\n",
       "      <td>2</td>\n",
       "      <td>RN</td>\n",
       "      <td>29-1141</td>\n",
       "      <td>Registered Nurses</td>\n",
       "      <td>Reviewed</td>\n",
       "      <td>0.999735</td>\n",
       "      <td>2023-02-04</td>\n",
       "      <td>Other recordable case</td>\n",
       "      <td>0</td>\n",
       "      <td>0</td>\n",
       "      <td>Injury</td>\n",
       "      <td>1900-01-01 06:00:00</td>\n",
       "      <td>1900-01-01 08:48:00</td>\n",
       "      <td>No</td>\n",
       "      <td>NaT</td>\n",
       "      <td>2024-04-09 20:14:00</td>\n",
       "    </tr>\n",
       "    <tr>\n",
       "      <th>883994</th>\n",
       "      <td>1240575</td>\n",
       "      <td>Rolette Community Care Center</td>\n",
       "      <td>No EIN Given</td>\n",
       "      <td>Rolette Community Care Center</td>\n",
       "      <td>804 State Street</td>\n",
       "      <td>Rolette</td>\n",
       "      <td>North Dakota</td>\n",
       "      <td>58366</td>\n",
       "      <td>623110</td>\n",
       "      <td>2022</td>\n",
       "      <td>Skilled nursing facilities</td>\n",
       "      <td>Private industry</td>\n",
       "      <td>20-99</td>\n",
       "      <td>54</td>\n",
       "      <td>55851</td>\n",
       "      <td>5</td>\n",
       "      <td>CNA</td>\n",
       "      <td>31-1131</td>\n",
       "      <td>Nursing Assistants</td>\n",
       "      <td>Reviewed</td>\n",
       "      <td>0.999999</td>\n",
       "      <td>2023-06-26</td>\n",
       "      <td>Days away from work (DAFW)</td>\n",
       "      <td>8</td>\n",
       "      <td>0</td>\n",
       "      <td>Injury</td>\n",
       "      <td>1900-01-01 05:55:00</td>\n",
       "      <td>1900-01-01 16:45:00</td>\n",
       "      <td>No</td>\n",
       "      <td>NaT</td>\n",
       "      <td>2024-04-09 21:34:00</td>\n",
       "    </tr>\n",
       "    <tr>\n",
       "      <th>883970</th>\n",
       "      <td>1240577</td>\n",
       "      <td>Kincaid Construction Company</td>\n",
       "      <td>330344291</td>\n",
       "      <td>Kincaid Construction Company</td>\n",
       "      <td>4063 Birch Street, #210</td>\n",
       "      <td>Newport Beach</td>\n",
       "      <td>California</td>\n",
       "      <td>92660</td>\n",
       "      <td>238130</td>\n",
       "      <td>2022</td>\n",
       "      <td>Framing contractors</td>\n",
       "      <td>Private industry</td>\n",
       "      <td>100-249</td>\n",
       "      <td>109</td>\n",
       "      <td>33037</td>\n",
       "      <td>1</td>\n",
       "      <td>carpenter</td>\n",
       "      <td>47-2031</td>\n",
       "      <td>Carpenters</td>\n",
       "      <td>Reviewed</td>\n",
       "      <td>1.000000</td>\n",
       "      <td>2023-11-22</td>\n",
       "      <td>Days away from work (DAFW)</td>\n",
       "      <td>2</td>\n",
       "      <td>0</td>\n",
       "      <td>Injury</td>\n",
       "      <td>1900-01-01 07:00:00</td>\n",
       "      <td>1900-01-01 13:00:00</td>\n",
       "      <td>No</td>\n",
       "      <td>NaT</td>\n",
       "      <td>2024-04-09 20:12:00</td>\n",
       "    </tr>\n",
       "  </tbody>\n",
       "</table>\n",
       "<p>336339 rows × 31 columns</p>\n",
       "</div>"
      ],
      "text/plain": [
       "       establishment_id             establishment_name           ein  \\\n",
       "id                                                                     \n",
       "446827            41940   AristaCare at Meadow Springs     204755042   \n",
       "448949            41940   AristaCare at Meadow Springs     204755042   \n",
       "450502            41940   AristaCare at Meadow Springs     204755042   \n",
       "450647            41940   AristaCare at Meadow Springs     204755042   \n",
       "123561            41952       SMM Group Chesapeake, VA     453807558   \n",
       "...                 ...                            ...           ...   \n",
       "883956          1240511               Huth Ben Pearson     465766195   \n",
       "883969          1240575  Rolette Community Care Center  No EIN Given   \n",
       "883972          1240575  Rolette Community Care Center  No EIN Given   \n",
       "883994          1240575  Rolette Community Care Center  No EIN Given   \n",
       "883970          1240577   Kincaid Construction Company     330344291   \n",
       "\n",
       "                            company_name           street_address  \\\n",
       "id                                                                  \n",
       "446827  AristaCare at Meadow Springs LLC      845 Germantown Pike   \n",
       "448949  AristaCare at Meadow Springs LLC      845 Germantown Pike   \n",
       "450502  AristaCare at Meadow Springs LLC      845 Germantown Pike   \n",
       "450647  AristaCare at Meadow Springs LLC      845 Germantown Pike   \n",
       "123561             Sims Metal Management        4300 Buell Street   \n",
       "...                                  ...                      ...   \n",
       "883956                  Huth Ben Pearson             260 Grant St   \n",
       "883969     Rolette Community Care Center         804 State Street   \n",
       "883972     Rolette Community Care Center         804 State Street   \n",
       "883994     Rolette Community Care Center         804 State Street   \n",
       "883970      Kincaid Construction Company  4063 Birch Street, #210   \n",
       "\n",
       "                    city         state zip_code naics_code naics_year  \\\n",
       "id                                                                      \n",
       "446827  Plymouth Meeting  Pennsylvania    19462     623110       2022   \n",
       "448949  Plymouth Meeting  Pennsylvania    19462     623110       2022   \n",
       "450502  Plymouth Meeting  Pennsylvania    19462     623110       2022   \n",
       "450647  Plymouth Meeting  Pennsylvania    19462     623110       2022   \n",
       "123561        Chesapeake      Virginia    23324     423930       2022   \n",
       "...                  ...           ...      ...        ...        ...   \n",
       "883956          Hartford     Wisconsin    53027     332710       2022   \n",
       "883969           Rolette  North Dakota    58366     623110       2022   \n",
       "883972           Rolette  North Dakota    58366     623110       2022   \n",
       "883994           Rolette  North Dakota    58366     623110       2022   \n",
       "883970     Newport Beach    California    92660     238130       2022   \n",
       "\n",
       "                              industry_description establishment_type  \\\n",
       "id                                                                      \n",
       "446827                  Skilled nursing facilities   Private industry   \n",
       "448949                  Skilled nursing facilities   Private industry   \n",
       "450502                  Skilled nursing facilities   Private industry   \n",
       "450647                  Skilled nursing facilities   Private industry   \n",
       "123561  Metal scrap and waste merchant wholesalers   Private industry   \n",
       "...                                            ...                ...   \n",
       "883956                               Machine shops   Private industry   \n",
       "883969                  Skilled nursing facilities   Private industry   \n",
       "883972                  Skilled nursing facilities   Private industry   \n",
       "883994                  Skilled nursing facilities   Private industry   \n",
       "883970                         Framing contractors   Private industry   \n",
       "\n",
       "           size  annual_average_employees  total_hours_worked case_number  \\\n",
       "id                                                                          \n",
       "446827     250+                       282              357675           1   \n",
       "448949     250+                       282              357675           2   \n",
       "450502     250+                       282              357675           5   \n",
       "450647     250+                       282              357675           6   \n",
       "123561  100-249                       131              291312  IN-2023090   \n",
       "...         ...                       ...                 ...         ...   \n",
       "883956    20-99                        25               50000           1   \n",
       "883969    20-99                        54               55851           1   \n",
       "883972    20-99                        54               55851           2   \n",
       "883994    20-99                        54               55851           5   \n",
       "883970  100-249                       109               33037           1   \n",
       "\n",
       "       job_description soc_code  \\\n",
       "id                                \n",
       "446827              RN  29-1141   \n",
       "448949             CNA  31-1131   \n",
       "450502             LPN  29-2061   \n",
       "450647             CNA  31-1131   \n",
       "123561         Laborer  53-7062   \n",
       "...                ...      ...   \n",
       "883956       Machinist  51-4041   \n",
       "883969    housekeeping  37-2012   \n",
       "883972              RN  29-1141   \n",
       "883994             CNA  31-1131   \n",
       "883970       carpenter  47-2031   \n",
       "\n",
       "                                          soc_description soc_reviewed  \\\n",
       "id                                                                       \n",
       "446827                                  Registered Nurses     Reviewed   \n",
       "448949                                 Nursing Assistants     Reviewed   \n",
       "450502  Licensed Practical and Licensed Vocational Nurses     Reviewed   \n",
       "450647                                 Nursing Assistants     Reviewed   \n",
       "123561  Laborers and Freight, Stock, and Material Move...     Reviewed   \n",
       "...                                                   ...          ...   \n",
       "883956                                         Machinists     Reviewed   \n",
       "883969                    Maids and Housekeeping Cleaners     Reviewed   \n",
       "883972                                  Registered Nurses     Reviewed   \n",
       "883994                                 Nursing Assistants     Reviewed   \n",
       "883970                                         Carpenters     Reviewed   \n",
       "\n",
       "        soc_probability date_of_incident             incident_outcome  \\\n",
       "id                                                                      \n",
       "446827         0.999735       2023-01-07        Other recordable case   \n",
       "448949         0.999999       2023-01-16  Job transfer or restriction   \n",
       "450502         0.999957       2023-06-16        Other recordable case   \n",
       "450647         0.999999       2023-07-09        Other recordable case   \n",
       "123561         0.999993       2023-09-06        Other recordable case   \n",
       "...                 ...              ...                          ...   \n",
       "883956         0.999947       2023-10-16   Days away from work (DAFW)   \n",
       "883969         0.999998       2023-01-06        Other recordable case   \n",
       "883972         0.999735       2023-02-04        Other recordable case   \n",
       "883994         0.999999       2023-06-26   Days away from work (DAFW)   \n",
       "883970         1.000000       2023-11-22   Days away from work (DAFW)   \n",
       "\n",
       "        dafw_num_away  djtr_num_tr       type_of_incident   time_started_work  \\\n",
       "id                                                                              \n",
       "446827              0            0      All other illness 1900-01-01 07:00:00   \n",
       "448949              0           18                 Injury 1900-01-01 23:00:00   \n",
       "450502              0            0      All other illness 1900-01-01 07:00:00   \n",
       "450647              0            0      All other illness 1900-01-01 15:00:00   \n",
       "123561              0            0                 Injury 1900-01-01 06:00:00   \n",
       "...               ...          ...                    ...                 ...   \n",
       "883956              1            0                 Injury 1900-01-01 06:00:00   \n",
       "883969              0            0  Respiratory condition 1900-01-01 08:00:00   \n",
       "883972              0            0                 Injury 1900-01-01 06:00:00   \n",
       "883994              8            0                 Injury 1900-01-01 05:55:00   \n",
       "883970              2            0                 Injury 1900-01-01 07:00:00   \n",
       "\n",
       "          time_of_incident time_unknown date_of_death   created_timestamp  \n",
       "id                                                                         \n",
       "446827 1900-01-01 14:45:00           No           NaT 2024-02-26 20:47:00  \n",
       "448949                 NaT          Yes           NaT 2024-02-26 21:03:00  \n",
       "450502 1900-01-01 12:00:00           No           NaT 2024-02-26 21:28:00  \n",
       "450647                 NaT          Yes           NaT 2024-02-26 21:33:00  \n",
       "123561 1900-01-01 13:55:00           No           NaT 2024-02-01 18:03:00  \n",
       "...                    ...          ...           ...                 ...  \n",
       "883956 1900-01-01 06:58:00           No           NaT 2024-04-09 19:20:00  \n",
       "883969 1900-01-01 16:00:00           No           NaT 2024-04-09 20:08:00  \n",
       "883972 1900-01-01 08:48:00           No           NaT 2024-04-09 20:14:00  \n",
       "883994 1900-01-01 16:45:00           No           NaT 2024-04-09 21:34:00  \n",
       "883970 1900-01-01 13:00:00           No           NaT 2024-04-09 20:12:00  \n",
       "\n",
       "[336339 rows x 31 columns]"
      ]
     },
     "execution_count": 17,
     "metadata": {},
     "output_type": "execute_result"
    }
   ],
   "source": [
    "df_preproc.query(\"soc_probability != 5 & soc_reviewed == 'Reviewed'\")"
   ]
  },
  {
   "cell_type": "code",
   "execution_count": 18,
   "metadata": {},
   "outputs": [],
   "source": [
    "output_directory = \"datasets\"\n",
    "os.makedirs(output_directory, exist_ok=True)\n",
    "df.to_parquet(os.path.join(output_directory, \"processed_data.parquet\"), index=False)"
   ]
  },
  {
   "cell_type": "markdown",
   "metadata": {},
   "source": [
    "### (c) (Data (What)) Choose one of the methods and implement it for the data set. Describe it in the section and mention what is the effect on the data."
   ]
  },
  {
   "cell_type": "code",
   "execution_count": null,
   "metadata": {},
   "outputs": [],
   "source": [
    "df_numeric = df_preproc.select_dtypes(include=[np.number])\n",
    "\n",
    "for column in df_numeric.columns:\n",
    "    fig_incident = px.histogram(\n",
    "        df_numeric, x=column, title=f\"Histogram of {column}\", nbins=50, text_auto=True\n",
    "    )\n",
    "    fig_incident.show()"
   ]
  },
  {
   "cell_type": "code",
   "execution_count": null,
   "metadata": {},
   "outputs": [],
   "source": [
    "df_time = df_preproc[df_preproc.select_dtypes(include=[\"datetime\"]).columns]\n",
    "\n",
    "for column in df_time.columns:\n",
    "    fig_incident = px.histogram(\n",
    "        df_time[df_time[column].notna()],\n",
    "        x=column,\n",
    "        title=f\"Histogram of {column}\",\n",
    "        nbins=100,\n",
    "    )\n",
    "    fig_incident.show()"
   ]
  },
  {
   "cell_type": "code",
   "execution_count": null,
   "metadata": {},
   "outputs": [],
   "source": [
    "df_categorical = df_preproc.select_dtypes(include=[\"category\"])\n",
    "\n",
    "# Generate histograms for categorical data\n",
    "for column in df_categorical.columns:\n",
    "    fig = px.histogram(\n",
    "        df_categorical[column].dropna(),\n",
    "        x=column,\n",
    "        title=f\"Distribution of {column}\",\n",
    "        text_auto=True,\n",
    "    )\n",
    "    fig.show()"
   ]
  },
  {
   "cell_type": "markdown",
   "metadata": {},
   "source": [
    "# El problemo: wtf is happening to company employees and hours\n"
   ]
  },
  {
   "cell_type": "code",
   "execution_count": 22,
   "metadata": {},
   "outputs": [
    {
     "data": {
      "text/html": [
       "<div>\n",
       "<style scoped>\n",
       "    .dataframe tbody tr th:only-of-type {\n",
       "        vertical-align: middle;\n",
       "    }\n",
       "\n",
       "    .dataframe tbody tr th {\n",
       "        vertical-align: top;\n",
       "    }\n",
       "\n",
       "    .dataframe thead th {\n",
       "        text-align: right;\n",
       "    }\n",
       "</style>\n",
       "<table border=\"1\" class=\"dataframe\">\n",
       "  <thead>\n",
       "    <tr style=\"text-align: right;\">\n",
       "      <th></th>\n",
       "      <th>establishment_id</th>\n",
       "      <th>establishment_name</th>\n",
       "      <th>ein</th>\n",
       "      <th>company_name</th>\n",
       "      <th>street_address</th>\n",
       "      <th>city</th>\n",
       "      <th>state</th>\n",
       "      <th>zip_code</th>\n",
       "      <th>naics_code</th>\n",
       "      <th>naics_year</th>\n",
       "      <th>industry_description</th>\n",
       "      <th>establishment_type</th>\n",
       "      <th>size</th>\n",
       "      <th>annual_average_employees</th>\n",
       "      <th>total_hours_worked</th>\n",
       "      <th>case_number</th>\n",
       "      <th>job_description</th>\n",
       "      <th>soc_code</th>\n",
       "      <th>soc_description</th>\n",
       "      <th>soc_reviewed</th>\n",
       "      <th>soc_probability</th>\n",
       "      <th>date_of_incident</th>\n",
       "      <th>incident_outcome</th>\n",
       "      <th>dafw_num_away</th>\n",
       "      <th>djtr_num_tr</th>\n",
       "      <th>type_of_incident</th>\n",
       "      <th>time_started_work</th>\n",
       "      <th>time_of_incident</th>\n",
       "      <th>time_unknown</th>\n",
       "      <th>date_of_death</th>\n",
       "      <th>created_timestamp</th>\n",
       "    </tr>\n",
       "    <tr>\n",
       "      <th>id</th>\n",
       "      <th></th>\n",
       "      <th></th>\n",
       "      <th></th>\n",
       "      <th></th>\n",
       "      <th></th>\n",
       "      <th></th>\n",
       "      <th></th>\n",
       "      <th></th>\n",
       "      <th></th>\n",
       "      <th></th>\n",
       "      <th></th>\n",
       "      <th></th>\n",
       "      <th></th>\n",
       "      <th></th>\n",
       "      <th></th>\n",
       "      <th></th>\n",
       "      <th></th>\n",
       "      <th></th>\n",
       "      <th></th>\n",
       "      <th></th>\n",
       "      <th></th>\n",
       "      <th></th>\n",
       "      <th></th>\n",
       "      <th></th>\n",
       "      <th></th>\n",
       "      <th></th>\n",
       "      <th></th>\n",
       "      <th></th>\n",
       "      <th></th>\n",
       "      <th></th>\n",
       "      <th></th>\n",
       "    </tr>\n",
       "  </thead>\n",
       "  <tbody>\n",
       "    <tr>\n",
       "      <th>15894</th>\n",
       "      <td>717879</td>\n",
       "      <td>Pointe Coupee Healthcare</td>\n",
       "      <td>371505879</td>\n",
       "      <td>Plantation Management</td>\n",
       "      <td>1820 False River Road</td>\n",
       "      <td>New Roads</td>\n",
       "      <td>Louisiana</td>\n",
       "      <td>70760</td>\n",
       "      <td>623110</td>\n",
       "      <td>2022</td>\n",
       "      <td>Nursing homes</td>\n",
       "      <td>Private industry</td>\n",
       "      <td>250+</td>\n",
       "      <td>16121261</td>\n",
       "      <td>89</td>\n",
       "      <td>1</td>\n",
       "      <td>Cook</td>\n",
       "      <td>35-2012</td>\n",
       "      <td>Cooks, Institution and Cafeteria</td>\n",
       "      <td>Reviewed</td>\n",
       "      <td>0.929956</td>\n",
       "      <td>2023-07-16</td>\n",
       "      <td>Other recordable case</td>\n",
       "      <td>0</td>\n",
       "      <td>0</td>\n",
       "      <td>Injury</td>\n",
       "      <td>1900-01-01 05:18:00</td>\n",
       "      <td>1900-01-01 10:30:00</td>\n",
       "      <td>No</td>\n",
       "      <td>NaT</td>\n",
       "      <td>2024-01-10 18:54:00</td>\n",
       "    </tr>\n",
       "    <tr>\n",
       "      <th>15945</th>\n",
       "      <td>717879</td>\n",
       "      <td>Pointe Coupee Healthcare</td>\n",
       "      <td>371505879</td>\n",
       "      <td>Plantation Management</td>\n",
       "      <td>1820 False River Road</td>\n",
       "      <td>New Roads</td>\n",
       "      <td>Louisiana</td>\n",
       "      <td>70760</td>\n",
       "      <td>623110</td>\n",
       "      <td>2022</td>\n",
       "      <td>Nursing homes</td>\n",
       "      <td>Private industry</td>\n",
       "      <td>250+</td>\n",
       "      <td>16121261</td>\n",
       "      <td>89</td>\n",
       "      <td>2</td>\n",
       "      <td>Cook</td>\n",
       "      <td>35-2012</td>\n",
       "      <td>Cooks, Institution and Cafeteria</td>\n",
       "      <td>Reviewed</td>\n",
       "      <td>0.929956</td>\n",
       "      <td>2023-10-10</td>\n",
       "      <td>Days away from work (DAFW)</td>\n",
       "      <td>80</td>\n",
       "      <td>0</td>\n",
       "      <td>Injury</td>\n",
       "      <td>1900-01-01 06:17:00</td>\n",
       "      <td>1900-01-01 07:56:00</td>\n",
       "      <td>No</td>\n",
       "      <td>NaT</td>\n",
       "      <td>2024-01-10 19:03:00</td>\n",
       "    </tr>\n",
       "    <tr>\n",
       "      <th>9379</th>\n",
       "      <td>987607</td>\n",
       "      <td>Sterling Machine Technologies, Inc.</td>\n",
       "      <td>251792083</td>\n",
       "      <td>Sterling Machine Technologies, Inc.</td>\n",
       "      <td>220 Kreider Road</td>\n",
       "      <td>Palmyra</td>\n",
       "      <td>Pennsylvania</td>\n",
       "      <td>17078</td>\n",
       "      <td>332710</td>\n",
       "      <td>2022</td>\n",
       "      <td>Machine shops</td>\n",
       "      <td>Private industry</td>\n",
       "      <td>20-99</td>\n",
       "      <td>3572800</td>\n",
       "      <td>74860</td>\n",
       "      <td>4</td>\n",
       "      <td>machinist</td>\n",
       "      <td>51-4041</td>\n",
       "      <td>Machinists</td>\n",
       "      <td>Reviewed</td>\n",
       "      <td>0.999947</td>\n",
       "      <td>2023-12-11</td>\n",
       "      <td>Days away from work (DAFW)</td>\n",
       "      <td>1</td>\n",
       "      <td>0</td>\n",
       "      <td>Injury</td>\n",
       "      <td>1900-01-01 06:00:00</td>\n",
       "      <td>1900-01-01 14:00:00</td>\n",
       "      <td>No</td>\n",
       "      <td>NaT</td>\n",
       "      <td>2024-01-08 17:30:00</td>\n",
       "    </tr>\n",
       "    <tr>\n",
       "      <th>9417</th>\n",
       "      <td>987607</td>\n",
       "      <td>Sterling Machine Technologies, Inc.</td>\n",
       "      <td>251792083</td>\n",
       "      <td>Sterling Machine Technologies, Inc.</td>\n",
       "      <td>220 Kreider Road</td>\n",
       "      <td>Palmyra</td>\n",
       "      <td>Pennsylvania</td>\n",
       "      <td>17078</td>\n",
       "      <td>332710</td>\n",
       "      <td>2022</td>\n",
       "      <td>Machine shops</td>\n",
       "      <td>Private industry</td>\n",
       "      <td>20-99</td>\n",
       "      <td>3572800</td>\n",
       "      <td>74860</td>\n",
       "      <td>1</td>\n",
       "      <td>machinist</td>\n",
       "      <td>51-4041</td>\n",
       "      <td>Machinists</td>\n",
       "      <td>Reviewed</td>\n",
       "      <td>0.999947</td>\n",
       "      <td>2023-01-02</td>\n",
       "      <td>Other recordable case</td>\n",
       "      <td>0</td>\n",
       "      <td>0</td>\n",
       "      <td>Injury</td>\n",
       "      <td>1900-01-01 07:30:00</td>\n",
       "      <td>1900-01-01 12:45:00</td>\n",
       "      <td>No</td>\n",
       "      <td>NaT</td>\n",
       "      <td>2024-01-08 17:38:00</td>\n",
       "    </tr>\n",
       "    <tr>\n",
       "      <th>9493</th>\n",
       "      <td>987607</td>\n",
       "      <td>Sterling Machine Technologies, Inc.</td>\n",
       "      <td>251792083</td>\n",
       "      <td>Sterling Machine Technologies, Inc.</td>\n",
       "      <td>220 Kreider Road</td>\n",
       "      <td>Palmyra</td>\n",
       "      <td>Pennsylvania</td>\n",
       "      <td>17078</td>\n",
       "      <td>332710</td>\n",
       "      <td>2022</td>\n",
       "      <td>Machine shops</td>\n",
       "      <td>Private industry</td>\n",
       "      <td>20-99</td>\n",
       "      <td>3572800</td>\n",
       "      <td>74860</td>\n",
       "      <td>2</td>\n",
       "      <td>Welder</td>\n",
       "      <td>51-4121</td>\n",
       "      <td>Welders, Cutters, Solderers, and Brazers</td>\n",
       "      <td>Reviewed</td>\n",
       "      <td>0.999842</td>\n",
       "      <td>2023-05-01</td>\n",
       "      <td>Other recordable case</td>\n",
       "      <td>0</td>\n",
       "      <td>0</td>\n",
       "      <td>Injury</td>\n",
       "      <td>1900-01-01 06:00:00</td>\n",
       "      <td>1900-01-01 12:45:00</td>\n",
       "      <td>No</td>\n",
       "      <td>NaT</td>\n",
       "      <td>2024-01-08 17:53:00</td>\n",
       "    </tr>\n",
       "    <tr>\n",
       "      <th>9538</th>\n",
       "      <td>987607</td>\n",
       "      <td>Sterling Machine Technologies, Inc.</td>\n",
       "      <td>251792083</td>\n",
       "      <td>Sterling Machine Technologies, Inc.</td>\n",
       "      <td>220 Kreider Road</td>\n",
       "      <td>Palmyra</td>\n",
       "      <td>Pennsylvania</td>\n",
       "      <td>17078</td>\n",
       "      <td>332710</td>\n",
       "      <td>2022</td>\n",
       "      <td>Machine shops</td>\n",
       "      <td>Private industry</td>\n",
       "      <td>20-99</td>\n",
       "      <td>3572800</td>\n",
       "      <td>74860</td>\n",
       "      <td>3</td>\n",
       "      <td>machinist</td>\n",
       "      <td>51-4041</td>\n",
       "      <td>Machinists</td>\n",
       "      <td>Reviewed</td>\n",
       "      <td>0.999947</td>\n",
       "      <td>2023-10-30</td>\n",
       "      <td>Other recordable case</td>\n",
       "      <td>0</td>\n",
       "      <td>0</td>\n",
       "      <td>Injury</td>\n",
       "      <td>1900-01-01 06:00:00</td>\n",
       "      <td>NaT</td>\n",
       "      <td>Yes</td>\n",
       "      <td>NaT</td>\n",
       "      <td>2024-01-08 18:02:00</td>\n",
       "    </tr>\n",
       "  </tbody>\n",
       "</table>\n",
       "</div>"
      ],
      "text/plain": [
       "      establishment_id                   establishment_name        ein  \\\n",
       "id                                                                       \n",
       "15894           717879             Pointe Coupee Healthcare  371505879   \n",
       "15945           717879             Pointe Coupee Healthcare  371505879   \n",
       "9379            987607  Sterling Machine Technologies, Inc.  251792083   \n",
       "9417            987607  Sterling Machine Technologies, Inc.  251792083   \n",
       "9493            987607  Sterling Machine Technologies, Inc.  251792083   \n",
       "9538            987607  Sterling Machine Technologies, Inc.  251792083   \n",
       "\n",
       "                              company_name         street_address       city  \\\n",
       "id                                                                             \n",
       "15894                Plantation Management  1820 False River Road  New Roads   \n",
       "15945                Plantation Management  1820 False River Road  New Roads   \n",
       "9379   Sterling Machine Technologies, Inc.       220 Kreider Road    Palmyra   \n",
       "9417   Sterling Machine Technologies, Inc.       220 Kreider Road    Palmyra   \n",
       "9493   Sterling Machine Technologies, Inc.       220 Kreider Road    Palmyra   \n",
       "9538   Sterling Machine Technologies, Inc.       220 Kreider Road    Palmyra   \n",
       "\n",
       "              state zip_code naics_code naics_year industry_description  \\\n",
       "id                                                                        \n",
       "15894     Louisiana    70760     623110       2022        Nursing homes   \n",
       "15945     Louisiana    70760     623110       2022        Nursing homes   \n",
       "9379   Pennsylvania    17078     332710       2022        Machine shops   \n",
       "9417   Pennsylvania    17078     332710       2022        Machine shops   \n",
       "9493   Pennsylvania    17078     332710       2022        Machine shops   \n",
       "9538   Pennsylvania    17078     332710       2022        Machine shops   \n",
       "\n",
       "      establishment_type   size  annual_average_employees  total_hours_worked  \\\n",
       "id                                                                              \n",
       "15894   Private industry   250+                  16121261                  89   \n",
       "15945   Private industry   250+                  16121261                  89   \n",
       "9379    Private industry  20-99                   3572800               74860   \n",
       "9417    Private industry  20-99                   3572800               74860   \n",
       "9493    Private industry  20-99                   3572800               74860   \n",
       "9538    Private industry  20-99                   3572800               74860   \n",
       "\n",
       "      case_number job_description soc_code  \\\n",
       "id                                           \n",
       "15894           1            Cook  35-2012   \n",
       "15945           2            Cook  35-2012   \n",
       "9379            4       machinist  51-4041   \n",
       "9417            1       machinist  51-4041   \n",
       "9493            2          Welder  51-4121   \n",
       "9538            3       machinist  51-4041   \n",
       "\n",
       "                                soc_description soc_reviewed  soc_probability  \\\n",
       "id                                                                              \n",
       "15894          Cooks, Institution and Cafeteria     Reviewed         0.929956   \n",
       "15945          Cooks, Institution and Cafeteria     Reviewed         0.929956   \n",
       "9379                                 Machinists     Reviewed         0.999947   \n",
       "9417                                 Machinists     Reviewed         0.999947   \n",
       "9493   Welders, Cutters, Solderers, and Brazers     Reviewed         0.999842   \n",
       "9538                                 Machinists     Reviewed         0.999947   \n",
       "\n",
       "      date_of_incident            incident_outcome  dafw_num_away  \\\n",
       "id                                                                  \n",
       "15894       2023-07-16       Other recordable case              0   \n",
       "15945       2023-10-10  Days away from work (DAFW)             80   \n",
       "9379        2023-12-11  Days away from work (DAFW)              1   \n",
       "9417        2023-01-02       Other recordable case              0   \n",
       "9493        2023-05-01       Other recordable case              0   \n",
       "9538        2023-10-30       Other recordable case              0   \n",
       "\n",
       "       djtr_num_tr type_of_incident   time_started_work    time_of_incident  \\\n",
       "id                                                                            \n",
       "15894            0           Injury 1900-01-01 05:18:00 1900-01-01 10:30:00   \n",
       "15945            0           Injury 1900-01-01 06:17:00 1900-01-01 07:56:00   \n",
       "9379             0           Injury 1900-01-01 06:00:00 1900-01-01 14:00:00   \n",
       "9417             0           Injury 1900-01-01 07:30:00 1900-01-01 12:45:00   \n",
       "9493             0           Injury 1900-01-01 06:00:00 1900-01-01 12:45:00   \n",
       "9538             0           Injury 1900-01-01 06:00:00                 NaT   \n",
       "\n",
       "      time_unknown date_of_death   created_timestamp  \n",
       "id                                                    \n",
       "15894           No           NaT 2024-01-10 18:54:00  \n",
       "15945           No           NaT 2024-01-10 19:03:00  \n",
       "9379            No           NaT 2024-01-08 17:30:00  \n",
       "9417            No           NaT 2024-01-08 17:38:00  \n",
       "9493            No           NaT 2024-01-08 17:53:00  \n",
       "9538           Yes           NaT 2024-01-08 18:02:00  "
      ]
     },
     "execution_count": 22,
     "metadata": {},
     "output_type": "execute_result"
    }
   ],
   "source": [
    "df_preproc.query(\"annual_average_employees > 3500000\")"
   ]
  },
  {
   "cell_type": "code",
   "execution_count": 23,
   "metadata": {},
   "outputs": [
    {
     "data": {
      "text/html": [
       "<div>\n",
       "<style scoped>\n",
       "    .dataframe tbody tr th:only-of-type {\n",
       "        vertical-align: middle;\n",
       "    }\n",
       "\n",
       "    .dataframe tbody tr th {\n",
       "        vertical-align: top;\n",
       "    }\n",
       "\n",
       "    .dataframe thead th {\n",
       "        text-align: right;\n",
       "    }\n",
       "</style>\n",
       "<table border=\"1\" class=\"dataframe\">\n",
       "  <thead>\n",
       "    <tr style=\"text-align: right;\">\n",
       "      <th></th>\n",
       "      <th>establishment_id</th>\n",
       "      <th>establishment_name</th>\n",
       "      <th>ein</th>\n",
       "      <th>company_name</th>\n",
       "      <th>street_address</th>\n",
       "      <th>city</th>\n",
       "      <th>state</th>\n",
       "      <th>zip_code</th>\n",
       "      <th>naics_code</th>\n",
       "      <th>naics_year</th>\n",
       "      <th>industry_description</th>\n",
       "      <th>establishment_type</th>\n",
       "      <th>size</th>\n",
       "      <th>annual_average_employees</th>\n",
       "      <th>total_hours_worked</th>\n",
       "      <th>case_number</th>\n",
       "      <th>job_description</th>\n",
       "      <th>soc_code</th>\n",
       "      <th>soc_description</th>\n",
       "      <th>soc_reviewed</th>\n",
       "      <th>soc_probability</th>\n",
       "      <th>date_of_incident</th>\n",
       "      <th>incident_outcome</th>\n",
       "      <th>dafw_num_away</th>\n",
       "      <th>djtr_num_tr</th>\n",
       "      <th>type_of_incident</th>\n",
       "      <th>time_started_work</th>\n",
       "      <th>time_of_incident</th>\n",
       "      <th>time_unknown</th>\n",
       "      <th>date_of_death</th>\n",
       "      <th>created_timestamp</th>\n",
       "    </tr>\n",
       "    <tr>\n",
       "      <th>id</th>\n",
       "      <th></th>\n",
       "      <th></th>\n",
       "      <th></th>\n",
       "      <th></th>\n",
       "      <th></th>\n",
       "      <th></th>\n",
       "      <th></th>\n",
       "      <th></th>\n",
       "      <th></th>\n",
       "      <th></th>\n",
       "      <th></th>\n",
       "      <th></th>\n",
       "      <th></th>\n",
       "      <th></th>\n",
       "      <th></th>\n",
       "      <th></th>\n",
       "      <th></th>\n",
       "      <th></th>\n",
       "      <th></th>\n",
       "      <th></th>\n",
       "      <th></th>\n",
       "      <th></th>\n",
       "      <th></th>\n",
       "      <th></th>\n",
       "      <th></th>\n",
       "      <th></th>\n",
       "      <th></th>\n",
       "      <th></th>\n",
       "      <th></th>\n",
       "      <th></th>\n",
       "      <th></th>\n",
       "    </tr>\n",
       "  </thead>\n",
       "  <tbody>\n",
       "    <tr>\n",
       "      <th>732211</th>\n",
       "      <td>621240</td>\n",
       "      <td>Villa Maria Post Acute</td>\n",
       "      <td>833248050</td>\n",
       "      <td>Santa Maria Healthcare, Inc.</td>\n",
       "      <td>425 Barcellus Avenue</td>\n",
       "      <td>Santa MAria</td>\n",
       "      <td>California</td>\n",
       "      <td>93454</td>\n",
       "      <td>623110</td>\n",
       "      <td>2022</td>\n",
       "      <td>Convalescent homes or convalescent hospitals (...</td>\n",
       "      <td>Private industry</td>\n",
       "      <td>100-249</td>\n",
       "      <td>1484167</td>\n",
       "      <td>2119008576</td>\n",
       "      <td>1</td>\n",
       "      <td>CNA</td>\n",
       "      <td>31-1131</td>\n",
       "      <td>Nursing Assistants</td>\n",
       "      <td>Reviewed</td>\n",
       "      <td>0.999999</td>\n",
       "      <td>2023-01-18</td>\n",
       "      <td>Job transfer or restriction</td>\n",
       "      <td>0</td>\n",
       "      <td>15</td>\n",
       "      <td>Injury</td>\n",
       "      <td>1900-01-01 15:00:00</td>\n",
       "      <td>1900-01-01 21:00:00</td>\n",
       "      <td>No</td>\n",
       "      <td>NaT</td>\n",
       "      <td>2024-03-02 04:02:00</td>\n",
       "    </tr>\n",
       "    <tr>\n",
       "      <th>732336</th>\n",
       "      <td>621240</td>\n",
       "      <td>Villa Maria Post Acute</td>\n",
       "      <td>833248050</td>\n",
       "      <td>Santa Maria Healthcare, Inc.</td>\n",
       "      <td>425 Barcellus Avenue</td>\n",
       "      <td>Santa MAria</td>\n",
       "      <td>California</td>\n",
       "      <td>93454</td>\n",
       "      <td>623110</td>\n",
       "      <td>2022</td>\n",
       "      <td>Convalescent homes or convalescent hospitals (...</td>\n",
       "      <td>Private industry</td>\n",
       "      <td>100-249</td>\n",
       "      <td>1484167</td>\n",
       "      <td>2119008576</td>\n",
       "      <td>2</td>\n",
       "      <td>CNA</td>\n",
       "      <td>31-1131</td>\n",
       "      <td>Nursing Assistants</td>\n",
       "      <td>Reviewed</td>\n",
       "      <td>0.999999</td>\n",
       "      <td>2023-06-28</td>\n",
       "      <td>Job transfer or restriction</td>\n",
       "      <td>0</td>\n",
       "      <td>120</td>\n",
       "      <td>Injury</td>\n",
       "      <td>1900-01-01 23:00:00</td>\n",
       "      <td>1900-01-01 05:45:00</td>\n",
       "      <td>No</td>\n",
       "      <td>NaT</td>\n",
       "      <td>2024-03-02 04:09:00</td>\n",
       "    </tr>\n",
       "    <tr>\n",
       "      <th>782869</th>\n",
       "      <td>621240</td>\n",
       "      <td>Villa Maria Post Acute</td>\n",
       "      <td>833248050</td>\n",
       "      <td>Santa Maria Healthcare, Inc.</td>\n",
       "      <td>425 Barcellus Avenue</td>\n",
       "      <td>Santa MAria</td>\n",
       "      <td>California</td>\n",
       "      <td>93454</td>\n",
       "      <td>623110</td>\n",
       "      <td>2022</td>\n",
       "      <td>Convalescent homes or convalescent hospitals (...</td>\n",
       "      <td>Private industry</td>\n",
       "      <td>100-249</td>\n",
       "      <td>1484167</td>\n",
       "      <td>2119008576</td>\n",
       "      <td>3</td>\n",
       "      <td>Occupational Therapist Assistant</td>\n",
       "      <td>31-2011</td>\n",
       "      <td>Occupational Therapy Assistants</td>\n",
       "      <td>Not reviewed</td>\n",
       "      <td>0.885697</td>\n",
       "      <td>2023-10-25</td>\n",
       "      <td>Job transfer or restriction</td>\n",
       "      <td>0</td>\n",
       "      <td>56</td>\n",
       "      <td>Injury</td>\n",
       "      <td>1900-01-01 08:00:00</td>\n",
       "      <td>1900-01-01 09:35:00</td>\n",
       "      <td>No</td>\n",
       "      <td>NaT</td>\n",
       "      <td>2024-03-04 22:40:00</td>\n",
       "    </tr>\n",
       "    <tr>\n",
       "      <th>40311</th>\n",
       "      <td>796230</td>\n",
       "      <td>SpringHill Suites Navarre Beach</td>\n",
       "      <td>863927679</td>\n",
       "      <td>Concord Hospitality Enterprises</td>\n",
       "      <td>8375 Gulf Boulevard</td>\n",
       "      <td>Navarre</td>\n",
       "      <td>Florida</td>\n",
       "      <td>32566</td>\n",
       "      <td>721110</td>\n",
       "      <td>2022</td>\n",
       "      <td>Hotels, resort, without casinos</td>\n",
       "      <td>Private industry</td>\n",
       "      <td>100-249</td>\n",
       "      <td>100</td>\n",
       "      <td>2595152024</td>\n",
       "      <td>1</td>\n",
       "      <td>Prep Cook</td>\n",
       "      <td>35-2014</td>\n",
       "      <td>Cooks, Restaurant</td>\n",
       "      <td>Reviewed</td>\n",
       "      <td>0.999840</td>\n",
       "      <td>2023-01-12</td>\n",
       "      <td>Days away from work (DAFW)</td>\n",
       "      <td>49</td>\n",
       "      <td>0</td>\n",
       "      <td>Injury</td>\n",
       "      <td>1900-01-01 05:00:00</td>\n",
       "      <td>1900-01-01 10:00:00</td>\n",
       "      <td>No</td>\n",
       "      <td>NaT</td>\n",
       "      <td>2024-01-18 20:01:00</td>\n",
       "    </tr>\n",
       "    <tr>\n",
       "      <th>40329</th>\n",
       "      <td>796230</td>\n",
       "      <td>SpringHill Suites Navarre Beach</td>\n",
       "      <td>863927679</td>\n",
       "      <td>Concord Hospitality Enterprises</td>\n",
       "      <td>8375 Gulf Boulevard</td>\n",
       "      <td>Navarre</td>\n",
       "      <td>Florida</td>\n",
       "      <td>32566</td>\n",
       "      <td>721110</td>\n",
       "      <td>2022</td>\n",
       "      <td>Hotels, resort, without casinos</td>\n",
       "      <td>Private industry</td>\n",
       "      <td>100-249</td>\n",
       "      <td>100</td>\n",
       "      <td>2595152024</td>\n",
       "      <td>2</td>\n",
       "      <td>Housekeeper</td>\n",
       "      <td>37-2012</td>\n",
       "      <td>Maids and Housekeeping Cleaners</td>\n",
       "      <td>Reviewed</td>\n",
       "      <td>0.999960</td>\n",
       "      <td>2023-06-20</td>\n",
       "      <td>Days away from work (DAFW)</td>\n",
       "      <td>14</td>\n",
       "      <td>0</td>\n",
       "      <td>Injury</td>\n",
       "      <td>1900-01-01 09:00:00</td>\n",
       "      <td>1900-01-01 12:00:00</td>\n",
       "      <td>No</td>\n",
       "      <td>NaT</td>\n",
       "      <td>2024-01-18 20:03:00</td>\n",
       "    </tr>\n",
       "    <tr>\n",
       "      <th>40367</th>\n",
       "      <td>796230</td>\n",
       "      <td>SpringHill Suites Navarre Beach</td>\n",
       "      <td>863927679</td>\n",
       "      <td>Concord Hospitality Enterprises</td>\n",
       "      <td>8375 Gulf Boulevard</td>\n",
       "      <td>Navarre</td>\n",
       "      <td>Florida</td>\n",
       "      <td>32566</td>\n",
       "      <td>721110</td>\n",
       "      <td>2022</td>\n",
       "      <td>Hotels, resort, without casinos</td>\n",
       "      <td>Private industry</td>\n",
       "      <td>100-249</td>\n",
       "      <td>100</td>\n",
       "      <td>2595152024</td>\n",
       "      <td>3</td>\n",
       "      <td>Houseman</td>\n",
       "      <td>37-2011</td>\n",
       "      <td>Janitors and Cleaners, Except Maids and Housek...</td>\n",
       "      <td>Reviewed</td>\n",
       "      <td>0.998079</td>\n",
       "      <td>2023-07-20</td>\n",
       "      <td>Days away from work (DAFW)</td>\n",
       "      <td>1</td>\n",
       "      <td>0</td>\n",
       "      <td>Injury</td>\n",
       "      <td>1900-01-01 09:00:00</td>\n",
       "      <td>1900-01-01 12:00:00</td>\n",
       "      <td>No</td>\n",
       "      <td>NaT</td>\n",
       "      <td>2024-01-18 20:06:00</td>\n",
       "    </tr>\n",
       "    <tr>\n",
       "      <th>117704</th>\n",
       "      <td>801935</td>\n",
       "      <td>Ensign Services</td>\n",
       "      <td>741386053</td>\n",
       "      <td>Sedona Trace Health &amp; Wellness</td>\n",
       "      <td>8324 Cameron Rd</td>\n",
       "      <td>Austin</td>\n",
       "      <td>Texas</td>\n",
       "      <td>78754</td>\n",
       "      <td>623110</td>\n",
       "      <td>2022</td>\n",
       "      <td>Nursing homes</td>\n",
       "      <td>State government entity</td>\n",
       "      <td>20-249</td>\n",
       "      <td>12375</td>\n",
       "      <td>2173658818</td>\n",
       "      <td>01</td>\n",
       "      <td>Thearpy</td>\n",
       "      <td>29-1129</td>\n",
       "      <td>Therapists, All Other</td>\n",
       "      <td>Not reviewed</td>\n",
       "      <td>0.906733</td>\n",
       "      <td>2023-04-06</td>\n",
       "      <td>Job transfer or restriction</td>\n",
       "      <td>0</td>\n",
       "      <td>4</td>\n",
       "      <td>Injury</td>\n",
       "      <td>1900-01-01 08:00:00</td>\n",
       "      <td>1900-01-01 09:02:00</td>\n",
       "      <td>No</td>\n",
       "      <td>NaT</td>\n",
       "      <td>2024-01-31 22:30:00</td>\n",
       "    </tr>\n",
       "    <tr>\n",
       "      <th>24434</th>\n",
       "      <td>1072807</td>\n",
       "      <td>Brazos Manufacturing and Welding Services</td>\n",
       "      <td>844114782</td>\n",
       "      <td>Brazos Manufacturing</td>\n",
       "      <td>7173 CR 1205</td>\n",
       "      <td>Rio Vista</td>\n",
       "      <td>Texas</td>\n",
       "      <td>76033</td>\n",
       "      <td>332313</td>\n",
       "      <td>2022</td>\n",
       "      <td>Plate work (e.g., bending, cutting, punching, ...</td>\n",
       "      <td>Private industry</td>\n",
       "      <td>20-99</td>\n",
       "      <td>83</td>\n",
       "      <td>13833831664</td>\n",
       "      <td>1999963</td>\n",
       "      <td>Director of Quality Control</td>\n",
       "      <td>11-3051</td>\n",
       "      <td>Industrial Production Managers</td>\n",
       "      <td>Not reviewed</td>\n",
       "      <td>0.999999</td>\n",
       "      <td>2023-01-30</td>\n",
       "      <td>Days away from work (DAFW)</td>\n",
       "      <td>90</td>\n",
       "      <td>0</td>\n",
       "      <td>Injury</td>\n",
       "      <td>1900-01-01 06:00:00</td>\n",
       "      <td>1900-01-01 09:00:00</td>\n",
       "      <td>No</td>\n",
       "      <td>NaT</td>\n",
       "      <td>2024-01-12 20:27:00</td>\n",
       "    </tr>\n",
       "    <tr>\n",
       "      <th>884236</th>\n",
       "      <td>1240684</td>\n",
       "      <td>Skyline Homes</td>\n",
       "      <td>800556501</td>\n",
       "      <td>Skyline Homes</td>\n",
       "      <td>99 Horseshoe Rd</td>\n",
       "      <td>Leola</td>\n",
       "      <td>Pennsylvania</td>\n",
       "      <td>17540</td>\n",
       "      <td>321991</td>\n",
       "      <td>2022</td>\n",
       "      <td>Manufactured (mobile) homes manufacturing</td>\n",
       "      <td>Private industry</td>\n",
       "      <td>100-249</td>\n",
       "      <td>150</td>\n",
       "      <td>2960260000</td>\n",
       "      <td>1</td>\n",
       "      <td>Production Worker</td>\n",
       "      <td>00-0000</td>\n",
       "      <td>Not yet coded</td>\n",
       "      <td>Not reviewed</td>\n",
       "      <td>0.000000</td>\n",
       "      <td>2023-01-03</td>\n",
       "      <td>Days away from work (DAFW)</td>\n",
       "      <td>362</td>\n",
       "      <td>0</td>\n",
       "      <td>Injury</td>\n",
       "      <td>1900-01-01 07:00:00</td>\n",
       "      <td>NaT</td>\n",
       "      <td>Yes</td>\n",
       "      <td>NaT</td>\n",
       "      <td>2024-04-11 17:41:00</td>\n",
       "    </tr>\n",
       "    <tr>\n",
       "      <th>884885</th>\n",
       "      <td>1240684</td>\n",
       "      <td>Skyline Homes</td>\n",
       "      <td>800556501</td>\n",
       "      <td>Skyline Homes</td>\n",
       "      <td>99 Horseshoe Rd</td>\n",
       "      <td>Leola</td>\n",
       "      <td>Pennsylvania</td>\n",
       "      <td>17540</td>\n",
       "      <td>321991</td>\n",
       "      <td>2022</td>\n",
       "      <td>Manufactured (mobile) homes manufacturing</td>\n",
       "      <td>Private industry</td>\n",
       "      <td>100-249</td>\n",
       "      <td>150</td>\n",
       "      <td>2960260000</td>\n",
       "      <td>2</td>\n",
       "      <td>Production Worker</td>\n",
       "      <td>00-0000</td>\n",
       "      <td>Not yet coded</td>\n",
       "      <td>Not reviewed</td>\n",
       "      <td>0.000000</td>\n",
       "      <td>2023-01-16</td>\n",
       "      <td>Job transfer or restriction</td>\n",
       "      <td>0</td>\n",
       "      <td>10</td>\n",
       "      <td>Injury</td>\n",
       "      <td>1900-01-01 07:00:00</td>\n",
       "      <td>NaT</td>\n",
       "      <td>Yes</td>\n",
       "      <td>NaT</td>\n",
       "      <td>2024-04-16 19:49:00</td>\n",
       "    </tr>\n",
       "    <tr>\n",
       "      <th>884886</th>\n",
       "      <td>1240684</td>\n",
       "      <td>Skyline Homes</td>\n",
       "      <td>800556501</td>\n",
       "      <td>Skyline Homes</td>\n",
       "      <td>99 Horseshoe Rd</td>\n",
       "      <td>Leola</td>\n",
       "      <td>Pennsylvania</td>\n",
       "      <td>17540</td>\n",
       "      <td>321991</td>\n",
       "      <td>2022</td>\n",
       "      <td>Manufactured (mobile) homes manufacturing</td>\n",
       "      <td>Private industry</td>\n",
       "      <td>100-249</td>\n",
       "      <td>150</td>\n",
       "      <td>2960260000</td>\n",
       "      <td>4</td>\n",
       "      <td>Production Worker</td>\n",
       "      <td>00-0000</td>\n",
       "      <td>Not yet coded</td>\n",
       "      <td>Not reviewed</td>\n",
       "      <td>0.000000</td>\n",
       "      <td>2023-02-01</td>\n",
       "      <td>Job transfer or restriction</td>\n",
       "      <td>0</td>\n",
       "      <td>2</td>\n",
       "      <td>Injury</td>\n",
       "      <td>1900-01-01 07:00:00</td>\n",
       "      <td>1900-01-01 10:30:00</td>\n",
       "      <td>No</td>\n",
       "      <td>NaT</td>\n",
       "      <td>2024-04-16 19:59:00</td>\n",
       "    </tr>\n",
       "    <tr>\n",
       "      <th>884889</th>\n",
       "      <td>1240684</td>\n",
       "      <td>Skyline Homes</td>\n",
       "      <td>800556501</td>\n",
       "      <td>Skyline Homes</td>\n",
       "      <td>99 Horseshoe Rd</td>\n",
       "      <td>Leola</td>\n",
       "      <td>Pennsylvania</td>\n",
       "      <td>17540</td>\n",
       "      <td>321991</td>\n",
       "      <td>2022</td>\n",
       "      <td>Manufactured (mobile) homes manufacturing</td>\n",
       "      <td>Private industry</td>\n",
       "      <td>100-249</td>\n",
       "      <td>150</td>\n",
       "      <td>2960260000</td>\n",
       "      <td>5</td>\n",
       "      <td>Production Worker</td>\n",
       "      <td>00-0000</td>\n",
       "      <td>Not yet coded</td>\n",
       "      <td>Not reviewed</td>\n",
       "      <td>0.000000</td>\n",
       "      <td>2023-02-27</td>\n",
       "      <td>Days away from work (DAFW)</td>\n",
       "      <td>1</td>\n",
       "      <td>2</td>\n",
       "      <td>Injury</td>\n",
       "      <td>1900-01-01 07:00:00</td>\n",
       "      <td>NaT</td>\n",
       "      <td>Yes</td>\n",
       "      <td>NaT</td>\n",
       "      <td>2024-04-16 20:04:00</td>\n",
       "    </tr>\n",
       "    <tr>\n",
       "      <th>884893</th>\n",
       "      <td>1240684</td>\n",
       "      <td>Skyline Homes</td>\n",
       "      <td>800556501</td>\n",
       "      <td>Skyline Homes</td>\n",
       "      <td>99 Horseshoe Rd</td>\n",
       "      <td>Leola</td>\n",
       "      <td>Pennsylvania</td>\n",
       "      <td>17540</td>\n",
       "      <td>321991</td>\n",
       "      <td>2022</td>\n",
       "      <td>Manufactured (mobile) homes manufacturing</td>\n",
       "      <td>Private industry</td>\n",
       "      <td>100-249</td>\n",
       "      <td>150</td>\n",
       "      <td>2960260000</td>\n",
       "      <td>6</td>\n",
       "      <td>Production Worker</td>\n",
       "      <td>00-0000</td>\n",
       "      <td>Not yet coded</td>\n",
       "      <td>Not reviewed</td>\n",
       "      <td>0.000000</td>\n",
       "      <td>2023-03-09</td>\n",
       "      <td>Job transfer or restriction</td>\n",
       "      <td>0</td>\n",
       "      <td>60</td>\n",
       "      <td>Injury</td>\n",
       "      <td>1900-01-01 07:00:00</td>\n",
       "      <td>1900-01-01 07:30:00</td>\n",
       "      <td>No</td>\n",
       "      <td>NaT</td>\n",
       "      <td>2024-04-16 20:16:00</td>\n",
       "    </tr>\n",
       "    <tr>\n",
       "      <th>884895</th>\n",
       "      <td>1240684</td>\n",
       "      <td>Skyline Homes</td>\n",
       "      <td>800556501</td>\n",
       "      <td>Skyline Homes</td>\n",
       "      <td>99 Horseshoe Rd</td>\n",
       "      <td>Leola</td>\n",
       "      <td>Pennsylvania</td>\n",
       "      <td>17540</td>\n",
       "      <td>321991</td>\n",
       "      <td>2022</td>\n",
       "      <td>Manufactured (mobile) homes manufacturing</td>\n",
       "      <td>Private industry</td>\n",
       "      <td>100-249</td>\n",
       "      <td>150</td>\n",
       "      <td>2960260000</td>\n",
       "      <td>7</td>\n",
       "      <td>Production Worker</td>\n",
       "      <td>00-0000</td>\n",
       "      <td>Not yet coded</td>\n",
       "      <td>Not reviewed</td>\n",
       "      <td>0.000000</td>\n",
       "      <td>2023-03-15</td>\n",
       "      <td>Other recordable case</td>\n",
       "      <td>0</td>\n",
       "      <td>0</td>\n",
       "      <td>Injury</td>\n",
       "      <td>1900-01-01 07:00:00</td>\n",
       "      <td>1900-01-01 14:30:00</td>\n",
       "      <td>No</td>\n",
       "      <td>NaT</td>\n",
       "      <td>2024-04-16 20:22:00</td>\n",
       "    </tr>\n",
       "    <tr>\n",
       "      <th>884897</th>\n",
       "      <td>1240684</td>\n",
       "      <td>Skyline Homes</td>\n",
       "      <td>800556501</td>\n",
       "      <td>Skyline Homes</td>\n",
       "      <td>99 Horseshoe Rd</td>\n",
       "      <td>Leola</td>\n",
       "      <td>Pennsylvania</td>\n",
       "      <td>17540</td>\n",
       "      <td>321991</td>\n",
       "      <td>2022</td>\n",
       "      <td>Manufactured (mobile) homes manufacturing</td>\n",
       "      <td>Private industry</td>\n",
       "      <td>100-249</td>\n",
       "      <td>150</td>\n",
       "      <td>2960260000</td>\n",
       "      <td>8</td>\n",
       "      <td>Production Worker</td>\n",
       "      <td>00-0000</td>\n",
       "      <td>Not yet coded</td>\n",
       "      <td>Not reviewed</td>\n",
       "      <td>0.000000</td>\n",
       "      <td>2023-03-22</td>\n",
       "      <td>Days away from work (DAFW)</td>\n",
       "      <td>1</td>\n",
       "      <td>0</td>\n",
       "      <td>Injury</td>\n",
       "      <td>1900-01-01 07:00:00</td>\n",
       "      <td>NaT</td>\n",
       "      <td>Yes</td>\n",
       "      <td>NaT</td>\n",
       "      <td>2024-04-16 20:26:00</td>\n",
       "    </tr>\n",
       "    <tr>\n",
       "      <th>884898</th>\n",
       "      <td>1240684</td>\n",
       "      <td>Skyline Homes</td>\n",
       "      <td>800556501</td>\n",
       "      <td>Skyline Homes</td>\n",
       "      <td>99 Horseshoe Rd</td>\n",
       "      <td>Leola</td>\n",
       "      <td>Pennsylvania</td>\n",
       "      <td>17540</td>\n",
       "      <td>321991</td>\n",
       "      <td>2022</td>\n",
       "      <td>Manufactured (mobile) homes manufacturing</td>\n",
       "      <td>Private industry</td>\n",
       "      <td>100-249</td>\n",
       "      <td>150</td>\n",
       "      <td>2960260000</td>\n",
       "      <td>9</td>\n",
       "      <td>Production Worker</td>\n",
       "      <td>00-0000</td>\n",
       "      <td>Not yet coded</td>\n",
       "      <td>Not reviewed</td>\n",
       "      <td>0.000000</td>\n",
       "      <td>2023-04-12</td>\n",
       "      <td>Job transfer or restriction</td>\n",
       "      <td>0</td>\n",
       "      <td>2</td>\n",
       "      <td>Injury</td>\n",
       "      <td>1900-01-01 07:00:00</td>\n",
       "      <td>1900-01-01 07:40:00</td>\n",
       "      <td>No</td>\n",
       "      <td>NaT</td>\n",
       "      <td>2024-04-16 20:30:00</td>\n",
       "    </tr>\n",
       "    <tr>\n",
       "      <th>884899</th>\n",
       "      <td>1240684</td>\n",
       "      <td>Skyline Homes</td>\n",
       "      <td>800556501</td>\n",
       "      <td>Skyline Homes</td>\n",
       "      <td>99 Horseshoe Rd</td>\n",
       "      <td>Leola</td>\n",
       "      <td>Pennsylvania</td>\n",
       "      <td>17540</td>\n",
       "      <td>321991</td>\n",
       "      <td>2022</td>\n",
       "      <td>Manufactured (mobile) homes manufacturing</td>\n",
       "      <td>Private industry</td>\n",
       "      <td>100-249</td>\n",
       "      <td>150</td>\n",
       "      <td>2960260000</td>\n",
       "      <td>10</td>\n",
       "      <td>Production Worker</td>\n",
       "      <td>00-0000</td>\n",
       "      <td>Not yet coded</td>\n",
       "      <td>Not reviewed</td>\n",
       "      <td>0.000000</td>\n",
       "      <td>2023-04-20</td>\n",
       "      <td>Days away from work (DAFW)</td>\n",
       "      <td>1</td>\n",
       "      <td>0</td>\n",
       "      <td>Injury</td>\n",
       "      <td>1900-01-01 07:00:00</td>\n",
       "      <td>NaT</td>\n",
       "      <td>Yes</td>\n",
       "      <td>NaT</td>\n",
       "      <td>2024-04-16 20:33:00</td>\n",
       "    </tr>\n",
       "    <tr>\n",
       "      <th>884901</th>\n",
       "      <td>1240684</td>\n",
       "      <td>Skyline Homes</td>\n",
       "      <td>800556501</td>\n",
       "      <td>Skyline Homes</td>\n",
       "      <td>99 Horseshoe Rd</td>\n",
       "      <td>Leola</td>\n",
       "      <td>Pennsylvania</td>\n",
       "      <td>17540</td>\n",
       "      <td>321991</td>\n",
       "      <td>2022</td>\n",
       "      <td>Manufactured (mobile) homes manufacturing</td>\n",
       "      <td>Private industry</td>\n",
       "      <td>100-249</td>\n",
       "      <td>150</td>\n",
       "      <td>2960260000</td>\n",
       "      <td>11</td>\n",
       "      <td>Production Worker</td>\n",
       "      <td>00-0000</td>\n",
       "      <td>Not yet coded</td>\n",
       "      <td>Not reviewed</td>\n",
       "      <td>0.000000</td>\n",
       "      <td>2023-04-26</td>\n",
       "      <td>Days away from work (DAFW)</td>\n",
       "      <td>9</td>\n",
       "      <td>0</td>\n",
       "      <td>Poisoning</td>\n",
       "      <td>1900-01-01 06:30:00</td>\n",
       "      <td>NaT</td>\n",
       "      <td>Yes</td>\n",
       "      <td>NaT</td>\n",
       "      <td>2024-04-16 20:38:00</td>\n",
       "    </tr>\n",
       "    <tr>\n",
       "      <th>884903</th>\n",
       "      <td>1240684</td>\n",
       "      <td>Skyline Homes</td>\n",
       "      <td>800556501</td>\n",
       "      <td>Skyline Homes</td>\n",
       "      <td>99 Horseshoe Rd</td>\n",
       "      <td>Leola</td>\n",
       "      <td>Pennsylvania</td>\n",
       "      <td>17540</td>\n",
       "      <td>321991</td>\n",
       "      <td>2022</td>\n",
       "      <td>Manufactured (mobile) homes manufacturing</td>\n",
       "      <td>Private industry</td>\n",
       "      <td>100-249</td>\n",
       "      <td>150</td>\n",
       "      <td>2960260000</td>\n",
       "      <td>12</td>\n",
       "      <td>Production Worker</td>\n",
       "      <td>00-0000</td>\n",
       "      <td>Not yet coded</td>\n",
       "      <td>Not reviewed</td>\n",
       "      <td>0.000000</td>\n",
       "      <td>2023-04-28</td>\n",
       "      <td>Days away from work (DAFW)</td>\n",
       "      <td>1</td>\n",
       "      <td>0</td>\n",
       "      <td>Injury</td>\n",
       "      <td>1900-01-01 07:00:00</td>\n",
       "      <td>NaT</td>\n",
       "      <td>Yes</td>\n",
       "      <td>NaT</td>\n",
       "      <td>2024-04-16 20:44:00</td>\n",
       "    </tr>\n",
       "    <tr>\n",
       "      <th>884986</th>\n",
       "      <td>1240684</td>\n",
       "      <td>Skyline Homes</td>\n",
       "      <td>800556501</td>\n",
       "      <td>Skyline Homes</td>\n",
       "      <td>99 Horseshoe Rd</td>\n",
       "      <td>Leola</td>\n",
       "      <td>Pennsylvania</td>\n",
       "      <td>17540</td>\n",
       "      <td>321991</td>\n",
       "      <td>2022</td>\n",
       "      <td>Manufactured (mobile) homes manufacturing</td>\n",
       "      <td>Private industry</td>\n",
       "      <td>100-249</td>\n",
       "      <td>150</td>\n",
       "      <td>2960260000</td>\n",
       "      <td>13</td>\n",
       "      <td>Production Worker</td>\n",
       "      <td>00-0000</td>\n",
       "      <td>Not yet coded</td>\n",
       "      <td>Not reviewed</td>\n",
       "      <td>0.000000</td>\n",
       "      <td>2023-04-27</td>\n",
       "      <td>Days away from work (DAFW)</td>\n",
       "      <td>2</td>\n",
       "      <td>0</td>\n",
       "      <td>Injury</td>\n",
       "      <td>1900-01-01 07:00:00</td>\n",
       "      <td>NaT</td>\n",
       "      <td>Yes</td>\n",
       "      <td>NaT</td>\n",
       "      <td>2024-04-17 13:53:00</td>\n",
       "    </tr>\n",
       "    <tr>\n",
       "      <th>884987</th>\n",
       "      <td>1240684</td>\n",
       "      <td>Skyline Homes</td>\n",
       "      <td>800556501</td>\n",
       "      <td>Skyline Homes</td>\n",
       "      <td>99 Horseshoe Rd</td>\n",
       "      <td>Leola</td>\n",
       "      <td>Pennsylvania</td>\n",
       "      <td>17540</td>\n",
       "      <td>321991</td>\n",
       "      <td>2022</td>\n",
       "      <td>Manufactured (mobile) homes manufacturing</td>\n",
       "      <td>Private industry</td>\n",
       "      <td>100-249</td>\n",
       "      <td>150</td>\n",
       "      <td>2960260000</td>\n",
       "      <td>14</td>\n",
       "      <td>Production Worker</td>\n",
       "      <td>00-0000</td>\n",
       "      <td>Not yet coded</td>\n",
       "      <td>Not reviewed</td>\n",
       "      <td>0.000000</td>\n",
       "      <td>2023-05-01</td>\n",
       "      <td>Other recordable case</td>\n",
       "      <td>0</td>\n",
       "      <td>0</td>\n",
       "      <td>Injury</td>\n",
       "      <td>1900-01-01 07:00:00</td>\n",
       "      <td>1900-01-01 10:45:00</td>\n",
       "      <td>No</td>\n",
       "      <td>NaT</td>\n",
       "      <td>2024-04-17 13:59:00</td>\n",
       "    </tr>\n",
       "    <tr>\n",
       "      <th>884988</th>\n",
       "      <td>1240684</td>\n",
       "      <td>Skyline Homes</td>\n",
       "      <td>800556501</td>\n",
       "      <td>Skyline Homes</td>\n",
       "      <td>99 Horseshoe Rd</td>\n",
       "      <td>Leola</td>\n",
       "      <td>Pennsylvania</td>\n",
       "      <td>17540</td>\n",
       "      <td>321991</td>\n",
       "      <td>2022</td>\n",
       "      <td>Manufactured (mobile) homes manufacturing</td>\n",
       "      <td>Private industry</td>\n",
       "      <td>100-249</td>\n",
       "      <td>150</td>\n",
       "      <td>2960260000</td>\n",
       "      <td>15</td>\n",
       "      <td>Production Worker</td>\n",
       "      <td>00-0000</td>\n",
       "      <td>Not yet coded</td>\n",
       "      <td>Not reviewed</td>\n",
       "      <td>0.000000</td>\n",
       "      <td>2023-06-12</td>\n",
       "      <td>Other recordable case</td>\n",
       "      <td>0</td>\n",
       "      <td>0</td>\n",
       "      <td>Injury</td>\n",
       "      <td>1900-01-01 06:00:00</td>\n",
       "      <td>1900-01-01 16:00:00</td>\n",
       "      <td>No</td>\n",
       "      <td>NaT</td>\n",
       "      <td>2024-04-17 14:05:00</td>\n",
       "    </tr>\n",
       "    <tr>\n",
       "      <th>884989</th>\n",
       "      <td>1240684</td>\n",
       "      <td>Skyline Homes</td>\n",
       "      <td>800556501</td>\n",
       "      <td>Skyline Homes</td>\n",
       "      <td>99 Horseshoe Rd</td>\n",
       "      <td>Leola</td>\n",
       "      <td>Pennsylvania</td>\n",
       "      <td>17540</td>\n",
       "      <td>321991</td>\n",
       "      <td>2022</td>\n",
       "      <td>Manufactured (mobile) homes manufacturing</td>\n",
       "      <td>Private industry</td>\n",
       "      <td>100-249</td>\n",
       "      <td>150</td>\n",
       "      <td>2960260000</td>\n",
       "      <td>16</td>\n",
       "      <td>Production Worker</td>\n",
       "      <td>00-0000</td>\n",
       "      <td>Not yet coded</td>\n",
       "      <td>Not reviewed</td>\n",
       "      <td>0.000000</td>\n",
       "      <td>2023-05-19</td>\n",
       "      <td>Other recordable case</td>\n",
       "      <td>0</td>\n",
       "      <td>0</td>\n",
       "      <td>Injury</td>\n",
       "      <td>1900-01-01 07:00:00</td>\n",
       "      <td>NaT</td>\n",
       "      <td>Yes</td>\n",
       "      <td>NaT</td>\n",
       "      <td>2024-04-17 14:09:00</td>\n",
       "    </tr>\n",
       "    <tr>\n",
       "      <th>884991</th>\n",
       "      <td>1240684</td>\n",
       "      <td>Skyline Homes</td>\n",
       "      <td>800556501</td>\n",
       "      <td>Skyline Homes</td>\n",
       "      <td>99 Horseshoe Rd</td>\n",
       "      <td>Leola</td>\n",
       "      <td>Pennsylvania</td>\n",
       "      <td>17540</td>\n",
       "      <td>321991</td>\n",
       "      <td>2022</td>\n",
       "      <td>Manufactured (mobile) homes manufacturing</td>\n",
       "      <td>Private industry</td>\n",
       "      <td>100-249</td>\n",
       "      <td>150</td>\n",
       "      <td>2960260000</td>\n",
       "      <td>18</td>\n",
       "      <td>Service Manager</td>\n",
       "      <td>00-0000</td>\n",
       "      <td>Not yet coded</td>\n",
       "      <td>Not reviewed</td>\n",
       "      <td>0.000000</td>\n",
       "      <td>2023-07-12</td>\n",
       "      <td>Other recordable case</td>\n",
       "      <td>0</td>\n",
       "      <td>0</td>\n",
       "      <td>Injury</td>\n",
       "      <td>1900-01-01 07:45:00</td>\n",
       "      <td>1900-01-01 10:45:00</td>\n",
       "      <td>No</td>\n",
       "      <td>NaT</td>\n",
       "      <td>2024-04-17 14:14:00</td>\n",
       "    </tr>\n",
       "    <tr>\n",
       "      <th>884992</th>\n",
       "      <td>1240684</td>\n",
       "      <td>Skyline Homes</td>\n",
       "      <td>800556501</td>\n",
       "      <td>Skyline Homes</td>\n",
       "      <td>99 Horseshoe Rd</td>\n",
       "      <td>Leola</td>\n",
       "      <td>Pennsylvania</td>\n",
       "      <td>17540</td>\n",
       "      <td>321991</td>\n",
       "      <td>2022</td>\n",
       "      <td>Manufactured (mobile) homes manufacturing</td>\n",
       "      <td>Private industry</td>\n",
       "      <td>100-249</td>\n",
       "      <td>150</td>\n",
       "      <td>2960260000</td>\n",
       "      <td>19</td>\n",
       "      <td>Production Worker</td>\n",
       "      <td>00-0000</td>\n",
       "      <td>Not yet coded</td>\n",
       "      <td>Not reviewed</td>\n",
       "      <td>0.000000</td>\n",
       "      <td>2023-08-22</td>\n",
       "      <td>Job transfer or restriction</td>\n",
       "      <td>0</td>\n",
       "      <td>5</td>\n",
       "      <td>Injury</td>\n",
       "      <td>1900-01-01 07:00:00</td>\n",
       "      <td>1900-01-01 08:45:00</td>\n",
       "      <td>No</td>\n",
       "      <td>NaT</td>\n",
       "      <td>2024-04-17 14:17:00</td>\n",
       "    </tr>\n",
       "    <tr>\n",
       "      <th>884993</th>\n",
       "      <td>1240684</td>\n",
       "      <td>Skyline Homes</td>\n",
       "      <td>800556501</td>\n",
       "      <td>Skyline Homes</td>\n",
       "      <td>99 Horseshoe Rd</td>\n",
       "      <td>Leola</td>\n",
       "      <td>Pennsylvania</td>\n",
       "      <td>17540</td>\n",
       "      <td>321991</td>\n",
       "      <td>2022</td>\n",
       "      <td>Manufactured (mobile) homes manufacturing</td>\n",
       "      <td>Private industry</td>\n",
       "      <td>100-249</td>\n",
       "      <td>150</td>\n",
       "      <td>2960260000</td>\n",
       "      <td>20</td>\n",
       "      <td>Receiving</td>\n",
       "      <td>00-0000</td>\n",
       "      <td>Not yet coded</td>\n",
       "      <td>Not reviewed</td>\n",
       "      <td>0.000000</td>\n",
       "      <td>2023-08-31</td>\n",
       "      <td>Other recordable case</td>\n",
       "      <td>0</td>\n",
       "      <td>0</td>\n",
       "      <td>Injury</td>\n",
       "      <td>1900-01-01 07:00:00</td>\n",
       "      <td>1900-01-01 10:30:00</td>\n",
       "      <td>No</td>\n",
       "      <td>NaT</td>\n",
       "      <td>2024-04-17 14:21:00</td>\n",
       "    </tr>\n",
       "  </tbody>\n",
       "</table>\n",
       "</div>"
      ],
      "text/plain": [
       "       establishment_id                         establishment_name        ein  \\\n",
       "id                                                                              \n",
       "732211           621240                     Villa Maria Post Acute  833248050   \n",
       "732336           621240                     Villa Maria Post Acute  833248050   \n",
       "782869           621240                     Villa Maria Post Acute  833248050   \n",
       "40311            796230            SpringHill Suites Navarre Beach  863927679   \n",
       "40329            796230            SpringHill Suites Navarre Beach  863927679   \n",
       "40367            796230            SpringHill Suites Navarre Beach  863927679   \n",
       "117704           801935                            Ensign Services  741386053   \n",
       "24434           1072807  Brazos Manufacturing and Welding Services  844114782   \n",
       "884236          1240684                              Skyline Homes  800556501   \n",
       "884885          1240684                              Skyline Homes  800556501   \n",
       "884886          1240684                              Skyline Homes  800556501   \n",
       "884889          1240684                              Skyline Homes  800556501   \n",
       "884893          1240684                              Skyline Homes  800556501   \n",
       "884895          1240684                              Skyline Homes  800556501   \n",
       "884897          1240684                              Skyline Homes  800556501   \n",
       "884898          1240684                              Skyline Homes  800556501   \n",
       "884899          1240684                              Skyline Homes  800556501   \n",
       "884901          1240684                              Skyline Homes  800556501   \n",
       "884903          1240684                              Skyline Homes  800556501   \n",
       "884986          1240684                              Skyline Homes  800556501   \n",
       "884987          1240684                              Skyline Homes  800556501   \n",
       "884988          1240684                              Skyline Homes  800556501   \n",
       "884989          1240684                              Skyline Homes  800556501   \n",
       "884991          1240684                              Skyline Homes  800556501   \n",
       "884992          1240684                              Skyline Homes  800556501   \n",
       "884993          1240684                              Skyline Homes  800556501   \n",
       "\n",
       "                           company_name        street_address         city  \\\n",
       "id                                                                           \n",
       "732211     Santa Maria Healthcare, Inc.  425 Barcellus Avenue  Santa MAria   \n",
       "732336     Santa Maria Healthcare, Inc.  425 Barcellus Avenue  Santa MAria   \n",
       "782869     Santa Maria Healthcare, Inc.  425 Barcellus Avenue  Santa MAria   \n",
       "40311   Concord Hospitality Enterprises   8375 Gulf Boulevard      Navarre   \n",
       "40329   Concord Hospitality Enterprises   8375 Gulf Boulevard      Navarre   \n",
       "40367   Concord Hospitality Enterprises   8375 Gulf Boulevard      Navarre   \n",
       "117704   Sedona Trace Health & Wellness       8324 Cameron Rd       Austin   \n",
       "24434              Brazos Manufacturing          7173 CR 1205    Rio Vista   \n",
       "884236                    Skyline Homes       99 Horseshoe Rd        Leola   \n",
       "884885                    Skyline Homes       99 Horseshoe Rd        Leola   \n",
       "884886                    Skyline Homes       99 Horseshoe Rd        Leola   \n",
       "884889                    Skyline Homes       99 Horseshoe Rd        Leola   \n",
       "884893                    Skyline Homes       99 Horseshoe Rd        Leola   \n",
       "884895                    Skyline Homes       99 Horseshoe Rd        Leola   \n",
       "884897                    Skyline Homes       99 Horseshoe Rd        Leola   \n",
       "884898                    Skyline Homes       99 Horseshoe Rd        Leola   \n",
       "884899                    Skyline Homes       99 Horseshoe Rd        Leola   \n",
       "884901                    Skyline Homes       99 Horseshoe Rd        Leola   \n",
       "884903                    Skyline Homes       99 Horseshoe Rd        Leola   \n",
       "884986                    Skyline Homes       99 Horseshoe Rd        Leola   \n",
       "884987                    Skyline Homes       99 Horseshoe Rd        Leola   \n",
       "884988                    Skyline Homes       99 Horseshoe Rd        Leola   \n",
       "884989                    Skyline Homes       99 Horseshoe Rd        Leola   \n",
       "884991                    Skyline Homes       99 Horseshoe Rd        Leola   \n",
       "884992                    Skyline Homes       99 Horseshoe Rd        Leola   \n",
       "884993                    Skyline Homes       99 Horseshoe Rd        Leola   \n",
       "\n",
       "               state zip_code naics_code naics_year  \\\n",
       "id                                                    \n",
       "732211    California    93454     623110       2022   \n",
       "732336    California    93454     623110       2022   \n",
       "782869    California    93454     623110       2022   \n",
       "40311        Florida    32566     721110       2022   \n",
       "40329        Florida    32566     721110       2022   \n",
       "40367        Florida    32566     721110       2022   \n",
       "117704         Texas    78754     623110       2022   \n",
       "24434          Texas    76033     332313       2022   \n",
       "884236  Pennsylvania    17540     321991       2022   \n",
       "884885  Pennsylvania    17540     321991       2022   \n",
       "884886  Pennsylvania    17540     321991       2022   \n",
       "884889  Pennsylvania    17540     321991       2022   \n",
       "884893  Pennsylvania    17540     321991       2022   \n",
       "884895  Pennsylvania    17540     321991       2022   \n",
       "884897  Pennsylvania    17540     321991       2022   \n",
       "884898  Pennsylvania    17540     321991       2022   \n",
       "884899  Pennsylvania    17540     321991       2022   \n",
       "884901  Pennsylvania    17540     321991       2022   \n",
       "884903  Pennsylvania    17540     321991       2022   \n",
       "884986  Pennsylvania    17540     321991       2022   \n",
       "884987  Pennsylvania    17540     321991       2022   \n",
       "884988  Pennsylvania    17540     321991       2022   \n",
       "884989  Pennsylvania    17540     321991       2022   \n",
       "884991  Pennsylvania    17540     321991       2022   \n",
       "884992  Pennsylvania    17540     321991       2022   \n",
       "884993  Pennsylvania    17540     321991       2022   \n",
       "\n",
       "                                     industry_description  \\\n",
       "id                                                          \n",
       "732211  Convalescent homes or convalescent hospitals (...   \n",
       "732336  Convalescent homes or convalescent hospitals (...   \n",
       "782869  Convalescent homes or convalescent hospitals (...   \n",
       "40311                     Hotels, resort, without casinos   \n",
       "40329                     Hotels, resort, without casinos   \n",
       "40367                     Hotels, resort, without casinos   \n",
       "117704                                      Nursing homes   \n",
       "24434   Plate work (e.g., bending, cutting, punching, ...   \n",
       "884236          Manufactured (mobile) homes manufacturing   \n",
       "884885          Manufactured (mobile) homes manufacturing   \n",
       "884886          Manufactured (mobile) homes manufacturing   \n",
       "884889          Manufactured (mobile) homes manufacturing   \n",
       "884893          Manufactured (mobile) homes manufacturing   \n",
       "884895          Manufactured (mobile) homes manufacturing   \n",
       "884897          Manufactured (mobile) homes manufacturing   \n",
       "884898          Manufactured (mobile) homes manufacturing   \n",
       "884899          Manufactured (mobile) homes manufacturing   \n",
       "884901          Manufactured (mobile) homes manufacturing   \n",
       "884903          Manufactured (mobile) homes manufacturing   \n",
       "884986          Manufactured (mobile) homes manufacturing   \n",
       "884987          Manufactured (mobile) homes manufacturing   \n",
       "884988          Manufactured (mobile) homes manufacturing   \n",
       "884989          Manufactured (mobile) homes manufacturing   \n",
       "884991          Manufactured (mobile) homes manufacturing   \n",
       "884992          Manufactured (mobile) homes manufacturing   \n",
       "884993          Manufactured (mobile) homes manufacturing   \n",
       "\n",
       "             establishment_type     size  annual_average_employees  \\\n",
       "id                                                                   \n",
       "732211         Private industry  100-249                   1484167   \n",
       "732336         Private industry  100-249                   1484167   \n",
       "782869         Private industry  100-249                   1484167   \n",
       "40311          Private industry  100-249                       100   \n",
       "40329          Private industry  100-249                       100   \n",
       "40367          Private industry  100-249                       100   \n",
       "117704  State government entity   20-249                     12375   \n",
       "24434          Private industry    20-99                        83   \n",
       "884236         Private industry  100-249                       150   \n",
       "884885         Private industry  100-249                       150   \n",
       "884886         Private industry  100-249                       150   \n",
       "884889         Private industry  100-249                       150   \n",
       "884893         Private industry  100-249                       150   \n",
       "884895         Private industry  100-249                       150   \n",
       "884897         Private industry  100-249                       150   \n",
       "884898         Private industry  100-249                       150   \n",
       "884899         Private industry  100-249                       150   \n",
       "884901         Private industry  100-249                       150   \n",
       "884903         Private industry  100-249                       150   \n",
       "884986         Private industry  100-249                       150   \n",
       "884987         Private industry  100-249                       150   \n",
       "884988         Private industry  100-249                       150   \n",
       "884989         Private industry  100-249                       150   \n",
       "884991         Private industry  100-249                       150   \n",
       "884992         Private industry  100-249                       150   \n",
       "884993         Private industry  100-249                       150   \n",
       "\n",
       "        total_hours_worked case_number                   job_description  \\\n",
       "id                                                                         \n",
       "732211          2119008576           1                               CNA   \n",
       "732336          2119008576           2                               CNA   \n",
       "782869          2119008576           3  Occupational Therapist Assistant   \n",
       "40311           2595152024           1                         Prep Cook   \n",
       "40329           2595152024           2                       Housekeeper   \n",
       "40367           2595152024           3                          Houseman   \n",
       "117704          2173658818          01                           Thearpy   \n",
       "24434          13833831664     1999963       Director of Quality Control   \n",
       "884236          2960260000           1                 Production Worker   \n",
       "884885          2960260000           2                 Production Worker   \n",
       "884886          2960260000           4                 Production Worker   \n",
       "884889          2960260000           5                 Production Worker   \n",
       "884893          2960260000           6                 Production Worker   \n",
       "884895          2960260000           7                 Production Worker   \n",
       "884897          2960260000           8                 Production Worker   \n",
       "884898          2960260000           9                 Production Worker   \n",
       "884899          2960260000          10                 Production Worker   \n",
       "884901          2960260000          11                 Production Worker   \n",
       "884903          2960260000          12                 Production Worker   \n",
       "884986          2960260000          13                 Production Worker   \n",
       "884987          2960260000          14                 Production Worker   \n",
       "884988          2960260000          15                 Production Worker   \n",
       "884989          2960260000          16                 Production Worker   \n",
       "884991          2960260000          18                   Service Manager   \n",
       "884992          2960260000          19                 Production Worker   \n",
       "884993          2960260000          20                         Receiving   \n",
       "\n",
       "       soc_code                                    soc_description  \\\n",
       "id                                                                   \n",
       "732211  31-1131                                 Nursing Assistants   \n",
       "732336  31-1131                                 Nursing Assistants   \n",
       "782869  31-2011                    Occupational Therapy Assistants   \n",
       "40311   35-2014                                  Cooks, Restaurant   \n",
       "40329   37-2012                    Maids and Housekeeping Cleaners   \n",
       "40367   37-2011  Janitors and Cleaners, Except Maids and Housek...   \n",
       "117704  29-1129                              Therapists, All Other   \n",
       "24434   11-3051                     Industrial Production Managers   \n",
       "884236  00-0000                                      Not yet coded   \n",
       "884885  00-0000                                      Not yet coded   \n",
       "884886  00-0000                                      Not yet coded   \n",
       "884889  00-0000                                      Not yet coded   \n",
       "884893  00-0000                                      Not yet coded   \n",
       "884895  00-0000                                      Not yet coded   \n",
       "884897  00-0000                                      Not yet coded   \n",
       "884898  00-0000                                      Not yet coded   \n",
       "884899  00-0000                                      Not yet coded   \n",
       "884901  00-0000                                      Not yet coded   \n",
       "884903  00-0000                                      Not yet coded   \n",
       "884986  00-0000                                      Not yet coded   \n",
       "884987  00-0000                                      Not yet coded   \n",
       "884988  00-0000                                      Not yet coded   \n",
       "884989  00-0000                                      Not yet coded   \n",
       "884991  00-0000                                      Not yet coded   \n",
       "884992  00-0000                                      Not yet coded   \n",
       "884993  00-0000                                      Not yet coded   \n",
       "\n",
       "        soc_reviewed  soc_probability date_of_incident  \\\n",
       "id                                                       \n",
       "732211      Reviewed         0.999999       2023-01-18   \n",
       "732336      Reviewed         0.999999       2023-06-28   \n",
       "782869  Not reviewed         0.885697       2023-10-25   \n",
       "40311       Reviewed         0.999840       2023-01-12   \n",
       "40329       Reviewed         0.999960       2023-06-20   \n",
       "40367       Reviewed         0.998079       2023-07-20   \n",
       "117704  Not reviewed         0.906733       2023-04-06   \n",
       "24434   Not reviewed         0.999999       2023-01-30   \n",
       "884236  Not reviewed         0.000000       2023-01-03   \n",
       "884885  Not reviewed         0.000000       2023-01-16   \n",
       "884886  Not reviewed         0.000000       2023-02-01   \n",
       "884889  Not reviewed         0.000000       2023-02-27   \n",
       "884893  Not reviewed         0.000000       2023-03-09   \n",
       "884895  Not reviewed         0.000000       2023-03-15   \n",
       "884897  Not reviewed         0.000000       2023-03-22   \n",
       "884898  Not reviewed         0.000000       2023-04-12   \n",
       "884899  Not reviewed         0.000000       2023-04-20   \n",
       "884901  Not reviewed         0.000000       2023-04-26   \n",
       "884903  Not reviewed         0.000000       2023-04-28   \n",
       "884986  Not reviewed         0.000000       2023-04-27   \n",
       "884987  Not reviewed         0.000000       2023-05-01   \n",
       "884988  Not reviewed         0.000000       2023-06-12   \n",
       "884989  Not reviewed         0.000000       2023-05-19   \n",
       "884991  Not reviewed         0.000000       2023-07-12   \n",
       "884992  Not reviewed         0.000000       2023-08-22   \n",
       "884993  Not reviewed         0.000000       2023-08-31   \n",
       "\n",
       "                   incident_outcome  dafw_num_away  djtr_num_tr  \\\n",
       "id                                                                \n",
       "732211  Job transfer or restriction              0           15   \n",
       "732336  Job transfer or restriction              0          120   \n",
       "782869  Job transfer or restriction              0           56   \n",
       "40311    Days away from work (DAFW)             49            0   \n",
       "40329    Days away from work (DAFW)             14            0   \n",
       "40367    Days away from work (DAFW)              1            0   \n",
       "117704  Job transfer or restriction              0            4   \n",
       "24434    Days away from work (DAFW)             90            0   \n",
       "884236   Days away from work (DAFW)            362            0   \n",
       "884885  Job transfer or restriction              0           10   \n",
       "884886  Job transfer or restriction              0            2   \n",
       "884889   Days away from work (DAFW)              1            2   \n",
       "884893  Job transfer or restriction              0           60   \n",
       "884895        Other recordable case              0            0   \n",
       "884897   Days away from work (DAFW)              1            0   \n",
       "884898  Job transfer or restriction              0            2   \n",
       "884899   Days away from work (DAFW)              1            0   \n",
       "884901   Days away from work (DAFW)              9            0   \n",
       "884903   Days away from work (DAFW)              1            0   \n",
       "884986   Days away from work (DAFW)              2            0   \n",
       "884987        Other recordable case              0            0   \n",
       "884988        Other recordable case              0            0   \n",
       "884989        Other recordable case              0            0   \n",
       "884991        Other recordable case              0            0   \n",
       "884992  Job transfer or restriction              0            5   \n",
       "884993        Other recordable case              0            0   \n",
       "\n",
       "       type_of_incident   time_started_work    time_of_incident time_unknown  \\\n",
       "id                                                                             \n",
       "732211           Injury 1900-01-01 15:00:00 1900-01-01 21:00:00           No   \n",
       "732336           Injury 1900-01-01 23:00:00 1900-01-01 05:45:00           No   \n",
       "782869           Injury 1900-01-01 08:00:00 1900-01-01 09:35:00           No   \n",
       "40311            Injury 1900-01-01 05:00:00 1900-01-01 10:00:00           No   \n",
       "40329            Injury 1900-01-01 09:00:00 1900-01-01 12:00:00           No   \n",
       "40367            Injury 1900-01-01 09:00:00 1900-01-01 12:00:00           No   \n",
       "117704           Injury 1900-01-01 08:00:00 1900-01-01 09:02:00           No   \n",
       "24434            Injury 1900-01-01 06:00:00 1900-01-01 09:00:00           No   \n",
       "884236           Injury 1900-01-01 07:00:00                 NaT          Yes   \n",
       "884885           Injury 1900-01-01 07:00:00                 NaT          Yes   \n",
       "884886           Injury 1900-01-01 07:00:00 1900-01-01 10:30:00           No   \n",
       "884889           Injury 1900-01-01 07:00:00                 NaT          Yes   \n",
       "884893           Injury 1900-01-01 07:00:00 1900-01-01 07:30:00           No   \n",
       "884895           Injury 1900-01-01 07:00:00 1900-01-01 14:30:00           No   \n",
       "884897           Injury 1900-01-01 07:00:00                 NaT          Yes   \n",
       "884898           Injury 1900-01-01 07:00:00 1900-01-01 07:40:00           No   \n",
       "884899           Injury 1900-01-01 07:00:00                 NaT          Yes   \n",
       "884901        Poisoning 1900-01-01 06:30:00                 NaT          Yes   \n",
       "884903           Injury 1900-01-01 07:00:00                 NaT          Yes   \n",
       "884986           Injury 1900-01-01 07:00:00                 NaT          Yes   \n",
       "884987           Injury 1900-01-01 07:00:00 1900-01-01 10:45:00           No   \n",
       "884988           Injury 1900-01-01 06:00:00 1900-01-01 16:00:00           No   \n",
       "884989           Injury 1900-01-01 07:00:00                 NaT          Yes   \n",
       "884991           Injury 1900-01-01 07:45:00 1900-01-01 10:45:00           No   \n",
       "884992           Injury 1900-01-01 07:00:00 1900-01-01 08:45:00           No   \n",
       "884993           Injury 1900-01-01 07:00:00 1900-01-01 10:30:00           No   \n",
       "\n",
       "       date_of_death   created_timestamp  \n",
       "id                                        \n",
       "732211           NaT 2024-03-02 04:02:00  \n",
       "732336           NaT 2024-03-02 04:09:00  \n",
       "782869           NaT 2024-03-04 22:40:00  \n",
       "40311            NaT 2024-01-18 20:01:00  \n",
       "40329            NaT 2024-01-18 20:03:00  \n",
       "40367            NaT 2024-01-18 20:06:00  \n",
       "117704           NaT 2024-01-31 22:30:00  \n",
       "24434            NaT 2024-01-12 20:27:00  \n",
       "884236           NaT 2024-04-11 17:41:00  \n",
       "884885           NaT 2024-04-16 19:49:00  \n",
       "884886           NaT 2024-04-16 19:59:00  \n",
       "884889           NaT 2024-04-16 20:04:00  \n",
       "884893           NaT 2024-04-16 20:16:00  \n",
       "884895           NaT 2024-04-16 20:22:00  \n",
       "884897           NaT 2024-04-16 20:26:00  \n",
       "884898           NaT 2024-04-16 20:30:00  \n",
       "884899           NaT 2024-04-16 20:33:00  \n",
       "884901           NaT 2024-04-16 20:38:00  \n",
       "884903           NaT 2024-04-16 20:44:00  \n",
       "884986           NaT 2024-04-17 13:53:00  \n",
       "884987           NaT 2024-04-17 13:59:00  \n",
       "884988           NaT 2024-04-17 14:05:00  \n",
       "884989           NaT 2024-04-17 14:09:00  \n",
       "884991           NaT 2024-04-17 14:14:00  \n",
       "884992           NaT 2024-04-17 14:17:00  \n",
       "884993           NaT 2024-04-17 14:21:00  "
      ]
     },
     "execution_count": 23,
     "metadata": {},
     "output_type": "execute_result"
    }
   ],
   "source": [
    "df_preproc.query(\"total_hours_worked > 2000000000\")"
   ]
  },
  {
   "cell_type": "code",
   "execution_count": 24,
   "metadata": {},
   "outputs": [
    {
     "data": {
      "text/html": [
       "<div>\n",
       "<style scoped>\n",
       "    .dataframe tbody tr th:only-of-type {\n",
       "        vertical-align: middle;\n",
       "    }\n",
       "\n",
       "    .dataframe tbody tr th {\n",
       "        vertical-align: top;\n",
       "    }\n",
       "\n",
       "    .dataframe thead th {\n",
       "        text-align: right;\n",
       "    }\n",
       "</style>\n",
       "<table border=\"1\" class=\"dataframe\">\n",
       "  <thead>\n",
       "    <tr style=\"text-align: right;\">\n",
       "      <th></th>\n",
       "      <th>establishment_id</th>\n",
       "      <th>establishment_name</th>\n",
       "      <th>ein</th>\n",
       "      <th>company_name</th>\n",
       "      <th>street_address</th>\n",
       "      <th>city</th>\n",
       "      <th>state</th>\n",
       "      <th>zip_code</th>\n",
       "      <th>naics_code</th>\n",
       "      <th>naics_year</th>\n",
       "      <th>industry_description</th>\n",
       "      <th>establishment_type</th>\n",
       "      <th>size</th>\n",
       "      <th>annual_average_employees</th>\n",
       "      <th>total_hours_worked</th>\n",
       "      <th>case_number</th>\n",
       "      <th>job_description</th>\n",
       "      <th>soc_code</th>\n",
       "      <th>soc_description</th>\n",
       "      <th>soc_reviewed</th>\n",
       "      <th>soc_probability</th>\n",
       "      <th>date_of_incident</th>\n",
       "      <th>incident_outcome</th>\n",
       "      <th>dafw_num_away</th>\n",
       "      <th>djtr_num_tr</th>\n",
       "      <th>type_of_incident</th>\n",
       "      <th>time_started_work</th>\n",
       "      <th>time_of_incident</th>\n",
       "      <th>time_unknown</th>\n",
       "      <th>date_of_death</th>\n",
       "      <th>created_timestamp</th>\n",
       "      <th>hours_employee_ratio</th>\n",
       "    </tr>\n",
       "    <tr>\n",
       "      <th>id</th>\n",
       "      <th></th>\n",
       "      <th></th>\n",
       "      <th></th>\n",
       "      <th></th>\n",
       "      <th></th>\n",
       "      <th></th>\n",
       "      <th></th>\n",
       "      <th></th>\n",
       "      <th></th>\n",
       "      <th></th>\n",
       "      <th></th>\n",
       "      <th></th>\n",
       "      <th></th>\n",
       "      <th></th>\n",
       "      <th></th>\n",
       "      <th></th>\n",
       "      <th></th>\n",
       "      <th></th>\n",
       "      <th></th>\n",
       "      <th></th>\n",
       "      <th></th>\n",
       "      <th></th>\n",
       "      <th></th>\n",
       "      <th></th>\n",
       "      <th></th>\n",
       "      <th></th>\n",
       "      <th></th>\n",
       "      <th></th>\n",
       "      <th></th>\n",
       "      <th></th>\n",
       "      <th></th>\n",
       "      <th></th>\n",
       "    </tr>\n",
       "  </thead>\n",
       "  <tbody>\n",
       "    <tr>\n",
       "      <th>442419</th>\n",
       "      <td>997472</td>\n",
       "      <td>PINNACLE DELIVERY LLC</td>\n",
       "      <td>850584177</td>\n",
       "      <td>Pinnacle Delivery LLC</td>\n",
       "      <td>1025 Phar Lap Pl</td>\n",
       "      <td>Cary</td>\n",
       "      <td>North Carolina</td>\n",
       "      <td>27519</td>\n",
       "      <td>492210</td>\n",
       "      <td>2022</td>\n",
       "      <td>Local Messengers and Local Delivery</td>\n",
       "      <td>Private industry</td>\n",
       "      <td>20-99</td>\n",
       "      <td>57</td>\n",
       "      <td>0</td>\n",
       "      <td>6</td>\n",
       "      <td>Delivery Associate</td>\n",
       "      <td>43-5021</td>\n",
       "      <td>Couriers and Messengers</td>\n",
       "      <td>Reviewed</td>\n",
       "      <td>0.950107</td>\n",
       "      <td>2023-08-23</td>\n",
       "      <td>Other recordable case</td>\n",
       "      <td>0</td>\n",
       "      <td>0</td>\n",
       "      <td>Injury</td>\n",
       "      <td>1900-01-01 10:30:00</td>\n",
       "      <td>1900-01-01 14:45:00</td>\n",
       "      <td>No</td>\n",
       "      <td>NaT</td>\n",
       "      <td>2024-02-26 19:12:00</td>\n",
       "      <td>0.0</td>\n",
       "    </tr>\n",
       "    <tr>\n",
       "      <th>648922</th>\n",
       "      <td>1198634</td>\n",
       "      <td>Cadence Delivery</td>\n",
       "      <td>843067827</td>\n",
       "      <td>Cadence Delivery LLC</td>\n",
       "      <td>1911 Bent Creek Way</td>\n",
       "      <td>Mansfield</td>\n",
       "      <td>Texas</td>\n",
       "      <td>76063</td>\n",
       "      <td>492110</td>\n",
       "      <td>2022</td>\n",
       "      <td>Couriers and Express Delivery Services</td>\n",
       "      <td>Private industry</td>\n",
       "      <td>20-99</td>\n",
       "      <td>70</td>\n",
       "      <td>0</td>\n",
       "      <td>6</td>\n",
       "      <td>Delivery Associate</td>\n",
       "      <td>43-5021</td>\n",
       "      <td>Couriers and Messengers</td>\n",
       "      <td>Reviewed</td>\n",
       "      <td>0.950107</td>\n",
       "      <td>2023-03-29</td>\n",
       "      <td>Days away from work (DAFW)</td>\n",
       "      <td>106</td>\n",
       "      <td>0</td>\n",
       "      <td>Injury</td>\n",
       "      <td>1900-01-01 09:30:00</td>\n",
       "      <td>NaT</td>\n",
       "      <td>Yes</td>\n",
       "      <td>NaT</td>\n",
       "      <td>2024-03-01 04:32:00</td>\n",
       "      <td>0.0</td>\n",
       "    </tr>\n",
       "    <tr>\n",
       "      <th>648921</th>\n",
       "      <td>1198634</td>\n",
       "      <td>Cadence Delivery</td>\n",
       "      <td>843067827</td>\n",
       "      <td>Cadence Delivery LLC</td>\n",
       "      <td>1911 Bent Creek Way</td>\n",
       "      <td>Mansfield</td>\n",
       "      <td>Texas</td>\n",
       "      <td>76063</td>\n",
       "      <td>492110</td>\n",
       "      <td>2022</td>\n",
       "      <td>Couriers and Express Delivery Services</td>\n",
       "      <td>Private industry</td>\n",
       "      <td>20-99</td>\n",
       "      <td>70</td>\n",
       "      <td>0</td>\n",
       "      <td>9</td>\n",
       "      <td>Delivery Associate</td>\n",
       "      <td>43-5021</td>\n",
       "      <td>Couriers and Messengers</td>\n",
       "      <td>Reviewed</td>\n",
       "      <td>0.950107</td>\n",
       "      <td>2023-04-14</td>\n",
       "      <td>Job transfer or restriction</td>\n",
       "      <td>0</td>\n",
       "      <td>140</td>\n",
       "      <td>Injury</td>\n",
       "      <td>1900-01-01 09:00:00</td>\n",
       "      <td>NaT</td>\n",
       "      <td>Yes</td>\n",
       "      <td>NaT</td>\n",
       "      <td>2024-03-01 04:32:00</td>\n",
       "      <td>0.0</td>\n",
       "    </tr>\n",
       "    <tr>\n",
       "      <th>648920</th>\n",
       "      <td>1198634</td>\n",
       "      <td>Cadence Delivery</td>\n",
       "      <td>843067827</td>\n",
       "      <td>Cadence Delivery LLC</td>\n",
       "      <td>1911 Bent Creek Way</td>\n",
       "      <td>Mansfield</td>\n",
       "      <td>Texas</td>\n",
       "      <td>76063</td>\n",
       "      <td>492110</td>\n",
       "      <td>2022</td>\n",
       "      <td>Couriers and Express Delivery Services</td>\n",
       "      <td>Private industry</td>\n",
       "      <td>20-99</td>\n",
       "      <td>70</td>\n",
       "      <td>0</td>\n",
       "      <td>10</td>\n",
       "      <td>Delivery Associate</td>\n",
       "      <td>43-5021</td>\n",
       "      <td>Couriers and Messengers</td>\n",
       "      <td>Reviewed</td>\n",
       "      <td>0.950107</td>\n",
       "      <td>2023-04-26</td>\n",
       "      <td>Days away from work (DAFW)</td>\n",
       "      <td>45</td>\n",
       "      <td>0</td>\n",
       "      <td>Injury</td>\n",
       "      <td>1900-01-01 09:30:00</td>\n",
       "      <td>NaT</td>\n",
       "      <td>Yes</td>\n",
       "      <td>NaT</td>\n",
       "      <td>2024-03-01 04:32:00</td>\n",
       "      <td>0.0</td>\n",
       "    </tr>\n",
       "    <tr>\n",
       "      <th>648919</th>\n",
       "      <td>1198634</td>\n",
       "      <td>Cadence Delivery</td>\n",
       "      <td>843067827</td>\n",
       "      <td>Cadence Delivery LLC</td>\n",
       "      <td>1911 Bent Creek Way</td>\n",
       "      <td>Mansfield</td>\n",
       "      <td>Texas</td>\n",
       "      <td>76063</td>\n",
       "      <td>492110</td>\n",
       "      <td>2022</td>\n",
       "      <td>Couriers and Express Delivery Services</td>\n",
       "      <td>Private industry</td>\n",
       "      <td>20-99</td>\n",
       "      <td>70</td>\n",
       "      <td>0</td>\n",
       "      <td>12</td>\n",
       "      <td>Delivery Associate</td>\n",
       "      <td>43-5021</td>\n",
       "      <td>Couriers and Messengers</td>\n",
       "      <td>Reviewed</td>\n",
       "      <td>0.950107</td>\n",
       "      <td>2023-05-10</td>\n",
       "      <td>Days away from work (DAFW)</td>\n",
       "      <td>178</td>\n",
       "      <td>0</td>\n",
       "      <td>Injury</td>\n",
       "      <td>1900-01-01 09:00:00</td>\n",
       "      <td>NaT</td>\n",
       "      <td>Yes</td>\n",
       "      <td>NaT</td>\n",
       "      <td>2024-03-01 04:32:00</td>\n",
       "      <td>0.0</td>\n",
       "    </tr>\n",
       "    <tr>\n",
       "      <th>...</th>\n",
       "      <td>...</td>\n",
       "      <td>...</td>\n",
       "      <td>...</td>\n",
       "      <td>...</td>\n",
       "      <td>...</td>\n",
       "      <td>...</td>\n",
       "      <td>...</td>\n",
       "      <td>...</td>\n",
       "      <td>...</td>\n",
       "      <td>...</td>\n",
       "      <td>...</td>\n",
       "      <td>...</td>\n",
       "      <td>...</td>\n",
       "      <td>...</td>\n",
       "      <td>...</td>\n",
       "      <td>...</td>\n",
       "      <td>...</td>\n",
       "      <td>...</td>\n",
       "      <td>...</td>\n",
       "      <td>...</td>\n",
       "      <td>...</td>\n",
       "      <td>...</td>\n",
       "      <td>...</td>\n",
       "      <td>...</td>\n",
       "      <td>...</td>\n",
       "      <td>...</td>\n",
       "      <td>...</td>\n",
       "      <td>...</td>\n",
       "      <td>...</td>\n",
       "      <td>...</td>\n",
       "      <td>...</td>\n",
       "      <td>...</td>\n",
       "    </tr>\n",
       "    <tr>\n",
       "      <th>406618</th>\n",
       "      <td>1155884</td>\n",
       "      <td>Distribution : Sacramento</td>\n",
       "      <td>No EIN Given</td>\n",
       "      <td>Not provided</td>\n",
       "      <td>1420 W National Drive</td>\n",
       "      <td>Sacramento</td>\n",
       "      <td>California</td>\n",
       "      <td>95834</td>\n",
       "      <td>424460</td>\n",
       "      <td>2022</td>\n",
       "      <td>No description given</td>\n",
       "      <td>Private industry</td>\n",
       "      <td>&lt;20</td>\n",
       "      <td>0</td>\n",
       "      <td>378585</td>\n",
       "      <td>Case 34</td>\n",
       "      <td>Supervisor</td>\n",
       "      <td>11-9199</td>\n",
       "      <td>Managers, All Other</td>\n",
       "      <td>Not reviewed</td>\n",
       "      <td>0.999821</td>\n",
       "      <td>2023-07-25</td>\n",
       "      <td>Days away from work (DAFW)</td>\n",
       "      <td>27</td>\n",
       "      <td>0</td>\n",
       "      <td>Injury</td>\n",
       "      <td>1900-01-01 06:00:00</td>\n",
       "      <td>1900-01-01 06:00:00</td>\n",
       "      <td>No</td>\n",
       "      <td>NaT</td>\n",
       "      <td>2024-02-23 18:31:00</td>\n",
       "      <td>inf</td>\n",
       "    </tr>\n",
       "    <tr>\n",
       "      <th>406619</th>\n",
       "      <td>1155884</td>\n",
       "      <td>Distribution : Sacramento</td>\n",
       "      <td>No EIN Given</td>\n",
       "      <td>Not provided</td>\n",
       "      <td>1420 W National Drive</td>\n",
       "      <td>Sacramento</td>\n",
       "      <td>California</td>\n",
       "      <td>95834</td>\n",
       "      <td>424460</td>\n",
       "      <td>2022</td>\n",
       "      <td>No description given</td>\n",
       "      <td>Private industry</td>\n",
       "      <td>&lt;20</td>\n",
       "      <td>0</td>\n",
       "      <td>378585</td>\n",
       "      <td>Case 32</td>\n",
       "      <td>Production Worker</td>\n",
       "      <td>51-2099</td>\n",
       "      <td>Assemblers and Fabricators, All Other</td>\n",
       "      <td>Not reviewed</td>\n",
       "      <td>0.997395</td>\n",
       "      <td>2023-05-12</td>\n",
       "      <td>Other recordable case</td>\n",
       "      <td>0</td>\n",
       "      <td>0</td>\n",
       "      <td>Injury</td>\n",
       "      <td>1900-01-01 06:30:00</td>\n",
       "      <td>1900-01-01 15:10:00</td>\n",
       "      <td>No</td>\n",
       "      <td>NaT</td>\n",
       "      <td>2024-02-23 18:31:00</td>\n",
       "      <td>inf</td>\n",
       "    </tr>\n",
       "    <tr>\n",
       "      <th>456120</th>\n",
       "      <td>1174303</td>\n",
       "      <td>DESIMONE LOGISTICS LLC</td>\n",
       "      <td>843096586</td>\n",
       "      <td>Not provided</td>\n",
       "      <td>333 GAME DRIVE MUNROE FALLS, OH 44262</td>\n",
       "      <td>MUNROE FALLS</td>\n",
       "      <td>Ohio</td>\n",
       "      <td>44262</td>\n",
       "      <td>492110</td>\n",
       "      <td>2022</td>\n",
       "      <td>No description given</td>\n",
       "      <td>Private industry</td>\n",
       "      <td>&lt;20</td>\n",
       "      <td>0</td>\n",
       "      <td>83886</td>\n",
       "      <td>20</td>\n",
       "      <td>Delivery Associate</td>\n",
       "      <td>43-5021</td>\n",
       "      <td>Couriers and Messengers</td>\n",
       "      <td>Reviewed</td>\n",
       "      <td>0.950107</td>\n",
       "      <td>2023-01-28</td>\n",
       "      <td>Other recordable case</td>\n",
       "      <td>0</td>\n",
       "      <td>0</td>\n",
       "      <td>Injury</td>\n",
       "      <td>1900-01-01 10:00:00</td>\n",
       "      <td>1900-01-01 12:53:00</td>\n",
       "      <td>No</td>\n",
       "      <td>NaT</td>\n",
       "      <td>2024-02-27 01:08:00</td>\n",
       "      <td>inf</td>\n",
       "    </tr>\n",
       "    <tr>\n",
       "      <th>456118</th>\n",
       "      <td>1174303</td>\n",
       "      <td>DESIMONE LOGISTICS LLC</td>\n",
       "      <td>843096586</td>\n",
       "      <td>Not provided</td>\n",
       "      <td>333 GAME DRIVE MUNROE FALLS, OH 44262</td>\n",
       "      <td>MUNROE FALLS</td>\n",
       "      <td>Ohio</td>\n",
       "      <td>44262</td>\n",
       "      <td>492110</td>\n",
       "      <td>2022</td>\n",
       "      <td>No description given</td>\n",
       "      <td>Private industry</td>\n",
       "      <td>&lt;20</td>\n",
       "      <td>0</td>\n",
       "      <td>83886</td>\n",
       "      <td>22</td>\n",
       "      <td>Delivery Associate</td>\n",
       "      <td>43-5021</td>\n",
       "      <td>Couriers and Messengers</td>\n",
       "      <td>Reviewed</td>\n",
       "      <td>0.950107</td>\n",
       "      <td>2023-05-28</td>\n",
       "      <td>Other recordable case</td>\n",
       "      <td>0</td>\n",
       "      <td>0</td>\n",
       "      <td>Injury</td>\n",
       "      <td>1900-01-01 10:00:00</td>\n",
       "      <td>1900-01-01 11:40:00</td>\n",
       "      <td>No</td>\n",
       "      <td>NaT</td>\n",
       "      <td>2024-02-27 01:08:00</td>\n",
       "      <td>inf</td>\n",
       "    </tr>\n",
       "    <tr>\n",
       "      <th>412279</th>\n",
       "      <td>1156059</td>\n",
       "      <td>Pacer Express</td>\n",
       "      <td>842643431</td>\n",
       "      <td>Pacer Express</td>\n",
       "      <td>2325 Calate Rdg</td>\n",
       "      <td>San Antonio</td>\n",
       "      <td>Texas</td>\n",
       "      <td>78253</td>\n",
       "      <td>492110</td>\n",
       "      <td>2022</td>\n",
       "      <td>Package Delivery</td>\n",
       "      <td>Private industry</td>\n",
       "      <td>&lt;20</td>\n",
       "      <td>0</td>\n",
       "      <td>38565</td>\n",
       "      <td>4</td>\n",
       "      <td>Delivery Associate</td>\n",
       "      <td>43-5021</td>\n",
       "      <td>Couriers and Messengers</td>\n",
       "      <td>Reviewed</td>\n",
       "      <td>0.950107</td>\n",
       "      <td>2023-03-23</td>\n",
       "      <td>Days away from work (DAFW)</td>\n",
       "      <td>13</td>\n",
       "      <td>0</td>\n",
       "      <td>Injury</td>\n",
       "      <td>1900-01-01 22:00:00</td>\n",
       "      <td>1900-01-01 18:40:00</td>\n",
       "      <td>No</td>\n",
       "      <td>NaT</td>\n",
       "      <td>2024-02-23 19:05:00</td>\n",
       "      <td>inf</td>\n",
       "    </tr>\n",
       "  </tbody>\n",
       "</table>\n",
       "<p>6663 rows × 32 columns</p>\n",
       "</div>"
      ],
      "text/plain": [
       "       establishment_id         establishment_name           ein  \\\n",
       "id                                                                 \n",
       "442419           997472      PINNACLE DELIVERY LLC     850584177   \n",
       "648922          1198634           Cadence Delivery     843067827   \n",
       "648921          1198634           Cadence Delivery     843067827   \n",
       "648920          1198634           Cadence Delivery     843067827   \n",
       "648919          1198634           Cadence Delivery     843067827   \n",
       "...                 ...                        ...           ...   \n",
       "406618          1155884  Distribution : Sacramento  No EIN Given   \n",
       "406619          1155884  Distribution : Sacramento  No EIN Given   \n",
       "456120          1174303     DESIMONE LOGISTICS LLC     843096586   \n",
       "456118          1174303     DESIMONE LOGISTICS LLC     843096586   \n",
       "412279          1156059              Pacer Express     842643431   \n",
       "\n",
       "                 company_name                         street_address  \\\n",
       "id                                                                     \n",
       "442419  Pinnacle Delivery LLC                       1025 Phar Lap Pl   \n",
       "648922   Cadence Delivery LLC                    1911 Bent Creek Way   \n",
       "648921   Cadence Delivery LLC                    1911 Bent Creek Way   \n",
       "648920   Cadence Delivery LLC                    1911 Bent Creek Way   \n",
       "648919   Cadence Delivery LLC                    1911 Bent Creek Way   \n",
       "...                       ...                                    ...   \n",
       "406618           Not provided                  1420 W National Drive   \n",
       "406619           Not provided                  1420 W National Drive   \n",
       "456120           Not provided  333 GAME DRIVE MUNROE FALLS, OH 44262   \n",
       "456118           Not provided  333 GAME DRIVE MUNROE FALLS, OH 44262   \n",
       "412279          Pacer Express                        2325 Calate Rdg   \n",
       "\n",
       "                city           state zip_code naics_code naics_year  \\\n",
       "id                                                                    \n",
       "442419          Cary  North Carolina    27519     492210       2022   \n",
       "648922     Mansfield           Texas    76063     492110       2022   \n",
       "648921     Mansfield           Texas    76063     492110       2022   \n",
       "648920     Mansfield           Texas    76063     492110       2022   \n",
       "648919     Mansfield           Texas    76063     492110       2022   \n",
       "...              ...             ...      ...        ...        ...   \n",
       "406618    Sacramento      California    95834     424460       2022   \n",
       "406619    Sacramento      California    95834     424460       2022   \n",
       "456120  MUNROE FALLS            Ohio    44262     492110       2022   \n",
       "456118  MUNROE FALLS            Ohio    44262     492110       2022   \n",
       "412279   San Antonio           Texas    78253     492110       2022   \n",
       "\n",
       "                          industry_description establishment_type   size  \\\n",
       "id                                                                         \n",
       "442419     Local Messengers and Local Delivery   Private industry  20-99   \n",
       "648922  Couriers and Express Delivery Services   Private industry  20-99   \n",
       "648921  Couriers and Express Delivery Services   Private industry  20-99   \n",
       "648920  Couriers and Express Delivery Services   Private industry  20-99   \n",
       "648919  Couriers and Express Delivery Services   Private industry  20-99   \n",
       "...                                        ...                ...    ...   \n",
       "406618                    No description given   Private industry    <20   \n",
       "406619                    No description given   Private industry    <20   \n",
       "456120                    No description given   Private industry    <20   \n",
       "456118                    No description given   Private industry    <20   \n",
       "412279                        Package Delivery   Private industry    <20   \n",
       "\n",
       "        annual_average_employees  total_hours_worked case_number  \\\n",
       "id                                                                 \n",
       "442419                        57                   0           6   \n",
       "648922                        70                   0           6   \n",
       "648921                        70                   0           9   \n",
       "648920                        70                   0          10   \n",
       "648919                        70                   0          12   \n",
       "...                          ...                 ...         ...   \n",
       "406618                         0              378585     Case 34   \n",
       "406619                         0              378585     Case 32   \n",
       "456120                         0               83886          20   \n",
       "456118                         0               83886          22   \n",
       "412279                         0               38565           4   \n",
       "\n",
       "           job_description soc_code                        soc_description  \\\n",
       "id                                                                           \n",
       "442419  Delivery Associate  43-5021                Couriers and Messengers   \n",
       "648922  Delivery Associate  43-5021                Couriers and Messengers   \n",
       "648921  Delivery Associate  43-5021                Couriers and Messengers   \n",
       "648920  Delivery Associate  43-5021                Couriers and Messengers   \n",
       "648919  Delivery Associate  43-5021                Couriers and Messengers   \n",
       "...                    ...      ...                                    ...   \n",
       "406618          Supervisor  11-9199                    Managers, All Other   \n",
       "406619   Production Worker  51-2099  Assemblers and Fabricators, All Other   \n",
       "456120  Delivery Associate  43-5021                Couriers and Messengers   \n",
       "456118  Delivery Associate  43-5021                Couriers and Messengers   \n",
       "412279  Delivery Associate  43-5021                Couriers and Messengers   \n",
       "\n",
       "        soc_reviewed  soc_probability date_of_incident  \\\n",
       "id                                                       \n",
       "442419      Reviewed         0.950107       2023-08-23   \n",
       "648922      Reviewed         0.950107       2023-03-29   \n",
       "648921      Reviewed         0.950107       2023-04-14   \n",
       "648920      Reviewed         0.950107       2023-04-26   \n",
       "648919      Reviewed         0.950107       2023-05-10   \n",
       "...              ...              ...              ...   \n",
       "406618  Not reviewed         0.999821       2023-07-25   \n",
       "406619  Not reviewed         0.997395       2023-05-12   \n",
       "456120      Reviewed         0.950107       2023-01-28   \n",
       "456118      Reviewed         0.950107       2023-05-28   \n",
       "412279      Reviewed         0.950107       2023-03-23   \n",
       "\n",
       "                   incident_outcome  dafw_num_away  djtr_num_tr  \\\n",
       "id                                                                \n",
       "442419        Other recordable case              0            0   \n",
       "648922   Days away from work (DAFW)            106            0   \n",
       "648921  Job transfer or restriction              0          140   \n",
       "648920   Days away from work (DAFW)             45            0   \n",
       "648919   Days away from work (DAFW)            178            0   \n",
       "...                             ...            ...          ...   \n",
       "406618   Days away from work (DAFW)             27            0   \n",
       "406619        Other recordable case              0            0   \n",
       "456120        Other recordable case              0            0   \n",
       "456118        Other recordable case              0            0   \n",
       "412279   Days away from work (DAFW)             13            0   \n",
       "\n",
       "       type_of_incident   time_started_work    time_of_incident time_unknown  \\\n",
       "id                                                                             \n",
       "442419           Injury 1900-01-01 10:30:00 1900-01-01 14:45:00           No   \n",
       "648922           Injury 1900-01-01 09:30:00                 NaT          Yes   \n",
       "648921           Injury 1900-01-01 09:00:00                 NaT          Yes   \n",
       "648920           Injury 1900-01-01 09:30:00                 NaT          Yes   \n",
       "648919           Injury 1900-01-01 09:00:00                 NaT          Yes   \n",
       "...                 ...                 ...                 ...          ...   \n",
       "406618           Injury 1900-01-01 06:00:00 1900-01-01 06:00:00           No   \n",
       "406619           Injury 1900-01-01 06:30:00 1900-01-01 15:10:00           No   \n",
       "456120           Injury 1900-01-01 10:00:00 1900-01-01 12:53:00           No   \n",
       "456118           Injury 1900-01-01 10:00:00 1900-01-01 11:40:00           No   \n",
       "412279           Injury 1900-01-01 22:00:00 1900-01-01 18:40:00           No   \n",
       "\n",
       "       date_of_death   created_timestamp  hours_employee_ratio  \n",
       "id                                                              \n",
       "442419           NaT 2024-02-26 19:12:00                   0.0  \n",
       "648922           NaT 2024-03-01 04:32:00                   0.0  \n",
       "648921           NaT 2024-03-01 04:32:00                   0.0  \n",
       "648920           NaT 2024-03-01 04:32:00                   0.0  \n",
       "648919           NaT 2024-03-01 04:32:00                   0.0  \n",
       "...              ...                 ...                   ...  \n",
       "406618           NaT 2024-02-23 18:31:00                   inf  \n",
       "406619           NaT 2024-02-23 18:31:00                   inf  \n",
       "456120           NaT 2024-02-27 01:08:00                   inf  \n",
       "456118           NaT 2024-02-27 01:08:00                   inf  \n",
       "412279           NaT 2024-02-23 19:05:00                   inf  \n",
       "\n",
       "[6663 rows x 32 columns]"
      ]
     },
     "execution_count": 24,
     "metadata": {},
     "output_type": "execute_result"
    }
   ],
   "source": [
    "ratio_df = df_preproc.copy()\n",
    "ratio_df[\"hours_employee_ratio\"] = (\n",
    "    ratio_df[\"total_hours_worked\"] / ratio_df[\"annual_average_employees\"]\n",
    ")\n",
    "ratio_df.query(\"hours_employee_ratio < 1 | hours_employee_ratio > 4000\").sort_values(\n",
    "    \"hours_employee_ratio\"\n",
    ")"
   ]
  },
  {
   "cell_type": "code",
   "execution_count": 25,
   "metadata": {},
   "outputs": [
    {
     "data": {
      "application/vnd.plotly.v1+json": {
       "config": {
        "plotlyServerURL": "https://plot.ly"
       },
       "data": [
        {
         "alignmentgroup": "True",
         "hovertemplate": "Attribute=%{x}<br>Percentage_Missing=%{text}<extra></extra>",
         "legendgroup": "",
         "marker": {
          "color": "#636efa",
          "pattern": {
           "shape": ""
          }
         },
         "name": "",
         "offsetgroup": "",
         "orientation": "v",
         "showlegend": false,
         "text": [
          99.96863219506052,
          12.579838933629548,
          12.476066589689998
         ],
         "textposition": "outside",
         "texttemplate": "%{text:.2f}%",
         "type": "bar",
         "x": [
          "date_of_death",
          "time_started_work",
          "time_of_incident"
         ],
         "xaxis": "x",
         "y": [
          99.96863219506052,
          12.579838933629548,
          12.476066589689998
         ],
         "yaxis": "y"
        }
       ],
       "layout": {
        "barmode": "relative",
        "legend": {
         "tracegroupgap": 0
        },
        "showlegend": false,
        "template": {
         "data": {
          "bar": [
           {
            "error_x": {
             "color": "#2a3f5f"
            },
            "error_y": {
             "color": "#2a3f5f"
            },
            "marker": {
             "line": {
              "color": "#E5ECF6",
              "width": 0.5
             },
             "pattern": {
              "fillmode": "overlay",
              "size": 10,
              "solidity": 0.2
             }
            },
            "type": "bar"
           }
          ],
          "barpolar": [
           {
            "marker": {
             "line": {
              "color": "#E5ECF6",
              "width": 0.5
             },
             "pattern": {
              "fillmode": "overlay",
              "size": 10,
              "solidity": 0.2
             }
            },
            "type": "barpolar"
           }
          ],
          "carpet": [
           {
            "aaxis": {
             "endlinecolor": "#2a3f5f",
             "gridcolor": "white",
             "linecolor": "white",
             "minorgridcolor": "white",
             "startlinecolor": "#2a3f5f"
            },
            "baxis": {
             "endlinecolor": "#2a3f5f",
             "gridcolor": "white",
             "linecolor": "white",
             "minorgridcolor": "white",
             "startlinecolor": "#2a3f5f"
            },
            "type": "carpet"
           }
          ],
          "choropleth": [
           {
            "colorbar": {
             "outlinewidth": 0,
             "ticks": ""
            },
            "type": "choropleth"
           }
          ],
          "contour": [
           {
            "colorbar": {
             "outlinewidth": 0,
             "ticks": ""
            },
            "colorscale": [
             [
              0,
              "#0d0887"
             ],
             [
              0.1111111111111111,
              "#46039f"
             ],
             [
              0.2222222222222222,
              "#7201a8"
             ],
             [
              0.3333333333333333,
              "#9c179e"
             ],
             [
              0.4444444444444444,
              "#bd3786"
             ],
             [
              0.5555555555555556,
              "#d8576b"
             ],
             [
              0.6666666666666666,
              "#ed7953"
             ],
             [
              0.7777777777777778,
              "#fb9f3a"
             ],
             [
              0.8888888888888888,
              "#fdca26"
             ],
             [
              1,
              "#f0f921"
             ]
            ],
            "type": "contour"
           }
          ],
          "contourcarpet": [
           {
            "colorbar": {
             "outlinewidth": 0,
             "ticks": ""
            },
            "type": "contourcarpet"
           }
          ],
          "heatmap": [
           {
            "colorbar": {
             "outlinewidth": 0,
             "ticks": ""
            },
            "colorscale": [
             [
              0,
              "#0d0887"
             ],
             [
              0.1111111111111111,
              "#46039f"
             ],
             [
              0.2222222222222222,
              "#7201a8"
             ],
             [
              0.3333333333333333,
              "#9c179e"
             ],
             [
              0.4444444444444444,
              "#bd3786"
             ],
             [
              0.5555555555555556,
              "#d8576b"
             ],
             [
              0.6666666666666666,
              "#ed7953"
             ],
             [
              0.7777777777777778,
              "#fb9f3a"
             ],
             [
              0.8888888888888888,
              "#fdca26"
             ],
             [
              1,
              "#f0f921"
             ]
            ],
            "type": "heatmap"
           }
          ],
          "heatmapgl": [
           {
            "colorbar": {
             "outlinewidth": 0,
             "ticks": ""
            },
            "colorscale": [
             [
              0,
              "#0d0887"
             ],
             [
              0.1111111111111111,
              "#46039f"
             ],
             [
              0.2222222222222222,
              "#7201a8"
             ],
             [
              0.3333333333333333,
              "#9c179e"
             ],
             [
              0.4444444444444444,
              "#bd3786"
             ],
             [
              0.5555555555555556,
              "#d8576b"
             ],
             [
              0.6666666666666666,
              "#ed7953"
             ],
             [
              0.7777777777777778,
              "#fb9f3a"
             ],
             [
              0.8888888888888888,
              "#fdca26"
             ],
             [
              1,
              "#f0f921"
             ]
            ],
            "type": "heatmapgl"
           }
          ],
          "histogram": [
           {
            "marker": {
             "pattern": {
              "fillmode": "overlay",
              "size": 10,
              "solidity": 0.2
             }
            },
            "type": "histogram"
           }
          ],
          "histogram2d": [
           {
            "colorbar": {
             "outlinewidth": 0,
             "ticks": ""
            },
            "colorscale": [
             [
              0,
              "#0d0887"
             ],
             [
              0.1111111111111111,
              "#46039f"
             ],
             [
              0.2222222222222222,
              "#7201a8"
             ],
             [
              0.3333333333333333,
              "#9c179e"
             ],
             [
              0.4444444444444444,
              "#bd3786"
             ],
             [
              0.5555555555555556,
              "#d8576b"
             ],
             [
              0.6666666666666666,
              "#ed7953"
             ],
             [
              0.7777777777777778,
              "#fb9f3a"
             ],
             [
              0.8888888888888888,
              "#fdca26"
             ],
             [
              1,
              "#f0f921"
             ]
            ],
            "type": "histogram2d"
           }
          ],
          "histogram2dcontour": [
           {
            "colorbar": {
             "outlinewidth": 0,
             "ticks": ""
            },
            "colorscale": [
             [
              0,
              "#0d0887"
             ],
             [
              0.1111111111111111,
              "#46039f"
             ],
             [
              0.2222222222222222,
              "#7201a8"
             ],
             [
              0.3333333333333333,
              "#9c179e"
             ],
             [
              0.4444444444444444,
              "#bd3786"
             ],
             [
              0.5555555555555556,
              "#d8576b"
             ],
             [
              0.6666666666666666,
              "#ed7953"
             ],
             [
              0.7777777777777778,
              "#fb9f3a"
             ],
             [
              0.8888888888888888,
              "#fdca26"
             ],
             [
              1,
              "#f0f921"
             ]
            ],
            "type": "histogram2dcontour"
           }
          ],
          "mesh3d": [
           {
            "colorbar": {
             "outlinewidth": 0,
             "ticks": ""
            },
            "type": "mesh3d"
           }
          ],
          "parcoords": [
           {
            "line": {
             "colorbar": {
              "outlinewidth": 0,
              "ticks": ""
             }
            },
            "type": "parcoords"
           }
          ],
          "pie": [
           {
            "automargin": true,
            "type": "pie"
           }
          ],
          "scatter": [
           {
            "fillpattern": {
             "fillmode": "overlay",
             "size": 10,
             "solidity": 0.2
            },
            "type": "scatter"
           }
          ],
          "scatter3d": [
           {
            "line": {
             "colorbar": {
              "outlinewidth": 0,
              "ticks": ""
             }
            },
            "marker": {
             "colorbar": {
              "outlinewidth": 0,
              "ticks": ""
             }
            },
            "type": "scatter3d"
           }
          ],
          "scattercarpet": [
           {
            "marker": {
             "colorbar": {
              "outlinewidth": 0,
              "ticks": ""
             }
            },
            "type": "scattercarpet"
           }
          ],
          "scattergeo": [
           {
            "marker": {
             "colorbar": {
              "outlinewidth": 0,
              "ticks": ""
             }
            },
            "type": "scattergeo"
           }
          ],
          "scattergl": [
           {
            "marker": {
             "colorbar": {
              "outlinewidth": 0,
              "ticks": ""
             }
            },
            "type": "scattergl"
           }
          ],
          "scattermapbox": [
           {
            "marker": {
             "colorbar": {
              "outlinewidth": 0,
              "ticks": ""
             }
            },
            "type": "scattermapbox"
           }
          ],
          "scatterpolar": [
           {
            "marker": {
             "colorbar": {
              "outlinewidth": 0,
              "ticks": ""
             }
            },
            "type": "scatterpolar"
           }
          ],
          "scatterpolargl": [
           {
            "marker": {
             "colorbar": {
              "outlinewidth": 0,
              "ticks": ""
             }
            },
            "type": "scatterpolargl"
           }
          ],
          "scatterternary": [
           {
            "marker": {
             "colorbar": {
              "outlinewidth": 0,
              "ticks": ""
             }
            },
            "type": "scatterternary"
           }
          ],
          "surface": [
           {
            "colorbar": {
             "outlinewidth": 0,
             "ticks": ""
            },
            "colorscale": [
             [
              0,
              "#0d0887"
             ],
             [
              0.1111111111111111,
              "#46039f"
             ],
             [
              0.2222222222222222,
              "#7201a8"
             ],
             [
              0.3333333333333333,
              "#9c179e"
             ],
             [
              0.4444444444444444,
              "#bd3786"
             ],
             [
              0.5555555555555556,
              "#d8576b"
             ],
             [
              0.6666666666666666,
              "#ed7953"
             ],
             [
              0.7777777777777778,
              "#fb9f3a"
             ],
             [
              0.8888888888888888,
              "#fdca26"
             ],
             [
              1,
              "#f0f921"
             ]
            ],
            "type": "surface"
           }
          ],
          "table": [
           {
            "cells": {
             "fill": {
              "color": "#EBF0F8"
             },
             "line": {
              "color": "white"
             }
            },
            "header": {
             "fill": {
              "color": "#C8D4E3"
             },
             "line": {
              "color": "white"
             }
            },
            "type": "table"
           }
          ]
         },
         "layout": {
          "annotationdefaults": {
           "arrowcolor": "#2a3f5f",
           "arrowhead": 0,
           "arrowwidth": 1
          },
          "autotypenumbers": "strict",
          "coloraxis": {
           "colorbar": {
            "outlinewidth": 0,
            "ticks": ""
           }
          },
          "colorscale": {
           "diverging": [
            [
             0,
             "#8e0152"
            ],
            [
             0.1,
             "#c51b7d"
            ],
            [
             0.2,
             "#de77ae"
            ],
            [
             0.3,
             "#f1b6da"
            ],
            [
             0.4,
             "#fde0ef"
            ],
            [
             0.5,
             "#f7f7f7"
            ],
            [
             0.6,
             "#e6f5d0"
            ],
            [
             0.7,
             "#b8e186"
            ],
            [
             0.8,
             "#7fbc41"
            ],
            [
             0.9,
             "#4d9221"
            ],
            [
             1,
             "#276419"
            ]
           ],
           "sequential": [
            [
             0,
             "#0d0887"
            ],
            [
             0.1111111111111111,
             "#46039f"
            ],
            [
             0.2222222222222222,
             "#7201a8"
            ],
            [
             0.3333333333333333,
             "#9c179e"
            ],
            [
             0.4444444444444444,
             "#bd3786"
            ],
            [
             0.5555555555555556,
             "#d8576b"
            ],
            [
             0.6666666666666666,
             "#ed7953"
            ],
            [
             0.7777777777777778,
             "#fb9f3a"
            ],
            [
             0.8888888888888888,
             "#fdca26"
            ],
            [
             1,
             "#f0f921"
            ]
           ],
           "sequentialminus": [
            [
             0,
             "#0d0887"
            ],
            [
             0.1111111111111111,
             "#46039f"
            ],
            [
             0.2222222222222222,
             "#7201a8"
            ],
            [
             0.3333333333333333,
             "#9c179e"
            ],
            [
             0.4444444444444444,
             "#bd3786"
            ],
            [
             0.5555555555555556,
             "#d8576b"
            ],
            [
             0.6666666666666666,
             "#ed7953"
            ],
            [
             0.7777777777777778,
             "#fb9f3a"
            ],
            [
             0.8888888888888888,
             "#fdca26"
            ],
            [
             1,
             "#f0f921"
            ]
           ]
          },
          "colorway": [
           "#636efa",
           "#EF553B",
           "#00cc96",
           "#ab63fa",
           "#FFA15A",
           "#19d3f3",
           "#FF6692",
           "#B6E880",
           "#FF97FF",
           "#FECB52"
          ],
          "font": {
           "color": "#2a3f5f"
          },
          "geo": {
           "bgcolor": "white",
           "lakecolor": "white",
           "landcolor": "#E5ECF6",
           "showlakes": true,
           "showland": true,
           "subunitcolor": "white"
          },
          "hoverlabel": {
           "align": "left"
          },
          "hovermode": "closest",
          "mapbox": {
           "style": "light"
          },
          "paper_bgcolor": "white",
          "plot_bgcolor": "#E5ECF6",
          "polar": {
           "angularaxis": {
            "gridcolor": "white",
            "linecolor": "white",
            "ticks": ""
           },
           "bgcolor": "#E5ECF6",
           "radialaxis": {
            "gridcolor": "white",
            "linecolor": "white",
            "ticks": ""
           }
          },
          "scene": {
           "xaxis": {
            "backgroundcolor": "#E5ECF6",
            "gridcolor": "white",
            "gridwidth": 2,
            "linecolor": "white",
            "showbackground": true,
            "ticks": "",
            "zerolinecolor": "white"
           },
           "yaxis": {
            "backgroundcolor": "#E5ECF6",
            "gridcolor": "white",
            "gridwidth": 2,
            "linecolor": "white",
            "showbackground": true,
            "ticks": "",
            "zerolinecolor": "white"
           },
           "zaxis": {
            "backgroundcolor": "#E5ECF6",
            "gridcolor": "white",
            "gridwidth": 2,
            "linecolor": "white",
            "showbackground": true,
            "ticks": "",
            "zerolinecolor": "white"
           }
          },
          "shapedefaults": {
           "line": {
            "color": "#2a3f5f"
           }
          },
          "ternary": {
           "aaxis": {
            "gridcolor": "white",
            "linecolor": "white",
            "ticks": ""
           },
           "baxis": {
            "gridcolor": "white",
            "linecolor": "white",
            "ticks": ""
           },
           "bgcolor": "#E5ECF6",
           "caxis": {
            "gridcolor": "white",
            "linecolor": "white",
            "ticks": ""
           }
          },
          "title": {
           "x": 0.05
          },
          "xaxis": {
           "automargin": true,
           "gridcolor": "white",
           "linecolor": "white",
           "ticks": "",
           "title": {
            "standoff": 15
           },
           "zerolinecolor": "white",
           "zerolinewidth": 2
          },
          "yaxis": {
           "automargin": true,
           "gridcolor": "white",
           "linecolor": "white",
           "ticks": "",
           "title": {
            "standoff": 15
           },
           "zerolinecolor": "white",
           "zerolinewidth": 2
          }
         }
        },
        "title": {
         "text": "Missing Values Per Attribute (Sorted by Percentage)"
        },
        "uniformtext": {
         "minsize": 8,
         "mode": "hide"
        },
        "xaxis": {
         "anchor": "y",
         "domain": [
          0,
          1
         ],
         "tickangle": 45,
         "title": {
          "text": "Attributes"
         }
        },
        "yaxis": {
         "anchor": "x",
         "domain": [
          0,
          1
         ],
         "title": {
          "text": "Percentage Missing (%)"
         }
        }
       }
      }
     },
     "metadata": {},
     "output_type": "display_data"
    },
    {
     "data": {
      "application/vnd.plotly.v1+json": {
       "config": {
        "plotlyServerURL": "https://plot.ly"
       },
       "data": [
        {
         "alignmentgroup": "True",
         "hovertemplate": "Number of Missing Values=%{x}<br>Number of Rows=%{text}<extra></extra>",
         "legendgroup": "",
         "marker": {
          "color": "#636efa",
          "pattern": {
           "shape": ""
          }
         },
         "name": "",
         "offsetgroup": "",
         "orientation": "v",
         "showlegend": false,
         "text": [
          227,
          717123,
          121387,
          50710
         ],
         "textposition": "outside",
         "texttemplate": "%{text}",
         "type": "bar",
         "x": [
          0,
          1,
          2,
          3
         ],
         "xaxis": "x",
         "y": [
          227,
          717123,
          121387,
          50710
         ],
         "yaxis": "y"
        }
       ],
       "layout": {
        "barmode": "relative",
        "legend": {
         "tracegroupgap": 0
        },
        "showlegend": false,
        "template": {
         "data": {
          "bar": [
           {
            "error_x": {
             "color": "#2a3f5f"
            },
            "error_y": {
             "color": "#2a3f5f"
            },
            "marker": {
             "line": {
              "color": "#E5ECF6",
              "width": 0.5
             },
             "pattern": {
              "fillmode": "overlay",
              "size": 10,
              "solidity": 0.2
             }
            },
            "type": "bar"
           }
          ],
          "barpolar": [
           {
            "marker": {
             "line": {
              "color": "#E5ECF6",
              "width": 0.5
             },
             "pattern": {
              "fillmode": "overlay",
              "size": 10,
              "solidity": 0.2
             }
            },
            "type": "barpolar"
           }
          ],
          "carpet": [
           {
            "aaxis": {
             "endlinecolor": "#2a3f5f",
             "gridcolor": "white",
             "linecolor": "white",
             "minorgridcolor": "white",
             "startlinecolor": "#2a3f5f"
            },
            "baxis": {
             "endlinecolor": "#2a3f5f",
             "gridcolor": "white",
             "linecolor": "white",
             "minorgridcolor": "white",
             "startlinecolor": "#2a3f5f"
            },
            "type": "carpet"
           }
          ],
          "choropleth": [
           {
            "colorbar": {
             "outlinewidth": 0,
             "ticks": ""
            },
            "type": "choropleth"
           }
          ],
          "contour": [
           {
            "colorbar": {
             "outlinewidth": 0,
             "ticks": ""
            },
            "colorscale": [
             [
              0,
              "#0d0887"
             ],
             [
              0.1111111111111111,
              "#46039f"
             ],
             [
              0.2222222222222222,
              "#7201a8"
             ],
             [
              0.3333333333333333,
              "#9c179e"
             ],
             [
              0.4444444444444444,
              "#bd3786"
             ],
             [
              0.5555555555555556,
              "#d8576b"
             ],
             [
              0.6666666666666666,
              "#ed7953"
             ],
             [
              0.7777777777777778,
              "#fb9f3a"
             ],
             [
              0.8888888888888888,
              "#fdca26"
             ],
             [
              1,
              "#f0f921"
             ]
            ],
            "type": "contour"
           }
          ],
          "contourcarpet": [
           {
            "colorbar": {
             "outlinewidth": 0,
             "ticks": ""
            },
            "type": "contourcarpet"
           }
          ],
          "heatmap": [
           {
            "colorbar": {
             "outlinewidth": 0,
             "ticks": ""
            },
            "colorscale": [
             [
              0,
              "#0d0887"
             ],
             [
              0.1111111111111111,
              "#46039f"
             ],
             [
              0.2222222222222222,
              "#7201a8"
             ],
             [
              0.3333333333333333,
              "#9c179e"
             ],
             [
              0.4444444444444444,
              "#bd3786"
             ],
             [
              0.5555555555555556,
              "#d8576b"
             ],
             [
              0.6666666666666666,
              "#ed7953"
             ],
             [
              0.7777777777777778,
              "#fb9f3a"
             ],
             [
              0.8888888888888888,
              "#fdca26"
             ],
             [
              1,
              "#f0f921"
             ]
            ],
            "type": "heatmap"
           }
          ],
          "heatmapgl": [
           {
            "colorbar": {
             "outlinewidth": 0,
             "ticks": ""
            },
            "colorscale": [
             [
              0,
              "#0d0887"
             ],
             [
              0.1111111111111111,
              "#46039f"
             ],
             [
              0.2222222222222222,
              "#7201a8"
             ],
             [
              0.3333333333333333,
              "#9c179e"
             ],
             [
              0.4444444444444444,
              "#bd3786"
             ],
             [
              0.5555555555555556,
              "#d8576b"
             ],
             [
              0.6666666666666666,
              "#ed7953"
             ],
             [
              0.7777777777777778,
              "#fb9f3a"
             ],
             [
              0.8888888888888888,
              "#fdca26"
             ],
             [
              1,
              "#f0f921"
             ]
            ],
            "type": "heatmapgl"
           }
          ],
          "histogram": [
           {
            "marker": {
             "pattern": {
              "fillmode": "overlay",
              "size": 10,
              "solidity": 0.2
             }
            },
            "type": "histogram"
           }
          ],
          "histogram2d": [
           {
            "colorbar": {
             "outlinewidth": 0,
             "ticks": ""
            },
            "colorscale": [
             [
              0,
              "#0d0887"
             ],
             [
              0.1111111111111111,
              "#46039f"
             ],
             [
              0.2222222222222222,
              "#7201a8"
             ],
             [
              0.3333333333333333,
              "#9c179e"
             ],
             [
              0.4444444444444444,
              "#bd3786"
             ],
             [
              0.5555555555555556,
              "#d8576b"
             ],
             [
              0.6666666666666666,
              "#ed7953"
             ],
             [
              0.7777777777777778,
              "#fb9f3a"
             ],
             [
              0.8888888888888888,
              "#fdca26"
             ],
             [
              1,
              "#f0f921"
             ]
            ],
            "type": "histogram2d"
           }
          ],
          "histogram2dcontour": [
           {
            "colorbar": {
             "outlinewidth": 0,
             "ticks": ""
            },
            "colorscale": [
             [
              0,
              "#0d0887"
             ],
             [
              0.1111111111111111,
              "#46039f"
             ],
             [
              0.2222222222222222,
              "#7201a8"
             ],
             [
              0.3333333333333333,
              "#9c179e"
             ],
             [
              0.4444444444444444,
              "#bd3786"
             ],
             [
              0.5555555555555556,
              "#d8576b"
             ],
             [
              0.6666666666666666,
              "#ed7953"
             ],
             [
              0.7777777777777778,
              "#fb9f3a"
             ],
             [
              0.8888888888888888,
              "#fdca26"
             ],
             [
              1,
              "#f0f921"
             ]
            ],
            "type": "histogram2dcontour"
           }
          ],
          "mesh3d": [
           {
            "colorbar": {
             "outlinewidth": 0,
             "ticks": ""
            },
            "type": "mesh3d"
           }
          ],
          "parcoords": [
           {
            "line": {
             "colorbar": {
              "outlinewidth": 0,
              "ticks": ""
             }
            },
            "type": "parcoords"
           }
          ],
          "pie": [
           {
            "automargin": true,
            "type": "pie"
           }
          ],
          "scatter": [
           {
            "fillpattern": {
             "fillmode": "overlay",
             "size": 10,
             "solidity": 0.2
            },
            "type": "scatter"
           }
          ],
          "scatter3d": [
           {
            "line": {
             "colorbar": {
              "outlinewidth": 0,
              "ticks": ""
             }
            },
            "marker": {
             "colorbar": {
              "outlinewidth": 0,
              "ticks": ""
             }
            },
            "type": "scatter3d"
           }
          ],
          "scattercarpet": [
           {
            "marker": {
             "colorbar": {
              "outlinewidth": 0,
              "ticks": ""
             }
            },
            "type": "scattercarpet"
           }
          ],
          "scattergeo": [
           {
            "marker": {
             "colorbar": {
              "outlinewidth": 0,
              "ticks": ""
             }
            },
            "type": "scattergeo"
           }
          ],
          "scattergl": [
           {
            "marker": {
             "colorbar": {
              "outlinewidth": 0,
              "ticks": ""
             }
            },
            "type": "scattergl"
           }
          ],
          "scattermapbox": [
           {
            "marker": {
             "colorbar": {
              "outlinewidth": 0,
              "ticks": ""
             }
            },
            "type": "scattermapbox"
           }
          ],
          "scatterpolar": [
           {
            "marker": {
             "colorbar": {
              "outlinewidth": 0,
              "ticks": ""
             }
            },
            "type": "scatterpolar"
           }
          ],
          "scatterpolargl": [
           {
            "marker": {
             "colorbar": {
              "outlinewidth": 0,
              "ticks": ""
             }
            },
            "type": "scatterpolargl"
           }
          ],
          "scatterternary": [
           {
            "marker": {
             "colorbar": {
              "outlinewidth": 0,
              "ticks": ""
             }
            },
            "type": "scatterternary"
           }
          ],
          "surface": [
           {
            "colorbar": {
             "outlinewidth": 0,
             "ticks": ""
            },
            "colorscale": [
             [
              0,
              "#0d0887"
             ],
             [
              0.1111111111111111,
              "#46039f"
             ],
             [
              0.2222222222222222,
              "#7201a8"
             ],
             [
              0.3333333333333333,
              "#9c179e"
             ],
             [
              0.4444444444444444,
              "#bd3786"
             ],
             [
              0.5555555555555556,
              "#d8576b"
             ],
             [
              0.6666666666666666,
              "#ed7953"
             ],
             [
              0.7777777777777778,
              "#fb9f3a"
             ],
             [
              0.8888888888888888,
              "#fdca26"
             ],
             [
              1,
              "#f0f921"
             ]
            ],
            "type": "surface"
           }
          ],
          "table": [
           {
            "cells": {
             "fill": {
              "color": "#EBF0F8"
             },
             "line": {
              "color": "white"
             }
            },
            "header": {
             "fill": {
              "color": "#C8D4E3"
             },
             "line": {
              "color": "white"
             }
            },
            "type": "table"
           }
          ]
         },
         "layout": {
          "annotationdefaults": {
           "arrowcolor": "#2a3f5f",
           "arrowhead": 0,
           "arrowwidth": 1
          },
          "autotypenumbers": "strict",
          "coloraxis": {
           "colorbar": {
            "outlinewidth": 0,
            "ticks": ""
           }
          },
          "colorscale": {
           "diverging": [
            [
             0,
             "#8e0152"
            ],
            [
             0.1,
             "#c51b7d"
            ],
            [
             0.2,
             "#de77ae"
            ],
            [
             0.3,
             "#f1b6da"
            ],
            [
             0.4,
             "#fde0ef"
            ],
            [
             0.5,
             "#f7f7f7"
            ],
            [
             0.6,
             "#e6f5d0"
            ],
            [
             0.7,
             "#b8e186"
            ],
            [
             0.8,
             "#7fbc41"
            ],
            [
             0.9,
             "#4d9221"
            ],
            [
             1,
             "#276419"
            ]
           ],
           "sequential": [
            [
             0,
             "#0d0887"
            ],
            [
             0.1111111111111111,
             "#46039f"
            ],
            [
             0.2222222222222222,
             "#7201a8"
            ],
            [
             0.3333333333333333,
             "#9c179e"
            ],
            [
             0.4444444444444444,
             "#bd3786"
            ],
            [
             0.5555555555555556,
             "#d8576b"
            ],
            [
             0.6666666666666666,
             "#ed7953"
            ],
            [
             0.7777777777777778,
             "#fb9f3a"
            ],
            [
             0.8888888888888888,
             "#fdca26"
            ],
            [
             1,
             "#f0f921"
            ]
           ],
           "sequentialminus": [
            [
             0,
             "#0d0887"
            ],
            [
             0.1111111111111111,
             "#46039f"
            ],
            [
             0.2222222222222222,
             "#7201a8"
            ],
            [
             0.3333333333333333,
             "#9c179e"
            ],
            [
             0.4444444444444444,
             "#bd3786"
            ],
            [
             0.5555555555555556,
             "#d8576b"
            ],
            [
             0.6666666666666666,
             "#ed7953"
            ],
            [
             0.7777777777777778,
             "#fb9f3a"
            ],
            [
             0.8888888888888888,
             "#fdca26"
            ],
            [
             1,
             "#f0f921"
            ]
           ]
          },
          "colorway": [
           "#636efa",
           "#EF553B",
           "#00cc96",
           "#ab63fa",
           "#FFA15A",
           "#19d3f3",
           "#FF6692",
           "#B6E880",
           "#FF97FF",
           "#FECB52"
          ],
          "font": {
           "color": "#2a3f5f"
          },
          "geo": {
           "bgcolor": "white",
           "lakecolor": "white",
           "landcolor": "#E5ECF6",
           "showlakes": true,
           "showland": true,
           "subunitcolor": "white"
          },
          "hoverlabel": {
           "align": "left"
          },
          "hovermode": "closest",
          "mapbox": {
           "style": "light"
          },
          "paper_bgcolor": "white",
          "plot_bgcolor": "#E5ECF6",
          "polar": {
           "angularaxis": {
            "gridcolor": "white",
            "linecolor": "white",
            "ticks": ""
           },
           "bgcolor": "#E5ECF6",
           "radialaxis": {
            "gridcolor": "white",
            "linecolor": "white",
            "ticks": ""
           }
          },
          "scene": {
           "xaxis": {
            "backgroundcolor": "#E5ECF6",
            "gridcolor": "white",
            "gridwidth": 2,
            "linecolor": "white",
            "showbackground": true,
            "ticks": "",
            "zerolinecolor": "white"
           },
           "yaxis": {
            "backgroundcolor": "#E5ECF6",
            "gridcolor": "white",
            "gridwidth": 2,
            "linecolor": "white",
            "showbackground": true,
            "ticks": "",
            "zerolinecolor": "white"
           },
           "zaxis": {
            "backgroundcolor": "#E5ECF6",
            "gridcolor": "white",
            "gridwidth": 2,
            "linecolor": "white",
            "showbackground": true,
            "ticks": "",
            "zerolinecolor": "white"
           }
          },
          "shapedefaults": {
           "line": {
            "color": "#2a3f5f"
           }
          },
          "ternary": {
           "aaxis": {
            "gridcolor": "white",
            "linecolor": "white",
            "ticks": ""
           },
           "baxis": {
            "gridcolor": "white",
            "linecolor": "white",
            "ticks": ""
           },
           "bgcolor": "#E5ECF6",
           "caxis": {
            "gridcolor": "white",
            "linecolor": "white",
            "ticks": ""
           }
          },
          "title": {
           "x": 0.05
          },
          "xaxis": {
           "automargin": true,
           "gridcolor": "white",
           "linecolor": "white",
           "ticks": "",
           "title": {
            "standoff": 15
           },
           "zerolinecolor": "white",
           "zerolinewidth": 2
          },
          "yaxis": {
           "automargin": true,
           "gridcolor": "white",
           "linecolor": "white",
           "ticks": "",
           "title": {
            "standoff": 15
           },
           "zerolinecolor": "white",
           "zerolinewidth": 2
          }
         }
        },
        "title": {
         "text": "Distribution of Missing Values Per Row"
        },
        "uniformtext": {
         "minsize": 8,
         "mode": "hide"
        },
        "xaxis": {
         "anchor": "y",
         "domain": [
          0,
          1
         ],
         "title": {
          "text": "Number of Missing Values"
         }
        },
        "yaxis": {
         "anchor": "x",
         "domain": [
          0,
          1
         ],
         "title": {
          "text": "Number of Rows"
         }
        }
       }
      }
     },
     "metadata": {},
     "output_type": "display_data"
    },
    {
     "data": {
      "text/plain": [
       "(                   Missing_Count  Percentage_Missing\n",
       " Attribute                                           \n",
       " date_of_death             889168           99.968632\n",
       " time_started_work         111891           12.579839\n",
       " time_of_incident          110968           12.476067,\n",
       "                Row_Count\n",
       " Missing_Count           \n",
       " 0                    227\n",
       " 1                 717123\n",
       " 2                 121387\n",
       " 3                  50710)"
      ]
     },
     "execution_count": 25,
     "metadata": {},
     "output_type": "execute_result"
    }
   ],
   "source": [
    "analyze_and_plot_missing_values(df_preproc)"
   ]
  },
  {
   "cell_type": "markdown",
   "metadata": {},
   "source": [
    "## Exercise 4 – Data (What) Abstraction"
   ]
  },
  {
   "cell_type": "markdown",
   "metadata": {},
   "source": [
    "| id | Variable Name               | Description                                                                                                                                                                        | Data Type         |\n",
    "|----|-----------------------------|------------------------------------------------------------------------------------------------------------------------------------------------------------------------------------|-------------------|\n",
    "| 1  | establishment_id           | Identifier for the establishment.                                                                                                                                                  | string            |\n",
    "| 2  | establishment_name         | The name of the establishment reporting data.                                                                                                                                       | string            |\n",
    "| 3  | ein                        | Employer Identification Number (EIN) is also known as Federal Tax Identification Number. Has 9 digit format. If not given, states “No EIN Given”.                                   | string            |\n",
    "| 4  | company_name               | The name of the company that owns the establishment.                                                                                                                               | string            |\n",
    "| 5  | street_address             | The street address of the establishment. If not given, states “Not provided”.                                                                                                      | string            |\n",
    "| 6  | city                       | The city where the establishment is located.                                                                                                                                       | string            |\n",
    "| 7  | state                      | Full name of the state or territory where the establishment is located.                                                                                                            | category          |\n",
    "| 8  | zip_code                   | The full zip code for the establishment. Can be converted to numbers, but stored as a string for interpretability.                                                                 | string            |\n",
    "| 9  | naics_code                 | The North American Industry Classification System (NAICS) code for the establishment. Data use a 2012, 2017, or 2022 NAICS code.                                                  | string            |\n",
    "| 10 | naics_year                 | The calendar year reflecting the version of NAICS codes used by the establishment [2012, 2017, or 2022]. Invalid NAICS codes are shown as “Invalid NAICS codes”.                   | category          |\n",
    "| 11 | industry_description       | The industry description for the establishment.                                                                                                                                    | string            |\n",
    "| 12 | establishment_type         | Type of establishment: Private industry, State government entity, Local government entity.                                                                                         | category          |\n",
    "| 13 | size                       | The size of the establishment is employer-reported and based on the maximum number of employees who worked there at any point in the year: <20, 20-249, 20-99, 100-249, 250+.      | category          |\n",
    "| 14 | annual_average_employees   | The annual average number of employees at the establishment. Note: This field should not be summed across cases in an establishment.                                               | int32             |\n",
    "| 15 | total_hours_worked         | The total hours worked by all employees at the establishment. Note: This field should not be summed across cases in an establishment.                                              | int64             |\n",
    "| 16 | case_number                | An employer-assigned case number for each unique case (i.e., injured/ill employee).                                                                                                | string            |\n",
    "| 17 | job_description            | The job title of the injured/ill employee.                                                                                                                                          | string            |\n",
    "| 18 | soc_code                   | The 2018 Standard Occupation Code (SOC) assigned by the NIOSH Industry and Occupation Computerized Coding System (NIOCCS) or OSHA.                                                  | string            |\n",
    "| 19 | soc_description            | Text description of the 2018 SOC Code.                                                                                                                                              | string            |\n",
    "| 20 | soc_reviewed               | Indicator variable as to whether the SOC code was manually reviewed before posting: Not reviewed, Reviewed, Not SOC coded.                                                         | category          |\n",
    "| 21 | soc_probability            | The score given by the NIOSH Industry and Occupation Computerized Coding System (NIOCCS) for the expected accuracy of the SOC code. Codes assigned by OSHA are given a score of 5. | float64           |\n",
    "| 22 | date_of_incident           | The date the incident occurred.                                                                                                                                                    | datetime64[ns]    |\n",
    "| 23 | incident_outcome           | The most serious outcome that occurred: Death, Days away from work (DAFW), Job transfer or restriction, Other recordable case.                                                     | category          |\n",
    "| 24 | dafw_num_away              | The number of days away from work the employee required to recover from the incident before returning to work.                                                                      | int16             |\n",
    "| 25 | djtr_num_tr                | The number of days the employee needed to be transferred or reassigned to another job or placed on restricted duty due to the incident.                                             | int16             |\n",
    "| 26 | type_of_incident           | The type of incident that occurred: Injury, Skin disorder, Respiratory condition, Poisoning, Hearing Loss, All other illness.                                                      | category          |\n",
    "| 27 | time_started_work          | The time the affected employee started work prior to the incident.                                                                                                                 | datetime64[ns]    |\n",
    "| 28 | time_of_incident           | The time the incident occurred.                                                                                                                                                    | datetime64[ns]    |\n",
    "| 29 | time_unknown               | Was the time of the incident unknown? Yes, No.                                                                                                                                      | category          |\n",
    "| 30 | date_of_death              | The date the death occurred, if applicable.                                                                                                                                        | datetime64[ns]    |\n",
    "| 31 | created_timestamp          | Timestamp when the record was created.                                                                                                                                              | datetime64[ns]    |"
   ]
  }
 ],
 "metadata": {
  "kernelspec": {
   "display_name": "Python 3",
   "language": "python",
   "name": "python3"
  },
  "language_info": {
   "codemirror_mode": {
    "name": "ipython",
    "version": 3
   },
   "file_extension": ".py",
   "mimetype": "text/x-python",
   "name": "python",
   "nbconvert_exporter": "python",
   "pygments_lexer": "ipython3",
   "version": "3.12.3"
  }
 },
 "nbformat": 4,
 "nbformat_minor": 4
}
