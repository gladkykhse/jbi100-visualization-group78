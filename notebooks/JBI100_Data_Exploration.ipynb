{
 "cells": [
  {
   "cell_type": "markdown",
   "metadata": {},
   "source": [
    "# JBI100 Visualization \n",
    "### Academic year 2024-2025\n",
    "\n",
    "## Incidents and Accidents\n",
    "Data sources:\n",
    "\n",
    "- Work-related Injury and Illness (https://www.osha.gov/Establishment-Specific-Injury-and-Illness-Data)\n"
   ]
  },
  {
   "cell_type": "code",
   "execution_count": 1,
   "metadata": {
    "ExecuteTime": {
     "end_time": "2024-11-30T17:08:39.021368Z",
     "start_time": "2024-11-30T17:08:35.329642Z"
    }
   },
   "outputs": [],
   "source": [
    "# Import libraries\n",
    "import pandas as pd\n",
    "import plotly.express as px\n",
    "import numpy as np\n",
    "import os\n",
    "import pickle\n",
    "\n",
    "# Do not truncate tables\n",
    "pd.set_option(\"display.max_columns\", None)"
   ]
  },
  {
   "cell_type": "markdown",
   "metadata": {},
   "source": [
    "# Assignment 1"
   ]
  },
  {
   "cell_type": "markdown",
   "metadata": {},
   "source": [
    "## Exercise 1 – Data Set "
   ]
  },
  {
   "cell_type": "markdown",
   "metadata": {},
   "source": [
    "### (a) What is the information you can obtain from the data set/ data sets?"
   ]
  },
  {
   "cell_type": "markdown",
   "metadata": {},
   "source": [
    "The OSHA Injury Tracking Application (ITA) Case Detail dataset contains detailed information on work-related injuries and illnesses (each row is a case of work-related injuries or illnesses). The data includes the following types of information:\n",
    "\n",
    "#### 1. Establishment-Level Information\n",
    "- **Unique Identifiers**: Establishment ID, Employer Identification Number (EIN).\n",
    "- **Demographic Information**: Establishment name, company name, street address, city, state, zip code.\n",
    "- **Industry Classification**: North American Industry Classification System (NAICS) code, year of NAICS code used, industry description.\n",
    "- **Establishment Type**: Private industry, state government entity, or local government entity.\n",
    "- **Workforce Data**: Size of the establishment, annual average employees, total hours worked.\n",
    "\n",
    "#### 2. Incident-Level Information\n",
    "- **Incident Identifiers**: Unique case number, establishment ID linkable to 300A data.\n",
    "- **Incident Details**: Date of incident, type of incident (injury, skin disorder, etc.), time of incident, time started work prior to incident, and whether time was unknown.\n",
    "- **Outcomes**: Most serious outcome (e.g., death, days away from work, job transfer/restriction), number of days away from work, number of restricted duty or transfer days.\n",
    "- **Fatalities**: Date of death (if applicable).\n",
    "\n",
    "#### 3. Narrative Descriptions\n",
    "- **Incident Details**: What the employee was doing before the incident, how the incident happened, injury/illness description, and the object/substance directly harming the employee.\n",
    "\n",
    "#### 4. Occupational Coding Information\n",
    "- **Job Information**: Job title of the injured/ill employee.\n",
    "- **Standard Occupation Code (SOC)**:\n",
    "  - SOC Code and Description: Assigned using NIOCCS.\n",
    "  - SOC Probability: Confidence score for SOC coding.\n",
    "  - SOC Reviewed: Indicates whether the SOC code was reviewed or reassigned.\n",
    "\n",
    "#### 5. System Metadata\n",
    "- **Submission Information**: Created timestamp, year of filing.\n",
    "- **Data Quality Indicators**: Codes for missing or invalid entries (e.g., \"9999\" for SOC code when unassignable).\n"
   ]
  },
  {
   "cell_type": "markdown",
   "metadata": {},
   "source": [
    "### (b) What are the attributes in the data and what is their meaning?"
   ]
  },
  {
   "cell_type": "markdown",
   "metadata": {},
   "source": [
    "The OSHA Injury Tracking Application (ITA) Case Detail dataset includes the following attributes, categorized by their context and meaning:\n",
    "\n",
    "#### 1. **Establishment Information**\n",
    "- **`establishment_ID`**: Unique identifier for each establishment.\n",
    "- **`establishment_name`**: Name of the establishment reporting the data.\n",
    "- **`ein`**: Employer Identification Number (Federal Tax Identification Number).\n",
    "- **`company_name`**: Name of the parent company of the establishment.\n",
    "- **`street_address`**: Street address of the establishment.\n",
    "- **`city`**: City where the establishment is located.\n",
    "- **`state`**: State or territory where the establishment is located.\n",
    "- **`zip_code`**: Full zip code of the establishment.\n",
    "- **`naics_code`**: North American Industry Classification System (NAICS) code for the establishment.\n",
    "- **`naics_year`**: Year version of NAICS code used.\n",
    "- **`industry_description`**: Industry description based on the NAICS code.\n",
    "- **`establishment_type`**: Type of establishment:\n",
    "  - 1 = Private industry\n",
    "  - 2 = State government entity\n",
    "  - 3 = Local government entity\n",
    "- **`size`**: Size of the establishment based on maximum employees:\n",
    "  - 1 = <20 employees\n",
    "  - 21 = 20-99 employees\n",
    "  - 22 = 100-249 employees\n",
    "  - 3 = 250+ employees\n",
    "- **`annual_average_employees`**: Annual average number of employees.\n",
    "- **`total_hours_worked`**: Total hours worked by all employees at the establishment.\n",
    "\n",
    "#### 2. **Incident Information**\n",
    "- **`case_number`**: Employer-assigned unique case number for each injury/illness.\n",
    "- **`date_of_incident`**: Date when the incident occurred.\n",
    "- **`incident_outcome`**: Most serious outcome of the incident:\n",
    "  - 1 = Death\n",
    "  - 2 = Days away from work (DAFW)\n",
    "  - 3 = Job transfer or restriction\n",
    "  - 4 = Other recordable case\n",
    "- **`dawf_num_away`**: Number of days away from work due to the incident.\n",
    "- **`djtr_num_tr`**: Number of days on restricted duty or job transfer due to the incident.\n",
    "- **`type_of_incident`**: Type of incident:\n",
    "  - 1 = Injury\n",
    "  - 2 = Skin disorder\n",
    "  - 3 = Respiratory condition\n",
    "  - 4 = Poisoning\n",
    "  - 5 = Hearing loss\n",
    "  - 6 = All other illness\n",
    "- **`time_started_work`**: Time the employee began work prior to the incident.\n",
    "- **`time_of_incident`**: Time the incident occurred.\n",
    "- **`time_unknown`**: Indicator if the time of the incident is unknown:\n",
    "  - 0 = No\n",
    "  - 1 = Yes\n",
    "- **`date_of_death`**: Date of death, if applicable.\n",
    "\n",
    "#### 3. **Narrative Descriptions**\n",
    "- **`incident_description`**: Description of the incident.\n",
    "- **`nar_before_incident`**: Description of what the employee was doing before the incident.\n",
    "- **`nar_what_happened`**: Description of what happened during the incident.\n",
    "- **`nar_injury_illness`**: Description of the injury or illness.\n",
    "- **`nar_object_substance`**: Description of the object or substance directly harming the employee.\n",
    "\n",
    "#### 4. **Occupational Information**\n",
    "- **`job_description`**: Job title of the injured/ill employee.\n",
    "- **`SOC_code`**: Standard Occupation Code assigned by NIOCCS or OSHA.\n",
    "- **`SOC_description`**: Text description of the SOC code.\n",
    "- **`SOC_probability`**: Confidence score for the SOC coding (5 indicates a manually reassigned code).\n",
    "- **`SOC_reviewed`**: Indicator of whether the SOC code was reviewed:\n",
    "  - 0 = Not reviewed, NIOCCS coded\n",
    "  - 1 = Reviewed by OSHA\n",
    "  - 2 = Not SOC coded (SOC = \"9999\")\n",
    "\n",
    "#### 5. **System Metadata**\n",
    "- **`created_timestamp`**: Timestamp when the record was submitted.\n",
    "- **`year_of_filing`**: Year in which the reported injuries/illnesses occurred."
   ]
  },
  {
   "cell_type": "markdown",
   "metadata": {},
   "source": [
    "### (c) Write a small parsing function that can read the data position (column, row) from the file format you selected. "
   ]
  },
  {
   "cell_type": "code",
   "execution_count": 2,
   "metadata": {
    "ExecuteTime": {
     "end_time": "2024-11-30T17:08:46.107830Z",
     "start_time": "2024-11-30T17:08:39.023348Z"
    }
   },
   "outputs": [],
   "source": [
    "def parse_dataset():\n",
    "    dataset_path = os.path.join(\n",
    "        \"..\",\n",
    "        \"Work-related Injury and Illness\",\n",
    "        \"ITA Case Detail Data 2023 through 8-31-2023.csv\",\n",
    "    )\n",
    "    return pd.read_csv(\n",
    "        dataset_path,\n",
    "        delimiter=\",\",\n",
    "        low_memory=False,\n",
    "        encoding=\"utf-8\",\n",
    "        dtype={\"zip_code\": \"string\", \"naics_code\": \"string\", \"naics_year\": \"string\"},\n",
    "        index_col=\"id\",\n",
    "    )\n",
    "\n",
    "\n",
    "df = parse_dataset()"
   ]
  },
  {
   "cell_type": "code",
   "execution_count": 3,
   "metadata": {
    "ExecuteTime": {
     "end_time": "2024-11-30T17:02:23.567690Z",
     "start_time": "2024-11-30T17:02:22.738641Z"
    }
   },
   "outputs": [
    {
     "name": "stdout",
     "output_type": "stream",
     "text": [
      "<class 'pandas.core.frame.DataFrame'>\n",
      "Index: 889447 entries, 446827 to 900939\n",
      "Data columns (total 32 columns):\n",
      " #   Column                    Non-Null Count   Dtype  \n",
      "---  ------                    --------------   -----  \n",
      " 0   establishment_id          889447 non-null  int64  \n",
      " 1   establishment_name        889447 non-null  object \n",
      " 2   ein                       812922 non-null  object \n",
      " 3   company_name              840391 non-null  object \n",
      " 4   street_address            889446 non-null  object \n",
      " 5   city                      889447 non-null  object \n",
      " 6   state                     889447 non-null  object \n",
      " 7   zip_code                  889447 non-null  string \n",
      " 8   naics_code                889447 non-null  string \n",
      " 9   naics_year                888174 non-null  string \n",
      " 10  industry_description      829648 non-null  object \n",
      " 11  establishment_type        887563 non-null  float64\n",
      " 12  size                      889447 non-null  int64  \n",
      " 13  annual_average_employees  889447 non-null  int64  \n",
      " 14  total_hours_worked        889447 non-null  int64  \n",
      " 15  case_number               889434 non-null  object \n",
      " 16  job_description           885793 non-null  object \n",
      " 17  soc_code                  889447 non-null  object \n",
      " 18  soc_description           889447 non-null  object \n",
      " 19  soc_reviewed              889447 non-null  int64  \n",
      " 20  soc_probability           889447 non-null  float64\n",
      " 21  date_of_incident          889447 non-null  object \n",
      " 22  incident_outcome          889447 non-null  int64  \n",
      " 23  dafw_num_away             889447 non-null  int64  \n",
      " 24  djtr_num_tr               889447 non-null  int64  \n",
      " 25  type_of_incident          889447 non-null  int64  \n",
      " 26  time_started_work         777556 non-null  object \n",
      " 27  time_of_incident          778479 non-null  object \n",
      " 28  time_unknown              887398 non-null  float64\n",
      " 29  date_of_death             279 non-null     object \n",
      " 30  created_timestamp         889447 non-null  object \n",
      " 31  year_filing_for           889447 non-null  int64  \n",
      "dtypes: float64(3), int64(10), object(16), string(3)\n",
      "memory usage: 223.9+ MB\n"
     ]
    }
   ],
   "source": [
    "df.info()"
   ]
  },
  {
   "cell_type": "code",
   "execution_count": 4,
   "metadata": {
    "ExecuteTime": {
     "end_time": "2024-11-30T17:02:23.577275Z",
     "start_time": "2024-11-30T17:02:23.569446Z"
    }
   },
   "outputs": [
    {
     "data": {
      "text/plain": [
       "(889447, 32)"
      ]
     },
     "execution_count": 4,
     "metadata": {},
     "output_type": "execute_result"
    }
   ],
   "source": [
    "df.shape"
   ]
  },
  {
   "cell_type": "code",
   "execution_count": 5,
   "metadata": {
    "ExecuteTime": {
     "end_time": "2024-11-30T17:02:27.198406Z",
     "start_time": "2024-11-30T17:02:27.134458Z"
    }
   },
   "outputs": [
    {
     "data": {
      "text/html": [
       "<div>\n",
       "<style scoped>\n",
       "    .dataframe tbody tr th:only-of-type {\n",
       "        vertical-align: middle;\n",
       "    }\n",
       "\n",
       "    .dataframe tbody tr th {\n",
       "        vertical-align: top;\n",
       "    }\n",
       "\n",
       "    .dataframe thead th {\n",
       "        text-align: right;\n",
       "    }\n",
       "</style>\n",
       "<table border=\"1\" class=\"dataframe\">\n",
       "  <thead>\n",
       "    <tr style=\"text-align: right;\">\n",
       "      <th></th>\n",
       "      <th>establishment_id</th>\n",
       "      <th>establishment_name</th>\n",
       "      <th>ein</th>\n",
       "      <th>company_name</th>\n",
       "      <th>street_address</th>\n",
       "      <th>city</th>\n",
       "      <th>state</th>\n",
       "      <th>zip_code</th>\n",
       "      <th>naics_code</th>\n",
       "      <th>naics_year</th>\n",
       "      <th>industry_description</th>\n",
       "      <th>establishment_type</th>\n",
       "      <th>size</th>\n",
       "      <th>annual_average_employees</th>\n",
       "      <th>total_hours_worked</th>\n",
       "      <th>case_number</th>\n",
       "      <th>job_description</th>\n",
       "      <th>soc_code</th>\n",
       "      <th>soc_description</th>\n",
       "      <th>soc_reviewed</th>\n",
       "      <th>soc_probability</th>\n",
       "      <th>date_of_incident</th>\n",
       "      <th>incident_outcome</th>\n",
       "      <th>dafw_num_away</th>\n",
       "      <th>djtr_num_tr</th>\n",
       "      <th>type_of_incident</th>\n",
       "      <th>time_started_work</th>\n",
       "      <th>time_of_incident</th>\n",
       "      <th>time_unknown</th>\n",
       "      <th>date_of_death</th>\n",
       "      <th>created_timestamp</th>\n",
       "      <th>year_filing_for</th>\n",
       "    </tr>\n",
       "    <tr>\n",
       "      <th>id</th>\n",
       "      <th></th>\n",
       "      <th></th>\n",
       "      <th></th>\n",
       "      <th></th>\n",
       "      <th></th>\n",
       "      <th></th>\n",
       "      <th></th>\n",
       "      <th></th>\n",
       "      <th></th>\n",
       "      <th></th>\n",
       "      <th></th>\n",
       "      <th></th>\n",
       "      <th></th>\n",
       "      <th></th>\n",
       "      <th></th>\n",
       "      <th></th>\n",
       "      <th></th>\n",
       "      <th></th>\n",
       "      <th></th>\n",
       "      <th></th>\n",
       "      <th></th>\n",
       "      <th></th>\n",
       "      <th></th>\n",
       "      <th></th>\n",
       "      <th></th>\n",
       "      <th></th>\n",
       "      <th></th>\n",
       "      <th></th>\n",
       "      <th></th>\n",
       "      <th></th>\n",
       "      <th></th>\n",
       "      <th></th>\n",
       "    </tr>\n",
       "  </thead>\n",
       "  <tbody>\n",
       "    <tr>\n",
       "      <th>659893</th>\n",
       "      <td>1185097</td>\n",
       "      <td>Beaufort Memorial Hospital BMH100</td>\n",
       "      <td>576000094</td>\n",
       "      <td>NaN</td>\n",
       "      <td>990 Ribaut Road</td>\n",
       "      <td>Beaufort</td>\n",
       "      <td>SC</td>\n",
       "      <td>29902</td>\n",
       "      <td>622110</td>\n",
       "      <td>2022</td>\n",
       "      <td>Hospitals, general medical and surgical</td>\n",
       "      <td>1.0</td>\n",
       "      <td>3</td>\n",
       "      <td>1548</td>\n",
       "      <td>3011463</td>\n",
       "      <td>EV20232886</td>\n",
       "      <td>Registered Nurse</td>\n",
       "      <td>29-1141</td>\n",
       "      <td>Registered Nurses</td>\n",
       "      <td>1</td>\n",
       "      <td>0.999999</td>\n",
       "      <td>12/19/2023</td>\n",
       "      <td>2</td>\n",
       "      <td>22</td>\n",
       "      <td>81</td>\n",
       "      <td>1</td>\n",
       "      <td>18:45:00.000</td>\n",
       "      <td>23:20:00.000</td>\n",
       "      <td>0.0</td>\n",
       "      <td>NaN</td>\n",
       "      <td>01MAR24:16:45:00</td>\n",
       "      <td>2023</td>\n",
       "    </tr>\n",
       "    <tr>\n",
       "      <th>190367</th>\n",
       "      <td>897920</td>\n",
       "      <td>5th Axis Inc</td>\n",
       "      <td>NaN</td>\n",
       "      <td>5th Axis Inc</td>\n",
       "      <td>7140 Engineer Rd</td>\n",
       "      <td>San Diego</td>\n",
       "      <td>CA</td>\n",
       "      <td>92111</td>\n",
       "      <td>332710</td>\n",
       "      <td>2022</td>\n",
       "      <td>Machine shops</td>\n",
       "      <td>1.0</td>\n",
       "      <td>22</td>\n",
       "      <td>182</td>\n",
       "      <td>313344</td>\n",
       "      <td>55C787833</td>\n",
       "      <td>CNC OPERATOR</td>\n",
       "      <td>51-9161</td>\n",
       "      <td>Computer Numerically Controlled Tool Operators</td>\n",
       "      <td>0</td>\n",
       "      <td>0.999958</td>\n",
       "      <td>09/09/2023</td>\n",
       "      <td>4</td>\n",
       "      <td>0</td>\n",
       "      <td>0</td>\n",
       "      <td>1</td>\n",
       "      <td>22:00:00.000</td>\n",
       "      <td>1:11:00.000</td>\n",
       "      <td>0.0</td>\n",
       "      <td>NaN</td>\n",
       "      <td>08FEB24:18:22:00</td>\n",
       "      <td>2023</td>\n",
       "    </tr>\n",
       "    <tr>\n",
       "      <th>67471</th>\n",
       "      <td>1083554</td>\n",
       "      <td>iHerb - Perris</td>\n",
       "      <td>954887681</td>\n",
       "      <td>iHerb</td>\n",
       "      <td>22780 Harley Knox Blvd</td>\n",
       "      <td>Perris</td>\n",
       "      <td>CA</td>\n",
       "      <td>92571</td>\n",
       "      <td>493110</td>\n",
       "      <td>2022</td>\n",
       "      <td>General warehousing and storage</td>\n",
       "      <td>1.0</td>\n",
       "      <td>3</td>\n",
       "      <td>557</td>\n",
       "      <td>949980</td>\n",
       "      <td>2</td>\n",
       "      <td>Warehouse Associate</td>\n",
       "      <td>53-7065</td>\n",
       "      <td>Stockers and Order Fillers</td>\n",
       "      <td>1</td>\n",
       "      <td>5.000000</td>\n",
       "      <td>04/23/2023</td>\n",
       "      <td>4</td>\n",
       "      <td>0</td>\n",
       "      <td>0</td>\n",
       "      <td>1</td>\n",
       "      <td>4:00:00.000</td>\n",
       "      <td>7:00:00.000</td>\n",
       "      <td>0.0</td>\n",
       "      <td>NaN</td>\n",
       "      <td>24JAN24:22:49:00</td>\n",
       "      <td>2023</td>\n",
       "    </tr>\n",
       "    <tr>\n",
       "      <th>127209</th>\n",
       "      <td>752582</td>\n",
       "      <td>City of Minneapolis Fire Department</td>\n",
       "      <td>416005375</td>\n",
       "      <td>City of Minneapolis Fire Department</td>\n",
       "      <td>350 S 5th Street, Room 233</td>\n",
       "      <td>Minneapolis</td>\n",
       "      <td>MN</td>\n",
       "      <td>55415</td>\n",
       "      <td>922160</td>\n",
       "      <td>2022</td>\n",
       "      <td>Fire departments (e.g., government, volunteer ...</td>\n",
       "      <td>3.0</td>\n",
       "      <td>3</td>\n",
       "      <td>498</td>\n",
       "      <td>1240091</td>\n",
       "      <td>FD31</td>\n",
       "      <td>Firefighter</td>\n",
       "      <td>33-2011</td>\n",
       "      <td>Firefighters</td>\n",
       "      <td>1</td>\n",
       "      <td>1.000000</td>\n",
       "      <td>08/17/2023</td>\n",
       "      <td>2</td>\n",
       "      <td>18</td>\n",
       "      <td>0</td>\n",
       "      <td>1</td>\n",
       "      <td>8:00:00.000</td>\n",
       "      <td>NaN</td>\n",
       "      <td>1.0</td>\n",
       "      <td>NaN</td>\n",
       "      <td>01FEB24:21:08:00</td>\n",
       "      <td>2023</td>\n",
       "    </tr>\n",
       "    <tr>\n",
       "      <th>77840</th>\n",
       "      <td>805844</td>\n",
       "      <td>Custom Processing Services, LLC</td>\n",
       "      <td>260181369</td>\n",
       "      <td>Custom Processing Services, LLC.</td>\n",
       "      <td>461 State Street</td>\n",
       "      <td>East Greenville</td>\n",
       "      <td>PA</td>\n",
       "      <td>18041</td>\n",
       "      <td>327992</td>\n",
       "      <td>2022</td>\n",
       "      <td>Magnesite, crude (e.g., calcined, dead-burned,...</td>\n",
       "      <td>1.0</td>\n",
       "      <td>21</td>\n",
       "      <td>25</td>\n",
       "      <td>54251</td>\n",
       "      <td>2</td>\n",
       "      <td>CMO Level</td>\n",
       "      <td>9999</td>\n",
       "      <td>Uncoded</td>\n",
       "      <td>2</td>\n",
       "      <td>0.000000</td>\n",
       "      <td>01/25/2023</td>\n",
       "      <td>3</td>\n",
       "      <td>0</td>\n",
       "      <td>15</td>\n",
       "      <td>1</td>\n",
       "      <td>5:00:00.000</td>\n",
       "      <td>14:00:00.000</td>\n",
       "      <td>0.0</td>\n",
       "      <td>NaN</td>\n",
       "      <td>26JAN24:16:44:00</td>\n",
       "      <td>2023</td>\n",
       "    </tr>\n",
       "  </tbody>\n",
       "</table>\n",
       "</div>"
      ],
      "text/plain": [
       "        establishment_id                   establishment_name        ein  \\\n",
       "id                                                                         \n",
       "659893           1185097    Beaufort Memorial Hospital BMH100  576000094   \n",
       "190367            897920                         5th Axis Inc        NaN   \n",
       "67471            1083554                       iHerb - Perris  954887681   \n",
       "127209            752582  City of Minneapolis Fire Department  416005375   \n",
       "77840             805844      Custom Processing Services, LLC  260181369   \n",
       "\n",
       "                               company_name              street_address  \\\n",
       "id                                                                        \n",
       "659893                                  NaN             990 Ribaut Road   \n",
       "190367                         5th Axis Inc            7140 Engineer Rd   \n",
       "67471                                 iHerb      22780 Harley Knox Blvd   \n",
       "127209  City of Minneapolis Fire Department  350 S 5th Street, Room 233   \n",
       "77840      Custom Processing Services, LLC.            461 State Street   \n",
       "\n",
       "                   city state zip_code naics_code naics_year  \\\n",
       "id                                                             \n",
       "659893         Beaufort    SC    29902     622110       2022   \n",
       "190367        San Diego    CA    92111     332710       2022   \n",
       "67471            Perris    CA    92571     493110       2022   \n",
       "127209      Minneapolis    MN    55415     922160       2022   \n",
       "77840   East Greenville    PA    18041     327992       2022   \n",
       "\n",
       "                                     industry_description  establishment_type  \\\n",
       "id                                                                              \n",
       "659893            Hospitals, general medical and surgical                 1.0   \n",
       "190367                                      Machine shops                 1.0   \n",
       "67471                     General warehousing and storage                 1.0   \n",
       "127209  Fire departments (e.g., government, volunteer ...                 3.0   \n",
       "77840   Magnesite, crude (e.g., calcined, dead-burned,...                 1.0   \n",
       "\n",
       "        size  annual_average_employees  total_hours_worked case_number  \\\n",
       "id                                                                       \n",
       "659893     3                      1548             3011463  EV20232886   \n",
       "190367    22                       182              313344   55C787833   \n",
       "67471      3                       557              949980           2   \n",
       "127209     3                       498             1240091        FD31   \n",
       "77840     21                        25               54251           2   \n",
       "\n",
       "            job_description soc_code  \\\n",
       "id                                     \n",
       "659893     Registered Nurse  29-1141   \n",
       "190367         CNC OPERATOR  51-9161   \n",
       "67471   Warehouse Associate  53-7065   \n",
       "127209          Firefighter  33-2011   \n",
       "77840             CMO Level     9999   \n",
       "\n",
       "                                       soc_description  soc_reviewed  \\\n",
       "id                                                                     \n",
       "659893                               Registered Nurses             1   \n",
       "190367  Computer Numerically Controlled Tool Operators             0   \n",
       "67471                       Stockers and Order Fillers             1   \n",
       "127209                                    Firefighters             1   \n",
       "77840                                          Uncoded             2   \n",
       "\n",
       "        soc_probability date_of_incident  incident_outcome  dafw_num_away  \\\n",
       "id                                                                          \n",
       "659893         0.999999       12/19/2023                 2             22   \n",
       "190367         0.999958       09/09/2023                 4              0   \n",
       "67471          5.000000       04/23/2023                 4              0   \n",
       "127209         1.000000       08/17/2023                 2             18   \n",
       "77840          0.000000       01/25/2023                 3              0   \n",
       "\n",
       "        djtr_num_tr  type_of_incident time_started_work time_of_incident  \\\n",
       "id                                                                         \n",
       "659893           81                 1      18:45:00.000     23:20:00.000   \n",
       "190367            0                 1      22:00:00.000      1:11:00.000   \n",
       "67471             0                 1       4:00:00.000      7:00:00.000   \n",
       "127209            0                 1       8:00:00.000              NaN   \n",
       "77840            15                 1       5:00:00.000     14:00:00.000   \n",
       "\n",
       "        time_unknown date_of_death created_timestamp  year_filing_for  \n",
       "id                                                                     \n",
       "659893           0.0           NaN  01MAR24:16:45:00             2023  \n",
       "190367           0.0           NaN  08FEB24:18:22:00             2023  \n",
       "67471            0.0           NaN  24JAN24:22:49:00             2023  \n",
       "127209           1.0           NaN  01FEB24:21:08:00             2023  \n",
       "77840            0.0           NaN  26JAN24:16:44:00             2023  "
      ]
     },
     "execution_count": 5,
     "metadata": {},
     "output_type": "execute_result"
    }
   ],
   "source": [
    "df.sample(5)"
   ]
  },
  {
   "cell_type": "markdown",
   "metadata": {},
   "source": [
    "### (d) Write another function that outputs the distribution of the attributes, and counts the frequencies of the different values"
   ]
  },
  {
   "cell_type": "code",
   "execution_count": 6,
   "metadata": {
    "ExecuteTime": {
     "end_time": "2024-11-30T17:02:32.368816Z",
     "start_time": "2024-11-30T17:02:28.598937Z"
    }
   },
   "outputs": [
    {
     "data": {
      "text/html": [
       "<div>\n",
       "<style scoped>\n",
       "    .dataframe tbody tr th:only-of-type {\n",
       "        vertical-align: middle;\n",
       "    }\n",
       "\n",
       "    .dataframe tbody tr th {\n",
       "        vertical-align: top;\n",
       "    }\n",
       "\n",
       "    .dataframe thead th {\n",
       "        text-align: right;\n",
       "    }\n",
       "</style>\n",
       "<table border=\"1\" class=\"dataframe\">\n",
       "  <thead>\n",
       "    <tr style=\"text-align: right;\">\n",
       "      <th></th>\n",
       "      <th>establishment_id</th>\n",
       "      <th>establishment_name</th>\n",
       "      <th>ein</th>\n",
       "      <th>company_name</th>\n",
       "      <th>street_address</th>\n",
       "      <th>city</th>\n",
       "      <th>state</th>\n",
       "      <th>zip_code</th>\n",
       "      <th>naics_code</th>\n",
       "      <th>naics_year</th>\n",
       "      <th>industry_description</th>\n",
       "      <th>establishment_type</th>\n",
       "      <th>size</th>\n",
       "      <th>annual_average_employees</th>\n",
       "      <th>total_hours_worked</th>\n",
       "      <th>case_number</th>\n",
       "      <th>job_description</th>\n",
       "      <th>soc_code</th>\n",
       "      <th>soc_description</th>\n",
       "      <th>soc_reviewed</th>\n",
       "      <th>soc_probability</th>\n",
       "      <th>date_of_incident</th>\n",
       "      <th>incident_outcome</th>\n",
       "      <th>dafw_num_away</th>\n",
       "      <th>djtr_num_tr</th>\n",
       "      <th>type_of_incident</th>\n",
       "      <th>time_started_work</th>\n",
       "      <th>time_of_incident</th>\n",
       "      <th>time_unknown</th>\n",
       "      <th>date_of_death</th>\n",
       "      <th>created_timestamp</th>\n",
       "      <th>year_filing_for</th>\n",
       "    </tr>\n",
       "  </thead>\n",
       "  <tbody>\n",
       "    <tr>\n",
       "      <th>count</th>\n",
       "      <td>8.894470e+05</td>\n",
       "      <td>889447</td>\n",
       "      <td>812922</td>\n",
       "      <td>840391</td>\n",
       "      <td>889446</td>\n",
       "      <td>889447</td>\n",
       "      <td>889447</td>\n",
       "      <td>889447</td>\n",
       "      <td>889447</td>\n",
       "      <td>888174</td>\n",
       "      <td>829648</td>\n",
       "      <td>887563.000000</td>\n",
       "      <td>889447.000000</td>\n",
       "      <td>8.894470e+05</td>\n",
       "      <td>8.894470e+05</td>\n",
       "      <td>889434</td>\n",
       "      <td>885793</td>\n",
       "      <td>889447</td>\n",
       "      <td>889447</td>\n",
       "      <td>889447.000000</td>\n",
       "      <td>889447.000000</td>\n",
       "      <td>889447</td>\n",
       "      <td>889447.000000</td>\n",
       "      <td>889447.000000</td>\n",
       "      <td>889447.000000</td>\n",
       "      <td>889447.000000</td>\n",
       "      <td>777556</td>\n",
       "      <td>778479</td>\n",
       "      <td>887398.000000</td>\n",
       "      <td>279</td>\n",
       "      <td>889447</td>\n",
       "      <td>889447.0</td>\n",
       "    </tr>\n",
       "    <tr>\n",
       "      <th>unique</th>\n",
       "      <td>NaN</td>\n",
       "      <td>89219</td>\n",
       "      <td>33514</td>\n",
       "      <td>38301</td>\n",
       "      <td>88405</td>\n",
       "      <td>14317</td>\n",
       "      <td>56</td>\n",
       "      <td>17101</td>\n",
       "      <td>865</td>\n",
       "      <td>3</td>\n",
       "      <td>5673</td>\n",
       "      <td>NaN</td>\n",
       "      <td>NaN</td>\n",
       "      <td>NaN</td>\n",
       "      <td>NaN</td>\n",
       "      <td>423945</td>\n",
       "      <td>93398</td>\n",
       "      <td>669</td>\n",
       "      <td>668</td>\n",
       "      <td>NaN</td>\n",
       "      <td>NaN</td>\n",
       "      <td>542</td>\n",
       "      <td>NaN</td>\n",
       "      <td>NaN</td>\n",
       "      <td>NaN</td>\n",
       "      <td>NaN</td>\n",
       "      <td>1439</td>\n",
       "      <td>1440</td>\n",
       "      <td>NaN</td>\n",
       "      <td>185</td>\n",
       "      <td>58560</td>\n",
       "      <td>NaN</td>\n",
       "    </tr>\n",
       "    <tr>\n",
       "      <th>top</th>\n",
       "      <td>NaN</td>\n",
       "      <td>Walt Disney Parks and Resorts US Inc</td>\n",
       "      <td>820544687</td>\n",
       "      <td>Amazon.com Services LLC</td>\n",
       "      <td>UNITED AIRLINES ATTN:MGR</td>\n",
       "      <td>Chicago</td>\n",
       "      <td>CA</td>\n",
       "      <td>32830</td>\n",
       "      <td>622110</td>\n",
       "      <td>2022</td>\n",
       "      <td>Warehouse Clubs and Supercenters</td>\n",
       "      <td>NaN</td>\n",
       "      <td>NaN</td>\n",
       "      <td>NaN</td>\n",
       "      <td>NaN</td>\n",
       "      <td>1</td>\n",
       "      <td>Fulfillment Associate</td>\n",
       "      <td>9999</td>\n",
       "      <td>Uncoded</td>\n",
       "      <td>NaN</td>\n",
       "      <td>NaN</td>\n",
       "      <td>09/12/2023</td>\n",
       "      <td>NaN</td>\n",
       "      <td>NaN</td>\n",
       "      <td>NaN</td>\n",
       "      <td>NaN</td>\n",
       "      <td>7:00:00.000</td>\n",
       "      <td>12:00:00.000</td>\n",
       "      <td>NaN</td>\n",
       "      <td>09/20/2023</td>\n",
       "      <td>03MAY24:18:33:00</td>\n",
       "      <td>NaN</td>\n",
       "    </tr>\n",
       "    <tr>\n",
       "      <th>freq</th>\n",
       "      <td>NaN</td>\n",
       "      <td>3532</td>\n",
       "      <td>38132</td>\n",
       "      <td>38132</td>\n",
       "      <td>3748</td>\n",
       "      <td>5526</td>\n",
       "      <td>113262</td>\n",
       "      <td>3586</td>\n",
       "      <td>155665</td>\n",
       "      <td>789067</td>\n",
       "      <td>64327</td>\n",
       "      <td>NaN</td>\n",
       "      <td>NaN</td>\n",
       "      <td>NaN</td>\n",
       "      <td>NaN</td>\n",
       "      <td>28102</td>\n",
       "      <td>21562</td>\n",
       "      <td>157739</td>\n",
       "      <td>157739</td>\n",
       "      <td>NaN</td>\n",
       "      <td>NaN</td>\n",
       "      <td>3269</td>\n",
       "      <td>NaN</td>\n",
       "      <td>NaN</td>\n",
       "      <td>NaN</td>\n",
       "      <td>NaN</td>\n",
       "      <td>110471</td>\n",
       "      <td>23709</td>\n",
       "      <td>NaN</td>\n",
       "      <td>4</td>\n",
       "      <td>2881</td>\n",
       "      <td>NaN</td>\n",
       "    </tr>\n",
       "    <tr>\n",
       "      <th>mean</th>\n",
       "      <td>8.631224e+05</td>\n",
       "      <td>NaN</td>\n",
       "      <td>NaN</td>\n",
       "      <td>NaN</td>\n",
       "      <td>NaN</td>\n",
       "      <td>NaN</td>\n",
       "      <td>NaN</td>\n",
       "      <td>NaN</td>\n",
       "      <td>NaN</td>\n",
       "      <td>NaN</td>\n",
       "      <td>NaN</td>\n",
       "      <td>1.083898</td>\n",
       "      <td>9.833503</td>\n",
       "      <td>8.200306e+03</td>\n",
       "      <td>3.528374e+06</td>\n",
       "      <td>NaN</td>\n",
       "      <td>NaN</td>\n",
       "      <td>NaN</td>\n",
       "      <td>NaN</td>\n",
       "      <td>0.838397</td>\n",
       "      <td>1.192423</td>\n",
       "      <td>NaN</td>\n",
       "      <td>2.973528</td>\n",
       "      <td>12.804085</td>\n",
       "      <td>15.531824</td>\n",
       "      <td>1.351008</td>\n",
       "      <td>NaN</td>\n",
       "      <td>NaN</td>\n",
       "      <td>0.132183</td>\n",
       "      <td>NaN</td>\n",
       "      <td>NaN</td>\n",
       "      <td>2023.0</td>\n",
       "    </tr>\n",
       "    <tr>\n",
       "      <th>std</th>\n",
       "      <td>3.575762e+05</td>\n",
       "      <td>NaN</td>\n",
       "      <td>NaN</td>\n",
       "      <td>NaN</td>\n",
       "      <td>NaN</td>\n",
       "      <td>NaN</td>\n",
       "      <td>NaN</td>\n",
       "      <td>NaN</td>\n",
       "      <td>NaN</td>\n",
       "      <td>NaN</td>\n",
       "      <td>NaN</td>\n",
       "      <td>0.362637</td>\n",
       "      <td>9.040229</td>\n",
       "      <td>1.033831e+06</td>\n",
       "      <td>2.414035e+07</td>\n",
       "      <td>NaN</td>\n",
       "      <td>NaN</td>\n",
       "      <td>NaN</td>\n",
       "      <td>NaN</td>\n",
       "      <td>0.698820</td>\n",
       "      <td>1.376831</td>\n",
       "      <td>NaN</td>\n",
       "      <td>0.839186</td>\n",
       "      <td>35.737457</td>\n",
       "      <td>34.982631</td>\n",
       "      <td>1.133985</td>\n",
       "      <td>NaN</td>\n",
       "      <td>NaN</td>\n",
       "      <td>0.338690</td>\n",
       "      <td>NaN</td>\n",
       "      <td>NaN</td>\n",
       "      <td>0.0</td>\n",
       "    </tr>\n",
       "    <tr>\n",
       "      <th>min</th>\n",
       "      <td>4.194000e+04</td>\n",
       "      <td>NaN</td>\n",
       "      <td>NaN</td>\n",
       "      <td>NaN</td>\n",
       "      <td>NaN</td>\n",
       "      <td>NaN</td>\n",
       "      <td>NaN</td>\n",
       "      <td>NaN</td>\n",
       "      <td>NaN</td>\n",
       "      <td>NaN</td>\n",
       "      <td>NaN</td>\n",
       "      <td>0.000000</td>\n",
       "      <td>1.000000</td>\n",
       "      <td>0.000000e+00</td>\n",
       "      <td>0.000000e+00</td>\n",
       "      <td>NaN</td>\n",
       "      <td>NaN</td>\n",
       "      <td>NaN</td>\n",
       "      <td>NaN</td>\n",
       "      <td>0.000000</td>\n",
       "      <td>0.000000</td>\n",
       "      <td>NaN</td>\n",
       "      <td>1.000000</td>\n",
       "      <td>0.000000</td>\n",
       "      <td>0.000000</td>\n",
       "      <td>1.000000</td>\n",
       "      <td>NaN</td>\n",
       "      <td>NaN</td>\n",
       "      <td>0.000000</td>\n",
       "      <td>NaN</td>\n",
       "      <td>NaN</td>\n",
       "      <td>2023.0</td>\n",
       "    </tr>\n",
       "    <tr>\n",
       "      <th>25%</th>\n",
       "      <td>6.515120e+05</td>\n",
       "      <td>NaN</td>\n",
       "      <td>NaN</td>\n",
       "      <td>NaN</td>\n",
       "      <td>NaN</td>\n",
       "      <td>NaN</td>\n",
       "      <td>NaN</td>\n",
       "      <td>NaN</td>\n",
       "      <td>NaN</td>\n",
       "      <td>NaN</td>\n",
       "      <td>NaN</td>\n",
       "      <td>1.000000</td>\n",
       "      <td>3.000000</td>\n",
       "      <td>1.490000e+02</td>\n",
       "      <td>2.356850e+05</td>\n",
       "      <td>NaN</td>\n",
       "      <td>NaN</td>\n",
       "      <td>NaN</td>\n",
       "      <td>NaN</td>\n",
       "      <td>0.000000</td>\n",
       "      <td>0.802269</td>\n",
       "      <td>NaN</td>\n",
       "      <td>2.000000</td>\n",
       "      <td>0.000000</td>\n",
       "      <td>0.000000</td>\n",
       "      <td>1.000000</td>\n",
       "      <td>NaN</td>\n",
       "      <td>NaN</td>\n",
       "      <td>0.000000</td>\n",
       "      <td>NaN</td>\n",
       "      <td>NaN</td>\n",
       "      <td>2023.0</td>\n",
       "    </tr>\n",
       "    <tr>\n",
       "      <th>50%</th>\n",
       "      <td>9.893690e+05</td>\n",
       "      <td>NaN</td>\n",
       "      <td>NaN</td>\n",
       "      <td>NaN</td>\n",
       "      <td>NaN</td>\n",
       "      <td>NaN</td>\n",
       "      <td>NaN</td>\n",
       "      <td>NaN</td>\n",
       "      <td>NaN</td>\n",
       "      <td>NaN</td>\n",
       "      <td>NaN</td>\n",
       "      <td>1.000000</td>\n",
       "      <td>3.000000</td>\n",
       "      <td>3.470000e+02</td>\n",
       "      <td>5.840110e+05</td>\n",
       "      <td>NaN</td>\n",
       "      <td>NaN</td>\n",
       "      <td>NaN</td>\n",
       "      <td>NaN</td>\n",
       "      <td>1.000000</td>\n",
       "      <td>0.994869</td>\n",
       "      <td>NaN</td>\n",
       "      <td>3.000000</td>\n",
       "      <td>0.000000</td>\n",
       "      <td>0.000000</td>\n",
       "      <td>1.000000</td>\n",
       "      <td>NaN</td>\n",
       "      <td>NaN</td>\n",
       "      <td>0.000000</td>\n",
       "      <td>NaN</td>\n",
       "      <td>NaN</td>\n",
       "      <td>2023.0</td>\n",
       "    </tr>\n",
       "    <tr>\n",
       "      <th>75%</th>\n",
       "      <td>1.140101e+06</td>\n",
       "      <td>NaN</td>\n",
       "      <td>NaN</td>\n",
       "      <td>NaN</td>\n",
       "      <td>NaN</td>\n",
       "      <td>NaN</td>\n",
       "      <td>NaN</td>\n",
       "      <td>NaN</td>\n",
       "      <td>NaN</td>\n",
       "      <td>NaN</td>\n",
       "      <td>NaN</td>\n",
       "      <td>1.000000</td>\n",
       "      <td>22.000000</td>\n",
       "      <td>1.323000e+03</td>\n",
       "      <td>2.125664e+06</td>\n",
       "      <td>NaN</td>\n",
       "      <td>NaN</td>\n",
       "      <td>NaN</td>\n",
       "      <td>NaN</td>\n",
       "      <td>1.000000</td>\n",
       "      <td>0.999979</td>\n",
       "      <td>NaN</td>\n",
       "      <td>4.000000</td>\n",
       "      <td>5.000000</td>\n",
       "      <td>13.000000</td>\n",
       "      <td>1.000000</td>\n",
       "      <td>NaN</td>\n",
       "      <td>NaN</td>\n",
       "      <td>0.000000</td>\n",
       "      <td>NaN</td>\n",
       "      <td>NaN</td>\n",
       "      <td>2023.0</td>\n",
       "    </tr>\n",
       "    <tr>\n",
       "      <th>max</th>\n",
       "      <td>1.246187e+06</td>\n",
       "      <td>NaN</td>\n",
       "      <td>NaN</td>\n",
       "      <td>NaN</td>\n",
       "      <td>NaN</td>\n",
       "      <td>NaN</td>\n",
       "      <td>NaN</td>\n",
       "      <td>NaN</td>\n",
       "      <td>NaN</td>\n",
       "      <td>NaN</td>\n",
       "      <td>NaN</td>\n",
       "      <td>3.000000</td>\n",
       "      <td>22.000000</td>\n",
       "      <td>1.723076e+08</td>\n",
       "      <td>1.383383e+10</td>\n",
       "      <td>NaN</td>\n",
       "      <td>NaN</td>\n",
       "      <td>NaN</td>\n",
       "      <td>NaN</td>\n",
       "      <td>2.000000</td>\n",
       "      <td>5.000000</td>\n",
       "      <td>NaN</td>\n",
       "      <td>4.000000</td>\n",
       "      <td>640.000000</td>\n",
       "      <td>575.000000</td>\n",
       "      <td>6.000000</td>\n",
       "      <td>NaN</td>\n",
       "      <td>NaN</td>\n",
       "      <td>1.000000</td>\n",
       "      <td>NaN</td>\n",
       "      <td>NaN</td>\n",
       "      <td>2023.0</td>\n",
       "    </tr>\n",
       "  </tbody>\n",
       "</table>\n",
       "</div>"
      ],
      "text/plain": [
       "        establishment_id                    establishment_name        ein  \\\n",
       "count       8.894470e+05                                889447     812922   \n",
       "unique               NaN                                 89219      33514   \n",
       "top                  NaN  Walt Disney Parks and Resorts US Inc  820544687   \n",
       "freq                 NaN                                  3532      38132   \n",
       "mean        8.631224e+05                                   NaN        NaN   \n",
       "std         3.575762e+05                                   NaN        NaN   \n",
       "min         4.194000e+04                                   NaN        NaN   \n",
       "25%         6.515120e+05                                   NaN        NaN   \n",
       "50%         9.893690e+05                                   NaN        NaN   \n",
       "75%         1.140101e+06                                   NaN        NaN   \n",
       "max         1.246187e+06                                   NaN        NaN   \n",
       "\n",
       "                   company_name            street_address     city   state  \\\n",
       "count                    840391                    889446   889447  889447   \n",
       "unique                    38301                     88405    14317      56   \n",
       "top     Amazon.com Services LLC  UNITED AIRLINES ATTN:MGR  Chicago      CA   \n",
       "freq                      38132                      3748     5526  113262   \n",
       "mean                        NaN                       NaN      NaN     NaN   \n",
       "std                         NaN                       NaN      NaN     NaN   \n",
       "min                         NaN                       NaN      NaN     NaN   \n",
       "25%                         NaN                       NaN      NaN     NaN   \n",
       "50%                         NaN                       NaN      NaN     NaN   \n",
       "75%                         NaN                       NaN      NaN     NaN   \n",
       "max                         NaN                       NaN      NaN     NaN   \n",
       "\n",
       "       zip_code naics_code naics_year              industry_description  \\\n",
       "count    889447     889447     888174                            829648   \n",
       "unique    17101        865          3                              5673   \n",
       "top       32830     622110       2022  Warehouse Clubs and Supercenters   \n",
       "freq       3586     155665     789067                             64327   \n",
       "mean        NaN        NaN        NaN                               NaN   \n",
       "std         NaN        NaN        NaN                               NaN   \n",
       "min         NaN        NaN        NaN                               NaN   \n",
       "25%         NaN        NaN        NaN                               NaN   \n",
       "50%         NaN        NaN        NaN                               NaN   \n",
       "75%         NaN        NaN        NaN                               NaN   \n",
       "max         NaN        NaN        NaN                               NaN   \n",
       "\n",
       "        establishment_type           size  annual_average_employees  \\\n",
       "count        887563.000000  889447.000000              8.894470e+05   \n",
       "unique                 NaN            NaN                       NaN   \n",
       "top                    NaN            NaN                       NaN   \n",
       "freq                   NaN            NaN                       NaN   \n",
       "mean              1.083898       9.833503              8.200306e+03   \n",
       "std               0.362637       9.040229              1.033831e+06   \n",
       "min               0.000000       1.000000              0.000000e+00   \n",
       "25%               1.000000       3.000000              1.490000e+02   \n",
       "50%               1.000000       3.000000              3.470000e+02   \n",
       "75%               1.000000      22.000000              1.323000e+03   \n",
       "max               3.000000      22.000000              1.723076e+08   \n",
       "\n",
       "        total_hours_worked case_number        job_description soc_code  \\\n",
       "count         8.894470e+05      889434                 885793   889447   \n",
       "unique                 NaN      423945                  93398      669   \n",
       "top                    NaN           1  Fulfillment Associate     9999   \n",
       "freq                   NaN       28102                  21562   157739   \n",
       "mean          3.528374e+06         NaN                    NaN      NaN   \n",
       "std           2.414035e+07         NaN                    NaN      NaN   \n",
       "min           0.000000e+00         NaN                    NaN      NaN   \n",
       "25%           2.356850e+05         NaN                    NaN      NaN   \n",
       "50%           5.840110e+05         NaN                    NaN      NaN   \n",
       "75%           2.125664e+06         NaN                    NaN      NaN   \n",
       "max           1.383383e+10         NaN                    NaN      NaN   \n",
       "\n",
       "       soc_description   soc_reviewed  soc_probability date_of_incident  \\\n",
       "count           889447  889447.000000    889447.000000           889447   \n",
       "unique             668            NaN              NaN              542   \n",
       "top            Uncoded            NaN              NaN       09/12/2023   \n",
       "freq            157739            NaN              NaN             3269   \n",
       "mean               NaN       0.838397         1.192423              NaN   \n",
       "std                NaN       0.698820         1.376831              NaN   \n",
       "min                NaN       0.000000         0.000000              NaN   \n",
       "25%                NaN       0.000000         0.802269              NaN   \n",
       "50%                NaN       1.000000         0.994869              NaN   \n",
       "75%                NaN       1.000000         0.999979              NaN   \n",
       "max                NaN       2.000000         5.000000              NaN   \n",
       "\n",
       "        incident_outcome  dafw_num_away    djtr_num_tr  type_of_incident  \\\n",
       "count      889447.000000  889447.000000  889447.000000     889447.000000   \n",
       "unique               NaN            NaN            NaN               NaN   \n",
       "top                  NaN            NaN            NaN               NaN   \n",
       "freq                 NaN            NaN            NaN               NaN   \n",
       "mean            2.973528      12.804085      15.531824          1.351008   \n",
       "std             0.839186      35.737457      34.982631          1.133985   \n",
       "min             1.000000       0.000000       0.000000          1.000000   \n",
       "25%             2.000000       0.000000       0.000000          1.000000   \n",
       "50%             3.000000       0.000000       0.000000          1.000000   \n",
       "75%             4.000000       5.000000      13.000000          1.000000   \n",
       "max             4.000000     640.000000     575.000000          6.000000   \n",
       "\n",
       "       time_started_work time_of_incident   time_unknown date_of_death  \\\n",
       "count             777556           778479  887398.000000           279   \n",
       "unique              1439             1440            NaN           185   \n",
       "top          7:00:00.000     12:00:00.000            NaN    09/20/2023   \n",
       "freq              110471            23709            NaN             4   \n",
       "mean                 NaN              NaN       0.132183           NaN   \n",
       "std                  NaN              NaN       0.338690           NaN   \n",
       "min                  NaN              NaN       0.000000           NaN   \n",
       "25%                  NaN              NaN       0.000000           NaN   \n",
       "50%                  NaN              NaN       0.000000           NaN   \n",
       "75%                  NaN              NaN       0.000000           NaN   \n",
       "max                  NaN              NaN       1.000000           NaN   \n",
       "\n",
       "       created_timestamp  year_filing_for  \n",
       "count             889447         889447.0  \n",
       "unique             58560              NaN  \n",
       "top     03MAY24:18:33:00              NaN  \n",
       "freq                2881              NaN  \n",
       "mean                 NaN           2023.0  \n",
       "std                  NaN              0.0  \n",
       "min                  NaN           2023.0  \n",
       "25%                  NaN           2023.0  \n",
       "50%                  NaN           2023.0  \n",
       "75%                  NaN           2023.0  \n",
       "max                  NaN           2023.0  "
      ]
     },
     "execution_count": 6,
     "metadata": {},
     "output_type": "execute_result"
    }
   ],
   "source": [
    "df.describe(include=\"all\")"
   ]
  },
  {
   "cell_type": "code",
   "execution_count": 7,
   "metadata": {
    "ExecuteTime": {
     "end_time": "2024-11-30T17:02:42.818380Z",
     "start_time": "2024-11-30T17:02:32.373181Z"
    }
   },
   "outputs": [
    {
     "data": {
      "text/html": [
       "<div>\n",
       "<style scoped>\n",
       "    .dataframe tbody tr th:only-of-type {\n",
       "        vertical-align: middle;\n",
       "    }\n",
       "\n",
       "    .dataframe tbody tr th {\n",
       "        vertical-align: top;\n",
       "    }\n",
       "\n",
       "    .dataframe thead th {\n",
       "        text-align: right;\n",
       "    }\n",
       "</style>\n",
       "<table border=\"1\" class=\"dataframe\">\n",
       "  <thead>\n",
       "    <tr style=\"text-align: right;\">\n",
       "      <th></th>\n",
       "      <th></th>\n",
       "      <th>Frequency</th>\n",
       "    </tr>\n",
       "    <tr>\n",
       "      <th>Attribute</th>\n",
       "      <th>Value</th>\n",
       "      <th></th>\n",
       "    </tr>\n",
       "  </thead>\n",
       "  <tbody>\n",
       "    <tr>\n",
       "      <th rowspan=\"5\" valign=\"top\">establishment_id</th>\n",
       "      <th>225446</th>\n",
       "      <td>3532</td>\n",
       "    </tr>\n",
       "    <tr>\n",
       "      <th>857258</th>\n",
       "      <td>2948</td>\n",
       "    </tr>\n",
       "    <tr>\n",
       "      <th>899222</th>\n",
       "      <td>2218</td>\n",
       "    </tr>\n",
       "    <tr>\n",
       "      <th>62625</th>\n",
       "      <td>1412</td>\n",
       "    </tr>\n",
       "    <tr>\n",
       "      <th>1126488</th>\n",
       "      <td>1267</td>\n",
       "    </tr>\n",
       "    <tr>\n",
       "      <th>...</th>\n",
       "      <th>...</th>\n",
       "      <td>...</td>\n",
       "    </tr>\n",
       "    <tr>\n",
       "      <th rowspan=\"4\" valign=\"top\">created_timestamp</th>\n",
       "      <th>22JAN24:16:48:00</th>\n",
       "      <td>1</td>\n",
       "    </tr>\n",
       "    <tr>\n",
       "      <th>27FEB24:11:49:00</th>\n",
       "      <td>1</td>\n",
       "    </tr>\n",
       "    <tr>\n",
       "      <th>13FEB24:01:22:00</th>\n",
       "      <td>1</td>\n",
       "    </tr>\n",
       "    <tr>\n",
       "      <th>30AUG24:17:57:00</th>\n",
       "      <td>1</td>\n",
       "    </tr>\n",
       "    <tr>\n",
       "      <th>year_filing_for</th>\n",
       "      <th>2023</th>\n",
       "      <td>889447</td>\n",
       "    </tr>\n",
       "  </tbody>\n",
       "</table>\n",
       "<p>1108932 rows × 1 columns</p>\n",
       "</div>"
      ],
      "text/plain": [
       "                                    Frequency\n",
       "Attribute         Value                      \n",
       "establishment_id  225446                 3532\n",
       "                  857258                 2948\n",
       "                  899222                 2218\n",
       "                  62625                  1412\n",
       "                  1126488                1267\n",
       "...                                       ...\n",
       "created_timestamp 22JAN24:16:48:00          1\n",
       "                  27FEB24:11:49:00          1\n",
       "                  13FEB24:01:22:00          1\n",
       "                  30AUG24:17:57:00          1\n",
       "year_filing_for   2023                 889447\n",
       "\n",
       "[1108932 rows x 1 columns]"
      ]
     },
     "execution_count": 7,
     "metadata": {},
     "output_type": "execute_result"
    }
   ],
   "source": [
    "def get_frequency_distribution(df):\n",
    "    \"\"\"\n",
    "    Creates a DataFrame where:\n",
    "    - Primary index: column names (attributes)\n",
    "    - Secondary index: unique values in each column\n",
    "    - Value column: frequency of each unique value\n",
    "\n",
    "    Parameters:\n",
    "    - df (pd.DataFrame): Input DataFrame.\n",
    "\n",
    "    Returns:\n",
    "    - pd.DataFrame: Frequency distribution as described.\n",
    "    \"\"\"\n",
    "    frequency_df = pd.concat(\n",
    "        {col: df[col].value_counts() for col in df.columns},\n",
    "        names=[\"Attribute\", \"Value\"],\n",
    "    ).reset_index(name=\"Frequency\")\n",
    "\n",
    "    # Set the index as required\n",
    "    return frequency_df.set_index([\"Attribute\", \"Value\"])\n",
    "\n",
    "\n",
    "df_frequency = get_frequency_distribution(df)\n",
    "df_frequency"
   ]
  },
  {
   "cell_type": "code",
   "execution_count": 8,
   "metadata": {
    "ExecuteTime": {
     "end_time": "2024-11-30T17:02:42.831776Z",
     "start_time": "2024-11-30T17:02:42.821032Z"
    }
   },
   "outputs": [],
   "source": [
    "def attribute_distribution(dataframe, attribute, plot_distribution=False):\n",
    "    \"\"\"\n",
    "    Calculates the distribution of values for a specified attribute in the dataset\n",
    "    and optionally plots the distribution using Plotly Express.\n",
    "\n",
    "    Parameters:\n",
    "        dataframe (pd.DataFrame): The DataFrame containing the dataset.\n",
    "        attribute (str): Column name of the attribute to analyze.\n",
    "        plot_distribution (bool): Whether to plot the distribution of the attribute.\n",
    "\n",
    "    Returns:\n",
    "        pd.DataFrame: A DataFrame with value counts and percentage distribution.\n",
    "    \"\"\"\n",
    "    if attribute not in dataframe.columns:\n",
    "        raise ValueError(f\"Attribute '{attribute}' not found in the dataset.\")\n",
    "\n",
    "    # Calculate value counts and percentage\n",
    "    counts = dataframe[attribute].value_counts()\n",
    "    percentages = (counts / counts.sum()) * 100\n",
    "\n",
    "    # Combine counts and percentages into a DataFrame\n",
    "    distribution = pd.DataFrame(\n",
    "        {\n",
    "            \"Value\": counts.index.astype(\n",
    "                str\n",
    "            ),  # Ensure all values are strings for categorical plotting\n",
    "            \"Frequency\": counts.values,\n",
    "            \"Percentage\": percentages.values,\n",
    "        }\n",
    "    ).set_index(\"Value\")\n",
    "\n",
    "    if not plot_distribution:\n",
    "        return distribution\n",
    "\n",
    "    fig = px.bar(\n",
    "        distribution.reset_index(),\n",
    "        x=\"Value\",\n",
    "        y=\"Percentage\",\n",
    "        text=\"Percentage\",\n",
    "        title=f\"Distribution of {attribute} (Percentage)\",\n",
    "        labels={\"Value\": \"Attribute Value\", \"Percentage\": \"Percentage (%)\"},\n",
    "    )\n",
    "    fig.update_traces(texttemplate=\"%{text:.2f}%\", textposition=\"outside\")\n",
    "    fig.update_layout(\n",
    "        xaxis=dict(title=\"Values\"),\n",
    "        yaxis=dict(title=\"Percentage (%)\"),\n",
    "        uniformtext_minsize=8,\n",
    "        uniformtext_mode=\"hide\",\n",
    "    )\n",
    "    fig.show()\n",
    "\n",
    "    return distribution"
   ]
  },
  {
   "cell_type": "code",
   "execution_count": 9,
   "metadata": {
    "ExecuteTime": {
     "end_time": "2024-11-30T17:02:45.179475Z",
     "start_time": "2024-11-30T17:02:42.838127Z"
    }
   },
   "outputs": [
    {
     "data": {
      "application/vnd.plotly.v1+json": {
       "config": {
        "plotlyServerURL": "https://plot.ly"
       },
       "data": [
        {
         "alignmentgroup": "True",
         "hovertemplate": "Attribute Value=%{x}<br>Percentage (%)=%{text}<extra></extra>",
         "legendgroup": "",
         "marker": {
          "color": "#636efa",
          "pattern": {
           "shape": ""
          }
         },
         "name": "",
         "offsetgroup": "",
         "orientation": "v",
         "showlegend": false,
         "text": [
          61.21050495420188,
          25.7282333854631,
          10.957932288264507,
          1.477772143815202,
          0.6255572282553092
         ],
         "textposition": "outside",
         "texttemplate": "%{text:.2f}%",
         "type": "bar",
         "x": [
          "3",
          "22",
          "21",
          "2",
          "1"
         ],
         "xaxis": "x",
         "y": [
          61.21050495420188,
          25.7282333854631,
          10.957932288264507,
          1.477772143815202,
          0.6255572282553092
         ],
         "yaxis": "y"
        }
       ],
       "layout": {
        "barmode": "relative",
        "legend": {
         "tracegroupgap": 0
        },
        "template": {
         "data": {
          "bar": [
           {
            "error_x": {
             "color": "#2a3f5f"
            },
            "error_y": {
             "color": "#2a3f5f"
            },
            "marker": {
             "line": {
              "color": "#E5ECF6",
              "width": 0.5
             },
             "pattern": {
              "fillmode": "overlay",
              "size": 10,
              "solidity": 0.2
             }
            },
            "type": "bar"
           }
          ],
          "barpolar": [
           {
            "marker": {
             "line": {
              "color": "#E5ECF6",
              "width": 0.5
             },
             "pattern": {
              "fillmode": "overlay",
              "size": 10,
              "solidity": 0.2
             }
            },
            "type": "barpolar"
           }
          ],
          "carpet": [
           {
            "aaxis": {
             "endlinecolor": "#2a3f5f",
             "gridcolor": "white",
             "linecolor": "white",
             "minorgridcolor": "white",
             "startlinecolor": "#2a3f5f"
            },
            "baxis": {
             "endlinecolor": "#2a3f5f",
             "gridcolor": "white",
             "linecolor": "white",
             "minorgridcolor": "white",
             "startlinecolor": "#2a3f5f"
            },
            "type": "carpet"
           }
          ],
          "choropleth": [
           {
            "colorbar": {
             "outlinewidth": 0,
             "ticks": ""
            },
            "type": "choropleth"
           }
          ],
          "contour": [
           {
            "colorbar": {
             "outlinewidth": 0,
             "ticks": ""
            },
            "colorscale": [
             [
              0,
              "#0d0887"
             ],
             [
              0.1111111111111111,
              "#46039f"
             ],
             [
              0.2222222222222222,
              "#7201a8"
             ],
             [
              0.3333333333333333,
              "#9c179e"
             ],
             [
              0.4444444444444444,
              "#bd3786"
             ],
             [
              0.5555555555555556,
              "#d8576b"
             ],
             [
              0.6666666666666666,
              "#ed7953"
             ],
             [
              0.7777777777777778,
              "#fb9f3a"
             ],
             [
              0.8888888888888888,
              "#fdca26"
             ],
             [
              1,
              "#f0f921"
             ]
            ],
            "type": "contour"
           }
          ],
          "contourcarpet": [
           {
            "colorbar": {
             "outlinewidth": 0,
             "ticks": ""
            },
            "type": "contourcarpet"
           }
          ],
          "heatmap": [
           {
            "colorbar": {
             "outlinewidth": 0,
             "ticks": ""
            },
            "colorscale": [
             [
              0,
              "#0d0887"
             ],
             [
              0.1111111111111111,
              "#46039f"
             ],
             [
              0.2222222222222222,
              "#7201a8"
             ],
             [
              0.3333333333333333,
              "#9c179e"
             ],
             [
              0.4444444444444444,
              "#bd3786"
             ],
             [
              0.5555555555555556,
              "#d8576b"
             ],
             [
              0.6666666666666666,
              "#ed7953"
             ],
             [
              0.7777777777777778,
              "#fb9f3a"
             ],
             [
              0.8888888888888888,
              "#fdca26"
             ],
             [
              1,
              "#f0f921"
             ]
            ],
            "type": "heatmap"
           }
          ],
          "heatmapgl": [
           {
            "colorbar": {
             "outlinewidth": 0,
             "ticks": ""
            },
            "colorscale": [
             [
              0,
              "#0d0887"
             ],
             [
              0.1111111111111111,
              "#46039f"
             ],
             [
              0.2222222222222222,
              "#7201a8"
             ],
             [
              0.3333333333333333,
              "#9c179e"
             ],
             [
              0.4444444444444444,
              "#bd3786"
             ],
             [
              0.5555555555555556,
              "#d8576b"
             ],
             [
              0.6666666666666666,
              "#ed7953"
             ],
             [
              0.7777777777777778,
              "#fb9f3a"
             ],
             [
              0.8888888888888888,
              "#fdca26"
             ],
             [
              1,
              "#f0f921"
             ]
            ],
            "type": "heatmapgl"
           }
          ],
          "histogram": [
           {
            "marker": {
             "pattern": {
              "fillmode": "overlay",
              "size": 10,
              "solidity": 0.2
             }
            },
            "type": "histogram"
           }
          ],
          "histogram2d": [
           {
            "colorbar": {
             "outlinewidth": 0,
             "ticks": ""
            },
            "colorscale": [
             [
              0,
              "#0d0887"
             ],
             [
              0.1111111111111111,
              "#46039f"
             ],
             [
              0.2222222222222222,
              "#7201a8"
             ],
             [
              0.3333333333333333,
              "#9c179e"
             ],
             [
              0.4444444444444444,
              "#bd3786"
             ],
             [
              0.5555555555555556,
              "#d8576b"
             ],
             [
              0.6666666666666666,
              "#ed7953"
             ],
             [
              0.7777777777777778,
              "#fb9f3a"
             ],
             [
              0.8888888888888888,
              "#fdca26"
             ],
             [
              1,
              "#f0f921"
             ]
            ],
            "type": "histogram2d"
           }
          ],
          "histogram2dcontour": [
           {
            "colorbar": {
             "outlinewidth": 0,
             "ticks": ""
            },
            "colorscale": [
             [
              0,
              "#0d0887"
             ],
             [
              0.1111111111111111,
              "#46039f"
             ],
             [
              0.2222222222222222,
              "#7201a8"
             ],
             [
              0.3333333333333333,
              "#9c179e"
             ],
             [
              0.4444444444444444,
              "#bd3786"
             ],
             [
              0.5555555555555556,
              "#d8576b"
             ],
             [
              0.6666666666666666,
              "#ed7953"
             ],
             [
              0.7777777777777778,
              "#fb9f3a"
             ],
             [
              0.8888888888888888,
              "#fdca26"
             ],
             [
              1,
              "#f0f921"
             ]
            ],
            "type": "histogram2dcontour"
           }
          ],
          "mesh3d": [
           {
            "colorbar": {
             "outlinewidth": 0,
             "ticks": ""
            },
            "type": "mesh3d"
           }
          ],
          "parcoords": [
           {
            "line": {
             "colorbar": {
              "outlinewidth": 0,
              "ticks": ""
             }
            },
            "type": "parcoords"
           }
          ],
          "pie": [
           {
            "automargin": true,
            "type": "pie"
           }
          ],
          "scatter": [
           {
            "fillpattern": {
             "fillmode": "overlay",
             "size": 10,
             "solidity": 0.2
            },
            "type": "scatter"
           }
          ],
          "scatter3d": [
           {
            "line": {
             "colorbar": {
              "outlinewidth": 0,
              "ticks": ""
             }
            },
            "marker": {
             "colorbar": {
              "outlinewidth": 0,
              "ticks": ""
             }
            },
            "type": "scatter3d"
           }
          ],
          "scattercarpet": [
           {
            "marker": {
             "colorbar": {
              "outlinewidth": 0,
              "ticks": ""
             }
            },
            "type": "scattercarpet"
           }
          ],
          "scattergeo": [
           {
            "marker": {
             "colorbar": {
              "outlinewidth": 0,
              "ticks": ""
             }
            },
            "type": "scattergeo"
           }
          ],
          "scattergl": [
           {
            "marker": {
             "colorbar": {
              "outlinewidth": 0,
              "ticks": ""
             }
            },
            "type": "scattergl"
           }
          ],
          "scattermapbox": [
           {
            "marker": {
             "colorbar": {
              "outlinewidth": 0,
              "ticks": ""
             }
            },
            "type": "scattermapbox"
           }
          ],
          "scatterpolar": [
           {
            "marker": {
             "colorbar": {
              "outlinewidth": 0,
              "ticks": ""
             }
            },
            "type": "scatterpolar"
           }
          ],
          "scatterpolargl": [
           {
            "marker": {
             "colorbar": {
              "outlinewidth": 0,
              "ticks": ""
             }
            },
            "type": "scatterpolargl"
           }
          ],
          "scatterternary": [
           {
            "marker": {
             "colorbar": {
              "outlinewidth": 0,
              "ticks": ""
             }
            },
            "type": "scatterternary"
           }
          ],
          "surface": [
           {
            "colorbar": {
             "outlinewidth": 0,
             "ticks": ""
            },
            "colorscale": [
             [
              0,
              "#0d0887"
             ],
             [
              0.1111111111111111,
              "#46039f"
             ],
             [
              0.2222222222222222,
              "#7201a8"
             ],
             [
              0.3333333333333333,
              "#9c179e"
             ],
             [
              0.4444444444444444,
              "#bd3786"
             ],
             [
              0.5555555555555556,
              "#d8576b"
             ],
             [
              0.6666666666666666,
              "#ed7953"
             ],
             [
              0.7777777777777778,
              "#fb9f3a"
             ],
             [
              0.8888888888888888,
              "#fdca26"
             ],
             [
              1,
              "#f0f921"
             ]
            ],
            "type": "surface"
           }
          ],
          "table": [
           {
            "cells": {
             "fill": {
              "color": "#EBF0F8"
             },
             "line": {
              "color": "white"
             }
            },
            "header": {
             "fill": {
              "color": "#C8D4E3"
             },
             "line": {
              "color": "white"
             }
            },
            "type": "table"
           }
          ]
         },
         "layout": {
          "annotationdefaults": {
           "arrowcolor": "#2a3f5f",
           "arrowhead": 0,
           "arrowwidth": 1
          },
          "autotypenumbers": "strict",
          "coloraxis": {
           "colorbar": {
            "outlinewidth": 0,
            "ticks": ""
           }
          },
          "colorscale": {
           "diverging": [
            [
             0,
             "#8e0152"
            ],
            [
             0.1,
             "#c51b7d"
            ],
            [
             0.2,
             "#de77ae"
            ],
            [
             0.3,
             "#f1b6da"
            ],
            [
             0.4,
             "#fde0ef"
            ],
            [
             0.5,
             "#f7f7f7"
            ],
            [
             0.6,
             "#e6f5d0"
            ],
            [
             0.7,
             "#b8e186"
            ],
            [
             0.8,
             "#7fbc41"
            ],
            [
             0.9,
             "#4d9221"
            ],
            [
             1,
             "#276419"
            ]
           ],
           "sequential": [
            [
             0,
             "#0d0887"
            ],
            [
             0.1111111111111111,
             "#46039f"
            ],
            [
             0.2222222222222222,
             "#7201a8"
            ],
            [
             0.3333333333333333,
             "#9c179e"
            ],
            [
             0.4444444444444444,
             "#bd3786"
            ],
            [
             0.5555555555555556,
             "#d8576b"
            ],
            [
             0.6666666666666666,
             "#ed7953"
            ],
            [
             0.7777777777777778,
             "#fb9f3a"
            ],
            [
             0.8888888888888888,
             "#fdca26"
            ],
            [
             1,
             "#f0f921"
            ]
           ],
           "sequentialminus": [
            [
             0,
             "#0d0887"
            ],
            [
             0.1111111111111111,
             "#46039f"
            ],
            [
             0.2222222222222222,
             "#7201a8"
            ],
            [
             0.3333333333333333,
             "#9c179e"
            ],
            [
             0.4444444444444444,
             "#bd3786"
            ],
            [
             0.5555555555555556,
             "#d8576b"
            ],
            [
             0.6666666666666666,
             "#ed7953"
            ],
            [
             0.7777777777777778,
             "#fb9f3a"
            ],
            [
             0.8888888888888888,
             "#fdca26"
            ],
            [
             1,
             "#f0f921"
            ]
           ]
          },
          "colorway": [
           "#636efa",
           "#EF553B",
           "#00cc96",
           "#ab63fa",
           "#FFA15A",
           "#19d3f3",
           "#FF6692",
           "#B6E880",
           "#FF97FF",
           "#FECB52"
          ],
          "font": {
           "color": "#2a3f5f"
          },
          "geo": {
           "bgcolor": "white",
           "lakecolor": "white",
           "landcolor": "#E5ECF6",
           "showlakes": true,
           "showland": true,
           "subunitcolor": "white"
          },
          "hoverlabel": {
           "align": "left"
          },
          "hovermode": "closest",
          "mapbox": {
           "style": "light"
          },
          "paper_bgcolor": "white",
          "plot_bgcolor": "#E5ECF6",
          "polar": {
           "angularaxis": {
            "gridcolor": "white",
            "linecolor": "white",
            "ticks": ""
           },
           "bgcolor": "#E5ECF6",
           "radialaxis": {
            "gridcolor": "white",
            "linecolor": "white",
            "ticks": ""
           }
          },
          "scene": {
           "xaxis": {
            "backgroundcolor": "#E5ECF6",
            "gridcolor": "white",
            "gridwidth": 2,
            "linecolor": "white",
            "showbackground": true,
            "ticks": "",
            "zerolinecolor": "white"
           },
           "yaxis": {
            "backgroundcolor": "#E5ECF6",
            "gridcolor": "white",
            "gridwidth": 2,
            "linecolor": "white",
            "showbackground": true,
            "ticks": "",
            "zerolinecolor": "white"
           },
           "zaxis": {
            "backgroundcolor": "#E5ECF6",
            "gridcolor": "white",
            "gridwidth": 2,
            "linecolor": "white",
            "showbackground": true,
            "ticks": "",
            "zerolinecolor": "white"
           }
          },
          "shapedefaults": {
           "line": {
            "color": "#2a3f5f"
           }
          },
          "ternary": {
           "aaxis": {
            "gridcolor": "white",
            "linecolor": "white",
            "ticks": ""
           },
           "baxis": {
            "gridcolor": "white",
            "linecolor": "white",
            "ticks": ""
           },
           "bgcolor": "#E5ECF6",
           "caxis": {
            "gridcolor": "white",
            "linecolor": "white",
            "ticks": ""
           }
          },
          "title": {
           "x": 0.05
          },
          "xaxis": {
           "automargin": true,
           "gridcolor": "white",
           "linecolor": "white",
           "ticks": "",
           "title": {
            "standoff": 15
           },
           "zerolinecolor": "white",
           "zerolinewidth": 2
          },
          "yaxis": {
           "automargin": true,
           "gridcolor": "white",
           "linecolor": "white",
           "ticks": "",
           "title": {
            "standoff": 15
           },
           "zerolinecolor": "white",
           "zerolinewidth": 2
          }
         }
        },
        "title": {
         "text": "Distribution of size (Percentage)"
        },
        "uniformtext": {
         "minsize": 8,
         "mode": "hide"
        },
        "xaxis": {
         "anchor": "y",
         "domain": [
          0,
          1
         ],
         "title": {
          "text": "Values"
         }
        },
        "yaxis": {
         "anchor": "x",
         "domain": [
          0,
          1
         ],
         "title": {
          "text": "Percentage (%)"
         }
        }
       }
      }
     },
     "metadata": {},
     "output_type": "display_data"
    },
    {
     "data": {
      "text/html": [
       "<div>\n",
       "<style scoped>\n",
       "    .dataframe tbody tr th:only-of-type {\n",
       "        vertical-align: middle;\n",
       "    }\n",
       "\n",
       "    .dataframe tbody tr th {\n",
       "        vertical-align: top;\n",
       "    }\n",
       "\n",
       "    .dataframe thead th {\n",
       "        text-align: right;\n",
       "    }\n",
       "</style>\n",
       "<table border=\"1\" class=\"dataframe\">\n",
       "  <thead>\n",
       "    <tr style=\"text-align: right;\">\n",
       "      <th></th>\n",
       "      <th>Frequency</th>\n",
       "      <th>Percentage</th>\n",
       "    </tr>\n",
       "    <tr>\n",
       "      <th>Value</th>\n",
       "      <th></th>\n",
       "      <th></th>\n",
       "    </tr>\n",
       "  </thead>\n",
       "  <tbody>\n",
       "    <tr>\n",
       "      <th>3</th>\n",
       "      <td>544435</td>\n",
       "      <td>61.210505</td>\n",
       "    </tr>\n",
       "    <tr>\n",
       "      <th>22</th>\n",
       "      <td>228839</td>\n",
       "      <td>25.728233</td>\n",
       "    </tr>\n",
       "    <tr>\n",
       "      <th>21</th>\n",
       "      <td>97465</td>\n",
       "      <td>10.957932</td>\n",
       "    </tr>\n",
       "    <tr>\n",
       "      <th>2</th>\n",
       "      <td>13144</td>\n",
       "      <td>1.477772</td>\n",
       "    </tr>\n",
       "    <tr>\n",
       "      <th>1</th>\n",
       "      <td>5564</td>\n",
       "      <td>0.625557</td>\n",
       "    </tr>\n",
       "  </tbody>\n",
       "</table>\n",
       "</div>"
      ],
      "text/plain": [
       "       Frequency  Percentage\n",
       "Value                       \n",
       "3         544435   61.210505\n",
       "22        228839   25.728233\n",
       "21         97465   10.957932\n",
       "2          13144    1.477772\n",
       "1           5564    0.625557"
      ]
     },
     "execution_count": 9,
     "metadata": {},
     "output_type": "execute_result"
    }
   ],
   "source": [
    "# Single attribute\n",
    "attribute_distribution(df, \"size\", True)"
   ]
  },
  {
   "cell_type": "code",
   "execution_count": 10,
   "metadata": {},
   "outputs": [],
   "source": [
    "# # All attributes\n",
    "# for column_name in df.columns:\n",
    "#     print(attribute_distribution(df, column_name, False))"
   ]
  },
  {
   "cell_type": "markdown",
   "metadata": {},
   "source": [
    "### (e) Try to describe the data set in just a few sentences. How is the data provided? Which kind of attributes are contained in the data set? How large is the data set in terms of the number of those elements (teams, matches, players, historic data, extra records, and so on)?"
   ]
  },
  {
   "cell_type": "markdown",
   "metadata": {},
   "source": [
    "The OSHA Injury Tracking Application (ITA) dataset is a structured repository of work-related injury and illness records reported by establishments with 100 or more employees in high-hazard industries. The data is provided as a CSV file and contains attributes related to establishments (e.g., name, location, industry), incidents (e.g., date, type, outcome, days away from work), and employee roles (e.g., job title, Standard Occupation Codes). Additional narrative fields describe incidents and injuries in detail. The dataset size depends on the reporting frequency but typically includes thousands of records, each representing a unique incident, with detailed fields linking establishments, incidents, and employees for comprehensive analysis."
   ]
  },
  {
   "cell_type": "markdown",
   "metadata": {},
   "source": [
    "### (f) Analyze the errors and missing values. Write a function to count how many missing values per attribute and per entry you have. Analyze what are the most relevant missing values that might hinder the analysis according to you."
   ]
  },
  {
   "cell_type": "code",
   "execution_count": 11,
   "metadata": {
    "ExecuteTime": {
     "end_time": "2024-11-30T17:02:47.639404Z",
     "start_time": "2024-11-30T17:02:45.186414Z"
    }
   },
   "outputs": [
    {
     "data": {
      "application/vnd.plotly.v1+json": {
       "config": {
        "plotlyServerURL": "https://plot.ly"
       },
       "data": [
        {
         "alignmentgroup": "True",
         "hovertemplate": "Attribute=%{x}<br>Percentage_Missing=%{text}<extra></extra>",
         "legendgroup": "",
         "marker": {
          "color": "#636efa",
          "pattern": {
           "shape": ""
          }
         },
         "name": "",
         "offsetgroup": "",
         "orientation": "v",
         "showlegend": false,
         "text": [
          99.96863219506052,
          12.579838933629548,
          12.476066589689998,
          8.603660476678206,
          6.723166192027182,
          5.515337057744869,
          0.41081705823955783,
          0.2303678577812956,
          0.2118170053977359,
          0.14312263687437252,
          0.0014615823090077318,
          0.00011242940838521013
         ],
         "textposition": "outside",
         "texttemplate": "%{text:.2f}%",
         "type": "bar",
         "x": [
          "date_of_death",
          "time_started_work",
          "time_of_incident",
          "ein",
          "industry_description",
          "company_name",
          "job_description",
          "time_unknown",
          "establishment_type",
          "naics_year",
          "case_number",
          "street_address"
         ],
         "xaxis": "x",
         "y": [
          99.96863219506052,
          12.579838933629548,
          12.476066589689998,
          8.603660476678206,
          6.723166192027182,
          5.515337057744869,
          0.41081705823955783,
          0.2303678577812956,
          0.2118170053977359,
          0.14312263687437252,
          0.0014615823090077318,
          0.00011242940838521013
         ],
         "yaxis": "y"
        }
       ],
       "layout": {
        "barmode": "relative",
        "legend": {
         "tracegroupgap": 0
        },
        "showlegend": false,
        "template": {
         "data": {
          "bar": [
           {
            "error_x": {
             "color": "#2a3f5f"
            },
            "error_y": {
             "color": "#2a3f5f"
            },
            "marker": {
             "line": {
              "color": "#E5ECF6",
              "width": 0.5
             },
             "pattern": {
              "fillmode": "overlay",
              "size": 10,
              "solidity": 0.2
             }
            },
            "type": "bar"
           }
          ],
          "barpolar": [
           {
            "marker": {
             "line": {
              "color": "#E5ECF6",
              "width": 0.5
             },
             "pattern": {
              "fillmode": "overlay",
              "size": 10,
              "solidity": 0.2
             }
            },
            "type": "barpolar"
           }
          ],
          "carpet": [
           {
            "aaxis": {
             "endlinecolor": "#2a3f5f",
             "gridcolor": "white",
             "linecolor": "white",
             "minorgridcolor": "white",
             "startlinecolor": "#2a3f5f"
            },
            "baxis": {
             "endlinecolor": "#2a3f5f",
             "gridcolor": "white",
             "linecolor": "white",
             "minorgridcolor": "white",
             "startlinecolor": "#2a3f5f"
            },
            "type": "carpet"
           }
          ],
          "choropleth": [
           {
            "colorbar": {
             "outlinewidth": 0,
             "ticks": ""
            },
            "type": "choropleth"
           }
          ],
          "contour": [
           {
            "colorbar": {
             "outlinewidth": 0,
             "ticks": ""
            },
            "colorscale": [
             [
              0,
              "#0d0887"
             ],
             [
              0.1111111111111111,
              "#46039f"
             ],
             [
              0.2222222222222222,
              "#7201a8"
             ],
             [
              0.3333333333333333,
              "#9c179e"
             ],
             [
              0.4444444444444444,
              "#bd3786"
             ],
             [
              0.5555555555555556,
              "#d8576b"
             ],
             [
              0.6666666666666666,
              "#ed7953"
             ],
             [
              0.7777777777777778,
              "#fb9f3a"
             ],
             [
              0.8888888888888888,
              "#fdca26"
             ],
             [
              1,
              "#f0f921"
             ]
            ],
            "type": "contour"
           }
          ],
          "contourcarpet": [
           {
            "colorbar": {
             "outlinewidth": 0,
             "ticks": ""
            },
            "type": "contourcarpet"
           }
          ],
          "heatmap": [
           {
            "colorbar": {
             "outlinewidth": 0,
             "ticks": ""
            },
            "colorscale": [
             [
              0,
              "#0d0887"
             ],
             [
              0.1111111111111111,
              "#46039f"
             ],
             [
              0.2222222222222222,
              "#7201a8"
             ],
             [
              0.3333333333333333,
              "#9c179e"
             ],
             [
              0.4444444444444444,
              "#bd3786"
             ],
             [
              0.5555555555555556,
              "#d8576b"
             ],
             [
              0.6666666666666666,
              "#ed7953"
             ],
             [
              0.7777777777777778,
              "#fb9f3a"
             ],
             [
              0.8888888888888888,
              "#fdca26"
             ],
             [
              1,
              "#f0f921"
             ]
            ],
            "type": "heatmap"
           }
          ],
          "heatmapgl": [
           {
            "colorbar": {
             "outlinewidth": 0,
             "ticks": ""
            },
            "colorscale": [
             [
              0,
              "#0d0887"
             ],
             [
              0.1111111111111111,
              "#46039f"
             ],
             [
              0.2222222222222222,
              "#7201a8"
             ],
             [
              0.3333333333333333,
              "#9c179e"
             ],
             [
              0.4444444444444444,
              "#bd3786"
             ],
             [
              0.5555555555555556,
              "#d8576b"
             ],
             [
              0.6666666666666666,
              "#ed7953"
             ],
             [
              0.7777777777777778,
              "#fb9f3a"
             ],
             [
              0.8888888888888888,
              "#fdca26"
             ],
             [
              1,
              "#f0f921"
             ]
            ],
            "type": "heatmapgl"
           }
          ],
          "histogram": [
           {
            "marker": {
             "pattern": {
              "fillmode": "overlay",
              "size": 10,
              "solidity": 0.2
             }
            },
            "type": "histogram"
           }
          ],
          "histogram2d": [
           {
            "colorbar": {
             "outlinewidth": 0,
             "ticks": ""
            },
            "colorscale": [
             [
              0,
              "#0d0887"
             ],
             [
              0.1111111111111111,
              "#46039f"
             ],
             [
              0.2222222222222222,
              "#7201a8"
             ],
             [
              0.3333333333333333,
              "#9c179e"
             ],
             [
              0.4444444444444444,
              "#bd3786"
             ],
             [
              0.5555555555555556,
              "#d8576b"
             ],
             [
              0.6666666666666666,
              "#ed7953"
             ],
             [
              0.7777777777777778,
              "#fb9f3a"
             ],
             [
              0.8888888888888888,
              "#fdca26"
             ],
             [
              1,
              "#f0f921"
             ]
            ],
            "type": "histogram2d"
           }
          ],
          "histogram2dcontour": [
           {
            "colorbar": {
             "outlinewidth": 0,
             "ticks": ""
            },
            "colorscale": [
             [
              0,
              "#0d0887"
             ],
             [
              0.1111111111111111,
              "#46039f"
             ],
             [
              0.2222222222222222,
              "#7201a8"
             ],
             [
              0.3333333333333333,
              "#9c179e"
             ],
             [
              0.4444444444444444,
              "#bd3786"
             ],
             [
              0.5555555555555556,
              "#d8576b"
             ],
             [
              0.6666666666666666,
              "#ed7953"
             ],
             [
              0.7777777777777778,
              "#fb9f3a"
             ],
             [
              0.8888888888888888,
              "#fdca26"
             ],
             [
              1,
              "#f0f921"
             ]
            ],
            "type": "histogram2dcontour"
           }
          ],
          "mesh3d": [
           {
            "colorbar": {
             "outlinewidth": 0,
             "ticks": ""
            },
            "type": "mesh3d"
           }
          ],
          "parcoords": [
           {
            "line": {
             "colorbar": {
              "outlinewidth": 0,
              "ticks": ""
             }
            },
            "type": "parcoords"
           }
          ],
          "pie": [
           {
            "automargin": true,
            "type": "pie"
           }
          ],
          "scatter": [
           {
            "fillpattern": {
             "fillmode": "overlay",
             "size": 10,
             "solidity": 0.2
            },
            "type": "scatter"
           }
          ],
          "scatter3d": [
           {
            "line": {
             "colorbar": {
              "outlinewidth": 0,
              "ticks": ""
             }
            },
            "marker": {
             "colorbar": {
              "outlinewidth": 0,
              "ticks": ""
             }
            },
            "type": "scatter3d"
           }
          ],
          "scattercarpet": [
           {
            "marker": {
             "colorbar": {
              "outlinewidth": 0,
              "ticks": ""
             }
            },
            "type": "scattercarpet"
           }
          ],
          "scattergeo": [
           {
            "marker": {
             "colorbar": {
              "outlinewidth": 0,
              "ticks": ""
             }
            },
            "type": "scattergeo"
           }
          ],
          "scattergl": [
           {
            "marker": {
             "colorbar": {
              "outlinewidth": 0,
              "ticks": ""
             }
            },
            "type": "scattergl"
           }
          ],
          "scattermapbox": [
           {
            "marker": {
             "colorbar": {
              "outlinewidth": 0,
              "ticks": ""
             }
            },
            "type": "scattermapbox"
           }
          ],
          "scatterpolar": [
           {
            "marker": {
             "colorbar": {
              "outlinewidth": 0,
              "ticks": ""
             }
            },
            "type": "scatterpolar"
           }
          ],
          "scatterpolargl": [
           {
            "marker": {
             "colorbar": {
              "outlinewidth": 0,
              "ticks": ""
             }
            },
            "type": "scatterpolargl"
           }
          ],
          "scatterternary": [
           {
            "marker": {
             "colorbar": {
              "outlinewidth": 0,
              "ticks": ""
             }
            },
            "type": "scatterternary"
           }
          ],
          "surface": [
           {
            "colorbar": {
             "outlinewidth": 0,
             "ticks": ""
            },
            "colorscale": [
             [
              0,
              "#0d0887"
             ],
             [
              0.1111111111111111,
              "#46039f"
             ],
             [
              0.2222222222222222,
              "#7201a8"
             ],
             [
              0.3333333333333333,
              "#9c179e"
             ],
             [
              0.4444444444444444,
              "#bd3786"
             ],
             [
              0.5555555555555556,
              "#d8576b"
             ],
             [
              0.6666666666666666,
              "#ed7953"
             ],
             [
              0.7777777777777778,
              "#fb9f3a"
             ],
             [
              0.8888888888888888,
              "#fdca26"
             ],
             [
              1,
              "#f0f921"
             ]
            ],
            "type": "surface"
           }
          ],
          "table": [
           {
            "cells": {
             "fill": {
              "color": "#EBF0F8"
             },
             "line": {
              "color": "white"
             }
            },
            "header": {
             "fill": {
              "color": "#C8D4E3"
             },
             "line": {
              "color": "white"
             }
            },
            "type": "table"
           }
          ]
         },
         "layout": {
          "annotationdefaults": {
           "arrowcolor": "#2a3f5f",
           "arrowhead": 0,
           "arrowwidth": 1
          },
          "autotypenumbers": "strict",
          "coloraxis": {
           "colorbar": {
            "outlinewidth": 0,
            "ticks": ""
           }
          },
          "colorscale": {
           "diverging": [
            [
             0,
             "#8e0152"
            ],
            [
             0.1,
             "#c51b7d"
            ],
            [
             0.2,
             "#de77ae"
            ],
            [
             0.3,
             "#f1b6da"
            ],
            [
             0.4,
             "#fde0ef"
            ],
            [
             0.5,
             "#f7f7f7"
            ],
            [
             0.6,
             "#e6f5d0"
            ],
            [
             0.7,
             "#b8e186"
            ],
            [
             0.8,
             "#7fbc41"
            ],
            [
             0.9,
             "#4d9221"
            ],
            [
             1,
             "#276419"
            ]
           ],
           "sequential": [
            [
             0,
             "#0d0887"
            ],
            [
             0.1111111111111111,
             "#46039f"
            ],
            [
             0.2222222222222222,
             "#7201a8"
            ],
            [
             0.3333333333333333,
             "#9c179e"
            ],
            [
             0.4444444444444444,
             "#bd3786"
            ],
            [
             0.5555555555555556,
             "#d8576b"
            ],
            [
             0.6666666666666666,
             "#ed7953"
            ],
            [
             0.7777777777777778,
             "#fb9f3a"
            ],
            [
             0.8888888888888888,
             "#fdca26"
            ],
            [
             1,
             "#f0f921"
            ]
           ],
           "sequentialminus": [
            [
             0,
             "#0d0887"
            ],
            [
             0.1111111111111111,
             "#46039f"
            ],
            [
             0.2222222222222222,
             "#7201a8"
            ],
            [
             0.3333333333333333,
             "#9c179e"
            ],
            [
             0.4444444444444444,
             "#bd3786"
            ],
            [
             0.5555555555555556,
             "#d8576b"
            ],
            [
             0.6666666666666666,
             "#ed7953"
            ],
            [
             0.7777777777777778,
             "#fb9f3a"
            ],
            [
             0.8888888888888888,
             "#fdca26"
            ],
            [
             1,
             "#f0f921"
            ]
           ]
          },
          "colorway": [
           "#636efa",
           "#EF553B",
           "#00cc96",
           "#ab63fa",
           "#FFA15A",
           "#19d3f3",
           "#FF6692",
           "#B6E880",
           "#FF97FF",
           "#FECB52"
          ],
          "font": {
           "color": "#2a3f5f"
          },
          "geo": {
           "bgcolor": "white",
           "lakecolor": "white",
           "landcolor": "#E5ECF6",
           "showlakes": true,
           "showland": true,
           "subunitcolor": "white"
          },
          "hoverlabel": {
           "align": "left"
          },
          "hovermode": "closest",
          "mapbox": {
           "style": "light"
          },
          "paper_bgcolor": "white",
          "plot_bgcolor": "#E5ECF6",
          "polar": {
           "angularaxis": {
            "gridcolor": "white",
            "linecolor": "white",
            "ticks": ""
           },
           "bgcolor": "#E5ECF6",
           "radialaxis": {
            "gridcolor": "white",
            "linecolor": "white",
            "ticks": ""
           }
          },
          "scene": {
           "xaxis": {
            "backgroundcolor": "#E5ECF6",
            "gridcolor": "white",
            "gridwidth": 2,
            "linecolor": "white",
            "showbackground": true,
            "ticks": "",
            "zerolinecolor": "white"
           },
           "yaxis": {
            "backgroundcolor": "#E5ECF6",
            "gridcolor": "white",
            "gridwidth": 2,
            "linecolor": "white",
            "showbackground": true,
            "ticks": "",
            "zerolinecolor": "white"
           },
           "zaxis": {
            "backgroundcolor": "#E5ECF6",
            "gridcolor": "white",
            "gridwidth": 2,
            "linecolor": "white",
            "showbackground": true,
            "ticks": "",
            "zerolinecolor": "white"
           }
          },
          "shapedefaults": {
           "line": {
            "color": "#2a3f5f"
           }
          },
          "ternary": {
           "aaxis": {
            "gridcolor": "white",
            "linecolor": "white",
            "ticks": ""
           },
           "baxis": {
            "gridcolor": "white",
            "linecolor": "white",
            "ticks": ""
           },
           "bgcolor": "#E5ECF6",
           "caxis": {
            "gridcolor": "white",
            "linecolor": "white",
            "ticks": ""
           }
          },
          "title": {
           "x": 0.05
          },
          "xaxis": {
           "automargin": true,
           "gridcolor": "white",
           "linecolor": "white",
           "ticks": "",
           "title": {
            "standoff": 15
           },
           "zerolinecolor": "white",
           "zerolinewidth": 2
          },
          "yaxis": {
           "automargin": true,
           "gridcolor": "white",
           "linecolor": "white",
           "ticks": "",
           "title": {
            "standoff": 15
           },
           "zerolinecolor": "white",
           "zerolinewidth": 2
          }
         }
        },
        "title": {
         "text": "Missing Values Per Attribute (Sorted by Percentage)"
        },
        "uniformtext": {
         "minsize": 8,
         "mode": "hide"
        },
        "xaxis": {
         "anchor": "y",
         "domain": [
          0,
          1
         ],
         "tickangle": 45,
         "title": {
          "text": "Attributes"
         }
        },
        "yaxis": {
         "anchor": "x",
         "domain": [
          0,
          1
         ],
         "title": {
          "text": "Percentage Missing (%)"
         }
        }
       }
      }
     },
     "metadata": {},
     "output_type": "display_data"
    },
    {
     "data": {
      "application/vnd.plotly.v1+json": {
       "config": {
        "plotlyServerURL": "https://plot.ly"
       },
       "data": [
        {
         "alignmentgroup": "True",
         "hovertemplate": "Number of Missing Values=%{x}<br>Number of Rows=%{text}<extra></extra>",
         "legendgroup": "",
         "marker": {
          "color": "#636efa",
          "pattern": {
           "shape": ""
          }
         },
         "name": "",
         "offsetgroup": "",
         "orientation": "v",
         "showlegend": false,
         "text": [
          201,
          603667,
          178776,
          85337,
          18306,
          3134,
          25,
          1
         ],
         "textposition": "outside",
         "texttemplate": "%{text}",
         "type": "bar",
         "x": [
          0,
          1,
          2,
          3,
          4,
          5,
          6,
          7
         ],
         "xaxis": "x",
         "y": [
          201,
          603667,
          178776,
          85337,
          18306,
          3134,
          25,
          1
         ],
         "yaxis": "y"
        }
       ],
       "layout": {
        "barmode": "relative",
        "legend": {
         "tracegroupgap": 0
        },
        "showlegend": false,
        "template": {
         "data": {
          "bar": [
           {
            "error_x": {
             "color": "#2a3f5f"
            },
            "error_y": {
             "color": "#2a3f5f"
            },
            "marker": {
             "line": {
              "color": "#E5ECF6",
              "width": 0.5
             },
             "pattern": {
              "fillmode": "overlay",
              "size": 10,
              "solidity": 0.2
             }
            },
            "type": "bar"
           }
          ],
          "barpolar": [
           {
            "marker": {
             "line": {
              "color": "#E5ECF6",
              "width": 0.5
             },
             "pattern": {
              "fillmode": "overlay",
              "size": 10,
              "solidity": 0.2
             }
            },
            "type": "barpolar"
           }
          ],
          "carpet": [
           {
            "aaxis": {
             "endlinecolor": "#2a3f5f",
             "gridcolor": "white",
             "linecolor": "white",
             "minorgridcolor": "white",
             "startlinecolor": "#2a3f5f"
            },
            "baxis": {
             "endlinecolor": "#2a3f5f",
             "gridcolor": "white",
             "linecolor": "white",
             "minorgridcolor": "white",
             "startlinecolor": "#2a3f5f"
            },
            "type": "carpet"
           }
          ],
          "choropleth": [
           {
            "colorbar": {
             "outlinewidth": 0,
             "ticks": ""
            },
            "type": "choropleth"
           }
          ],
          "contour": [
           {
            "colorbar": {
             "outlinewidth": 0,
             "ticks": ""
            },
            "colorscale": [
             [
              0,
              "#0d0887"
             ],
             [
              0.1111111111111111,
              "#46039f"
             ],
             [
              0.2222222222222222,
              "#7201a8"
             ],
             [
              0.3333333333333333,
              "#9c179e"
             ],
             [
              0.4444444444444444,
              "#bd3786"
             ],
             [
              0.5555555555555556,
              "#d8576b"
             ],
             [
              0.6666666666666666,
              "#ed7953"
             ],
             [
              0.7777777777777778,
              "#fb9f3a"
             ],
             [
              0.8888888888888888,
              "#fdca26"
             ],
             [
              1,
              "#f0f921"
             ]
            ],
            "type": "contour"
           }
          ],
          "contourcarpet": [
           {
            "colorbar": {
             "outlinewidth": 0,
             "ticks": ""
            },
            "type": "contourcarpet"
           }
          ],
          "heatmap": [
           {
            "colorbar": {
             "outlinewidth": 0,
             "ticks": ""
            },
            "colorscale": [
             [
              0,
              "#0d0887"
             ],
             [
              0.1111111111111111,
              "#46039f"
             ],
             [
              0.2222222222222222,
              "#7201a8"
             ],
             [
              0.3333333333333333,
              "#9c179e"
             ],
             [
              0.4444444444444444,
              "#bd3786"
             ],
             [
              0.5555555555555556,
              "#d8576b"
             ],
             [
              0.6666666666666666,
              "#ed7953"
             ],
             [
              0.7777777777777778,
              "#fb9f3a"
             ],
             [
              0.8888888888888888,
              "#fdca26"
             ],
             [
              1,
              "#f0f921"
             ]
            ],
            "type": "heatmap"
           }
          ],
          "heatmapgl": [
           {
            "colorbar": {
             "outlinewidth": 0,
             "ticks": ""
            },
            "colorscale": [
             [
              0,
              "#0d0887"
             ],
             [
              0.1111111111111111,
              "#46039f"
             ],
             [
              0.2222222222222222,
              "#7201a8"
             ],
             [
              0.3333333333333333,
              "#9c179e"
             ],
             [
              0.4444444444444444,
              "#bd3786"
             ],
             [
              0.5555555555555556,
              "#d8576b"
             ],
             [
              0.6666666666666666,
              "#ed7953"
             ],
             [
              0.7777777777777778,
              "#fb9f3a"
             ],
             [
              0.8888888888888888,
              "#fdca26"
             ],
             [
              1,
              "#f0f921"
             ]
            ],
            "type": "heatmapgl"
           }
          ],
          "histogram": [
           {
            "marker": {
             "pattern": {
              "fillmode": "overlay",
              "size": 10,
              "solidity": 0.2
             }
            },
            "type": "histogram"
           }
          ],
          "histogram2d": [
           {
            "colorbar": {
             "outlinewidth": 0,
             "ticks": ""
            },
            "colorscale": [
             [
              0,
              "#0d0887"
             ],
             [
              0.1111111111111111,
              "#46039f"
             ],
             [
              0.2222222222222222,
              "#7201a8"
             ],
             [
              0.3333333333333333,
              "#9c179e"
             ],
             [
              0.4444444444444444,
              "#bd3786"
             ],
             [
              0.5555555555555556,
              "#d8576b"
             ],
             [
              0.6666666666666666,
              "#ed7953"
             ],
             [
              0.7777777777777778,
              "#fb9f3a"
             ],
             [
              0.8888888888888888,
              "#fdca26"
             ],
             [
              1,
              "#f0f921"
             ]
            ],
            "type": "histogram2d"
           }
          ],
          "histogram2dcontour": [
           {
            "colorbar": {
             "outlinewidth": 0,
             "ticks": ""
            },
            "colorscale": [
             [
              0,
              "#0d0887"
             ],
             [
              0.1111111111111111,
              "#46039f"
             ],
             [
              0.2222222222222222,
              "#7201a8"
             ],
             [
              0.3333333333333333,
              "#9c179e"
             ],
             [
              0.4444444444444444,
              "#bd3786"
             ],
             [
              0.5555555555555556,
              "#d8576b"
             ],
             [
              0.6666666666666666,
              "#ed7953"
             ],
             [
              0.7777777777777778,
              "#fb9f3a"
             ],
             [
              0.8888888888888888,
              "#fdca26"
             ],
             [
              1,
              "#f0f921"
             ]
            ],
            "type": "histogram2dcontour"
           }
          ],
          "mesh3d": [
           {
            "colorbar": {
             "outlinewidth": 0,
             "ticks": ""
            },
            "type": "mesh3d"
           }
          ],
          "parcoords": [
           {
            "line": {
             "colorbar": {
              "outlinewidth": 0,
              "ticks": ""
             }
            },
            "type": "parcoords"
           }
          ],
          "pie": [
           {
            "automargin": true,
            "type": "pie"
           }
          ],
          "scatter": [
           {
            "fillpattern": {
             "fillmode": "overlay",
             "size": 10,
             "solidity": 0.2
            },
            "type": "scatter"
           }
          ],
          "scatter3d": [
           {
            "line": {
             "colorbar": {
              "outlinewidth": 0,
              "ticks": ""
             }
            },
            "marker": {
             "colorbar": {
              "outlinewidth": 0,
              "ticks": ""
             }
            },
            "type": "scatter3d"
           }
          ],
          "scattercarpet": [
           {
            "marker": {
             "colorbar": {
              "outlinewidth": 0,
              "ticks": ""
             }
            },
            "type": "scattercarpet"
           }
          ],
          "scattergeo": [
           {
            "marker": {
             "colorbar": {
              "outlinewidth": 0,
              "ticks": ""
             }
            },
            "type": "scattergeo"
           }
          ],
          "scattergl": [
           {
            "marker": {
             "colorbar": {
              "outlinewidth": 0,
              "ticks": ""
             }
            },
            "type": "scattergl"
           }
          ],
          "scattermapbox": [
           {
            "marker": {
             "colorbar": {
              "outlinewidth": 0,
              "ticks": ""
             }
            },
            "type": "scattermapbox"
           }
          ],
          "scatterpolar": [
           {
            "marker": {
             "colorbar": {
              "outlinewidth": 0,
              "ticks": ""
             }
            },
            "type": "scatterpolar"
           }
          ],
          "scatterpolargl": [
           {
            "marker": {
             "colorbar": {
              "outlinewidth": 0,
              "ticks": ""
             }
            },
            "type": "scatterpolargl"
           }
          ],
          "scatterternary": [
           {
            "marker": {
             "colorbar": {
              "outlinewidth": 0,
              "ticks": ""
             }
            },
            "type": "scatterternary"
           }
          ],
          "surface": [
           {
            "colorbar": {
             "outlinewidth": 0,
             "ticks": ""
            },
            "colorscale": [
             [
              0,
              "#0d0887"
             ],
             [
              0.1111111111111111,
              "#46039f"
             ],
             [
              0.2222222222222222,
              "#7201a8"
             ],
             [
              0.3333333333333333,
              "#9c179e"
             ],
             [
              0.4444444444444444,
              "#bd3786"
             ],
             [
              0.5555555555555556,
              "#d8576b"
             ],
             [
              0.6666666666666666,
              "#ed7953"
             ],
             [
              0.7777777777777778,
              "#fb9f3a"
             ],
             [
              0.8888888888888888,
              "#fdca26"
             ],
             [
              1,
              "#f0f921"
             ]
            ],
            "type": "surface"
           }
          ],
          "table": [
           {
            "cells": {
             "fill": {
              "color": "#EBF0F8"
             },
             "line": {
              "color": "white"
             }
            },
            "header": {
             "fill": {
              "color": "#C8D4E3"
             },
             "line": {
              "color": "white"
             }
            },
            "type": "table"
           }
          ]
         },
         "layout": {
          "annotationdefaults": {
           "arrowcolor": "#2a3f5f",
           "arrowhead": 0,
           "arrowwidth": 1
          },
          "autotypenumbers": "strict",
          "coloraxis": {
           "colorbar": {
            "outlinewidth": 0,
            "ticks": ""
           }
          },
          "colorscale": {
           "diverging": [
            [
             0,
             "#8e0152"
            ],
            [
             0.1,
             "#c51b7d"
            ],
            [
             0.2,
             "#de77ae"
            ],
            [
             0.3,
             "#f1b6da"
            ],
            [
             0.4,
             "#fde0ef"
            ],
            [
             0.5,
             "#f7f7f7"
            ],
            [
             0.6,
             "#e6f5d0"
            ],
            [
             0.7,
             "#b8e186"
            ],
            [
             0.8,
             "#7fbc41"
            ],
            [
             0.9,
             "#4d9221"
            ],
            [
             1,
             "#276419"
            ]
           ],
           "sequential": [
            [
             0,
             "#0d0887"
            ],
            [
             0.1111111111111111,
             "#46039f"
            ],
            [
             0.2222222222222222,
             "#7201a8"
            ],
            [
             0.3333333333333333,
             "#9c179e"
            ],
            [
             0.4444444444444444,
             "#bd3786"
            ],
            [
             0.5555555555555556,
             "#d8576b"
            ],
            [
             0.6666666666666666,
             "#ed7953"
            ],
            [
             0.7777777777777778,
             "#fb9f3a"
            ],
            [
             0.8888888888888888,
             "#fdca26"
            ],
            [
             1,
             "#f0f921"
            ]
           ],
           "sequentialminus": [
            [
             0,
             "#0d0887"
            ],
            [
             0.1111111111111111,
             "#46039f"
            ],
            [
             0.2222222222222222,
             "#7201a8"
            ],
            [
             0.3333333333333333,
             "#9c179e"
            ],
            [
             0.4444444444444444,
             "#bd3786"
            ],
            [
             0.5555555555555556,
             "#d8576b"
            ],
            [
             0.6666666666666666,
             "#ed7953"
            ],
            [
             0.7777777777777778,
             "#fb9f3a"
            ],
            [
             0.8888888888888888,
             "#fdca26"
            ],
            [
             1,
             "#f0f921"
            ]
           ]
          },
          "colorway": [
           "#636efa",
           "#EF553B",
           "#00cc96",
           "#ab63fa",
           "#FFA15A",
           "#19d3f3",
           "#FF6692",
           "#B6E880",
           "#FF97FF",
           "#FECB52"
          ],
          "font": {
           "color": "#2a3f5f"
          },
          "geo": {
           "bgcolor": "white",
           "lakecolor": "white",
           "landcolor": "#E5ECF6",
           "showlakes": true,
           "showland": true,
           "subunitcolor": "white"
          },
          "hoverlabel": {
           "align": "left"
          },
          "hovermode": "closest",
          "mapbox": {
           "style": "light"
          },
          "paper_bgcolor": "white",
          "plot_bgcolor": "#E5ECF6",
          "polar": {
           "angularaxis": {
            "gridcolor": "white",
            "linecolor": "white",
            "ticks": ""
           },
           "bgcolor": "#E5ECF6",
           "radialaxis": {
            "gridcolor": "white",
            "linecolor": "white",
            "ticks": ""
           }
          },
          "scene": {
           "xaxis": {
            "backgroundcolor": "#E5ECF6",
            "gridcolor": "white",
            "gridwidth": 2,
            "linecolor": "white",
            "showbackground": true,
            "ticks": "",
            "zerolinecolor": "white"
           },
           "yaxis": {
            "backgroundcolor": "#E5ECF6",
            "gridcolor": "white",
            "gridwidth": 2,
            "linecolor": "white",
            "showbackground": true,
            "ticks": "",
            "zerolinecolor": "white"
           },
           "zaxis": {
            "backgroundcolor": "#E5ECF6",
            "gridcolor": "white",
            "gridwidth": 2,
            "linecolor": "white",
            "showbackground": true,
            "ticks": "",
            "zerolinecolor": "white"
           }
          },
          "shapedefaults": {
           "line": {
            "color": "#2a3f5f"
           }
          },
          "ternary": {
           "aaxis": {
            "gridcolor": "white",
            "linecolor": "white",
            "ticks": ""
           },
           "baxis": {
            "gridcolor": "white",
            "linecolor": "white",
            "ticks": ""
           },
           "bgcolor": "#E5ECF6",
           "caxis": {
            "gridcolor": "white",
            "linecolor": "white",
            "ticks": ""
           }
          },
          "title": {
           "x": 0.05
          },
          "xaxis": {
           "automargin": true,
           "gridcolor": "white",
           "linecolor": "white",
           "ticks": "",
           "title": {
            "standoff": 15
           },
           "zerolinecolor": "white",
           "zerolinewidth": 2
          },
          "yaxis": {
           "automargin": true,
           "gridcolor": "white",
           "linecolor": "white",
           "ticks": "",
           "title": {
            "standoff": 15
           },
           "zerolinecolor": "white",
           "zerolinewidth": 2
          }
         }
        },
        "title": {
         "text": "Distribution of Missing Values Per Row"
        },
        "uniformtext": {
         "minsize": 8,
         "mode": "hide"
        },
        "xaxis": {
         "anchor": "y",
         "domain": [
          0,
          1
         ],
         "title": {
          "text": "Number of Missing Values"
         }
        },
        "yaxis": {
         "anchor": "x",
         "domain": [
          0,
          1
         ],
         "title": {
          "text": "Number of Rows"
         }
        }
       }
      }
     },
     "metadata": {},
     "output_type": "display_data"
    }
   ],
   "source": [
    "def analyze_and_plot_missing_values(dataframe):\n",
    "    \"\"\"\n",
    "    Analyzes and plots the missing values in the dataset.\n",
    "\n",
    "    Parameters:\n",
    "        dataframe (pd.DataFrame): The DataFrame containing the dataset.\n",
    "\n",
    "    Returns:\n",
    "        dict: A dictionary with:\n",
    "              - Total missing values per attribute\n",
    "              - Percentage of missing values per attribute\n",
    "              - Missing values per entry\n",
    "    \"\"\"\n",
    "    # Count missing values per attribute\n",
    "    missing_per_attribute = dataframe.isnull().sum()\n",
    "    percent_missing_per_attribute = (missing_per_attribute / len(dataframe)) * 100\n",
    "\n",
    "    # Combine counts and percentages into a DataFrame\n",
    "    attribute_analysis = (\n",
    "        pd.DataFrame(\n",
    "            {\n",
    "                \"Attribute\": dataframe.columns,\n",
    "                \"Missing_Count\": missing_per_attribute,\n",
    "                \"Percentage_Missing\": percent_missing_per_attribute,\n",
    "            }\n",
    "        )\n",
    "        .query(\"Missing_Count > 0\")\n",
    "        .sort_values(by=\"Percentage_Missing\", ascending=False)\n",
    "        .set_index(\"Attribute\")\n",
    "    )  # Sort in descending order\n",
    "\n",
    "    # Count missing values per entry (row)\n",
    "    missing_per_entry = dataframe.isnull().sum(axis=1)\n",
    "    # Distribution of rows by the number of missing values\n",
    "    row_missing_distribution = missing_per_entry.value_counts().reset_index()\n",
    "    row_missing_distribution.columns = [\"Missing_Count\", \"Row_Count\"]\n",
    "    row_missing_distribution = row_missing_distribution.sort_values(\n",
    "        by=\"Missing_Count\", ascending=True\n",
    "    ).set_index(\"Missing_Count\")\n",
    "\n",
    "    # Plot missing values per attribute\n",
    "    fig_attr = px.bar(\n",
    "        attribute_analysis.reset_index(),\n",
    "        x=\"Attribute\",\n",
    "        y=\"Percentage_Missing\",\n",
    "        text=\"Percentage_Missing\",\n",
    "        title=\"Missing Values Per Attribute (Sorted by Percentage)\",\n",
    "        labels={\n",
    "            \"Attribute\": \"Attribute\",\n",
    "            \"Percentage Missing\": \"Percentage Missing (%)\",\n",
    "        },\n",
    "    )\n",
    "    fig_attr.update_traces(texttemplate=\"%{text:.2f}%\", textposition=\"outside\")\n",
    "    fig_attr.update_layout(\n",
    "        xaxis=dict(title=\"Attributes\", tickangle=45),\n",
    "        yaxis=dict(title=\"Percentage Missing (%)\"),\n",
    "        uniformtext_minsize=8,\n",
    "        uniformtext_mode=\"hide\",\n",
    "        showlegend=False,\n",
    "    )\n",
    "    fig_attr.show()\n",
    "\n",
    "    # Plot distribution of missing values per row\n",
    "    fig_row = px.bar(\n",
    "        row_missing_distribution.reset_index(),\n",
    "        x=\"Missing_Count\",\n",
    "        y=\"Row_Count\",\n",
    "        text=\"Row_Count\",\n",
    "        title=\"Distribution of Missing Values Per Row\",\n",
    "        labels={\n",
    "            \"Missing_Count\": \"Number of Missing Values\",\n",
    "            \"Row_Count\": \"Number of Rows\",\n",
    "        },\n",
    "    )\n",
    "    fig_row.update_traces(texttemplate=\"%{text}\", textposition=\"outside\")\n",
    "    fig_row.update_layout(\n",
    "        xaxis=dict(title=\"Number of Missing Values\"),\n",
    "        yaxis=dict(title=\"Number of Rows\"),\n",
    "        uniformtext_minsize=8,\n",
    "        uniformtext_mode=\"hide\",\n",
    "        showlegend=False,\n",
    "    )\n",
    "    fig_row.show()\n",
    "\n",
    "    return attribute_analysis, row_missing_distribution\n",
    "\n",
    "\n",
    "# Example usage\n",
    "df_missing_attributes, df_row_missing_distribution = analyze_and_plot_missing_values(df)"
   ]
  },
  {
   "cell_type": "code",
   "execution_count": 12,
   "metadata": {
    "ExecuteTime": {
     "end_time": "2024-11-30T17:02:47.654611Z",
     "start_time": "2024-11-30T17:02:47.642839Z"
    }
   },
   "outputs": [
    {
     "data": {
      "text/html": [
       "<div>\n",
       "<style scoped>\n",
       "    .dataframe tbody tr th:only-of-type {\n",
       "        vertical-align: middle;\n",
       "    }\n",
       "\n",
       "    .dataframe tbody tr th {\n",
       "        vertical-align: top;\n",
       "    }\n",
       "\n",
       "    .dataframe thead th {\n",
       "        text-align: right;\n",
       "    }\n",
       "</style>\n",
       "<table border=\"1\" class=\"dataframe\">\n",
       "  <thead>\n",
       "    <tr style=\"text-align: right;\">\n",
       "      <th></th>\n",
       "      <th>Missing_Count</th>\n",
       "      <th>Percentage_Missing</th>\n",
       "    </tr>\n",
       "    <tr>\n",
       "      <th>Attribute</th>\n",
       "      <th></th>\n",
       "      <th></th>\n",
       "    </tr>\n",
       "  </thead>\n",
       "  <tbody>\n",
       "    <tr>\n",
       "      <th>date_of_death</th>\n",
       "      <td>889168</td>\n",
       "      <td>99.968632</td>\n",
       "    </tr>\n",
       "    <tr>\n",
       "      <th>time_started_work</th>\n",
       "      <td>111891</td>\n",
       "      <td>12.579839</td>\n",
       "    </tr>\n",
       "    <tr>\n",
       "      <th>time_of_incident</th>\n",
       "      <td>110968</td>\n",
       "      <td>12.476067</td>\n",
       "    </tr>\n",
       "    <tr>\n",
       "      <th>ein</th>\n",
       "      <td>76525</td>\n",
       "      <td>8.603660</td>\n",
       "    </tr>\n",
       "    <tr>\n",
       "      <th>industry_description</th>\n",
       "      <td>59799</td>\n",
       "      <td>6.723166</td>\n",
       "    </tr>\n",
       "    <tr>\n",
       "      <th>company_name</th>\n",
       "      <td>49056</td>\n",
       "      <td>5.515337</td>\n",
       "    </tr>\n",
       "    <tr>\n",
       "      <th>job_description</th>\n",
       "      <td>3654</td>\n",
       "      <td>0.410817</td>\n",
       "    </tr>\n",
       "    <tr>\n",
       "      <th>time_unknown</th>\n",
       "      <td>2049</td>\n",
       "      <td>0.230368</td>\n",
       "    </tr>\n",
       "    <tr>\n",
       "      <th>establishment_type</th>\n",
       "      <td>1884</td>\n",
       "      <td>0.211817</td>\n",
       "    </tr>\n",
       "    <tr>\n",
       "      <th>naics_year</th>\n",
       "      <td>1273</td>\n",
       "      <td>0.143123</td>\n",
       "    </tr>\n",
       "    <tr>\n",
       "      <th>case_number</th>\n",
       "      <td>13</td>\n",
       "      <td>0.001462</td>\n",
       "    </tr>\n",
       "    <tr>\n",
       "      <th>street_address</th>\n",
       "      <td>1</td>\n",
       "      <td>0.000112</td>\n",
       "    </tr>\n",
       "  </tbody>\n",
       "</table>\n",
       "</div>"
      ],
      "text/plain": [
       "                      Missing_Count  Percentage_Missing\n",
       "Attribute                                              \n",
       "date_of_death                889168           99.968632\n",
       "time_started_work            111891           12.579839\n",
       "time_of_incident             110968           12.476067\n",
       "ein                           76525            8.603660\n",
       "industry_description          59799            6.723166\n",
       "company_name                  49056            5.515337\n",
       "job_description                3654            0.410817\n",
       "time_unknown                   2049            0.230368\n",
       "establishment_type             1884            0.211817\n",
       "naics_year                     1273            0.143123\n",
       "case_number                      13            0.001462\n",
       "street_address                    1            0.000112"
      ]
     },
     "execution_count": 12,
     "metadata": {},
     "output_type": "execute_result"
    }
   ],
   "source": [
    "df_missing_attributes"
   ]
  },
  {
   "cell_type": "code",
   "execution_count": 13,
   "metadata": {
    "ExecuteTime": {
     "end_time": "2024-11-30T17:02:47.670939Z",
     "start_time": "2024-11-30T17:02:47.657553Z"
    }
   },
   "outputs": [
    {
     "data": {
      "text/html": [
       "<div>\n",
       "<style scoped>\n",
       "    .dataframe tbody tr th:only-of-type {\n",
       "        vertical-align: middle;\n",
       "    }\n",
       "\n",
       "    .dataframe tbody tr th {\n",
       "        vertical-align: top;\n",
       "    }\n",
       "\n",
       "    .dataframe thead th {\n",
       "        text-align: right;\n",
       "    }\n",
       "</style>\n",
       "<table border=\"1\" class=\"dataframe\">\n",
       "  <thead>\n",
       "    <tr style=\"text-align: right;\">\n",
       "      <th></th>\n",
       "      <th>Row_Count</th>\n",
       "    </tr>\n",
       "    <tr>\n",
       "      <th>Missing_Count</th>\n",
       "      <th></th>\n",
       "    </tr>\n",
       "  </thead>\n",
       "  <tbody>\n",
       "    <tr>\n",
       "      <th>1</th>\n",
       "      <td>603667</td>\n",
       "    </tr>\n",
       "    <tr>\n",
       "      <th>2</th>\n",
       "      <td>178776</td>\n",
       "    </tr>\n",
       "    <tr>\n",
       "      <th>3</th>\n",
       "      <td>85337</td>\n",
       "    </tr>\n",
       "    <tr>\n",
       "      <th>4</th>\n",
       "      <td>18306</td>\n",
       "    </tr>\n",
       "    <tr>\n",
       "      <th>5</th>\n",
       "      <td>3134</td>\n",
       "    </tr>\n",
       "    <tr>\n",
       "      <th>6</th>\n",
       "      <td>25</td>\n",
       "    </tr>\n",
       "    <tr>\n",
       "      <th>7</th>\n",
       "      <td>1</td>\n",
       "    </tr>\n",
       "  </tbody>\n",
       "</table>\n",
       "</div>"
      ],
      "text/plain": [
       "               Row_Count\n",
       "Missing_Count           \n",
       "1                 603667\n",
       "2                 178776\n",
       "3                  85337\n",
       "4                  18306\n",
       "5                   3134\n",
       "6                     25\n",
       "7                      1"
      ]
     },
     "execution_count": 13,
     "metadata": {},
     "output_type": "execute_result"
    }
   ],
   "source": [
    "df_row_missing_distribution.query(\"Missing_Count > 0\")"
   ]
  },
  {
   "cell_type": "markdown",
   "metadata": {},
   "source": [
    "##### Analysis\n",
    "1. **`date_of_death` (99.97% missing)**\n",
    "- **Impact**: This field is crucial for analyzing fatalities but is practically unusable due to the high missing percentage.\n",
    "- **Recommendation**: Use the `incident_outcome` field, which includes death as a category, to indirectly analyze fatality-related trends.\n",
    "\n",
    "2. **`time_started_work` (12.58% missing) and `time_of_incident` (12.48% missing)**\n",
    "- **Impact**: These fields are essential for analyzing temporal trends, such as incidents occurring shortly after starting work. Missing values reduce the reliability of time-dependent analyses.\n",
    "- **Recommendation**: Focus analyses on the available data or consider imputing missing values based on similar cases or statistical methods.\n",
    "\n",
    "3. **`ein` (8.60% missing)**\n",
    "- **Impact**: The EIN uniquely identifies establishments and is vital for merging datasets or conducting establishment-specific studies. Missing values hinder these analyses.\n",
    "- **Recommendation**: Use `establishment_ID` as an alternative identifier if it is complete.\n",
    "\n",
    "4. **`industry_description` (6.72% missing)**\n",
    "- **Impact**: Industry classification is critical for sector-specific risk analysis. Missing values hinder comparisons of workplace safety across industries.\n",
    "- **Recommendation**: Use `naics_code` for industry-level analysis or group missing values into an \"Unknown\" category.\n",
    "\n",
    "5. **`job_description` (0.41% missing)**\n",
    "- **Impact**: This field is important for analyzing risks associated with specific job roles. Missing data limits occupation-specific insights.\n",
    "- **Recommendation**: Exclude rows with missing `job_description` from job-specific analyses or impute values based on similar cases.\n"
   ]
  },
  {
   "cell_type": "markdown",
   "metadata": {},
   "source": [
    "## Exercise 2 – Goal - Data (Domain specific)\n"
   ]
  },
  {
   "cell_type": "markdown",
   "metadata": {},
   "source": [
    "#### General Overall Goal\n",
    "The primary goal of the visualization tool is to **enable workplace safety analysts, policymakers, and industry leaders** to:\n",
    "1. Identify trends in workplace injuries and illnesses across industries, establishments, and job roles.\n",
    "2. Explore the temporal, geographic, and sector-specific distribution of incidents to identify patterns and potential risk factors.\n",
    "3. Facilitate decision-making by highlighting areas that require safety interventions, such as industries with high incident rates or recurring issues in specific job roles.\n",
    "\n",
    "#### Target Users\n",
    "The visualization tool is designed for:\n",
    "- **Workplace Safety Analysts**: To understand patterns in workplace incidents and investigate contributing factors.\n",
    "- **Policymakers**: To design and evaluate regulations that mitigate risks in high-hazard industries.\n",
    "- **Industry Leaders/Managers**: To assess their establishments’ performance compared to industry benchmarks and implement targeted safety measures.\n",
    "\n",
    "#### Overall Goal and High-Level Actions\n",
    "The primary goal is **\"Exploratory Analysis\"**, focusing on:\n",
    "1. **Comparative Analysis**: Compare incidents across industries, job roles, and geographic regions to identify high-risk categories.\n",
    "2. **Trend Identification**: Examine temporal trends in incident occurrences and severity (e.g., time of day, seasonality).\n",
    "3. **Insight Generation**: Drill down into specific establishments or job types to identify recurring patterns or anomalies.\n",
    "4. **Communication and Awareness**: Present findings in an intuitive, interactive format to raise awareness and drive action.\n",
    "\n",
    "#### Why This Goal is Suitable for the Available Data\n",
    "- The dataset contains a wealth of detailed information about workplace incidents, including establishment-level, incident-level, and job-level attributes. These can be visualized to uncover patterns and correlations that would be hard to identify otherwise.\n",
    "- While some attributes have missing values (e.g., `date_of_death`, `time_started_work`), the remaining data is sufficient to provide meaningful insights at industry, establishment, and incident levels.\n",
    "\n",
    "#### Why Visualization is the Right Means\n",
    "1. **Pattern Recognition**: Visualization allows users to recognize patterns and outliers, such as industries with unusually high incident rates.\n",
    "2. **Exploration and Interaction**: An interactive tool enables users to explore the dataset from various perspectives (e.g., filtering by industry, geographic location, or incident severity).\n",
    "3. **Decision Support**: Visualizing data enables managers and policymakers to make informed decisions quickly by presenting complex data in an understandable format.\n",
    "4. **Communication**: Visualizations can convey insights effectively to diverse stakeholders, including non-technical audiences.\n",
    "\n",
    "This tool is ideal for leveraging the available data to inform workplace safety improvements, reduce incident rates, and ensure compliance with regulations.\n"
   ]
  },
  {
   "cell_type": "markdown",
   "metadata": {},
   "source": [
    "## Exercise 3 – Data (What) Domain specific\n"
   ]
  },
  {
   "cell_type": "markdown",
   "metadata": {},
   "source": [
    "### (a) Write in section What (Data) the description of the data. You can base it on the analysis you have done in exercise 1. What are the general properties of the data you want to use? "
   ]
  },
  {
   "cell_type": "markdown",
   "metadata": {},
   "source": [
    "\n",
    "#### Attributes Needed for the Analysis and Their Relevance\n",
    "\n",
    "1. **Establishment-Level Attributes**:\n",
    "   - **`naics_code` and `industry_description`**: Essential for identifying high-risk industries and understanding sector-specific trends.\n",
    "   - **`state`, `city`, `zip_code`**: Crucial for geographic analysis to detect regional patterns or disparities in workplace safety.\n",
    "   - **`size`, `annual_average_employees`, and `total_hours_worked`**: Provide context for scaling incident data (e.g., incidents per employee or hours worked) to make comparisons meaningful across establishments of different sizes.\n",
    "\n",
    "2. **Incident-Level Attributes**:\n",
    "   - **`date_of_incident`**: Key for temporal analysis, such as identifying trends over time or seasonal variations.\n",
    "   - **`type_of_incident`**: Important for categorizing and understanding the nature of incidents (e.g., injuries vs. illnesses).\n",
    "   - **`incident_outcome`**: Crucial for evaluating the severity of incidents and prioritizing interventions.\n",
    "   - **`dawf_num_away` and `djtr_num_tr`**: Provide metrics to assess the impact of incidents on productivity and employee health.\n",
    "\n",
    "3. **Narrative and Job-Level Attributes**:\n",
    "   - **`job_description`**: Helps identify which roles are most vulnerable to workplace incidents, enabling targeted interventions.\n",
    "   - **`SOC_code` and `SOC_description`**: Provide standard classifications for jobs, supporting cross-industry comparisons.\n",
    "   - **`incident_description` and `nar_what_happened`**: Offer qualitative insights into incident causes and circumstances, which are valuable for designing preventative measures.\n",
    "\n",
    "4. **System Metadata**:\n",
    "   - **`year_of_filing`**: Allows analysis of data trends across multiple reporting years.\n",
    "   - **`created_timestamp`**: Ensures timeliness and relevance of the data used for analysis.\n",
    "\n",
    "#### Why These Attributes Are Relevant\n",
    "These attributes enable comprehensive analyses aligned with the goals of the visualization tool:\n",
    "- **Comparative Analysis**: Attributes like `naics_code`, `state`, and `incident_outcome` allow comparisons across industries, regions, and severity levels.\n",
    "- **Trend Identification**: Temporal attributes such as `date_of_incident` and `year_of_filing` help identify trends in workplace safety over time.\n",
    "- **Actionable Insights**: Narrative and job-level attributes (`job_description`, `SOC_code`, and `incident_description`) provide detailed insights into specific incident causes, enabling targeted interventions.\n",
    "- **Scalability**: Workforce metrics (`size`, `annual_average_employees`, `total_hours_worked`) ensure that analyses are normalized, allowing for meaningful comparisons across establishments of varying sizes.\n",
    "\n",
    "By focusing on these attributes, the visualization tool can deliver actionable insights to workplace safety analysts, policymakers, and industry leaders.\n"
   ]
  },
  {
   "cell_type": "markdown",
   "metadata": {},
   "source": [
    "### (b) Most of the data sets contain noise, missing data values, and relations, or measurement errors. The data of this course is no exception. In exercise 1, you already looked at the missing values. How will you handle missing data values or measurement errors? Think of multiple ways and their pros and cons."
   ]
  },
  {
   "cell_type": "code",
   "execution_count": 14,
   "metadata": {
    "ExecuteTime": {
     "end_time": "2024-11-30T17:07:06.432668Z",
     "start_time": "2024-11-30T17:04:30.938197Z"
    }
   },
   "outputs": [],
   "source": [
    "def preprocess_dataframe(df: pd.DataFrame) -> pd.DataFrame:\n",
    "    \"\"\"\n",
    "    Preprocesses the given DataFrame by performing data cleaning, type conversions,\n",
    "    and mapping of categorical variables for better interpretability and analysis.\n",
    "\n",
    "    Parameters:\n",
    "        df (pd.DataFrame): The input DataFrame containing raw data.\n",
    "\n",
    "    Returns:\n",
    "        pd.DataFrame: A cleaned and preprocessed DataFrame with the following transformations:\n",
    "            - String columns are stripped of whitespace, tabs, and excess spaces.\n",
    "            - Numeric columns are converted to appropriate numeric types with downcasting.\n",
    "            - Categorical columns are mapped to meaningful labels and converted to 'category' type.\n",
    "            - Date and time columns are converted to datetime or time objects as needed.\n",
    "            - Missing values are imputed based on column-specific logic or filled with default placeholders.\n",
    "            - Invalid or placeholder values in specific columns (e.g., EIN, soc_code) are replaced with standardized values.\n",
    "            - Columns with redundant or irrelevant information (e.g., 'year_filing_for') are dropped.\n",
    "\n",
    "    Key Transformations:\n",
    "        - String Cleaning: Strips leading/trailing whitespace, removes tabs, and normalizes spacing.\n",
    "        - Numeric Conversion: Downcasts numeric columns to optimize memory usage.\n",
    "        - Categorical Mapping: Maps numeric or placeholder codes to meaningful labels.\n",
    "        - Date/Time Conversion: Parses date and time strings into appropriate formats.\n",
    "        - Missing Value Imputation:\n",
    "            - 'case_number', 'company_name', 'street_address', 'job_description': Filled with \"Not provided\".\n",
    "            - 'industry_description': Filled with \"No description given\".\n",
    "            - 'ein': \"Enter EIN\" replaced with \"No EIN Given\".\n",
    "            - 'time_unknown': Mapped to \"No\" by default if missing.\n",
    "            - Others: Column-specific imputation logic applied.\n",
    "        - Dropped Columns: 'year_filing_for'.\n",
    "\n",
    "    Notes:\n",
    "        - Assumes specific formats for date and time columns.\n",
    "        - Handles invalid or missing data gracefully using pandas' built-in capabilities (e.g., `errors='coerce'`).\n",
    "    \"\"\"\n",
    "    df_copy = df.query(\"annual_average_employees > 0 & total_hours_worked > 0 & company_name != 'Santa Maria Healthcare, Inc.'\").copy()\n",
    "    df_copy[\"hours_employee_ratio\"] = (\n",
    "    df_copy[\"total_hours_worked\"] / df_copy[\"annual_average_employees\"]\n",
    "    )\n",
    "    df_copy = df_copy.query(\"hours_employee_ratio > 20 & hours_employee_ratio < 5000\").drop(columns=\"hours_employee_ratio\")\n",
    "    codes_to_drop = [\"36-83962\", \"74-187392\"]\n",
    "    states_to_drop = [\"AS\", \"GU\", \"MP\", \"VI\", \"PR\"]\n",
    "    df_copy = df_copy[~df_copy[\"ein\"].isin(codes_to_drop)].drop_duplicates().copy()\n",
    "    df_copy = df_copy[~df_copy[\"state\"].isin(states_to_drop)].drop_duplicates().copy()\n",
    "    df_copy[\"ein\"] = df_copy[\"ein\"].str.replace(\"Enter EIN\", \"-1\").fillna(\"-1\")\n",
    "    # Define mappings and preprocessing rules\n",
    "    to_string = [\n",
    "        \"establishment_id\",\n",
    "        \"company_name\",\n",
    "        \"street_address\",\n",
    "        \"city\",\n",
    "        \"zip_code\",\n",
    "        \"industry_description\",\n",
    "        \"case_number\",\n",
    "        \"job_description\",\n",
    "        \"soc_code\",\n",
    "        \"establishment_name\",\n",
    "        \"naics_code\",\n",
    "    ]\n",
    "    to_numeric = [\n",
    "        \"annual_average_employees\",\n",
    "        \"total_hours_worked\",\n",
    "        \"dafw_num_away\",\n",
    "        \"djtr_num_tr\",\n",
    "        \"ein\",\n",
    "    ]\n",
    "    categorical_mappings = {\n",
    "        \"establishment_type\": {\n",
    "            0.0: \"Invalid entry\",\n",
    "            1.0: \"Private industry\",\n",
    "            2.0: \"State government entity\",\n",
    "            3.0: \"Local government entity\",\n",
    "        },\n",
    "        \"size\": {1: \"<20\", 2: \"20-249\", 21: \"20-99\", 22: \"100-249\", 3: \"250+\"},\n",
    "        \"incident_outcome\": {\n",
    "            1: \"Death\",\n",
    "            2: \"Days away from work (DAFW)\",\n",
    "            3: \"Job transfer or restriction\",\n",
    "            4: \"Other recordable case\",\n",
    "        },\n",
    "        \"type_of_incident\": {\n",
    "            1: \"Injury\",\n",
    "            2: \"Skin disorder\",\n",
    "            3: \"Respiratory condition\",\n",
    "            4: \"Poisoning\",\n",
    "            5: \"Hearing Loss\",\n",
    "            6: \"All other illness\",\n",
    "        },\n",
    "        \"time_unknown\": {0: \"No\", 1: \"Yes\"},\n",
    "        \"soc_reviewed\": {0: \"Not reviewed\", 1: \"Reviewed\", 2: \"Not SOC coded\"},\n",
    "    }\n",
    "\n",
    "    # Convert to string and clean text\n",
    "    df_copy[to_string] = (\n",
    "        df_copy[to_string]\n",
    "        .astype(\"string\")\n",
    "        .apply(\n",
    "            lambda col: col.str.strip()\n",
    "            .str.replace(r\"\\t\", \"\", regex=True)\n",
    "            .str.replace(r\"\\s+\", \" \", regex=True)\n",
    "        )\n",
    "    )\n",
    "\n",
    "    # Convert to numeric with downcasting\n",
    "    df_copy[to_numeric] = df_copy[to_numeric].apply(\n",
    "        pd.to_numeric, errors=\"coerce\", downcast=\"integer\"\n",
    "    )\n",
    "    df_copy[\"soc_probability\"] = df_copy[\"soc_probability\"].apply(\n",
    "        pd.to_numeric, errors=\"coerce\", downcast=\"float\"\n",
    "    )\n",
    "\n",
    "    # Map categorical columns\n",
    "    for col, mapping in categorical_mappings.items():\n",
    "        if col in df_copy:\n",
    "            df_copy[col] = (\n",
    "                df_copy[col].map(mapping).fillna(\"Not stated\").astype(\"category\")\n",
    "            )\n",
    "\n",
    "    # Map states\n",
    "    state_map = {\n",
    "        \"PA\": \"Pennsylvania\",\n",
    "        \"GA\": \"Georgia\",\n",
    "        \"VA\": \"Virginia\",\n",
    "        \"TX\": \"Texas\",\n",
    "        \"UT\": \"Utah\",\n",
    "        \"AZ\": \"Arizona\",\n",
    "        \"IN\": \"Indiana\",\n",
    "        \"TN\": \"Tennessee\",\n",
    "        \"WI\": \"Wisconsin\",\n",
    "        \"NC\": \"North Carolina\",\n",
    "        \"NY\": \"New York\",\n",
    "        \"OH\": \"Ohio\",\n",
    "        \"IA\": \"Iowa\",\n",
    "        \"AK\": \"Alaska\",\n",
    "        \"OK\": \"Oklahoma\",\n",
    "        \"MN\": \"Minnesota\",\n",
    "        \"MO\": \"Missouri\",\n",
    "        \"IL\": \"Illinois\",\n",
    "        \"CT\": \"Connecticut\",\n",
    "        \"NE\": \"Nebraska\",\n",
    "        \"LA\": \"Louisiana\",\n",
    "        \"WV\": \"West Virginia\",\n",
    "        \"NM\": \"New Mexico\",\n",
    "        \"CO\": \"Colorado\",\n",
    "        \"FL\": \"Florida\",\n",
    "        \"CA\": \"California\",\n",
    "        \"MD\": \"Maryland\",\n",
    "        \"AL\": \"Alabama\",\n",
    "        \"KY\": \"Kentucky\",\n",
    "        \"MI\": \"Michigan\",\n",
    "        \"SC\": \"South Carolina\",\n",
    "        \"ID\": \"Idaho\",\n",
    "        \"KS\": \"Kansas\",\n",
    "        \"MS\": \"Mississippi\",\n",
    "        \"AR\": \"Arkansas\",\n",
    "        \"NV\": \"Nevada\",\n",
    "        \"NH\": \"New Hampshire\",\n",
    "        \"VT\": \"Vermont\",\n",
    "        \"NJ\": \"New Jersey\",\n",
    "        \"DE\": \"Delaware\",\n",
    "        \"MA\": \"Massachusetts\",\n",
    "        \"ND\": \"North Dakota\",\n",
    "        \"WA\": \"Washington\",\n",
    "        \"OR\": \"Oregon\",\n",
    "        \"ME\": \"Maine\",\n",
    "        \"SD\": \"South Dakota\",\n",
    "        \"MT\": \"Montana\",\n",
    "        \"PR\": \"Puerto Rico\",\n",
    "        \"RI\": \"Rhode Island\",\n",
    "        \"WY\": \"Wyoming\",\n",
    "        \"HI\": \"Hawaii\",\n",
    "        \"DC\": \"District of Columbia\",\n",
    "        \"VI\": \"U.S. Virgin Islands\",\n",
    "        \"GU\": \"Guam\",\n",
    "        \"MP\": \"Northern Mariana Islands\",\n",
    "        \"AS\": \"American Samoa\",\n",
    "    }\n",
    "    df_copy[\"state_code\"] = df_copy[\"state\"].astype(\"category\")\n",
    "    df_copy[\"state\"] = df_copy[\"state\"].map(state_map).fillna(\"Not stated\").astype(\"category\")\n",
    "\n",
    "    # Handle specific columns\n",
    "    df_copy[\"case_number\"] = df_copy[\"case_number\"].fillna(\"Not provided\")\n",
    "    df_copy[\"company_name\"] = df_copy[\"company_name\"].fillna(\"Not provided\")\n",
    "    df_copy[\"street_address\"] = df_copy[\"street_address\"].fillna(\"\")\n",
    "    df_copy[\"naics_year\"] = (\n",
    "        df_copy[\"naics_year\"].fillna(\"Invalid NAICS codes\").astype(\"category\")\n",
    "    )\n",
    "    df_copy[\"industry_description\"] = df_copy[\"industry_description\"].fillna(\n",
    "        \"No description given\"\n",
    "    )\n",
    "    df_copy[\"job_description\"] = df_copy[\"job_description\"].fillna(\"No job description\")\n",
    "\n",
    "    df_copy[\"soc_code\"] = (\n",
    "        df_copy[\"soc_code\"].replace(\"0000\", \"00-0000\").replace(\"9999\", \"99-9999\")\n",
    "    )\n",
    "    with open(os.path.join(\"datasets\", \"code_to_description.pkl\"), \"rb\") as file:\n",
    "        category_dict = pickle.load(file)\n",
    "\n",
    "    df_copy = df_copy.rename(columns={\"soc_description\": \"soc_description_4\"})\n",
    "\n",
    "    df_copy[[\"soc_description_1\", \"soc_description_2\", \"soc_description_3\"]] = (\n",
    "        df_copy[\"soc_code\"]\n",
    "        .apply(lambda x: category_dict.get(x, [\"Not assigned\"] * 3))\n",
    "        .apply(pd.Series)\n",
    "    )\n",
    "    df_copy[\"soc_description_1\"] = df_copy[\"soc_description_1\"].astype(\"category\")\n",
    "    df_copy[\"soc_description_2\"] = df_copy[\"soc_description_2\"].astype(\"category\")\n",
    "    df_copy[\"soc_description_3\"] = df_copy[\"soc_description_3\"].astype(\"category\")\n",
    "    df_copy[\"soc_description_4\"] = df_copy[\"soc_description_4\"].astype(\"category\")\n",
    "\n",
    "    # Date and time conversions\n",
    "    date_columns = {\n",
    "        \"date_of_incident\": \"%m/%d/%Y\",\n",
    "        \"date_of_death\": \"%m/%d/%Y\",\n",
    "        \"created_timestamp\": \"%d%b%y:%H:%M:%S\",\n",
    "    }\n",
    "    for col, fmt in date_columns.items():\n",
    "        df_copy[col] = pd.to_datetime(df_copy[col], format=fmt, errors=\"coerce\")\n",
    "\n",
    "    time_columns = [\"time_started_work\", \"time_of_incident\"]\n",
    "\n",
    "    for col in time_columns:\n",
    "        # Convert to datetime\n",
    "        df_copy[col] = pd.to_datetime(\n",
    "            df_copy[col], format=\"%H:%M:%S.%f\", errors=\"coerce\"\n",
    "        )\n",
    "        # TODO: potentially duplicated data, but decided to leave both\n",
    "        # Add hours and minutes columns\n",
    "        df_copy[f\"{col}_hours\"] = df_copy[col].dt.hour\n",
    "        df_copy[f\"{col}_minutes\"] = df_copy[col].dt.minute\n",
    "    df_copy[\"incident_year\"] = df_copy[\"date_of_incident\"].dt.year.astype(np.int8)\n",
    "    df_copy[\"incident_month\"] = df_copy[\"date_of_incident\"].dt.month.astype(np.int8)\n",
    "    df_copy[\"incident_weekday\"] = df_copy[\"date_of_incident\"].dt.weekday.astype(np.int8)\n",
    "    df_copy[\"death\"] = df_copy[\"date_of_death\"].notna().astype(\"bool\")\n",
    "    # Since it's just 2023, and it does not provide any info\n",
    "    df_copy = df_copy.drop(columns=\"year_filing_for\")\n",
    "\n",
    "    return df_copy\n",
    "\n",
    "\n",
    "df_preproc = preprocess_dataframe(df)"
   ]
  },
  {
   "cell_type": "code",
   "execution_count": 15,
   "metadata": {
    "ExecuteTime": {
     "end_time": "2024-11-30T17:07:06.502091Z",
     "start_time": "2024-11-30T17:07:06.435120Z"
    }
   },
   "outputs": [
    {
     "data": {
      "text/html": [
       "<div>\n",
       "<style scoped>\n",
       "    .dataframe tbody tr th:only-of-type {\n",
       "        vertical-align: middle;\n",
       "    }\n",
       "\n",
       "    .dataframe tbody tr th {\n",
       "        vertical-align: top;\n",
       "    }\n",
       "\n",
       "    .dataframe thead th {\n",
       "        text-align: right;\n",
       "    }\n",
       "</style>\n",
       "<table border=\"1\" class=\"dataframe\">\n",
       "  <thead>\n",
       "    <tr style=\"text-align: right;\">\n",
       "      <th></th>\n",
       "      <th>establishment_id</th>\n",
       "      <th>establishment_name</th>\n",
       "      <th>ein</th>\n",
       "      <th>company_name</th>\n",
       "      <th>street_address</th>\n",
       "      <th>city</th>\n",
       "      <th>state</th>\n",
       "      <th>zip_code</th>\n",
       "      <th>naics_code</th>\n",
       "      <th>naics_year</th>\n",
       "      <th>industry_description</th>\n",
       "      <th>establishment_type</th>\n",
       "      <th>size</th>\n",
       "      <th>annual_average_employees</th>\n",
       "      <th>total_hours_worked</th>\n",
       "      <th>case_number</th>\n",
       "      <th>job_description</th>\n",
       "      <th>soc_code</th>\n",
       "      <th>soc_description_4</th>\n",
       "      <th>soc_reviewed</th>\n",
       "      <th>soc_probability</th>\n",
       "      <th>date_of_incident</th>\n",
       "      <th>incident_outcome</th>\n",
       "      <th>dafw_num_away</th>\n",
       "      <th>djtr_num_tr</th>\n",
       "      <th>type_of_incident</th>\n",
       "      <th>time_started_work</th>\n",
       "      <th>time_of_incident</th>\n",
       "      <th>time_unknown</th>\n",
       "      <th>date_of_death</th>\n",
       "      <th>created_timestamp</th>\n",
       "      <th>state_code</th>\n",
       "      <th>soc_description_1</th>\n",
       "      <th>soc_description_2</th>\n",
       "      <th>soc_description_3</th>\n",
       "      <th>time_started_work_hours</th>\n",
       "      <th>time_started_work_minutes</th>\n",
       "      <th>time_of_incident_hours</th>\n",
       "      <th>time_of_incident_minutes</th>\n",
       "      <th>incident_year</th>\n",
       "      <th>incident_month</th>\n",
       "      <th>incident_weekday</th>\n",
       "      <th>death</th>\n",
       "    </tr>\n",
       "    <tr>\n",
       "      <th>id</th>\n",
       "      <th></th>\n",
       "      <th></th>\n",
       "      <th></th>\n",
       "      <th></th>\n",
       "      <th></th>\n",
       "      <th></th>\n",
       "      <th></th>\n",
       "      <th></th>\n",
       "      <th></th>\n",
       "      <th></th>\n",
       "      <th></th>\n",
       "      <th></th>\n",
       "      <th></th>\n",
       "      <th></th>\n",
       "      <th></th>\n",
       "      <th></th>\n",
       "      <th></th>\n",
       "      <th></th>\n",
       "      <th></th>\n",
       "      <th></th>\n",
       "      <th></th>\n",
       "      <th></th>\n",
       "      <th></th>\n",
       "      <th></th>\n",
       "      <th></th>\n",
       "      <th></th>\n",
       "      <th></th>\n",
       "      <th></th>\n",
       "      <th></th>\n",
       "      <th></th>\n",
       "      <th></th>\n",
       "      <th></th>\n",
       "      <th></th>\n",
       "      <th></th>\n",
       "      <th></th>\n",
       "      <th></th>\n",
       "      <th></th>\n",
       "      <th></th>\n",
       "      <th></th>\n",
       "      <th></th>\n",
       "      <th></th>\n",
       "      <th></th>\n",
       "      <th></th>\n",
       "    </tr>\n",
       "  </thead>\n",
       "  <tbody>\n",
       "    <tr>\n",
       "      <th>529245</th>\n",
       "      <td>1183207</td>\n",
       "      <td>Berner Dakota</td>\n",
       "      <td>NaN</td>\n",
       "      <td>Berner Dakota</td>\n",
       "      <td>2034 E. Factory Road</td>\n",
       "      <td>Dakota</td>\n",
       "      <td>Illinois</td>\n",
       "      <td>61018</td>\n",
       "      <td>311513</td>\n",
       "      <td>2022</td>\n",
       "      <td>Manufacturer of cheese snacks and beverages - ...</td>\n",
       "      <td>Private industry</td>\n",
       "      <td>250+</td>\n",
       "      <td>725</td>\n",
       "      <td>1626790</td>\n",
       "      <td>Inc-246</td>\n",
       "      <td>HandiSnacks</td>\n",
       "      <td>99-9999</td>\n",
       "      <td>Uncoded</td>\n",
       "      <td>Not SOC coded</td>\n",
       "      <td>0.000000</td>\n",
       "      <td>2023-06-25</td>\n",
       "      <td>Job transfer or restriction</td>\n",
       "      <td>0</td>\n",
       "      <td>8</td>\n",
       "      <td>Injury</td>\n",
       "      <td>1900-01-01 05:40:00</td>\n",
       "      <td>1900-01-01 10:30:00</td>\n",
       "      <td>No</td>\n",
       "      <td>NaT</td>\n",
       "      <td>2024-02-28 17:06:00</td>\n",
       "      <td>IL</td>\n",
       "      <td>Insufficient info</td>\n",
       "      <td>Insufficient info</td>\n",
       "      <td>Insufficient info</td>\n",
       "      <td>5.0</td>\n",
       "      <td>40.0</td>\n",
       "      <td>10.0</td>\n",
       "      <td>30.0</td>\n",
       "      <td>-25</td>\n",
       "      <td>6</td>\n",
       "      <td>6</td>\n",
       "      <td>False</td>\n",
       "    </tr>\n",
       "    <tr>\n",
       "      <th>76727</th>\n",
       "      <td>930566</td>\n",
       "      <td>True Value Company RDC - Corsicana</td>\n",
       "      <td>-1.0</td>\n",
       "      <td>True Value Company</td>\n",
       "      <td>2601 TX-31</td>\n",
       "      <td>Corsicana</td>\n",
       "      <td>Texas</td>\n",
       "      <td>75109</td>\n",
       "      <td>493110</td>\n",
       "      <td>2022</td>\n",
       "      <td>Warehousing and storage, general merchandise</td>\n",
       "      <td>Private industry</td>\n",
       "      <td>100-249</td>\n",
       "      <td>131</td>\n",
       "      <td>246855</td>\n",
       "      <td>1</td>\n",
       "      <td>Merchandise handler</td>\n",
       "      <td>53-7062</td>\n",
       "      <td>Laborers and Freight, Stock, and Material Move...</td>\n",
       "      <td>Reviewed</td>\n",
       "      <td>0.979502</td>\n",
       "      <td>2023-04-07</td>\n",
       "      <td>Other recordable case</td>\n",
       "      <td>0</td>\n",
       "      <td>0</td>\n",
       "      <td>Injury</td>\n",
       "      <td>1900-01-01 06:00:00</td>\n",
       "      <td>1900-01-01 08:30:00</td>\n",
       "      <td>No</td>\n",
       "      <td>NaT</td>\n",
       "      <td>2024-01-26 15:24:00</td>\n",
       "      <td>TX</td>\n",
       "      <td>Transportation and Material Moving Occupations</td>\n",
       "      <td>Material Moving Workers</td>\n",
       "      <td>Laborers and Material Movers</td>\n",
       "      <td>6.0</td>\n",
       "      <td>0.0</td>\n",
       "      <td>8.0</td>\n",
       "      <td>30.0</td>\n",
       "      <td>-25</td>\n",
       "      <td>4</td>\n",
       "      <td>4</td>\n",
       "      <td>False</td>\n",
       "    </tr>\n",
       "    <tr>\n",
       "      <th>777214</th>\n",
       "      <td>1217679</td>\n",
       "      <td>0312 - MILFORD CT</td>\n",
       "      <td>911223280.0</td>\n",
       "      <td>Costco Wholesale</td>\n",
       "      <td>1718 BOSTON POST ROAD</td>\n",
       "      <td>MILFORD</td>\n",
       "      <td>Connecticut</td>\n",
       "      <td>46268</td>\n",
       "      <td>455211</td>\n",
       "      <td>2022</td>\n",
       "      <td>Wholesale Grocer</td>\n",
       "      <td>Private industry</td>\n",
       "      <td>250+</td>\n",
       "      <td>316</td>\n",
       "      <td>457126</td>\n",
       "      <td>WC390F5536</td>\n",
       "      <td>STOCKER</td>\n",
       "      <td>53-7065</td>\n",
       "      <td>Stockers and Order Fillers</td>\n",
       "      <td>Reviewed</td>\n",
       "      <td>0.998470</td>\n",
       "      <td>2023-06-14</td>\n",
       "      <td>Days away from work (DAFW)</td>\n",
       "      <td>2</td>\n",
       "      <td>0</td>\n",
       "      <td>Injury</td>\n",
       "      <td>1900-01-01 14:30:00</td>\n",
       "      <td>1900-01-01 20:50:00</td>\n",
       "      <td>No</td>\n",
       "      <td>NaT</td>\n",
       "      <td>2024-03-04 19:32:00</td>\n",
       "      <td>CT</td>\n",
       "      <td>Transportation and Material Moving Occupations</td>\n",
       "      <td>Material Moving Workers</td>\n",
       "      <td>Laborers and Material Movers</td>\n",
       "      <td>14.0</td>\n",
       "      <td>30.0</td>\n",
       "      <td>20.0</td>\n",
       "      <td>50.0</td>\n",
       "      <td>-25</td>\n",
       "      <td>6</td>\n",
       "      <td>2</td>\n",
       "      <td>False</td>\n",
       "    </tr>\n",
       "    <tr>\n",
       "      <th>88295</th>\n",
       "      <td>157046</td>\n",
       "      <td>SSA-ATLANTIC ,LLC</td>\n",
       "      <td>912171689.0</td>\n",
       "      <td>SSA ATLANTIC, LLC</td>\n",
       "      <td>4531 PIGGLY WIGGLY DRIVE</td>\n",
       "      <td>NORTH CHARLESTON</td>\n",
       "      <td>South Carolina</td>\n",
       "      <td>29405</td>\n",
       "      <td>488320</td>\n",
       "      <td>2022</td>\n",
       "      <td>Stevedoring services</td>\n",
       "      <td>Private industry</td>\n",
       "      <td>250+</td>\n",
       "      <td>66</td>\n",
       "      <td>132840</td>\n",
       "      <td>2023049120</td>\n",
       "      <td>TRUCK DRIVERYARD TRACTOR</td>\n",
       "      <td>53-3032</td>\n",
       "      <td>Heavy and Tractor-Trailer Truck Drivers</td>\n",
       "      <td>Not reviewed</td>\n",
       "      <td>0.985649</td>\n",
       "      <td>2023-04-23</td>\n",
       "      <td>Days away from work (DAFW)</td>\n",
       "      <td>180</td>\n",
       "      <td>0</td>\n",
       "      <td>Injury</td>\n",
       "      <td>1900-01-01 08:00:00</td>\n",
       "      <td>1900-01-01 11:20:00</td>\n",
       "      <td>No</td>\n",
       "      <td>NaT</td>\n",
       "      <td>2024-01-29 18:40:00</td>\n",
       "      <td>SC</td>\n",
       "      <td>Transportation and Material Moving Occupations</td>\n",
       "      <td>Motor Vehicle Operators</td>\n",
       "      <td>Driver/Sales Workers and Truck Drivers</td>\n",
       "      <td>8.0</td>\n",
       "      <td>0.0</td>\n",
       "      <td>11.0</td>\n",
       "      <td>20.0</td>\n",
       "      <td>-25</td>\n",
       "      <td>4</td>\n",
       "      <td>6</td>\n",
       "      <td>False</td>\n",
       "    </tr>\n",
       "    <tr>\n",
       "      <th>56600</th>\n",
       "      <td>99365</td>\n",
       "      <td>Main facility</td>\n",
       "      <td>251413734.0</td>\n",
       "      <td>Ridg-U-Rak, Inc.</td>\n",
       "      <td>120 South Lake Street</td>\n",
       "      <td>North East</td>\n",
       "      <td>Pennsylvania</td>\n",
       "      <td>16428</td>\n",
       "      <td>337124</td>\n",
       "      <td>2017</td>\n",
       "      <td>Furniture (except upholstered), metal househol...</td>\n",
       "      <td>Private industry</td>\n",
       "      <td>100-249</td>\n",
       "      <td>168</td>\n",
       "      <td>313086</td>\n",
       "      <td>23-1-02</td>\n",
       "      <td>Beam welder</td>\n",
       "      <td>51-4121</td>\n",
       "      <td>Welders, Cutters, Solderers, and Brazers</td>\n",
       "      <td>Not reviewed</td>\n",
       "      <td>1.000000</td>\n",
       "      <td>2023-03-01</td>\n",
       "      <td>Job transfer or restriction</td>\n",
       "      <td>0</td>\n",
       "      <td>15</td>\n",
       "      <td>Injury</td>\n",
       "      <td>1900-01-01 15:30:00</td>\n",
       "      <td>1900-01-01 16:30:00</td>\n",
       "      <td>No</td>\n",
       "      <td>NaT</td>\n",
       "      <td>2024-01-23 18:19:00</td>\n",
       "      <td>PA</td>\n",
       "      <td>Production Occupations</td>\n",
       "      <td>Metal Workers and Plastic Workers</td>\n",
       "      <td>Welding, Soldering, and Brazing Workers</td>\n",
       "      <td>15.0</td>\n",
       "      <td>30.0</td>\n",
       "      <td>16.0</td>\n",
       "      <td>30.0</td>\n",
       "      <td>-25</td>\n",
       "      <td>3</td>\n",
       "      <td>2</td>\n",
       "      <td>False</td>\n",
       "    </tr>\n",
       "  </tbody>\n",
       "</table>\n",
       "</div>"
      ],
      "text/plain": [
       "       establishment_id                  establishment_name          ein  \\\n",
       "id                                                                         \n",
       "529245          1183207                       Berner Dakota          NaN   \n",
       "76727            930566  True Value Company RDC - Corsicana         -1.0   \n",
       "777214          1217679                   0312 - MILFORD CT  911223280.0   \n",
       "88295            157046                   SSA-ATLANTIC ,LLC  912171689.0   \n",
       "56600             99365                       Main facility  251413734.0   \n",
       "\n",
       "              company_name            street_address              city  \\\n",
       "id                                                                       \n",
       "529245       Berner Dakota      2034 E. Factory Road            Dakota   \n",
       "76727   True Value Company                2601 TX-31         Corsicana   \n",
       "777214    Costco Wholesale     1718 BOSTON POST ROAD           MILFORD   \n",
       "88295    SSA ATLANTIC, LLC  4531 PIGGLY WIGGLY DRIVE  NORTH CHARLESTON   \n",
       "56600     Ridg-U-Rak, Inc.     120 South Lake Street        North East   \n",
       "\n",
       "                 state zip_code naics_code naics_year  \\\n",
       "id                                                      \n",
       "529245        Illinois    61018     311513       2022   \n",
       "76727            Texas    75109     493110       2022   \n",
       "777214     Connecticut    46268     455211       2022   \n",
       "88295   South Carolina    29405     488320       2022   \n",
       "56600     Pennsylvania    16428     337124       2017   \n",
       "\n",
       "                                     industry_description establishment_type  \\\n",
       "id                                                                             \n",
       "529245  Manufacturer of cheese snacks and beverages - ...   Private industry   \n",
       "76727        Warehousing and storage, general merchandise   Private industry   \n",
       "777214                                   Wholesale Grocer   Private industry   \n",
       "88295                                Stevedoring services   Private industry   \n",
       "56600   Furniture (except upholstered), metal househol...   Private industry   \n",
       "\n",
       "           size  annual_average_employees  total_hours_worked case_number  \\\n",
       "id                                                                          \n",
       "529245     250+                       725             1626790     Inc-246   \n",
       "76727   100-249                       131              246855           1   \n",
       "777214     250+                       316              457126  WC390F5536   \n",
       "88295      250+                        66              132840  2023049120   \n",
       "56600   100-249                       168              313086     23-1-02   \n",
       "\n",
       "                 job_description soc_code  \\\n",
       "id                                          \n",
       "529245               HandiSnacks  99-9999   \n",
       "76727        Merchandise handler  53-7062   \n",
       "777214                   STOCKER  53-7065   \n",
       "88295   TRUCK DRIVERYARD TRACTOR  53-3032   \n",
       "56600                Beam welder  51-4121   \n",
       "\n",
       "                                        soc_description_4   soc_reviewed  \\\n",
       "id                                                                         \n",
       "529245                                            Uncoded  Not SOC coded   \n",
       "76727   Laborers and Freight, Stock, and Material Move...       Reviewed   \n",
       "777214                         Stockers and Order Fillers       Reviewed   \n",
       "88295             Heavy and Tractor-Trailer Truck Drivers   Not reviewed   \n",
       "56600            Welders, Cutters, Solderers, and Brazers   Not reviewed   \n",
       "\n",
       "        soc_probability date_of_incident             incident_outcome  \\\n",
       "id                                                                      \n",
       "529245         0.000000       2023-06-25  Job transfer or restriction   \n",
       "76727          0.979502       2023-04-07        Other recordable case   \n",
       "777214         0.998470       2023-06-14   Days away from work (DAFW)   \n",
       "88295          0.985649       2023-04-23   Days away from work (DAFW)   \n",
       "56600          1.000000       2023-03-01  Job transfer or restriction   \n",
       "\n",
       "        dafw_num_away  djtr_num_tr type_of_incident   time_started_work  \\\n",
       "id                                                                        \n",
       "529245              0            8           Injury 1900-01-01 05:40:00   \n",
       "76727               0            0           Injury 1900-01-01 06:00:00   \n",
       "777214              2            0           Injury 1900-01-01 14:30:00   \n",
       "88295             180            0           Injury 1900-01-01 08:00:00   \n",
       "56600               0           15           Injury 1900-01-01 15:30:00   \n",
       "\n",
       "          time_of_incident time_unknown date_of_death   created_timestamp  \\\n",
       "id                                                                          \n",
       "529245 1900-01-01 10:30:00           No           NaT 2024-02-28 17:06:00   \n",
       "76727  1900-01-01 08:30:00           No           NaT 2024-01-26 15:24:00   \n",
       "777214 1900-01-01 20:50:00           No           NaT 2024-03-04 19:32:00   \n",
       "88295  1900-01-01 11:20:00           No           NaT 2024-01-29 18:40:00   \n",
       "56600  1900-01-01 16:30:00           No           NaT 2024-01-23 18:19:00   \n",
       "\n",
       "       state_code                               soc_description_1  \\\n",
       "id                                                                  \n",
       "529245         IL                               Insufficient info   \n",
       "76727          TX  Transportation and Material Moving Occupations   \n",
       "777214         CT  Transportation and Material Moving Occupations   \n",
       "88295          SC  Transportation and Material Moving Occupations   \n",
       "56600          PA                          Production Occupations   \n",
       "\n",
       "                        soc_description_2  \\\n",
       "id                                          \n",
       "529245                  Insufficient info   \n",
       "76727             Material Moving Workers   \n",
       "777214            Material Moving Workers   \n",
       "88295             Motor Vehicle Operators   \n",
       "56600   Metal Workers and Plastic Workers   \n",
       "\n",
       "                              soc_description_3  time_started_work_hours  \\\n",
       "id                                                                         \n",
       "529245                        Insufficient info                      5.0   \n",
       "76727              Laborers and Material Movers                      6.0   \n",
       "777214             Laborers and Material Movers                     14.0   \n",
       "88295    Driver/Sales Workers and Truck Drivers                      8.0   \n",
       "56600   Welding, Soldering, and Brazing Workers                     15.0   \n",
       "\n",
       "        time_started_work_minutes  time_of_incident_hours  \\\n",
       "id                                                          \n",
       "529245                       40.0                    10.0   \n",
       "76727                         0.0                     8.0   \n",
       "777214                       30.0                    20.0   \n",
       "88295                         0.0                    11.0   \n",
       "56600                        30.0                    16.0   \n",
       "\n",
       "        time_of_incident_minutes  incident_year  incident_month  \\\n",
       "id                                                                \n",
       "529245                      30.0            -25               6   \n",
       "76727                       30.0            -25               4   \n",
       "777214                      50.0            -25               6   \n",
       "88295                       20.0            -25               4   \n",
       "56600                       30.0            -25               3   \n",
       "\n",
       "        incident_weekday  death  \n",
       "id                               \n",
       "529245                 6  False  \n",
       "76727                  4  False  \n",
       "777214                 2  False  \n",
       "88295                  6  False  \n",
       "56600                  2  False  "
      ]
     },
     "execution_count": 15,
     "metadata": {},
     "output_type": "execute_result"
    }
   ],
   "source": [
    "df_preproc.sample(5)"
   ]
  },
  {
   "cell_type": "code",
   "execution_count": 16,
   "metadata": {
    "ExecuteTime": {
     "end_time": "2024-11-30T17:07:07.014960Z",
     "start_time": "2024-11-30T17:07:06.504086Z"
    }
   },
   "outputs": [
    {
     "name": "stdout",
     "output_type": "stream",
     "text": [
      "<class 'pandas.core.frame.DataFrame'>\n",
      "Index: 876892 entries, 446827 to 900939\n",
      "Data columns (total 43 columns):\n",
      " #   Column                     Non-Null Count   Dtype         \n",
      "---  ------                     --------------   -----         \n",
      " 0   establishment_id           876892 non-null  string        \n",
      " 1   establishment_name         876892 non-null  string        \n",
      " 2   ein                        876876 non-null  float64       \n",
      " 3   company_name               876892 non-null  string        \n",
      " 4   street_address             876892 non-null  string        \n",
      " 5   city                       876892 non-null  string        \n",
      " 6   state                      876892 non-null  category      \n",
      " 7   zip_code                   876892 non-null  string        \n",
      " 8   naics_code                 876892 non-null  string        \n",
      " 9   naics_year                 876892 non-null  category      \n",
      " 10  industry_description       876892 non-null  string        \n",
      " 11  establishment_type         876892 non-null  category      \n",
      " 12  size                       876892 non-null  category      \n",
      " 13  annual_average_employees   876892 non-null  int32         \n",
      " 14  total_hours_worked         876892 non-null  int32         \n",
      " 15  case_number                876892 non-null  string        \n",
      " 16  job_description            876892 non-null  string        \n",
      " 17  soc_code                   876892 non-null  string        \n",
      " 18  soc_description_4          876892 non-null  category      \n",
      " 19  soc_reviewed               876892 non-null  category      \n",
      " 20  soc_probability            876892 non-null  float64       \n",
      " 21  date_of_incident           876892 non-null  datetime64[ns]\n",
      " 22  incident_outcome           876892 non-null  category      \n",
      " 23  dafw_num_away              876892 non-null  int16         \n",
      " 24  djtr_num_tr                876892 non-null  int16         \n",
      " 25  type_of_incident           876892 non-null  category      \n",
      " 26  time_started_work          766221 non-null  datetime64[ns]\n",
      " 27  time_of_incident           767743 non-null  datetime64[ns]\n",
      " 28  time_unknown               876892 non-null  category      \n",
      " 29  date_of_death              275 non-null     datetime64[ns]\n",
      " 30  created_timestamp          876892 non-null  datetime64[ns]\n",
      " 31  state_code                 876892 non-null  category      \n",
      " 32  soc_description_1          876892 non-null  category      \n",
      " 33  soc_description_2          876892 non-null  category      \n",
      " 34  soc_description_3          876892 non-null  category      \n",
      " 35  time_started_work_hours    766221 non-null  float64       \n",
      " 36  time_started_work_minutes  766221 non-null  float64       \n",
      " 37  time_of_incident_hours     767743 non-null  float64       \n",
      " 38  time_of_incident_minutes   767743 non-null  float64       \n",
      " 39  incident_year              876892 non-null  int8          \n",
      " 40  incident_month             876892 non-null  int8          \n",
      " 41  incident_weekday           876892 non-null  int8          \n",
      " 42  death                      876892 non-null  bool          \n",
      "dtypes: bool(1), category(13), datetime64[ns](5), float64(6), int16(2), int32(2), int8(3), string(11)\n",
      "memory usage: 179.8 MB\n"
     ]
    }
   ],
   "source": [
    "df_preproc.info()"
   ]
  },
  {
   "cell_type": "code",
   "execution_count": 17,
   "metadata": {},
   "outputs": [
    {
     "name": "stdout",
     "output_type": "stream",
     "text": [
      "Memory usage of dataframe is 179.85 MB\n",
      "Memory usage after optimization is: 152.25 MB\n",
      "Decreased by 15.3%\n",
      "<class 'pandas.core.frame.DataFrame'>\n",
      "Index: 876892 entries, 446827 to 900939\n",
      "Data columns (total 43 columns):\n",
      " #   Column                     Non-Null Count   Dtype         \n",
      "---  ------                     --------------   -----         \n",
      " 0   establishment_id           876892 non-null  string        \n",
      " 1   establishment_name         876892 non-null  string        \n",
      " 2   ein                        876876 non-null  float32       \n",
      " 3   company_name               876892 non-null  string        \n",
      " 4   street_address             876892 non-null  string        \n",
      " 5   city                       876892 non-null  string        \n",
      " 6   state                      876892 non-null  category      \n",
      " 7   zip_code                   876892 non-null  string        \n",
      " 8   naics_code                 876892 non-null  string        \n",
      " 9   naics_year                 876892 non-null  category      \n",
      " 10  industry_description       876892 non-null  string        \n",
      " 11  establishment_type         876892 non-null  category      \n",
      " 12  size                       876892 non-null  category      \n",
      " 13  annual_average_employees   876892 non-null  int32         \n",
      " 14  total_hours_worked         876892 non-null  int32         \n",
      " 15  case_number                876892 non-null  string        \n",
      " 16  job_description            876892 non-null  string        \n",
      " 17  soc_code                   876892 non-null  string        \n",
      " 18  soc_description_4          876892 non-null  category      \n",
      " 19  soc_reviewed               876892 non-null  category      \n",
      " 20  soc_probability            876892 non-null  float16       \n",
      " 21  date_of_incident           876892 non-null  datetime64[ns]\n",
      " 22  incident_outcome           876892 non-null  category      \n",
      " 23  dafw_num_away              876892 non-null  int16         \n",
      " 24  djtr_num_tr                876892 non-null  int16         \n",
      " 25  type_of_incident           876892 non-null  category      \n",
      " 26  time_started_work          766221 non-null  datetime64[ns]\n",
      " 27  time_of_incident           767743 non-null  datetime64[ns]\n",
      " 28  time_unknown               876892 non-null  category      \n",
      " 29  date_of_death              275 non-null     datetime64[ns]\n",
      " 30  created_timestamp          876892 non-null  datetime64[ns]\n",
      " 31  state_code                 876892 non-null  category      \n",
      " 32  soc_description_1          876892 non-null  category      \n",
      " 33  soc_description_2          876892 non-null  category      \n",
      " 34  soc_description_3          876892 non-null  category      \n",
      " 35  time_started_work_hours    766221 non-null  float16       \n",
      " 36  time_started_work_minutes  766221 non-null  float16       \n",
      " 37  time_of_incident_hours     767743 non-null  float16       \n",
      " 38  time_of_incident_minutes   767743 non-null  float16       \n",
      " 39  incident_year              876892 non-null  int8          \n",
      " 40  incident_month             876892 non-null  int8          \n",
      " 41  incident_weekday           876892 non-null  int8          \n",
      " 42  death                      876892 non-null  float16       \n",
      "dtypes: category(13), datetime64[ns](5), float16(6), float32(1), int16(2), int32(2), int8(3), string(11)\n",
      "memory usage: 152.3 MB\n"
     ]
    }
   ],
   "source": [
    "# Looks at the column value. Decreases float64 to float 32 or float16 without loosing info\n",
    "def reduce_mem_usage(df):\n",
    "    \"\"\"iterate through all the columns of a dataframe and modify the data type\n",
    "    to reduce memory usage.\n",
    "    \"\"\"\n",
    "    start_mem = df.memory_usage().sum() / 1024**2\n",
    "    print(\"Memory usage of dataframe is {:.2f} MB\".format(start_mem))\n",
    "\n",
    "    for col in df.columns:\n",
    "        try:\n",
    "            col_type = df[col].dtype\n",
    "\n",
    "            if col_type is not object:\n",
    "                c_min = df[col].min()\n",
    "                c_max = df[col].max()\n",
    "                if str(col_type)[:3] == \"int\":\n",
    "                    if c_min > np.iinfo(np.int8).min and c_max < np.iinfo(np.int8).max:\n",
    "                        df[col] = df[col].astype(np.int8)\n",
    "                    elif (\n",
    "                        c_min > np.iinfo(np.int16).min\n",
    "                        and c_max < np.iinfo(np.int16).max\n",
    "                    ):\n",
    "                        df[col] = df[col].astype(np.int16)\n",
    "                    elif (\n",
    "                        c_min > np.iinfo(np.int32).min\n",
    "                        and c_max < np.iinfo(np.int32).max\n",
    "                    ):\n",
    "                        df[col] = df[col].astype(np.int32)\n",
    "                    elif (\n",
    "                        c_min > np.iinfo(np.int64).min\n",
    "                        and c_max < np.iinfo(np.int64).max\n",
    "                    ):\n",
    "                        df[col] = df[col].astype(np.int64)\n",
    "                else:\n",
    "                    if (\n",
    "                        c_min > np.finfo(np.float16).min\n",
    "                        and c_max < np.finfo(np.float16).max\n",
    "                    ):\n",
    "                        df[col] = df[col].astype(np.float16)\n",
    "                    elif (\n",
    "                        c_min > np.finfo(np.float32).min\n",
    "                        and c_max < np.finfo(np.float32).max\n",
    "                    ):\n",
    "                        df[col] = df[col].astype(np.float32)\n",
    "                    else:\n",
    "                        df[col] = df[col].astype(np.float64)\n",
    "        except Exception:\n",
    "            pass\n",
    "\n",
    "    end_mem = df.memory_usage().sum() / 1024**2\n",
    "    print(\"Memory usage after optimization is: {:.2f} MB\".format(end_mem))\n",
    "    print(\"Decreased by {:.1f}%\".format(100 * (start_mem - end_mem) / start_mem))\n",
    "\n",
    "    return df\n",
    "\n",
    "df_preproc = reduce_mem_usage(df_preproc)\n",
    "df_preproc.info()"
   ]
  },
  {
   "cell_type": "code",
   "execution_count": 18,
   "metadata": {},
   "outputs": [],
   "source": [
    "output_directory = \"datasets\"\n",
    "os.makedirs(output_directory, exist_ok=True)\n",
    "df_preproc.to_parquet(\n",
    "    os.path.join(output_directory, \"processed_data.parquet\"), index=False\n",
    ")"
   ]
  },
  {
   "cell_type": "code",
   "execution_count": null,
   "metadata": {},
   "outputs": [],
   "source": []
  },
  {
   "cell_type": "markdown",
   "metadata": {},
   "source": [
    "### (c) (Data (What)) Choose one of the methods and implement it for the data set. Describe it in the section and mention what is the effect on the data."
   ]
  },
  {
   "cell_type": "code",
   "execution_count": 19,
   "metadata": {
    "ExecuteTime": {
     "end_time": "2024-11-30T17:07:16.621280Z",
     "start_time": "2024-11-30T17:07:15.464878Z"
    }
   },
   "outputs": [
    {
     "ename": "TypeError",
     "evalue": "Object of type Interval is not JSON serializable",
     "output_type": "error",
     "traceback": [
      "\u001b[1;31m---------------------------------------------------------------------------\u001b[0m",
      "\u001b[1;31mTypeError\u001b[0m                                 Traceback (most recent call last)",
      "Cell \u001b[1;32mIn[19], line 7\u001b[0m\n\u001b[0;32m      5\u001b[0m grouped_data\u001b[38;5;241m.\u001b[39mcolumns \u001b[38;5;241m=\u001b[39m [\u001b[38;5;124m'\u001b[39m\u001b[38;5;124mbin_range\u001b[39m\u001b[38;5;124m'\u001b[39m, \u001b[38;5;124m'\u001b[39m\u001b[38;5;124mcount\u001b[39m\u001b[38;5;124m'\u001b[39m]\n\u001b[0;32m      6\u001b[0m fig_incident \u001b[38;5;241m=\u001b[39m px\u001b[38;5;241m.\u001b[39mbar(grouped_data, x\u001b[38;5;241m=\u001b[39m\u001b[38;5;124m'\u001b[39m\u001b[38;5;124mbin_range\u001b[39m\u001b[38;5;124m'\u001b[39m, y\u001b[38;5;241m=\u001b[39m\u001b[38;5;124m'\u001b[39m\u001b[38;5;124mcount\u001b[39m\u001b[38;5;124m'\u001b[39m, title\u001b[38;5;241m=\u001b[39m\u001b[38;5;124mf\u001b[39m\u001b[38;5;124m\"\u001b[39m\u001b[38;5;124mHistogram of \u001b[39m\u001b[38;5;132;01m{\u001b[39;00mcolumn\u001b[38;5;132;01m}\u001b[39;00m\u001b[38;5;124m\"\u001b[39m)\n\u001b[1;32m----> 7\u001b[0m \u001b[43mfig_incident\u001b[49m\u001b[38;5;241;43m.\u001b[39;49m\u001b[43mshow\u001b[49m\u001b[43m(\u001b[49m\u001b[43m)\u001b[49m\n",
      "File \u001b[1;32mc:\\My programs\\Python 3.12\\Lib\\site-packages\\plotly\\basedatatypes.py:3410\u001b[0m, in \u001b[0;36mBaseFigure.show\u001b[1;34m(self, *args, **kwargs)\u001b[0m\n\u001b[0;32m   3377\u001b[0m \u001b[38;5;250m\u001b[39m\u001b[38;5;124;03m\"\"\"\u001b[39;00m\n\u001b[0;32m   3378\u001b[0m \u001b[38;5;124;03mShow a figure using either the default renderer(s) or the renderer(s)\u001b[39;00m\n\u001b[0;32m   3379\u001b[0m \u001b[38;5;124;03mspecified by the renderer argument\u001b[39;00m\n\u001b[1;32m   (...)\u001b[0m\n\u001b[0;32m   3406\u001b[0m \u001b[38;5;124;03mNone\u001b[39;00m\n\u001b[0;32m   3407\u001b[0m \u001b[38;5;124;03m\"\"\"\u001b[39;00m\n\u001b[0;32m   3408\u001b[0m \u001b[38;5;28;01mimport\u001b[39;00m \u001b[38;5;21;01mplotly\u001b[39;00m\u001b[38;5;21;01m.\u001b[39;00m\u001b[38;5;21;01mio\u001b[39;00m \u001b[38;5;28;01mas\u001b[39;00m \u001b[38;5;21;01mpio\u001b[39;00m\n\u001b[1;32m-> 3410\u001b[0m \u001b[38;5;28;01mreturn\u001b[39;00m \u001b[43mpio\u001b[49m\u001b[38;5;241;43m.\u001b[39;49m\u001b[43mshow\u001b[49m\u001b[43m(\u001b[49m\u001b[38;5;28;43mself\u001b[39;49m\u001b[43m,\u001b[49m\u001b[43m \u001b[49m\u001b[38;5;241;43m*\u001b[39;49m\u001b[43margs\u001b[49m\u001b[43m,\u001b[49m\u001b[43m \u001b[49m\u001b[38;5;241;43m*\u001b[39;49m\u001b[38;5;241;43m*\u001b[39;49m\u001b[43mkwargs\u001b[49m\u001b[43m)\u001b[49m\n",
      "File \u001b[1;32mc:\\My programs\\Python 3.12\\Lib\\site-packages\\plotly\\io\\_renderers.py:386\u001b[0m, in \u001b[0;36mshow\u001b[1;34m(fig, renderer, validate, **kwargs)\u001b[0m\n\u001b[0;32m    383\u001b[0m fig_dict \u001b[38;5;241m=\u001b[39m validate_coerce_fig_to_dict(fig, validate)\n\u001b[0;32m    385\u001b[0m \u001b[38;5;66;03m# Mimetype renderers\u001b[39;00m\n\u001b[1;32m--> 386\u001b[0m bundle \u001b[38;5;241m=\u001b[39m \u001b[43mrenderers\u001b[49m\u001b[38;5;241;43m.\u001b[39;49m\u001b[43m_build_mime_bundle\u001b[49m\u001b[43m(\u001b[49m\u001b[43mfig_dict\u001b[49m\u001b[43m,\u001b[49m\u001b[43m \u001b[49m\u001b[43mrenderers_string\u001b[49m\u001b[38;5;241;43m=\u001b[39;49m\u001b[43mrenderer\u001b[49m\u001b[43m,\u001b[49m\u001b[43m \u001b[49m\u001b[38;5;241;43m*\u001b[39;49m\u001b[38;5;241;43m*\u001b[39;49m\u001b[43mkwargs\u001b[49m\u001b[43m)\u001b[49m\n\u001b[0;32m    387\u001b[0m \u001b[38;5;28;01mif\u001b[39;00m bundle:\n\u001b[0;32m    388\u001b[0m     \u001b[38;5;28;01mif\u001b[39;00m \u001b[38;5;129;01mnot\u001b[39;00m ipython_display:\n",
      "File \u001b[1;32mc:\\My programs\\Python 3.12\\Lib\\site-packages\\plotly\\io\\_renderers.py:294\u001b[0m, in \u001b[0;36mRenderersConfig._build_mime_bundle\u001b[1;34m(self, fig_dict, renderers_string, **kwargs)\u001b[0m\n\u001b[0;32m    291\u001b[0m             \u001b[38;5;28;01mif\u001b[39;00m \u001b[38;5;28mhasattr\u001b[39m(renderer, k):\n\u001b[0;32m    292\u001b[0m                 \u001b[38;5;28msetattr\u001b[39m(renderer, k, v)\n\u001b[1;32m--> 294\u001b[0m         bundle\u001b[38;5;241m.\u001b[39mupdate(\u001b[43mrenderer\u001b[49m\u001b[38;5;241;43m.\u001b[39;49m\u001b[43mto_mimebundle\u001b[49m\u001b[43m(\u001b[49m\u001b[43mfig_dict\u001b[49m\u001b[43m)\u001b[49m)\n\u001b[0;32m    296\u001b[0m \u001b[38;5;28;01mreturn\u001b[39;00m bundle\n",
      "File \u001b[1;32mc:\\My programs\\Python 3.12\\Lib\\site-packages\\plotly\\io\\_base_renderers.py:94\u001b[0m, in \u001b[0;36mPlotlyRenderer.to_mimebundle\u001b[1;34m(self, fig_dict)\u001b[0m\n\u001b[0;32m     90\u001b[0m \u001b[38;5;28;01mif\u001b[39;00m config:\n\u001b[0;32m     91\u001b[0m     fig_dict[\u001b[38;5;124m\"\u001b[39m\u001b[38;5;124mconfig\u001b[39m\u001b[38;5;124m\"\u001b[39m] \u001b[38;5;241m=\u001b[39m config\n\u001b[0;32m     93\u001b[0m json_compatible_fig_dict \u001b[38;5;241m=\u001b[39m json\u001b[38;5;241m.\u001b[39mloads(\n\u001b[1;32m---> 94\u001b[0m     \u001b[43mto_json\u001b[49m\u001b[43m(\u001b[49m\u001b[43mfig_dict\u001b[49m\u001b[43m,\u001b[49m\u001b[43m \u001b[49m\u001b[43mvalidate\u001b[49m\u001b[38;5;241;43m=\u001b[39;49m\u001b[38;5;28;43;01mFalse\u001b[39;49;00m\u001b[43m,\u001b[49m\u001b[43m \u001b[49m\u001b[43mremove_uids\u001b[49m\u001b[38;5;241;43m=\u001b[39;49m\u001b[38;5;28;43;01mFalse\u001b[39;49;00m\u001b[43m)\u001b[49m\n\u001b[0;32m     95\u001b[0m )\n\u001b[0;32m     97\u001b[0m \u001b[38;5;28;01mreturn\u001b[39;00m {\u001b[38;5;124m\"\u001b[39m\u001b[38;5;124mapplication/vnd.plotly.v1+json\u001b[39m\u001b[38;5;124m\"\u001b[39m: json_compatible_fig_dict}\n",
      "File \u001b[1;32mc:\\My programs\\Python 3.12\\Lib\\site-packages\\plotly\\io\\_json.py:221\u001b[0m, in \u001b[0;36mto_json\u001b[1;34m(fig, validate, pretty, remove_uids, engine)\u001b[0m\n\u001b[0;32m    218\u001b[0m     \u001b[38;5;28;01mfor\u001b[39;00m trace \u001b[38;5;129;01min\u001b[39;00m fig_dict\u001b[38;5;241m.\u001b[39mget(\u001b[38;5;124m\"\u001b[39m\u001b[38;5;124mdata\u001b[39m\u001b[38;5;124m\"\u001b[39m, []):\n\u001b[0;32m    219\u001b[0m         trace\u001b[38;5;241m.\u001b[39mpop(\u001b[38;5;124m\"\u001b[39m\u001b[38;5;124muid\u001b[39m\u001b[38;5;124m\"\u001b[39m, \u001b[38;5;28;01mNone\u001b[39;00m)\n\u001b[1;32m--> 221\u001b[0m \u001b[38;5;28;01mreturn\u001b[39;00m \u001b[43mto_json_plotly\u001b[49m\u001b[43m(\u001b[49m\u001b[43mfig_dict\u001b[49m\u001b[43m,\u001b[49m\u001b[43m \u001b[49m\u001b[43mpretty\u001b[49m\u001b[38;5;241;43m=\u001b[39;49m\u001b[43mpretty\u001b[49m\u001b[43m,\u001b[49m\u001b[43m \u001b[49m\u001b[43mengine\u001b[49m\u001b[38;5;241;43m=\u001b[39;49m\u001b[43mengine\u001b[49m\u001b[43m)\u001b[49m\n",
      "File \u001b[1;32mc:\\My programs\\Python 3.12\\Lib\\site-packages\\plotly\\io\\_json.py:142\u001b[0m, in \u001b[0;36mto_json_plotly\u001b[1;34m(plotly_object, pretty, engine)\u001b[0m\n\u001b[0;32m    137\u001b[0m         opts[\u001b[38;5;124m\"\u001b[39m\u001b[38;5;124mseparators\u001b[39m\u001b[38;5;124m\"\u001b[39m] \u001b[38;5;241m=\u001b[39m (\u001b[38;5;124m\"\u001b[39m\u001b[38;5;124m,\u001b[39m\u001b[38;5;124m\"\u001b[39m, \u001b[38;5;124m\"\u001b[39m\u001b[38;5;124m:\u001b[39m\u001b[38;5;124m\"\u001b[39m)\n\u001b[0;32m    139\u001b[0m     \u001b[38;5;28;01mfrom\u001b[39;00m \u001b[38;5;21;01m_plotly_utils\u001b[39;00m\u001b[38;5;21;01m.\u001b[39;00m\u001b[38;5;21;01mutils\u001b[39;00m \u001b[38;5;28;01mimport\u001b[39;00m PlotlyJSONEncoder\n\u001b[0;32m    141\u001b[0m     \u001b[38;5;28;01mreturn\u001b[39;00m _safe(\n\u001b[1;32m--> 142\u001b[0m         \u001b[43mjson\u001b[49m\u001b[38;5;241;43m.\u001b[39;49m\u001b[43mdumps\u001b[49m\u001b[43m(\u001b[49m\u001b[43mplotly_object\u001b[49m\u001b[43m,\u001b[49m\u001b[43m \u001b[49m\u001b[38;5;28;43mcls\u001b[39;49m\u001b[38;5;241;43m=\u001b[39;49m\u001b[43mPlotlyJSONEncoder\u001b[49m\u001b[43m,\u001b[49m\u001b[43m \u001b[49m\u001b[38;5;241;43m*\u001b[39;49m\u001b[38;5;241;43m*\u001b[39;49m\u001b[43mopts\u001b[49m\u001b[43m)\u001b[49m, _swap_json\n\u001b[0;32m    143\u001b[0m     )\n\u001b[0;32m    144\u001b[0m \u001b[38;5;28;01melif\u001b[39;00m engine \u001b[38;5;241m==\u001b[39m \u001b[38;5;124m\"\u001b[39m\u001b[38;5;124morjson\u001b[39m\u001b[38;5;124m\"\u001b[39m:\n\u001b[0;32m    145\u001b[0m     JsonConfig\u001b[38;5;241m.\u001b[39mvalidate_orjson()\n",
      "File \u001b[1;32mc:\\My programs\\Python 3.12\\Lib\\json\\__init__.py:238\u001b[0m, in \u001b[0;36mdumps\u001b[1;34m(obj, skipkeys, ensure_ascii, check_circular, allow_nan, cls, indent, separators, default, sort_keys, **kw)\u001b[0m\n\u001b[0;32m    232\u001b[0m \u001b[38;5;28;01mif\u001b[39;00m \u001b[38;5;28mcls\u001b[39m \u001b[38;5;129;01mis\u001b[39;00m \u001b[38;5;28;01mNone\u001b[39;00m:\n\u001b[0;32m    233\u001b[0m     \u001b[38;5;28mcls\u001b[39m \u001b[38;5;241m=\u001b[39m JSONEncoder\n\u001b[0;32m    234\u001b[0m \u001b[38;5;28;01mreturn\u001b[39;00m \u001b[38;5;28;43mcls\u001b[39;49m\u001b[43m(\u001b[49m\n\u001b[0;32m    235\u001b[0m \u001b[43m    \u001b[49m\u001b[43mskipkeys\u001b[49m\u001b[38;5;241;43m=\u001b[39;49m\u001b[43mskipkeys\u001b[49m\u001b[43m,\u001b[49m\u001b[43m \u001b[49m\u001b[43mensure_ascii\u001b[49m\u001b[38;5;241;43m=\u001b[39;49m\u001b[43mensure_ascii\u001b[49m\u001b[43m,\u001b[49m\n\u001b[0;32m    236\u001b[0m \u001b[43m    \u001b[49m\u001b[43mcheck_circular\u001b[49m\u001b[38;5;241;43m=\u001b[39;49m\u001b[43mcheck_circular\u001b[49m\u001b[43m,\u001b[49m\u001b[43m \u001b[49m\u001b[43mallow_nan\u001b[49m\u001b[38;5;241;43m=\u001b[39;49m\u001b[43mallow_nan\u001b[49m\u001b[43m,\u001b[49m\u001b[43m \u001b[49m\u001b[43mindent\u001b[49m\u001b[38;5;241;43m=\u001b[39;49m\u001b[43mindent\u001b[49m\u001b[43m,\u001b[49m\n\u001b[0;32m    237\u001b[0m \u001b[43m    \u001b[49m\u001b[43mseparators\u001b[49m\u001b[38;5;241;43m=\u001b[39;49m\u001b[43mseparators\u001b[49m\u001b[43m,\u001b[49m\u001b[43m \u001b[49m\u001b[43mdefault\u001b[49m\u001b[38;5;241;43m=\u001b[39;49m\u001b[43mdefault\u001b[49m\u001b[43m,\u001b[49m\u001b[43m \u001b[49m\u001b[43msort_keys\u001b[49m\u001b[38;5;241;43m=\u001b[39;49m\u001b[43msort_keys\u001b[49m\u001b[43m,\u001b[49m\n\u001b[1;32m--> 238\u001b[0m \u001b[43m    \u001b[49m\u001b[38;5;241;43m*\u001b[39;49m\u001b[38;5;241;43m*\u001b[39;49m\u001b[43mkw\u001b[49m\u001b[43m)\u001b[49m\u001b[38;5;241;43m.\u001b[39;49m\u001b[43mencode\u001b[49m\u001b[43m(\u001b[49m\u001b[43mobj\u001b[49m\u001b[43m)\u001b[49m\n",
      "File \u001b[1;32mc:\\My programs\\Python 3.12\\Lib\\site-packages\\_plotly_utils\\utils.py:56\u001b[0m, in \u001b[0;36mPlotlyJSONEncoder.encode\u001b[1;34m(self, o)\u001b[0m\n\u001b[0;32m     49\u001b[0m \u001b[38;5;250m\u001b[39m\u001b[38;5;124;03m\"\"\"\u001b[39;00m\n\u001b[0;32m     50\u001b[0m \u001b[38;5;124;03mLoad and then dump the result using parse_constant kwarg\u001b[39;00m\n\u001b[0;32m     51\u001b[0m \n\u001b[0;32m     52\u001b[0m \u001b[38;5;124;03mNote that setting invalid separators will cause a failure at this step.\u001b[39;00m\n\u001b[0;32m     53\u001b[0m \n\u001b[0;32m     54\u001b[0m \u001b[38;5;124;03m\"\"\"\u001b[39;00m\n\u001b[0;32m     55\u001b[0m \u001b[38;5;66;03m# this will raise errors in a normal-expected way\u001b[39;00m\n\u001b[1;32m---> 56\u001b[0m encoded_o \u001b[38;5;241m=\u001b[39m \u001b[38;5;28;43msuper\u001b[39;49m\u001b[43m(\u001b[49m\u001b[43mPlotlyJSONEncoder\u001b[49m\u001b[43m,\u001b[49m\u001b[43m \u001b[49m\u001b[38;5;28;43mself\u001b[39;49m\u001b[43m)\u001b[49m\u001b[38;5;241;43m.\u001b[39;49m\u001b[43mencode\u001b[49m\u001b[43m(\u001b[49m\u001b[43mo\u001b[49m\u001b[43m)\u001b[49m\n\u001b[0;32m     57\u001b[0m \u001b[38;5;66;03m# Brute force guessing whether NaN or Infinity values are in the string\u001b[39;00m\n\u001b[0;32m     58\u001b[0m \u001b[38;5;66;03m# We catch false positive cases (e.g. strings such as titles, labels etc.)\u001b[39;00m\n\u001b[0;32m     59\u001b[0m \u001b[38;5;66;03m# but this is ok since the intention is to skip the decoding / reencoding\u001b[39;00m\n\u001b[0;32m     60\u001b[0m \u001b[38;5;66;03m# step when it's completely safe\u001b[39;00m\n\u001b[0;32m     62\u001b[0m \u001b[38;5;28;01mif\u001b[39;00m \u001b[38;5;129;01mnot\u001b[39;00m (\u001b[38;5;124m\"\u001b[39m\u001b[38;5;124mNaN\u001b[39m\u001b[38;5;124m\"\u001b[39m \u001b[38;5;129;01min\u001b[39;00m encoded_o \u001b[38;5;129;01mor\u001b[39;00m \u001b[38;5;124m\"\u001b[39m\u001b[38;5;124mInfinity\u001b[39m\u001b[38;5;124m\"\u001b[39m \u001b[38;5;129;01min\u001b[39;00m encoded_o):\n",
      "File \u001b[1;32mc:\\My programs\\Python 3.12\\Lib\\json\\encoder.py:200\u001b[0m, in \u001b[0;36mJSONEncoder.encode\u001b[1;34m(self, o)\u001b[0m\n\u001b[0;32m    196\u001b[0m         \u001b[38;5;28;01mreturn\u001b[39;00m encode_basestring(o)\n\u001b[0;32m    197\u001b[0m \u001b[38;5;66;03m# This doesn't pass the iterator directly to ''.join() because the\u001b[39;00m\n\u001b[0;32m    198\u001b[0m \u001b[38;5;66;03m# exceptions aren't as detailed.  The list call should be roughly\u001b[39;00m\n\u001b[0;32m    199\u001b[0m \u001b[38;5;66;03m# equivalent to the PySequence_Fast that ''.join() would do.\u001b[39;00m\n\u001b[1;32m--> 200\u001b[0m chunks \u001b[38;5;241m=\u001b[39m \u001b[38;5;28;43mself\u001b[39;49m\u001b[38;5;241;43m.\u001b[39;49m\u001b[43miterencode\u001b[49m\u001b[43m(\u001b[49m\u001b[43mo\u001b[49m\u001b[43m,\u001b[49m\u001b[43m \u001b[49m\u001b[43m_one_shot\u001b[49m\u001b[38;5;241;43m=\u001b[39;49m\u001b[38;5;28;43;01mTrue\u001b[39;49;00m\u001b[43m)\u001b[49m\n\u001b[0;32m    201\u001b[0m \u001b[38;5;28;01mif\u001b[39;00m \u001b[38;5;129;01mnot\u001b[39;00m \u001b[38;5;28misinstance\u001b[39m(chunks, (\u001b[38;5;28mlist\u001b[39m, \u001b[38;5;28mtuple\u001b[39m)):\n\u001b[0;32m    202\u001b[0m     chunks \u001b[38;5;241m=\u001b[39m \u001b[38;5;28mlist\u001b[39m(chunks)\n",
      "File \u001b[1;32mc:\\My programs\\Python 3.12\\Lib\\json\\encoder.py:258\u001b[0m, in \u001b[0;36mJSONEncoder.iterencode\u001b[1;34m(self, o, _one_shot)\u001b[0m\n\u001b[0;32m    253\u001b[0m \u001b[38;5;28;01melse\u001b[39;00m:\n\u001b[0;32m    254\u001b[0m     _iterencode \u001b[38;5;241m=\u001b[39m _make_iterencode(\n\u001b[0;32m    255\u001b[0m         markers, \u001b[38;5;28mself\u001b[39m\u001b[38;5;241m.\u001b[39mdefault, _encoder, \u001b[38;5;28mself\u001b[39m\u001b[38;5;241m.\u001b[39mindent, floatstr,\n\u001b[0;32m    256\u001b[0m         \u001b[38;5;28mself\u001b[39m\u001b[38;5;241m.\u001b[39mkey_separator, \u001b[38;5;28mself\u001b[39m\u001b[38;5;241m.\u001b[39mitem_separator, \u001b[38;5;28mself\u001b[39m\u001b[38;5;241m.\u001b[39msort_keys,\n\u001b[0;32m    257\u001b[0m         \u001b[38;5;28mself\u001b[39m\u001b[38;5;241m.\u001b[39mskipkeys, _one_shot)\n\u001b[1;32m--> 258\u001b[0m \u001b[38;5;28;01mreturn\u001b[39;00m \u001b[43m_iterencode\u001b[49m\u001b[43m(\u001b[49m\u001b[43mo\u001b[49m\u001b[43m,\u001b[49m\u001b[43m \u001b[49m\u001b[38;5;241;43m0\u001b[39;49m\u001b[43m)\u001b[49m\n",
      "File \u001b[1;32mc:\\My programs\\Python 3.12\\Lib\\site-packages\\_plotly_utils\\utils.py:133\u001b[0m, in \u001b[0;36mPlotlyJSONEncoder.default\u001b[1;34m(self, obj)\u001b[0m\n\u001b[0;32m    131\u001b[0m     \u001b[38;5;28;01mexcept\u001b[39;00m NotEncodable:\n\u001b[0;32m    132\u001b[0m         \u001b[38;5;28;01mpass\u001b[39;00m\n\u001b[1;32m--> 133\u001b[0m \u001b[38;5;28;01mreturn\u001b[39;00m \u001b[43m_json\u001b[49m\u001b[38;5;241;43m.\u001b[39;49m\u001b[43mJSONEncoder\u001b[49m\u001b[38;5;241;43m.\u001b[39;49m\u001b[43mdefault\u001b[49m\u001b[43m(\u001b[49m\u001b[38;5;28;43mself\u001b[39;49m\u001b[43m,\u001b[49m\u001b[43m \u001b[49m\u001b[43mobj\u001b[49m\u001b[43m)\u001b[49m\n",
      "File \u001b[1;32mc:\\My programs\\Python 3.12\\Lib\\json\\encoder.py:180\u001b[0m, in \u001b[0;36mJSONEncoder.default\u001b[1;34m(self, o)\u001b[0m\n\u001b[0;32m    161\u001b[0m \u001b[38;5;28;01mdef\u001b[39;00m \u001b[38;5;21mdefault\u001b[39m(\u001b[38;5;28mself\u001b[39m, o):\n\u001b[0;32m    162\u001b[0m \u001b[38;5;250m    \u001b[39m\u001b[38;5;124;03m\"\"\"Implement this method in a subclass such that it returns\u001b[39;00m\n\u001b[0;32m    163\u001b[0m \u001b[38;5;124;03m    a serializable object for ``o``, or calls the base implementation\u001b[39;00m\n\u001b[0;32m    164\u001b[0m \u001b[38;5;124;03m    (to raise a ``TypeError``).\u001b[39;00m\n\u001b[1;32m   (...)\u001b[0m\n\u001b[0;32m    178\u001b[0m \n\u001b[0;32m    179\u001b[0m \u001b[38;5;124;03m    \"\"\"\u001b[39;00m\n\u001b[1;32m--> 180\u001b[0m     \u001b[38;5;28;01mraise\u001b[39;00m \u001b[38;5;167;01mTypeError\u001b[39;00m(\u001b[38;5;124mf\u001b[39m\u001b[38;5;124m'\u001b[39m\u001b[38;5;124mObject of type \u001b[39m\u001b[38;5;132;01m{\u001b[39;00mo\u001b[38;5;241m.\u001b[39m\u001b[38;5;18m__class__\u001b[39m\u001b[38;5;241m.\u001b[39m\u001b[38;5;18m__name__\u001b[39m\u001b[38;5;132;01m}\u001b[39;00m\u001b[38;5;124m \u001b[39m\u001b[38;5;124m'\u001b[39m\n\u001b[0;32m    181\u001b[0m                     \u001b[38;5;124mf\u001b[39m\u001b[38;5;124m'\u001b[39m\u001b[38;5;124mis not JSON serializable\u001b[39m\u001b[38;5;124m'\u001b[39m)\n",
      "\u001b[1;31mTypeError\u001b[0m: Object of type Interval is not JSON serializable"
     ]
    }
   ],
   "source": [
    "df_numeric = df_preproc.select_dtypes(include=[np.number])\n",
    "\n",
    "for column in df_numeric.columns:\n",
    "    grouped_data = df_numeric[column].value_counts(bins=50).reset_index()\n",
    "    grouped_data.columns = ['bin_range', 'count']\n",
    "    fig_incident = px.bar(grouped_data, x='bin_range', y='count', title=f\"Histogram of {column}\")\n",
    "    fig_incident.show()\n"
   ]
  },
  {
   "cell_type": "code",
   "execution_count": null,
   "metadata": {},
   "outputs": [],
   "source": [
    "# df_time = df_preproc[df_preproc.select_dtypes(include=[\"datetime\"]).columns]\n",
    "\n",
    "# for column in df_time.columns:\n",
    "#     fig_incident = px.histogram(\n",
    "#         df_time[df_time[column].notna()],\n",
    "#         x=column,\n",
    "#         title=f\"Histogram of {column}\",\n",
    "#         nbins=100,\n",
    "#     )\n",
    "#     fig_incident.show()"
   ]
  },
  {
   "cell_type": "code",
   "execution_count": null,
   "metadata": {},
   "outputs": [],
   "source": [
    "# df_categorical = df_preproc.select_dtypes(include=[\"category\"])\n",
    "\n",
    "# # Generate histograms for categorical data\n",
    "# for column in df_categorical.columns:\n",
    "#     fig = px.histogram(\n",
    "#         df_categorical[column].dropna(),\n",
    "#         x=column,\n",
    "#         title=f\"Distribution of {column}\",\n",
    "#         text_auto=True,\n",
    "#     )\n",
    "#     fig.show()"
   ]
  },
  {
   "cell_type": "markdown",
   "metadata": {},
   "source": [
    "# El problemo: wtf is happening to company employees and hours\n"
   ]
  },
  {
   "cell_type": "code",
   "execution_count": null,
   "metadata": {
    "ExecuteTime": {
     "end_time": "2024-11-30T17:07:17.968813Z",
     "start_time": "2024-11-30T17:07:17.485045Z"
    }
   },
   "outputs": [],
   "source": [
    "ratio_df = df_preproc.copy()\n",
    "ratio_df[\"hours_employee_ratio\"] = (\n",
    "    ratio_df[\"total_hours_worked\"] / ratio_df[\"annual_average_employees\"]\n",
    ")\n",
    "ratio_df.query(\"hours_employee_ratio < 40 | hours_employee_ratio > 4500\").sort_values(\n",
    "    \"hours_employee_ratio\"\n",
    ")\n"
   ]
  },
  {
   "cell_type": "code",
   "execution_count": null,
   "metadata": {
    "ExecuteTime": {
     "end_time": "2024-11-30T17:07:19.821466Z",
     "start_time": "2024-11-30T17:07:18.303663Z"
    }
   },
   "outputs": [],
   "source": [
    "analyze_and_plot_missing_values(df_preproc)"
   ]
  },
  {
   "cell_type": "markdown",
   "metadata": {},
   "source": [
    "## Exercise 4 – Data (What) Abstraction"
   ]
  },
  {
   "cell_type": "markdown",
   "metadata": {},
   "source": [
    "| id | Variable Name               | Description                                                                                                                                                                        | Data Type         |\n",
    "|----|-----------------------------|------------------------------------------------------------------------------------------------------------------------------------------------------------------------------------|-------------------|\n",
    "| 1  | establishment_id           | Identifier for the establishment.                                                                                                                                                  | string            |\n",
    "| 2  | establishment_name         | The name of the establishment reporting data.                                                                                                                                       | string            |\n",
    "| 3  | ein                        | Employer Identification Number (EIN) is also known as Federal Tax Identification Number. Has 9 digit format. If not given, states “No EIN Given”.                                   | float64            |\n",
    "| 4  | company_name               | The name of the company that owns the establishment.                                                                                                                               | string            |\n",
    "| 5  | street_address             | The street address of the establishment. If not given, states “Not provided”.                                                                                                      | string            |\n",
    "| 6  | city                       | The city where the establishment is located.                                                                                                                                       | string            |\n",
    "| 7  | state                      | Full name of the state or territory where the establishment is located.                                                                                                            | category          |\n",
    "| 8  | zip_code                   | The full zip code for the establishment. Can be converted to numbers, but stored as a string for interpretability.                                                                 | string            |\n",
    "| 9  | naics_code                 | The North American Industry Classification System (NAICS) code for the establishment. Data use a 2012, 2017, or 2022 NAICS code.                                                  | string            |\n",
    "| 10 | naics_year                 | The calendar year reflecting the version of NAICS codes used by the establishment [2012, 2017, or 2022]. Invalid NAICS codes are shown as “Invalid NAICS codes”.                   | category          |\n",
    "| 11 | industry_description       | The industry description for the establishment.                                                                                                                                    | string            |\n",
    "| 12 | establishment_type         | Type of establishment: Private industry, State government entity, Local government entity.                                                                                         | category          |\n",
    "| 13 | size                       | The size of the establishment is employer-reported and based on the maximum number of employees who worked there at any point in the year: <20, 20-249, 20-99, 100-249, 250+.      | category          |\n",
    "| 14 | annual_average_employees   | The annual average number of employees at the establishment. Note: This field should not be summed across cases in an establishment.                                               | int32             |\n",
    "| 15 | total_hours_worked         | The total hours worked by all employees at the establishment. Note: This field should not be summed across cases in an establishment.                                              | int64             |\n",
    "| 16 | case_number                | An employer-assigned case number for each unique case (i.e., injured/ill employee).                                                                                                | string            |\n",
    "| 17 | job_description            | The job title of the injured/ill employee.                                                                                                                                          | string            |\n",
    "| 18 | soc_code                   | The 2018 Standard Occupation Code (SOC) assigned by the NIOSH Industry and Occupation Computerized Coding System (NIOCCS) or OSHA.                                                  | string            |\n",
    "| 19 | soc_description            | Text description of the 2018 SOC Code.                                                                                                                                              | string            |\n",
    "| 20 | soc_reviewed               | Indicator variable as to whether the SOC code was manually reviewed before posting: Not reviewed, Reviewed, Not SOC coded.                                                         | category          |\n",
    "| 21 | soc_probability            | The score given by the NIOSH Industry and Occupation Computerized Coding System (NIOCCS) for the expected accuracy of the SOC code. Codes assigned directly by OSHA are given a score of 5. | float64           |\n",
    "| 22 | date_of_incident           | The date the incident occurred.                                                                                                                                                    | datetime64[ns]    |\n",
    "| 23 | incident_outcome           | The most serious outcome that occurred: Death, Days away from work (DAFW), Job transfer or restriction, Other recordable case.                                                     | category          |\n",
    "| 24 | dafw_num_away              | The number of days away from work the employee required to recover from the incident before returning to work.                                                                      | int16             |\n",
    "| 25 | djtr_num_tr                | The number of days the employee needed to be transferred or reassigned to another job or placed on restricted duty due to the incident.                                             | int16             |\n",
    "| 26 | type_of_incident           | The type of incident that occurred: Injury, Skin disorder, Respiratory condition, Poisoning, Hearing Loss, All other illness.                                                      | category          |\n",
    "| 27 | time_started_work          | The time the affected employee started work prior to the incident.                                                                                                                 | datetime64[ns]    |\n",
    "| 28 | time_of_incident           | The time the incident occurred. Can have none values.                                                                                                                                                   | datetime64[ns]    |\n",
    "| 29 | time_unknown               | Was the time of the incident unknown? Yes, No.                                                                                                                                      | category          |\n",
    "| 30 | date_of_death              | The date the death occurred, if applicable. Can have none values.                                                                                                                                       | datetime64[ns]    |\n",
    "| 31 | created_timestamp          | Timestamp when the record was created. Can have none values.                                                                                                                                             | datetime64[ns]    |\n",
    "| 32 | time_started_work_minutes  | The minute component of the time the affected employee started work prior to the incident. Can have missing values.                           | float64           |\n",
    "| 33 | time_of_incident_hours     | The hour component of the time the incident occurred. Can have missing values.                                                                | float64           |\n",
    "| 34 | time_of_incident_minutes   | The minute component of the time the incident occurred. Can have missing values.                                                              | float64           |\n",
    "| 35 | soc_description_#   | #th level of description based on soc codes                                                              | category           |\n",
    "| 36 | state_code | Code of the USA state | category |\n"
   ]
  },
  {
   "cell_type": "code",
   "execution_count": null,
   "metadata": {},
   "outputs": [],
   "source": []
  }
 ],
 "metadata": {
  "kernelspec": {
   "display_name": "Python 3",
   "language": "python",
   "name": "python3"
  },
  "language_info": {
   "codemirror_mode": {
    "name": "ipython",
    "version": 3
   },
   "file_extension": ".py",
   "mimetype": "text/x-python",
   "name": "python",
   "nbconvert_exporter": "python",
   "pygments_lexer": "ipython3",
   "version": "3.12.3"
  }
 },
 "nbformat": 4,
 "nbformat_minor": 4
}
